{
  "nbformat": 4,
  "nbformat_minor": 0,
  "metadata": {
    "colab": {
      "name": "5_Recurrent_NN.ipynb",
      "provenance": [],
      "collapsed_sections": []
    },
    "kernelspec": {
      "name": "python3",
      "display_name": "Python 3"
    },
    "language_info": {
      "name": "python"
    }
  },
  "cells": [
    {
      "cell_type": "markdown",
      "metadata": {
        "id": "A1pJcrs6Rn3D"
      },
      "source": [
        "## Recurrent Neural Network in Fake Data\n"
      ]
    },
    {
      "cell_type": "markdown",
      "metadata": {
        "id": "A7AdHw9GRwHx"
      },
      "source": [
        "### Importing Libraries"
      ]
    },
    {
      "cell_type": "code",
      "metadata": {
        "colab": {
          "base_uri": "https://localhost:8080/"
        },
        "id": "3UUYwXmxdyNO",
        "outputId": "533d8cd4-c727-48e4-f821-0af440d3a5c5"
      },
      "source": [
        "from pydrive.auth import GoogleAuth\n",
        "from pydrive.drive import GoogleDrive\n",
        "from google.colab import auth\n",
        "from google.colab import drive \n",
        "from oauth2client.client import GoogleCredentials\n",
        "\n",
        "drive.mount('/content/gdrive')"
      ],
      "execution_count": null,
      "outputs": [
        {
          "output_type": "stream",
          "text": [
            "Mounted at /content/gdrive\n"
          ],
          "name": "stdout"
        }
      ]
    },
    {
      "cell_type": "code",
      "metadata": {
        "id": "WN0qffm3GurS"
      },
      "source": [
        "import tensorflow as tf\n",
        "from tensorflow.keras.layers import LSTM, GRU, Dense, Embedding, Dropout, Activation\n",
        "from tensorflow.keras.preprocessing import text, sequence \n",
        "from tensorflow.keras.models import Sequential\n",
        "from tensorflow.keras import metrics\n",
        "from tensorflow.python.keras.callbacks import ModelCheckpoint, ReduceLROnPlateau, EarlyStopping, TensorBoard\n",
        "from tensorflow.python.keras.preprocessing.sequence import pad_sequences\n",
        "from tensorflow.python.keras.preprocessing.text import Tokenizer\n",
        "from tensorflow.keras.utils import plot_model\n",
        "from tqdm import tqdm\n",
        "from ipywidgets import interact\n",
        "from sklearn.model_selection import train_test_split\n",
        "import pandas as pd\n",
        "import numpy as np\n",
        "from sklearn.preprocessing import LabelEncoder\n",
        "\n",
        "\n",
        "import matplotlib.pyplot as plt\n",
        "from sklearn.model_selection import StratifiedShuffleSplit"
      ],
      "execution_count": null,
      "outputs": []
    },
    {
      "cell_type": "code",
      "metadata": {
        "colab": {
          "base_uri": "https://localhost:8080/"
        },
        "id": "fZGtxM-c6ImP",
        "outputId": "f02e3d97-e20b-4417-9fa4-45717c975c98"
      },
      "source": [
        "import string\n",
        "import re\n",
        "import nltk\n",
        "from nltk.tokenize import word_tokenize\n",
        "from nltk.corpus import stopwords\n",
        "nltk.download('stopwords')"
      ],
      "execution_count": null,
      "outputs": [
        {
          "output_type": "stream",
          "text": [
            "[nltk_data] Downloading package stopwords to /root/nltk_data...\n",
            "[nltk_data]   Unzipping corpora/stopwords.zip.\n"
          ],
          "name": "stdout"
        },
        {
          "output_type": "execute_result",
          "data": {
            "text/plain": [
              "True"
            ]
          },
          "metadata": {},
          "execution_count": 3
        }
      ]
    },
    {
      "cell_type": "markdown",
      "metadata": {
        "id": "cvqgSjLVSH7u"
      },
      "source": [
        "### Loading dataset"
      ]
    },
    {
      "cell_type": "code",
      "metadata": {
        "colab": {
          "base_uri": "https://localhost:8080/",
          "height": 715
        },
        "id": "B1PjNkbuIfC3",
        "outputId": "c1a33657-53f3-4d72-9db2-a506bc3127e4"
      },
      "source": [
        "#read a '.csv' file into data-frame\n",
        "\n",
        "df = pd.read_csv('gdrive/MyDrive/text_pre_processing.csv', sep=',')\n",
        "\n",
        "df.sample(5)"
      ],
      "execution_count": null,
      "outputs": [
        {
          "output_type": "stream",
          "text": [
            "/usr/local/lib/python3.7/dist-packages/IPython/core/interactiveshell.py:2718: DtypeWarning: Columns (6) have mixed types.Specify dtype option on import or set low_memory=False.\n",
            "  interactivity=interactivity, compiler=compiler, result=result)\n"
          ],
          "name": "stderr"
        },
        {
          "output_type": "execute_result",
          "data": {
            "text/html": [
              "<div>\n",
              "<style scoped>\n",
              "    .dataframe tbody tr th:only-of-type {\n",
              "        vertical-align: middle;\n",
              "    }\n",
              "\n",
              "    .dataframe tbody tr th {\n",
              "        vertical-align: top;\n",
              "    }\n",
              "\n",
              "    .dataframe thead th {\n",
              "        text-align: right;\n",
              "    }\n",
              "</style>\n",
              "<table border=\"1\" class=\"dataframe\">\n",
              "  <thead>\n",
              "    <tr style=\"text-align: right;\">\n",
              "      <th></th>\n",
              "      <th>Unnamed: 0</th>\n",
              "      <th>Unnamed: 0.1</th>\n",
              "      <th>title</th>\n",
              "      <th>text</th>\n",
              "      <th>subject</th>\n",
              "      <th>date</th>\n",
              "      <th>label</th>\n",
              "      <th>caps_in_title</th>\n",
              "      <th>text_tokens</th>\n",
              "      <th>text_urls</th>\n",
              "      <th>clean_text</th>\n",
              "      <th>title_urls</th>\n",
              "      <th>twitter_handles</th>\n",
              "      <th>clean_title</th>\n",
              "      <th>clean_text_tokens</th>\n",
              "      <th>clean_title_tokens</th>\n",
              "    </tr>\n",
              "  </thead>\n",
              "  <tbody>\n",
              "    <tr>\n",
              "      <th>4699</th>\n",
              "      <td>4699</td>\n",
              "      <td>4699</td>\n",
              "      <td>Hillary Brands Bigoted Trump Supporters With ...</td>\n",
              "      <td>Democratic presidential nominee Hillary Clinto...</td>\n",
              "      <td>News</td>\n",
              "      <td>2016-09-10</td>\n",
              "      <td>fake</td>\n",
              "      <td>12</td>\n",
              "      <td>['Democratic', 'presidential', 'nominee', 'Hil...</td>\n",
              "      <td>[]</td>\n",
              "      <td>democratic presidential nominee hillary clinto...</td>\n",
              "      <td>[]</td>\n",
              "      <td>[]</td>\n",
              "      <td>hillary brands bigoted trump supporters with b...</td>\n",
              "      <td>['democratic', 'presidential', 'nominee', 'hil...</td>\n",
              "      <td>['hillary', 'brands', 'bigoted', 'trump', 'sup...</td>\n",
              "    </tr>\n",
              "    <tr>\n",
              "      <th>8049</th>\n",
              "      <td>8049</td>\n",
              "      <td>8049</td>\n",
              "      <td>I Let A Pit Bull Near My Baby, And This Is Wh...</td>\n",
              "      <td>This is a two-year-old American Pit Bull Terri...</td>\n",
              "      <td>News</td>\n",
              "      <td>2016-02-17</td>\n",
              "      <td>fake</td>\n",
              "      <td>19</td>\n",
              "      <td>['This', 'is', 'a', 'two', 'year', 'old', 'Ame...</td>\n",
              "      <td>['connect.facebook.net/en_US/all.js#xfbml=1']</td>\n",
              "      <td>this is a two-year-old american pit bull terri...</td>\n",
              "      <td>[]</td>\n",
              "      <td>[]</td>\n",
              "      <td>i let a pit bull near my baby, and this is wha...</td>\n",
              "      <td>['this', 'is', 'two-year-old', 'american', 'pi...</td>\n",
              "      <td>['i', 'let', 'pit', 'bull', 'near', 'my', 'bab...</td>\n",
              "    </tr>\n",
              "    <tr>\n",
              "      <th>31588</th>\n",
              "      <td>31588</td>\n",
              "      <td>31594</td>\n",
              "      <td>Japan PM welcomes U.S. designation of North Ko...</td>\n",
              "      <td>TOKYO (Reuters) - Japanese Prime Minister Shin...</td>\n",
              "      <td>worldnews</td>\n",
              "      <td>2017-11-20</td>\n",
              "      <td>true</td>\n",
              "      <td>8</td>\n",
              "      <td>['TOKYO', '(Reuters)', 'Japanese', 'Prime', 'M...</td>\n",
              "      <td>[]</td>\n",
              "      <td>TOKYO   - japanese prime minister shinzo abe o...</td>\n",
              "      <td>[]</td>\n",
              "      <td>[]</td>\n",
              "      <td>japan PM welcomes U.S. designation of north ko...</td>\n",
              "      <td>['TOKYO', 'japanese', 'prime', 'minister', 'sh...</td>\n",
              "      <td>['japan', 'PM', 'welcomes', 'U.S.', 'designati...</td>\n",
              "    </tr>\n",
              "    <tr>\n",
              "      <th>36716</th>\n",
              "      <td>36716</td>\n",
              "      <td>36722</td>\n",
              "      <td>Leaked memo fuels accusations of ethnic bias i...</td>\n",
              "      <td>KABUL (Reuters) - A leaked memo from an staff ...</td>\n",
              "      <td>worldnews</td>\n",
              "      <td>2017-09-21</td>\n",
              "      <td>True</td>\n",
              "      <td>2</td>\n",
              "      <td>['KABUL', '(Reuters)', 'A', 'leaked', 'memo', ...</td>\n",
              "      <td>[]</td>\n",
              "      <td>KABUL   - a leaked memo from an staff member i...</td>\n",
              "      <td>[]</td>\n",
              "      <td>[]</td>\n",
              "      <td>leaked memo fuels accusations of ethnic bias i...</td>\n",
              "      <td>['KABUL', 'leaked', 'memo', 'from', 'an', 'sta...</td>\n",
              "      <td>['leaked', 'memo', 'fuels', 'accusations', 'of...</td>\n",
              "    </tr>\n",
              "    <tr>\n",
              "      <th>8585</th>\n",
              "      <td>8585</td>\n",
              "      <td>8585</td>\n",
              "      <td>The Academy Just Showed The GOP How Diversity...</td>\n",
              "      <td>The Academy Of Motion Picture Arts And Science...</td>\n",
              "      <td>News</td>\n",
              "      <td>2016-01-22</td>\n",
              "      <td>fake</td>\n",
              "      <td>18</td>\n",
              "      <td>['The', 'Academy', 'Of', 'Motion', 'Picture', ...</td>\n",
              "      <td>[]</td>\n",
              "      <td>the academy of motion picture arts and science...</td>\n",
              "      <td>[]</td>\n",
              "      <td>[]</td>\n",
              "      <td>the academy just showed the GOP how diversity ...</td>\n",
              "      <td>['the', 'academy', 'of', 'motion', 'picture', ...</td>\n",
              "      <td>['the', 'academy', 'just', 'showed', 'the', 'G...</td>\n",
              "    </tr>\n",
              "  </tbody>\n",
              "</table>\n",
              "</div>"
            ],
            "text/plain": [
              "       Unnamed: 0  ...                                 clean_title_tokens\n",
              "4699         4699  ...  ['hillary', 'brands', 'bigoted', 'trump', 'sup...\n",
              "8049         8049  ...  ['i', 'let', 'pit', 'bull', 'near', 'my', 'bab...\n",
              "31588       31588  ...  ['japan', 'PM', 'welcomes', 'U.S.', 'designati...\n",
              "36716       36716  ...  ['leaked', 'memo', 'fuels', 'accusations', 'of...\n",
              "8585         8585  ...  ['the', 'academy', 'just', 'showed', 'the', 'G...\n",
              "\n",
              "[5 rows x 16 columns]"
            ]
          },
          "metadata": {},
          "execution_count": 4
        }
      ]
    },
    {
      "cell_type": "markdown",
      "metadata": {
        "id": "wo1gj6WZSMGH"
      },
      "source": [
        "### Splitting Dataset Procedure\n",
        "\n",
        "---\n",
        "We split the data in 3 smaller datasets:\n",
        "* Training, validation and test datasets\n",
        "\n"
      ]
    },
    {
      "cell_type": "code",
      "metadata": {
        "colab": {
          "base_uri": "https://localhost:8080/"
        },
        "id": "UoiF4BZKSTmg",
        "outputId": "8665b8d8-fbe0-4f5b-bd04-5e8653f50a79"
      },
      "source": [
        "#the column 'clean_text' is the one we want to split\n",
        "X = df['clean_text'].reset_index(drop=True)\n",
        "\n",
        "X.sample(10)"
      ],
      "execution_count": null,
      "outputs": [
        {
          "output_type": "execute_result",
          "data": {
            "text/plain": [
              "24740    LOS ANGELES/NEW YORK   - officials in new york...\n",
              "38107    DHAKA   - bangladesh lodged a protest after it...\n",
              "9929     leftist activist and mediocre filmmaker michae...\n",
              "19036    WASHINGTON   - U.S. president donald trump and...\n",
              "34894    ((this story contains obscene language in the ...\n",
              "4281     at the second presidential debate, donald trum...\n",
              "3295     rachel maddow just pounded kellyanne conway, d...\n",
              "2915     donald trump has been bragging about his inaug...\n",
              "8724     if there s one thing that conservatives and fo...\n",
              "27781    NEW YORK   - some  .  million americans watche...\n",
              "Name: clean_text, dtype: object"
            ]
          },
          "metadata": {},
          "execution_count": 5
        }
      ]
    },
    {
      "cell_type": "code",
      "metadata": {
        "colab": {
          "base_uri": "https://localhost:8080/",
          "height": 363
        },
        "id": "ECla-XlWSVjz",
        "outputId": "d0730a80-d859-4345-efe9-de96096b10a3"
      },
      "source": [
        "y = df['label'].to_frame()\n",
        "\n",
        "y.sample(10)"
      ],
      "execution_count": null,
      "outputs": [
        {
          "output_type": "execute_result",
          "data": {
            "text/html": [
              "<div>\n",
              "<style scoped>\n",
              "    .dataframe tbody tr th:only-of-type {\n",
              "        vertical-align: middle;\n",
              "    }\n",
              "\n",
              "    .dataframe tbody tr th {\n",
              "        vertical-align: top;\n",
              "    }\n",
              "\n",
              "    .dataframe thead th {\n",
              "        text-align: right;\n",
              "    }\n",
              "</style>\n",
              "<table border=\"1\" class=\"dataframe\">\n",
              "  <thead>\n",
              "    <tr style=\"text-align: right;\">\n",
              "      <th></th>\n",
              "      <th>label</th>\n",
              "    </tr>\n",
              "  </thead>\n",
              "  <tbody>\n",
              "    <tr>\n",
              "      <th>12076</th>\n",
              "      <td>fake</td>\n",
              "    </tr>\n",
              "    <tr>\n",
              "      <th>6328</th>\n",
              "      <td>fake</td>\n",
              "    </tr>\n",
              "    <tr>\n",
              "      <th>5682</th>\n",
              "      <td>fake</td>\n",
              "    </tr>\n",
              "    <tr>\n",
              "      <th>35183</th>\n",
              "      <td>True</td>\n",
              "    </tr>\n",
              "    <tr>\n",
              "      <th>27532</th>\n",
              "      <td>true</td>\n",
              "    </tr>\n",
              "    <tr>\n",
              "      <th>30336</th>\n",
              "      <td>true</td>\n",
              "    </tr>\n",
              "    <tr>\n",
              "      <th>21582</th>\n",
              "      <td>true</td>\n",
              "    </tr>\n",
              "    <tr>\n",
              "      <th>5420</th>\n",
              "      <td>fake</td>\n",
              "    </tr>\n",
              "    <tr>\n",
              "      <th>8883</th>\n",
              "      <td>fake</td>\n",
              "    </tr>\n",
              "    <tr>\n",
              "      <th>32826</th>\n",
              "      <td>True</td>\n",
              "    </tr>\n",
              "  </tbody>\n",
              "</table>\n",
              "</div>"
            ],
            "text/plain": [
              "      label\n",
              "12076  fake\n",
              "6328   fake\n",
              "5682   fake\n",
              "35183  True\n",
              "27532  true\n",
              "30336  true\n",
              "21582  true\n",
              "5420   fake\n",
              "8883   fake\n",
              "32826  True"
            ]
          },
          "metadata": {},
          "execution_count": 6
        }
      ]
    },
    {
      "cell_type": "code",
      "metadata": {
        "colab": {
          "base_uri": "https://localhost:8080/"
        },
        "id": "YmoicHBqSYuq",
        "outputId": "0c1e48ab-f70f-47ef-b6fc-016255136739"
      },
      "source": [
        "y[y['label'] == True] = 'true'\n",
        "y = y.squeeze() #covert to data frame\n",
        "y"
      ],
      "execution_count": null,
      "outputs": [
        {
          "output_type": "execute_result",
          "data": {
            "text/plain": [
              "0        fake\n",
              "1        fake\n",
              "2        fake\n",
              "3        fake\n",
              "4        fake\n",
              "         ... \n",
              "38633    true\n",
              "38634    true\n",
              "38635    true\n",
              "38636    true\n",
              "38637    true\n",
              "Name: label, Length: 38638, dtype: object"
            ]
          },
          "metadata": {},
          "execution_count": 7
        }
      ]
    },
    {
      "cell_type": "markdown",
      "metadata": {
        "id": "D4AxCL8ASg1s"
      },
      "source": [
        "---\n",
        "At first, we will split the main dataset into two parts:\n",
        "* Train-Validation dataset and\n",
        "* Test dataset (25% of the whole dataset)\n",
        "\n",
        "After that, we will split the Train-Validation dataset into another two:\n",
        "* Train dataset and\n",
        "* Validation dataset (15% of the train-validation dataset)\n",
        "\n",
        "This splitting has been done in stratified manner, meaning that the dataset has been split uniformly based on the percentage of 'fake' - 'true' news."
      ]
    },
    {
      "cell_type": "code",
      "metadata": {
        "colab": {
          "base_uri": "https://localhost:8080/"
        },
        "id": "WaBBf6R7S0BF",
        "outputId": "1819b5f5-4cf6-4b63-b3b1-cfc390c0de93"
      },
      "source": [
        "#sss: stratified shuffle split\n",
        "test_sss = StratifiedShuffleSplit(n_splits=5, test_size=0.25, random_state=0)\n",
        "test_sss"
      ],
      "execution_count": null,
      "outputs": [
        {
          "output_type": "execute_result",
          "data": {
            "text/plain": [
              "StratifiedShuffleSplit(n_splits=5, random_state=0, test_size=0.25,\n",
              "            train_size=None)"
            ]
          },
          "metadata": {},
          "execution_count": 8
        }
      ]
    },
    {
      "cell_type": "code",
      "metadata": {
        "colab": {
          "base_uri": "https://localhost:8080/"
        },
        "id": "3idcCbBVSz-N",
        "outputId": "bcbd86ea-c710-4744-e155-40a69b1c41e1"
      },
      "source": [
        "val_sss = StratifiedShuffleSplit(n_splits=5, test_size=0.15, random_state=0)\n",
        "val_sss"
      ],
      "execution_count": null,
      "outputs": [
        {
          "output_type": "execute_result",
          "data": {
            "text/plain": [
              "StratifiedShuffleSplit(n_splits=5, random_state=0, test_size=0.15,\n",
              "            train_size=None)"
            ]
          },
          "metadata": {},
          "execution_count": 9
        }
      ]
    },
    {
      "cell_type": "code",
      "metadata": {
        "colab": {
          "base_uri": "https://localhost:8080/"
        },
        "id": "D3LpgJMLSz7L",
        "outputId": "50770fdc-6d5e-4154-ccf3-a6acd46541e1"
      },
      "source": [
        "#split in train-validation dataset and test dataset\n",
        "X_train_val, X_test, y_train_val, y_test = None, None, None, None\n",
        "\n",
        "#get the indexes for each dataset\n",
        "for train_index, test_index in test_sss.split(X, y):\n",
        "    \n",
        "    print(\"TRAIN-VAL:\", train_index[:10], \"TEST:\", test_index[:10])\n",
        "    \n",
        "    X_train_val, X_test = X[train_index], X[test_index]\n",
        "    y_train_val, y_test = y[train_index], y[test_index]"
      ],
      "execution_count": null,
      "outputs": [
        {
          "output_type": "stream",
          "text": [
            "TRAIN-VAL: [22033 10814  8803 11309 26936 27847  4873  7727 20681 11339] TEST: [35872 38335 20464 32126  8698 12391 28753   145 15427 23566]\n",
            "TRAIN-VAL: [31419 32366  2163 20173 32013 12531 35254 12308 18870 32123] TEST: [ 5362 23644 31270 11417 20018 31629 33623 34934  4858  3667]\n",
            "TRAIN-VAL: [37017 21858 27556 26992 15331  7244 28496  9024 17132 20787] TEST: [36063 25352   990  4780 23669 17533  9029 20777 25330 14106]\n",
            "TRAIN-VAL: [ 3136 13433 17381 19237  3151 28199  6094 19151 33372   968] TEST: [ 1769 26284 28168 20047 31449 28233 25473 29949 24160 16172]\n",
            "TRAIN-VAL: [16042  6117 32481 33043 19496 19840  5078 28837 30784   971] TEST: [29850  9130 10604 18938 27374 29830  8513  9434 30759 23950]\n"
          ],
          "name": "stdout"
        }
      ]
    },
    {
      "cell_type": "code",
      "metadata": {
        "colab": {
          "base_uri": "https://localhost:8080/"
        },
        "id": "67K8bYe3Sz3v",
        "outputId": "3e5ef44f-2336-493e-8dee-95e41355ad3c"
      },
      "source": [
        "X_train_val.head() #show the first 5 indexes"
      ],
      "execution_count": null,
      "outputs": [
        {
          "output_type": "execute_result",
          "data": {
            "text/plain": [
              "16042    can you believe a first grader was investigate...\n",
              "6117     there should be no doubt that racism is very m...\n",
              "32481    BEIRUT   - hezbollah s parliamentary bloc call...\n",
              "33043    SEOUL/WASHINGTON   - two U.S. strategic bomber...\n",
              "19496      - the wife of U.S. treasury secretary steve ...\n",
              "Name: clean_text, dtype: object"
            ]
          },
          "metadata": {},
          "execution_count": 11
        }
      ]
    },
    {
      "cell_type": "code",
      "metadata": {
        "id": "bgs5926JS5y0"
      },
      "source": [
        "#reset the indexes\n",
        "X_train_val = X_train_val.reset_index(drop=True)\n",
        "y_train_val = y_train_val.reset_index(drop=True)"
      ],
      "execution_count": null,
      "outputs": []
    },
    {
      "cell_type": "code",
      "metadata": {
        "colab": {
          "base_uri": "https://localhost:8080/"
        },
        "id": "PcgU5c99S5v_",
        "outputId": "2c2af366-5273-4df9-e227-d0ce77d21756"
      },
      "source": [
        "#split the train-validation dataset into train and validation dataset\n",
        "X_train, X_val, y_train, y_val = None, None, None, None\n",
        "\n",
        "for train_index, val_index in val_sss.split(X_train_val, y_train_val):\n",
        "    \n",
        "    print(\"TRAIN:\", train_index[:10], \"VALID:\", test_index[:10])\n",
        "    \n",
        "    X_train, X_val = X_train_val[train_index], X_train_val[val_index]\n",
        "    y_train, y_val = y_train_val[train_index], y_train_val[val_index]"
      ],
      "execution_count": null,
      "outputs": [
        {
          "output_type": "stream",
          "text": [
            "TRAIN: [16622 27701 25079 28089 21477 11662  8228 14396  5133 26223] VALID: [29850  9130 10604 18938 27374 29830  8513  9434 30759 23950]\n",
            "TRAIN: [ 7622  6949 15797  6652 16246 16534 19690 11268 28871 21944] VALID: [29850  9130 10604 18938 27374 29830  8513  9434 30759 23950]\n",
            "TRAIN: [16548 26162 16257 12055  5336  5928 10012 14887 17351  6124] VALID: [29850  9130 10604 18938 27374 29830  8513  9434 30759 23950]\n",
            "TRAIN: [11278  5654 15952 23752 26907 15079 28130 16321 24645  4279] VALID: [29850  9130 10604 18938 27374 29830  8513  9434 30759 23950]\n",
            "TRAIN: [11639 14247 14867  3939 12279 12830 16613  8407 19602 27713] VALID: [29850  9130 10604 18938 27374 29830  8513  9434 30759 23950]\n"
          ],
          "name": "stdout"
        }
      ]
    },
    {
      "cell_type": "code",
      "metadata": {
        "colab": {
          "base_uri": "https://localhost:8080/"
        },
        "id": "1Cggbx5DS5tt",
        "outputId": "1d39c41b-7f98-46fe-96c7-1618c963e107"
      },
      "source": [
        "#see the final results\n",
        "print('X_train_val shape: {}'.format(X_train_val.shape))\n",
        "print('y_train_val shape: {}'.format(y_train_val.shape))\n",
        "print()\n",
        "\n",
        "print('X_train shape: {}'.format(X_train.shape))\n",
        "print('y_train shape: {}'.format(y_train.shape))\n",
        "print()\n",
        "\n",
        "print('X_test shape: {}'.format(X_test.shape))\n",
        "print('y_test shape: {}'.format(y_test.shape))\n",
        "\n",
        "print()\n",
        "print('X_val shape: {}'.format(X_val.shape))\n",
        "print('y_val shape: {}'.format(y_val.shape))"
      ],
      "execution_count": null,
      "outputs": [
        {
          "output_type": "stream",
          "text": [
            "X_train_val shape: (28978,)\n",
            "y_train_val shape: (28978,)\n",
            "\n",
            "X_train shape: (24631,)\n",
            "y_train shape: (24631,)\n",
            "\n",
            "X_test shape: (9660,)\n",
            "y_test shape: (9660,)\n",
            "\n",
            "X_val shape: (4347,)\n",
            "y_val shape: (4347,)\n"
          ],
          "name": "stdout"
        }
      ]
    },
    {
      "cell_type": "markdown",
      "metadata": {
        "id": "cm_FfcSWvvG1"
      },
      "source": [
        "### Label Encoding "
      ]
    },
    {
      "cell_type": "markdown",
      "metadata": {
        "id": "Zhn4LyUcBryI"
      },
      "source": [
        "We use label encoder instead of one-hot, because we want to have only one class in the end in order to insert it in the Feed Forward NN."
      ]
    },
    {
      "cell_type": "code",
      "metadata": {
        "id": "lpONbyzpvt5A"
      },
      "source": [
        "#encoding the labels using Label Encoder\n",
        "y_lab = LabelEncoder()"
      ],
      "execution_count": null,
      "outputs": []
    },
    {
      "cell_type": "code",
      "metadata": {
        "colab": {
          "base_uri": "https://localhost:8080/"
        },
        "id": "gO8b_g5bvt9S",
        "outputId": "1ef60e0b-5f9a-4cc1-95d3-e99a370dd706"
      },
      "source": [
        "y_train_lab = y_lab.fit_transform(y_train)\n",
        "y_train_lab"
      ],
      "execution_count": null,
      "outputs": [
        {
          "output_type": "execute_result",
          "data": {
            "text/plain": [
              "array([1, 0, 1, ..., 0, 0, 0])"
            ]
          },
          "metadata": {},
          "execution_count": 16
        }
      ]
    },
    {
      "cell_type": "code",
      "metadata": {
        "id": "qtTSKE-Ivt_T"
      },
      "source": [
        "y_test_lab = y_lab.transform(y_test)\n",
        "y_val_lab = y_lab.transform(y_val)"
      ],
      "execution_count": null,
      "outputs": []
    },
    {
      "cell_type": "code",
      "metadata": {
        "colab": {
          "base_uri": "https://localhost:8080/"
        },
        "id": "TsdQS3tjwM71",
        "outputId": "d6e79681-f1f4-40e1-f31c-7dd7206993f8"
      },
      "source": [
        "#print their format\n",
        "print('y_train shape: {}'.format(y_train_lab.shape))\n",
        "print('y_test shape: {}'.format(y_test_lab.shape))\n",
        "print('y_val shape: {}'.format(y_val_lab.shape))"
      ],
      "execution_count": null,
      "outputs": [
        {
          "output_type": "stream",
          "text": [
            "y_train shape: (24631,)\n",
            "y_test shape: (9660,)\n",
            "y_val shape: (4347,)\n"
          ],
          "name": "stdout"
        }
      ]
    },
    {
      "cell_type": "code",
      "metadata": {
        "colab": {
          "base_uri": "https://localhost:8080/"
        },
        "id": "pqIFPJrRwNAf",
        "outputId": "6048b857-2207-46f0-a280-156152ed5112"
      },
      "source": [
        "#the final classes from the encoder\n",
        "y_lab.classes_"
      ],
      "execution_count": null,
      "outputs": [
        {
          "output_type": "execute_result",
          "data": {
            "text/plain": [
              "array(['fake', 'true'], dtype=object)"
            ]
          },
          "metadata": {},
          "execution_count": 19
        }
      ]
    },
    {
      "cell_type": "markdown",
      "metadata": {
        "id": "WHdhHA-LTSdO"
      },
      "source": [
        "### Word Embeddings"
      ]
    },
    {
      "cell_type": "code",
      "metadata": {
        "id": "Nrh3kNvOTtLX"
      },
      "source": [
        "max_words = 15_000  #we will only take the 15K most used words in the whole news dataset\n",
        "\n",
        "#initialize the Keras tokenizer\n",
        "reviews_tokenizer = Tokenizer(num_words=max_words, lower=True, oov_token='<OOV>')\n",
        "reviews_tokenizer.fit_on_texts(X_train)"
      ],
      "execution_count": null,
      "outputs": []
    },
    {
      "cell_type": "code",
      "metadata": {
        "id": "NnRUoGq3TtIj"
      },
      "source": [
        "reviews_tokenizerTest = Tokenizer(num_words=max_words, lower=True, oov_token='<OOV>')\n",
        "reviews_tokenizerTest.fit_on_texts(X_test)"
      ],
      "execution_count": null,
      "outputs": []
    },
    {
      "cell_type": "code",
      "metadata": {
        "id": "pDTyCfvQTtGA"
      },
      "source": [
        "reviews_tokenizerVal = Tokenizer(num_words=max_words, lower=True, oov_token='<OOV>')\n",
        "reviews_tokenizerVal.fit_on_texts(X_val)"
      ],
      "execution_count": null,
      "outputs": []
    },
    {
      "cell_type": "code",
      "metadata": {
        "id": "ryj45bOsTtDj"
      },
      "source": [
        "xtrain_seq = reviews_tokenizer.texts_to_sequences(X_train)\n",
        "xtest_seq = reviews_tokenizerTest.texts_to_sequences(X_test)\n",
        "xval_seq = reviews_tokenizerVal.texts_to_sequences(X_val)"
      ],
      "execution_count": null,
      "outputs": []
    },
    {
      "cell_type": "markdown",
      "metadata": {
        "id": "bBgYF4C1TzSQ"
      },
      "source": [
        "* In order to continue, we have to make sure that all the sentences that will be used in our model will have the same length. So, we use the `Keras pad sequences tool`. This tool, cuts those sentences that are too big and for those that are too small adds zeros. \n",
        "\n",
        "Here, we make all the sentences to have length 401 words (the average words of each sentence)."
      ]
    },
    {
      "cell_type": "code",
      "metadata": {
        "id": "sMMWupdrGY2P",
        "colab": {
          "base_uri": "https://localhost:8080/"
        },
        "outputId": "184ef977-b99a-4f73-bedf-06fa83d93977"
      },
      "source": [
        "import statistics\n",
        "seq_len = [len(i.split()) for i in X_train_val]\n",
        "MAX_LENGHT = int(statistics.mean(seq_len))\n",
        "print(MAX_LENGHT)"
      ],
      "execution_count": null,
      "outputs": [
        {
          "output_type": "stream",
          "text": [
            "401\n"
          ],
          "name": "stdout"
        }
      ]
    },
    {
      "cell_type": "code",
      "metadata": {
        "id": "rY7Lx41fTs4e"
      },
      "source": [
        "xtrain_pad = pad_sequences(xtrain_seq, maxlen=MAX_LENGHT)\n",
        "xtest_pad = pad_sequences(xtest_seq, maxlen=MAX_LENGHT)\n",
        "xval_pad = pad_sequences(xval_seq, maxlen=MAX_LENGHT) #create embedding (words into sequence of numbers)"
      ],
      "execution_count": null,
      "outputs": []
    },
    {
      "cell_type": "code",
      "metadata": {
        "id": "rSjvY6ZwTs1P"
      },
      "source": [
        "word_index = reviews_tokenizer.word_index"
      ],
      "execution_count": null,
      "outputs": []
    },
    {
      "cell_type": "markdown",
      "metadata": {
        "id": "tfMdLmIw6zkb"
      },
      "source": [
        "* Build the vocabulary from the text taken in [Kaggle](https://www.kaggle.com/thanakomsn/glove6b300dtxt?select=glove.6B.300d.txt)"
      ]
    },
    {
      "cell_type": "code",
      "metadata": {
        "colab": {
          "base_uri": "https://localhost:8080/"
        },
        "id": "Ikiidn4eG4gj",
        "outputId": "b9db243d-07ce-4ce1-b01a-ac83171ae827"
      },
      "source": [
        "embedding_vectors = {}\n",
        "with open('gdrive/MyDrive/glove.6B.300d.txt','r',encoding='utf-8') as file:\n",
        "    for row in file:\n",
        "        values = row.split(' ')\n",
        "        word = values[0]\n",
        "        weights = np.asarray([float(val) for val in values[1:]])\n",
        "        embedding_vectors[word] = weights\n",
        "print(f\"Size of vocabulary in GloVe: {len(embedding_vectors)}\") "
      ],
      "execution_count": null,
      "outputs": [
        {
          "output_type": "stream",
          "text": [
            "Size of vocabulary in GloVe: 400000\n"
          ],
          "name": "stdout"
        }
      ]
    },
    {
      "cell_type": "code",
      "metadata": {
        "id": "_nEq25AtHX9d"
      },
      "source": [
        "#initialize the embedding_matrix with zeros\n",
        "emb_dim = 300\n",
        "if max_words is not None: \n",
        "    vocab_len = max_words \n",
        "else:\n",
        "    vocab_len = len(word_index)+1\n",
        "embedding_matrix = np.zeros((vocab_len, emb_dim))\n",
        "oov_count = 0\n",
        "oov_words = []\n",
        "for word, idx in word_index.items():\n",
        "    if idx < vocab_len:\n",
        "        embedding_vector = embedding_vectors.get(word)\n",
        "        if embedding_vector is not None:\n",
        "            embedding_matrix[idx] = embedding_vector\n",
        "        else:\n",
        "            oov_count += 1 \n",
        "            oov_words.append(word)"
      ],
      "execution_count": null,
      "outputs": []
    },
    {
      "cell_type": "markdown",
      "metadata": {
        "id": "hPtzxYdnWoZN"
      },
      "source": [
        "#### Model Setup"
      ]
    },
    {
      "cell_type": "code",
      "metadata": {
        "id": "6sgAGRCfKa1x",
        "colab": {
          "base_uri": "https://localhost:8080/"
        },
        "outputId": "9ad59f33-4b69-471c-c41b-62b41e3aa98a"
      },
      "source": [
        "print('Building model...', end='\\n\\n')\n",
        "\n",
        "#initialize an empty sequential structure, meaning that each layer we add, its output will be added as input in the next layer \n",
        "lstm_model = Sequential()\n",
        "lstm_model.add(Embedding(vocab_len, emb_dim, trainable = False, weights=[embedding_matrix]))\n",
        "lstm_model.add(LSTM(128, return_sequences=False))\n",
        "\n",
        "#add a dense layer (multi layer perception - MLP) and use relu activation on MLP's outputs\n",
        "lstm_model.add(Dense(512, activation = 'relu'))\n",
        "\n",
        "#use a dropout layer with with 40% of inputs dropped\n",
        "lstm_model.add(Dropout(0.4))\n",
        "\n",
        "#add a dense layer (MLP) and use sigmoid activation on MLP's outputs\n",
        "lstm_model.add(Dense(1, activation = 'sigmoid'))\n",
        "\n",
        "#compiling the model\n",
        "lstm_model.compile(loss='binary_crossentropy', optimizer='adam', metrics=['accuracy'])\n",
        "print(lstm_model.summary())"
      ],
      "execution_count": null,
      "outputs": [
        {
          "output_type": "stream",
          "text": [
            "Building model...\n",
            "\n",
            "Model: \"sequential\"\n",
            "_________________________________________________________________\n",
            "Layer (type)                 Output Shape              Param #   \n",
            "=================================================================\n",
            "embedding (Embedding)        (None, None, 300)         4500000   \n",
            "_________________________________________________________________\n",
            "lstm (LSTM)                  (None, 128)               219648    \n",
            "_________________________________________________________________\n",
            "dense (Dense)                (None, 512)               66048     \n",
            "_________________________________________________________________\n",
            "dropout (Dropout)            (None, 512)               0         \n",
            "_________________________________________________________________\n",
            "dense_1 (Dense)              (None, 1)                 513       \n",
            "=================================================================\n",
            "Total params: 4,786,209\n",
            "Trainable params: 286,209\n",
            "Non-trainable params: 4,500,000\n",
            "_________________________________________________________________\n",
            "None\n"
          ],
          "name": "stdout"
        }
      ]
    },
    {
      "cell_type": "code",
      "metadata": {
        "id": "xPAPo1FAXZkg",
        "colab": {
          "base_uri": "https://localhost:8080/",
          "height": 644
        },
        "outputId": "cbb17e8e-8464-4c16-b596-d2250c9797bb"
      },
      "source": [
        "plot_model(lstm_model, to_file='model_plot.png', show_shapes=True, show_layer_names=True)"
      ],
      "execution_count": null,
      "outputs": [
        {
          "output_type": "execute_result",
          "data": {
            "image/png": "[encoded data removed]",
            "text/plain": [
              "<IPython.core.display.Image object>"
            ]
          },
          "metadata": {},
          "execution_count": 30
        }
      ]
    },
    {
      "cell_type": "markdown",
      "metadata": {
        "id": "aEou2ICnXhM3"
      },
      "source": [
        "### Training the Recurrent Network Model"
      ]
    },
    {
      "cell_type": "code",
      "metadata": {
        "id": "jG2qGnZCXe_i"
      },
      "source": [
        "monitor = 'val_loss'\n",
        "\n",
        "callbacks = [   \n",
        "    #stop the training when a monitored quantity has stopped improving\n",
        "    EarlyStopping(monitor=monitor, patience=7, verbose=1, restore_best_weights=True),\n",
        "             \n",
        "    #Reduce learning rate is called when a metric has stopped improving\n",
        "    ReduceLROnPlateau(monitor=monitor, factor=0.1, patience=5, verbose=1)]"
      ],
      "execution_count": null,
      "outputs": []
    },
    {
      "cell_type": "code",
      "metadata": {
        "id": "EkdL0rszLHdB",
        "colab": {
          "base_uri": "https://localhost:8080/"
        },
        "outputId": "d23cf56a-73c3-4a9b-bad1-8cfc235ea7b3"
      },
      "source": [
        "batch_size = 64\n",
        "epochs  = 30\n",
        "history = lstm_model.fit(xtrain_pad, \n",
        "                         y_train_lab, \n",
        "                         validation_data=(xtest_pad, y_test_lab), \n",
        "                         batch_size = batch_size, \n",
        "                         epochs = epochs,\n",
        "                         verbose=2,\n",
        "                         callbacks = callbacks)"
      ],
      "execution_count": null,
      "outputs": [
        {
          "output_type": "stream",
          "text": [
            "Epoch 1/30\n",
            "385/385 - 421s - loss: 0.1582 - accuracy: 0.9416 - val_loss: 1.1326 - val_accuracy: 0.6679\n",
            "Epoch 2/30\n",
            "385/385 - 423s - loss: 0.0691 - accuracy: 0.9784 - val_loss: 0.7718 - val_accuracy: 0.6697\n",
            "Epoch 3/30\n",
            "385/385 - 424s - loss: 0.0640 - accuracy: 0.9788 - val_loss: 0.9949 - val_accuracy: 0.7032\n",
            "Epoch 4/30\n",
            "385/385 - 420s - loss: 0.0442 - accuracy: 0.9858 - val_loss: 0.7947 - val_accuracy: 0.7568\n",
            "Epoch 5/30\n",
            "385/385 - 423s - loss: 0.0251 - accuracy: 0.9924 - val_loss: 0.7030 - val_accuracy: 0.7902\n",
            "Epoch 6/30\n",
            "385/385 - 423s - loss: 0.0215 - accuracy: 0.9932 - val_loss: 0.7997 - val_accuracy: 0.7463\n",
            "Epoch 7/30\n",
            "385/385 - 421s - loss: 0.0153 - accuracy: 0.9951 - val_loss: 0.7620 - val_accuracy: 0.7857\n",
            "Epoch 8/30\n",
            "385/385 - 424s - loss: 0.0086 - accuracy: 0.9972 - val_loss: 0.8862 - val_accuracy: 0.7908\n",
            "Epoch 9/30\n",
            "385/385 - 422s - loss: 0.0040 - accuracy: 0.9989 - val_loss: 1.2036 - val_accuracy: 0.7777\n",
            "Epoch 10/30\n",
            "385/385 - 421s - loss: 0.0058 - accuracy: 0.9983 - val_loss: 1.4476 - val_accuracy: 0.7414\n",
            "\n",
            "Epoch 00010: ReduceLROnPlateau reducing learning rate to 0.00010000000474974513.\n",
            "Epoch 11/30\n",
            "385/385 - 423s - loss: 0.0010 - accuracy: 0.9996 - val_loss: 1.1455 - val_accuracy: 0.7875\n",
            "Epoch 12/30\n",
            "385/385 - 421s - loss: 5.5911e-04 - accuracy: 0.9999 - val_loss: 1.1959 - val_accuracy: 0.7874\n",
            "Restoring model weights from the end of the best epoch.\n",
            "Epoch 00012: early stopping\n"
          ],
          "name": "stdout"
        }
      ]
    },
    {
      "cell_type": "code",
      "metadata": {
        "id": "IYqVgSQo0ylk",
        "colab": {
          "base_uri": "https://localhost:8080/"
        },
        "outputId": "7a3fdd26-7180-4c37-f35f-0502ceb0cea3"
      },
      "source": [
        "lstm_model.save #save the model for later use"
      ],
      "execution_count": null,
      "outputs": [
        {
          "output_type": "execute_result",
          "data": {
            "text/plain": [
              "<bound method Model.save of <keras.engine.sequential.Sequential object at 0x7f6431835590>>"
            ]
          },
          "metadata": {},
          "execution_count": 33
        }
      ]
    },
    {
      "cell_type": "code",
      "metadata": {
        "id": "eZldD_WOYKBk"
      },
      "source": [
        "def plot_keras_history(history):\n",
        "    \"\"\"    \n",
        "    :param history: \n",
        "    :return: \n",
        "    \"\"\" \n",
        "    metrics_names = [key for key in history.history.keys() if not key.startswith('val_')]\n",
        "\n",
        "    for i, metric in enumerate(metrics_names):\n",
        "        \n",
        "        if i == 2:\n",
        "          break\n",
        "        else:\n",
        "          #getting the training values\n",
        "          metric_train_values = history.history.get(metric, [])\n",
        "          \n",
        "          #getting the validation values\n",
        "          metric_val_values = history.history.get(\"val_{}\".format(metric), [])\n",
        "\n",
        "          epochs = range(1, len(metric_train_values) + 1)\n",
        "          \n",
        "          #leaving extra spaces to allign with the validation text\n",
        "          training_text = \"   Training {}: {:.5f}\".format(metric,\n",
        "                                                          metric_train_values[-1])\n",
        "\n",
        "          #metric\n",
        "          plt.figure(i, figsize=(12, 6))\n",
        "          plt.plot(epochs, metric_train_values, 'b', label=training_text)\n",
        "          \n",
        "          #if the validation metric exists, then plot that as well\n",
        "          if metric_val_values:\n",
        "              validation_text = \"Validation {}: {:.5f}\".format(metric,\n",
        "                                                              metric_val_values[-1])\n",
        "\n",
        "              plt.plot(epochs, metric_val_values, 'g', label=validation_text)\n",
        "          \n",
        "          #add title, xlabel, ylabel, and legend\n",
        "          plt.title('Model Metric: {}'.format(metric))\n",
        "          plt.xlabel('Epochs')\n",
        "          plt.ylabel(metric.title())\n",
        "          plt.legend()\n",
        "\n",
        "    plt.show()"
      ],
      "execution_count": null,
      "outputs": []
    },
    {
      "cell_type": "code",
      "metadata": {
        "id": "8CcHE2f8YMWx",
        "colab": {
          "base_uri": "https://localhost:8080/",
          "height": 785
        },
        "outputId": "419e08cb-1891-4858-aac8-a6d5fa04d710"
      },
      "source": [
        "plot_keras_history(history)"
      ],
      "execution_count": null,
      "outputs": [
        {
          "output_type": "display_data",
          "data": {
            "image/png": "[encoded data removed]",
            "text/plain": [
              "<Figure size 864x432 with 1 Axes>"
            ]
          },
          "metadata": {
            "needs_background": "light"
          }
        },
        {
          "output_type": "display_data",
          "data": {
            "image/png": "[encoded data removed]",
            "text/plain": [
              "<Figure size 864x432 with 1 Axes>"
            ]
          },
          "metadata": {
            "needs_background": "light"
          }
        }
      ]
    },
    {
      "cell_type": "markdown",
      "metadata": {
        "id": "w4aeuwCzYTpy"
      },
      "source": [
        "### Model Evaluation"
      ]
    },
    {
      "cell_type": "code",
      "metadata": {
        "id": "rTlxhOMPYTTV",
        "colab": {
          "base_uri": "https://localhost:8080/"
        },
        "outputId": "d560269e-b312-4e6f-b6d1-795dd11783c8"
      },
      "source": [
        "#evaluate and store on score variable the test dataset\n",
        "score = lstm_model.evaluate(\n",
        "    xval_pad,    \n",
        "    y_val_lab,             \n",
        "    batch_size=batch_size,   \n",
        "    verbose=2)"
      ],
      "execution_count": null,
      "outputs": [
        {
          "output_type": "stream",
          "text": [
            "68/68 - 24s - loss: 1.2156 - accuracy: 0.6533\n"
          ],
          "name": "stdout"
        }
      ]
    },
    {
      "cell_type": "code",
      "metadata": {
        "colab": {
          "base_uri": "https://localhost:8080/"
        },
        "id": "swKQ1pXi1mda",
        "outputId": "d9f8a1d1-2279-4d63-ff69-dc09daf170be"
      },
      "source": [
        "print('\\nTest binary_crossentropy: {:.4f}'.format(score[0]))\n",
        "print('\\nTest accuracy: {:.3f} %'.format(score[1]*100))"
      ],
      "execution_count": null,
      "outputs": [
        {
          "output_type": "stream",
          "text": [
            "\n",
            "Test binary_crossentropy: 1.2156\n",
            "\n",
            "Test accuracy: 65.332 %\n"
          ],
          "name": "stdout"
        }
      ]
    },
    {
      "cell_type": "markdown",
      "metadata": {
        "id": "p3fBSanT16iV"
      },
      "source": [
        "### Model Prediction "
      ]
    },
    {
      "cell_type": "code",
      "metadata": {
        "colab": {
          "base_uri": "https://localhost:8080/"
        },
        "id": "CQeFhZB213o8",
        "outputId": "d133fc3e-4824-4ce4-c2b5-4dd6c225203b"
      },
      "source": [
        "#get the probabilities for each news\n",
        "y_val_pred_probs = lstm_model.predict(xval_pad)\n",
        "y_val_pred_probs[:20]"
      ],
      "execution_count": null,
      "outputs": [
        {
          "output_type": "execute_result",
          "data": {
            "text/plain": [
              "array([[1.61146939e-01],\n",
              "       [9.99639153e-01],\n",
              "       [1.53818727e-02],\n",
              "       [5.12799025e-02],\n",
              "       [9.42060888e-01],\n",
              "       [9.47427154e-02],\n",
              "       [9.99784648e-01],\n",
              "       [3.19471657e-02],\n",
              "       [3.15368176e-04],\n",
              "       [8.91368389e-02],\n",
              "       [9.89872098e-01],\n",
              "       [8.38348269e-03],\n",
              "       [9.90683794e-01],\n",
              "       [9.99870181e-01],\n",
              "       [8.38184357e-03],\n",
              "       [1.18275136e-01],\n",
              "       [2.75788009e-02],\n",
              "       [6.43746257e-02],\n",
              "       [1.13067627e-02],\n",
              "       [3.99611056e-01]], dtype=float32)"
            ]
          },
          "metadata": {},
          "execution_count": 38
        }
      ]
    },
    {
      "cell_type": "code",
      "metadata": {
        "colab": {
          "base_uri": "https://localhost:8080/"
        },
        "id": "WKrSeakj13gV",
        "outputId": "be1c717d-d2f0-499c-e24b-48dce2705137"
      },
      "source": [
        "#show the class they belong\n",
        "y_val_preds = (y_val_pred_probs >= 0.5).astype('int64')\n",
        "\n",
        "y_val_preds[:10]"
      ],
      "execution_count": null,
      "outputs": [
        {
          "output_type": "execute_result",
          "data": {
            "text/plain": [
              "array([[0],\n",
              "       [1],\n",
              "       [0],\n",
              "       [0],\n",
              "       [1],\n",
              "       [0],\n",
              "       [1],\n",
              "       [0],\n",
              "       [0],\n",
              "       [0]])"
            ]
          },
          "metadata": {},
          "execution_count": 39
        }
      ]
    },
    {
      "cell_type": "markdown",
      "metadata": {
        "id": "UjZCr5IQ8U7s"
      },
      "source": [
        "* Let's see some evaluation metrics"
      ]
    },
    {
      "cell_type": "code",
      "metadata": {
        "id": "I93JfTFmYqot"
      },
      "source": [
        "from sklearn.metrics import confusion_matrix, classification_report\n",
        "from sklearn.metrics import roc_curve, auc\n",
        "from sklearn.metrics import roc_auc_score"
      ],
      "execution_count": null,
      "outputs": []
    },
    {
      "cell_type": "code",
      "metadata": {
        "id": "s2OrK4GWYqrI",
        "colab": {
          "base_uri": "https://localhost:8080/",
          "height": 112
        },
        "outputId": "14e571fc-d2e2-4db3-e22c-3bfb048bf5ae"
      },
      "source": [
        "#confusion matrix\n",
        "conf_mat = confusion_matrix(y_true=y_val_lab, y_pred=y_val_preds)\n",
        "pd.DataFrame(conf_mat, columns = y_lab.classes_, index= y_lab.classes_)"
      ],
      "execution_count": null,
      "outputs": [
        {
          "output_type": "execute_result",
          "data": {
            "text/html": [
              "<div>\n",
              "<style scoped>\n",
              "    .dataframe tbody tr th:only-of-type {\n",
              "        vertical-align: middle;\n",
              "    }\n",
              "\n",
              "    .dataframe tbody tr th {\n",
              "        vertical-align: top;\n",
              "    }\n",
              "\n",
              "    .dataframe thead th {\n",
              "        text-align: right;\n",
              "    }\n",
              "</style>\n",
              "<table border=\"1\" class=\"dataframe\">\n",
              "  <thead>\n",
              "    <tr style=\"text-align: right;\">\n",
              "      <th></th>\n",
              "      <th>fake</th>\n",
              "      <th>true</th>\n",
              "    </tr>\n",
              "  </thead>\n",
              "  <tbody>\n",
              "    <tr>\n",
              "      <th>fake</th>\n",
              "      <td>1487</td>\n",
              "      <td>476</td>\n",
              "    </tr>\n",
              "    <tr>\n",
              "      <th>true</th>\n",
              "      <td>1031</td>\n",
              "      <td>1353</td>\n",
              "    </tr>\n",
              "  </tbody>\n",
              "</table>\n",
              "</div>"
            ],
            "text/plain": [
              "      fake  true\n",
              "fake  1487   476\n",
              "true  1031  1353"
            ]
          },
          "metadata": {},
          "execution_count": 41
        }
      ]
    },
    {
      "cell_type": "code",
      "metadata": {
        "id": "IVOLsnB3Yqtj",
        "colab": {
          "base_uri": "https://localhost:8080/"
        },
        "outputId": "fd6bcb86-d9a8-4196-b6c6-e5aa5bdc2e2d"
      },
      "source": [
        "#classification report\n",
        "print(classification_report(y_true=y_val_lab, y_pred=y_val_preds))"
      ],
      "execution_count": null,
      "outputs": [
        {
          "output_type": "stream",
          "text": [
            "              precision    recall  f1-score   support\n",
            "\n",
            "           0       0.59      0.76      0.66      1963\n",
            "           1       0.74      0.57      0.64      2384\n",
            "\n",
            "    accuracy                           0.65      4347\n",
            "   macro avg       0.67      0.66      0.65      4347\n",
            "weighted avg       0.67      0.65      0.65      4347\n",
            "\n"
          ],
          "name": "stdout"
        }
      ]
    },
    {
      "cell_type": "code",
      "metadata": {
        "id": "LR73btbEYqwE"
      },
      "source": [
        "def plot_binary_class_row_auc(y_true,\n",
        "                              clf_names: list,\n",
        "                              clfs_preds: list):\n",
        "    \"\"\"\n",
        "\n",
        "    :param y_true: The true labels in label encoding\n",
        "    :param clf_names: The names of the classifiers in order to plot\n",
        "    :param clfs_preds: A list of numpy arrays, that contain predictions from various classifiers\n",
        "    :return:\n",
        "    \"\"\"\n",
        "    assert len(clf_names) == len(clfs_preds)\n",
        "\n",
        "    plt.figure(1)\n",
        "    plt.plot([0, 1], [0, 1], 'k--')\n",
        "\n",
        "    for clf_name, preds in zip(clf_names, clfs_preds):\n",
        "        fpr, tpr, thresholds = roc_curve(y_true,\n",
        "                                         preds)\n",
        "\n",
        "        # AUC value can also be calculated like this.\n",
        "\n",
        "        auc_score = auc(fpr, tpr)\n",
        "\n",
        "        plt.plot(fpr,\n",
        "                 tpr,\n",
        "                 label='{} (area = {:.3f})'.format(clf_name, auc_score))\n",
        "\n",
        "    plt.xlabel('False positive rate')\n",
        "    plt.ylabel('True positive rate')\n",
        "    plt.title('ROC curve')\n",
        "    plt.legend(loc='best')\n",
        "    plt.show()\n",
        "\n",
        "    # Zoom in view of the upper left corner.\n",
        "    plt.figure(2)\n",
        "    plt.xlim(0, 0.2)\n",
        "    plt.ylim(0.7, 1)\n",
        "    plt.plot([0, 1],\n",
        "             [0, 1],\n",
        "             'k--')\n",
        "\n",
        "    for clf_name, preds in zip(clf_names, clfs_preds):\n",
        "        fpr, tpr, thresholds = roc_curve(y_true,\n",
        "                                         preds)\n",
        "\n",
        "        # AUC value can also be calculated like this.\n",
        "\n",
        "        auc_score = auc(fpr, tpr)\n",
        "\n",
        "        plt.plot(fpr, tpr,\n",
        "                 label='{} (area = {:.3f})'.format(clf_name, auc_score))\n",
        "\n",
        "    plt.xlabel('False positive rate')\n",
        "    plt.ylabel('True positive rate')\n",
        "    plt.title('ROC curve (zoomed in at top left)')\n",
        "    plt.legend(loc='best')\n",
        "    plt.show()"
      ],
      "execution_count": null,
      "outputs": []
    },
    {
      "cell_type": "code",
      "metadata": {
        "id": "Re1GH5dRYz11",
        "colab": {
          "base_uri": "https://localhost:8080/",
          "height": 573
        },
        "outputId": "6042298d-bc59-4875-9e93-108f47bbba12"
      },
      "source": [
        "#ROC curve\n",
        "plot_binary_class_row_auc(y_true=y_val_lab,\n",
        "                          clf_names=['Keras'],\n",
        "                          clfs_preds=[y_val_preds.ravel()])"
      ],
      "execution_count": null,
      "outputs": [
        {
          "output_type": "display_data",
          "data": {
            "image/png": "[encoded data removed]",
            "text/plain": [
              "<Figure size 432x288 with 1 Axes>"
            ]
          },
          "metadata": {
            "needs_background": "light"
          }
        },
        {
          "output_type": "display_data",
          "data": {
            "image/png": "[encoded data removed]",
            "text/plain": [
              "<Figure size 432x288 with 1 Axes>"
            ]
          },
          "metadata": {
            "needs_background": "light"
          }
        }
      ]
    },
    {
      "cell_type": "code",
      "metadata": {
        "colab": {
          "base_uri": "https://localhost:8080/"
        },
        "id": "jlGuxcoCGSNX",
        "outputId": "a4e1c58a-ccdf-4ee2-d8fb-452983fc15bc"
      },
      "source": [
        "print(roc_auc_score(y_val_lab, y_val_preds))"
      ],
      "execution_count": null,
      "outputs": [
        {
          "output_type": "stream",
          "text": [
            "0.662523783108309\n"
          ],
          "name": "stdout"
        }
      ]
    },
    {
      "cell_type": "code",
      "metadata": {
        "id": "ye5h2Z7lQ1Ur"
      },
      "source": [
        "#save the weights of the model\n",
        "lstm_model.save_weights('RNN.h5')"
      ],
      "execution_count": null,
      "outputs": []
    },
    {
      "cell_type": "markdown",
      "metadata": {
        "id": "6t2vPWWF-Rrn"
      },
      "source": [
        "Here is an example. We are giving a text in the model and it returns to us how much fake it is."
      ]
    },
    {
      "cell_type": "code",
      "metadata": {
        "colab": {
          "base_uri": "https://localhost:8080/",
          "height": 36
        },
        "id": "ye1vGdiC-O0e",
        "outputId": "ced56348-5c7d-4e62-dfb1-6c746dcccc45"
      },
      "source": [
        "X_val.iloc[1943,]"
      ],
      "execution_count": null,
      "outputs": [
        {
          "output_type": "execute_result",
          "data": {
            "application/vnd.google.colaboratory.intrinsic+json": {
              "type": "string"
            },
            "text/plain": [
              "'OOPS! IN   BILL CLINTON SAID THE SAME THING MAKE AMERICA GREAT AGAIN :'"
            ]
          },
          "metadata": {},
          "execution_count": 46
        }
      ]
    },
    {
      "cell_type": "code",
      "metadata": {
        "colab": {
          "base_uri": "https://localhost:8080/",
          "height": 240
        },
        "id": "6BBVBErx-PBn",
        "outputId": "a3de90c9-6dcf-4148-da31-e5956740c9fa"
      },
      "source": [
        "df[df['clean_text'] == X_val.iloc[1943,]]"
      ],
      "execution_count": null,
      "outputs": [
        {
          "output_type": "execute_result",
          "data": {
            "text/html": [
              "<div>\n",
              "<style scoped>\n",
              "    .dataframe tbody tr th:only-of-type {\n",
              "        vertical-align: middle;\n",
              "    }\n",
              "\n",
              "    .dataframe tbody tr th {\n",
              "        vertical-align: top;\n",
              "    }\n",
              "\n",
              "    .dataframe thead th {\n",
              "        text-align: right;\n",
              "    }\n",
              "</style>\n",
              "<table border=\"1\" class=\"dataframe\">\n",
              "  <thead>\n",
              "    <tr style=\"text-align: right;\">\n",
              "      <th></th>\n",
              "      <th>Unnamed: 0</th>\n",
              "      <th>Unnamed: 0.1</th>\n",
              "      <th>title</th>\n",
              "      <th>text</th>\n",
              "      <th>subject</th>\n",
              "      <th>date</th>\n",
              "      <th>label</th>\n",
              "      <th>caps_in_title</th>\n",
              "      <th>text_tokens</th>\n",
              "      <th>text_urls</th>\n",
              "      <th>clean_text</th>\n",
              "      <th>title_urls</th>\n",
              "      <th>twitter_handles</th>\n",
              "      <th>clean_title</th>\n",
              "      <th>clean_text_tokens</th>\n",
              "      <th>clean_title_tokens</th>\n",
              "    </tr>\n",
              "  </thead>\n",
              "  <tbody>\n",
              "    <tr>\n",
              "      <th>12690</th>\n",
              "      <td>12690</td>\n",
              "      <td>12691</td>\n",
              "      <td>IRONIC: WHITE SOUTHERNER BILL CLINTON Just Tol...</td>\n",
              "      <td>OOPS! IN 2008 BILL CLINTON SAID THE SAME THING...</td>\n",
              "      <td>politics</td>\n",
              "      <td>2016-09-09</td>\n",
              "      <td>fake</td>\n",
              "      <td>41</td>\n",
              "      <td>['OOPS', 'IN', '2008', 'BILL', 'CLINTON', 'SAI...</td>\n",
              "      <td>[]</td>\n",
              "      <td>OOPS! IN   BILL CLINTON SAID THE SAME THING MA...</td>\n",
              "      <td>[]</td>\n",
              "      <td>[]</td>\n",
              "      <td>IRONIC: WHITE SOUTHERNER BILL CLINTON just tol...</td>\n",
              "      <td>['OOPS', '!', 'IN', 'BILL', 'CLINTON', 'SAID',...</td>\n",
              "      <td>['IRONIC', 'WHITE', 'SOUTHERNER', 'BILL', 'CLI...</td>\n",
              "    </tr>\n",
              "  </tbody>\n",
              "</table>\n",
              "</div>"
            ],
            "text/plain": [
              "       Unnamed: 0  ...                                 clean_title_tokens\n",
              "12690       12690  ...  ['IRONIC', 'WHITE', 'SOUTHERNER', 'BILL', 'CLI...\n",
              "\n",
              "[1 rows x 16 columns]"
            ]
          },
          "metadata": {},
          "execution_count": 47
        }
      ]
    },
    {
      "cell_type": "code",
      "metadata": {
        "colab": {
          "base_uri": "https://localhost:8080/"
        },
        "id": "TV4CgJkf-V2S",
        "outputId": "f54ca661-2a64-4896-8c87-ac1c326187de"
      },
      "source": [
        "# Demo on a fake text\n",
        "my_text = df.iloc[12690,3] #the index\n",
        "\n",
        "seq = reviews_tokenizer.texts_to_sequences([my_text])\n",
        "print('raw seq:', seq)\n",
        "\n",
        "seq = pad_sequences(seq, maxlen=MAX_LENGHT)\n",
        "print('padded seq:', seq)\n",
        "\n",
        "prediction = lstm_model.predict(seq)\n",
        "print('truthfullness:', prediction)"
      ],
      "execution_count": null,
      "outputs": [
        {
          "output_type": "stream",
          "text": [
            "raw seq: [[12293, 7, 1, 161, 78, 13, 2, 245, 412, 135, 183, 375, 298]]\n",
            "padded seq: [[    0     0     0     0     0     0     0     0     0     0     0     0\n",
            "      0     0     0     0     0     0     0     0     0     0     0     0\n",
            "      0     0     0     0     0     0     0     0     0     0     0     0\n",
            "      0     0     0     0     0     0     0     0     0     0     0     0\n",
            "      0     0     0     0     0     0     0     0     0     0     0     0\n",
            "      0     0     0     0     0     0     0     0     0     0     0     0\n",
            "      0     0     0     0     0     0     0     0     0     0     0     0\n",
            "      0     0     0     0     0     0     0     0     0     0     0     0\n",
            "      0     0     0     0     0     0     0     0     0     0     0     0\n",
            "      0     0     0     0     0     0     0     0     0     0     0     0\n",
            "      0     0     0     0     0     0     0     0     0     0     0     0\n",
            "      0     0     0     0     0     0     0     0     0     0     0     0\n",
            "      0     0     0     0     0     0     0     0     0     0     0     0\n",
            "      0     0     0     0     0     0     0     0     0     0     0     0\n",
            "      0     0     0     0     0     0     0     0     0     0     0     0\n",
            "      0     0     0     0     0     0     0     0     0     0     0     0\n",
            "      0     0     0     0     0     0     0     0     0     0     0     0\n",
            "      0     0     0     0     0     0     0     0     0     0     0     0\n",
            "      0     0     0     0     0     0     0     0     0     0     0     0\n",
            "      0     0     0     0     0     0     0     0     0     0     0     0\n",
            "      0     0     0     0     0     0     0     0     0     0     0     0\n",
            "      0     0     0     0     0     0     0     0     0     0     0     0\n",
            "      0     0     0     0     0     0     0     0     0     0     0     0\n",
            "      0     0     0     0     0     0     0     0     0     0     0     0\n",
            "      0     0     0     0     0     0     0     0     0     0     0     0\n",
            "      0     0     0     0     0     0     0     0     0     0     0     0\n",
            "      0     0     0     0     0     0     0     0     0     0     0     0\n",
            "      0     0     0     0     0     0     0     0     0     0     0     0\n",
            "      0     0     0     0     0     0     0     0     0     0     0     0\n",
            "      0     0     0     0     0     0     0     0     0     0     0     0\n",
            "      0     0     0     0     0     0     0     0     0     0     0     0\n",
            "      0     0     0     0     0     0     0     0     0     0     0     0\n",
            "      0     0     0     0 12293     7     1   161    78    13     2   245\n",
            "    412   135   183   375   298]]\n",
            "truthfullness: [[0.01890999]]\n"
          ],
          "name": "stdout"
        }
      ]
    },
    {
      "cell_type": "markdown",
      "metadata": {
        "id": "L1W_JZQm_HCl"
      },
      "source": [
        "---\n",
        "#### **Conclusions**\n",
        "\n",
        "From the above evaluation metrics we can assume that this model performs not as good as it was expected. Actually, it  fits somehow bad on our data. More specifically,\n",
        "\n",
        "\n",
        "1.   **Binary Crossentropy Loss function**: gives us on training and on validation sets about 1.2 loss.\n",
        "2.   **Accuracy**: almost 79% in training set and nearly 65% on validation set\n",
        "3.   **Confusion Matrix**: From the 1963 false news the 476 predicted falsefully as true and from the 2384 true news about half of them (1353) predicted as fake.\n",
        "4.    **Classification Report**: Mediocre values can also be observed in the above classification report (from 57% to 76%).\n",
        "5.    **ROC Curve**: Combined the above plot and its score (66.25%) we can finally conclude that the ratio of true positive to false positive has medium value.\n",
        "\n",
        "Although these evaluation metrics were medium, the demo example found the category of the news, where we can see that one random fake news gives a really small number of *'truthfullness'*."
      ]
    }
  ]
}