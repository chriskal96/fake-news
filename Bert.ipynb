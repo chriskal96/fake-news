{
  "nbformat": 4,
  "nbformat_minor": 0,
  "metadata": {
    "colab": {
      "name": "Bert_v3.ipynb",
      "provenance": [],
      "collapsed_sections": []
    },
    "kernelspec": {
      "name": "python3",
      "display_name": "Python 3"
    },
    "language_info": {
      "name": "python"
    },
    "accelerator": "GPU"
  },
  "cells": [
    {
      "cell_type": "code",
      "metadata": {
        "colab": {
          "base_uri": "https://localhost:8080/"
        },
        "id": "HZhptaNBswwF",
        "outputId": "2d2043f5-4684-4459-fc52-c0f1e5ca88d3"
      },
      "source": [
        "from pydrive.auth import GoogleAuth\n",
        "from pydrive.drive import GoogleDrive\n",
        "from google.colab import auth\n",
        "from google.colab import drive \n",
        "from oauth2client.client import GoogleCredentials\n",
        "\n",
        "drive.mount('/content/gdrive')"
      ],
      "execution_count": 80,
      "outputs": [
        {
          "output_type": "stream",
          "name": "stdout",
          "text": [
            "Drive already mounted at /content/gdrive; to attempt to forcibly remount, call drive.mount(\"/content/gdrive\", force_remount=True).\n"
          ]
        }
      ]
    },
    {
      "cell_type": "code",
      "metadata": {
        "colab": {
          "base_uri": "https://localhost:8080/"
        },
        "id": "edSwhzMItGR5",
        "outputId": "1eaff3e9-9833-43f6-c6d7-764d99a1c2fe"
      },
      "source": [
        "pip install transformers"
      ],
      "execution_count": 81,
      "outputs": [
        {
          "output_type": "stream",
          "name": "stdout",
          "text": [
            "Requirement already satisfied: transformers in /usr/local/lib/python3.7/dist-packages (4.10.0)\n",
            "Requirement already satisfied: importlib-metadata in /usr/local/lib/python3.7/dist-packages (from transformers) (4.6.4)\n",
            "Requirement already satisfied: pyyaml>=5.1 in /usr/local/lib/python3.7/dist-packages (from transformers) (5.4.1)\n",
            "Requirement already satisfied: numpy>=1.17 in /usr/local/lib/python3.7/dist-packages (from transformers) (1.19.5)\n",
            "Requirement already satisfied: packaging in /usr/local/lib/python3.7/dist-packages (from transformers) (21.0)\n",
            "Requirement already satisfied: filelock in /usr/local/lib/python3.7/dist-packages (from transformers) (3.0.12)\n",
            "Requirement already satisfied: requests in /usr/local/lib/python3.7/dist-packages (from transformers) (2.23.0)\n",
            "Requirement already satisfied: tqdm>=4.27 in /usr/local/lib/python3.7/dist-packages (from transformers) (4.62.0)\n",
            "Requirement already satisfied: sacremoses in /usr/local/lib/python3.7/dist-packages (from transformers) (0.0.45)\n",
            "Requirement already satisfied: huggingface-hub>=0.0.12 in /usr/local/lib/python3.7/dist-packages (from transformers) (0.0.16)\n",
            "Requirement already satisfied: tokenizers<0.11,>=0.10.1 in /usr/local/lib/python3.7/dist-packages (from transformers) (0.10.3)\n",
            "Requirement already satisfied: regex!=2019.12.17 in /usr/local/lib/python3.7/dist-packages (from transformers) (2019.12.20)\n",
            "Requirement already satisfied: typing-extensions in /usr/local/lib/python3.7/dist-packages (from huggingface-hub>=0.0.12->transformers) (3.7.4.3)\n",
            "Requirement already satisfied: pyparsing>=2.0.2 in /usr/local/lib/python3.7/dist-packages (from packaging->transformers) (2.4.7)\n",
            "Requirement already satisfied: zipp>=0.5 in /usr/local/lib/python3.7/dist-packages (from importlib-metadata->transformers) (3.5.0)\n",
            "Requirement already satisfied: idna<3,>=2.5 in /usr/local/lib/python3.7/dist-packages (from requests->transformers) (2.10)\n",
            "Requirement already satisfied: urllib3!=1.25.0,!=1.25.1,<1.26,>=1.21.1 in /usr/local/lib/python3.7/dist-packages (from requests->transformers) (1.24.3)\n",
            "Requirement already satisfied: chardet<4,>=3.0.2 in /usr/local/lib/python3.7/dist-packages (from requests->transformers) (3.0.4)\n",
            "Requirement already satisfied: certifi>=2017.4.17 in /usr/local/lib/python3.7/dist-packages (from requests->transformers) (2021.5.30)\n",
            "Requirement already satisfied: joblib in /usr/local/lib/python3.7/dist-packages (from sacremoses->transformers) (1.0.1)\n",
            "Requirement already satisfied: six in /usr/local/lib/python3.7/dist-packages (from sacremoses->transformers) (1.15.0)\n",
            "Requirement already satisfied: click in /usr/local/lib/python3.7/dist-packages (from sacremoses->transformers) (7.1.2)\n"
          ]
        }
      ]
    },
    {
      "cell_type": "code",
      "metadata": {
        "id": "qgaiHhUqs8_S"
      },
      "source": [
        "import pandas as pd\n",
        "from sklearn.model_selection import train_test_split\n",
        "from transformers import AutoModel, BertTokenizerFast\n",
        "import matplotlib.pyplot as plt\n",
        "import torch\n",
        "import torch.nn as nn\n",
        "import numpy as np\n",
        "from sklearn.metrics import classification_report"
      ],
      "execution_count": 82,
      "outputs": []
    },
    {
      "cell_type": "code",
      "metadata": {
        "colab": {
          "base_uri": "https://localhost:8080/",
          "height": 561
        },
        "id": "h_bodAHAtQQZ",
        "outputId": "696358fe-6048-492e-960d-bfed32b1c87c"
      },
      "source": [
        "df = pd.read_csv('gdrive/MyDrive/text_pre_processing.csv', sep=',')\n",
        "df.head(5)"
      ],
      "execution_count": 83,
      "outputs": [
        {
          "output_type": "stream",
          "name": "stderr",
          "text": [
            "/usr/local/lib/python3.7/dist-packages/IPython/core/interactiveshell.py:2718: DtypeWarning: Columns (6) have mixed types.Specify dtype option on import or set low_memory=False.\n",
            "  interactivity=interactivity, compiler=compiler, result=result)\n"
          ]
        },
        {
          "output_type": "execute_result",
          "data": {
            "text/html": [
              "<div>\n",
              "<style scoped>\n",
              "    .dataframe tbody tr th:only-of-type {\n",
              "        vertical-align: middle;\n",
              "    }\n",
              "\n",
              "    .dataframe tbody tr th {\n",
              "        vertical-align: top;\n",
              "    }\n",
              "\n",
              "    .dataframe thead th {\n",
              "        text-align: right;\n",
              "    }\n",
              "</style>\n",
              "<table border=\"1\" class=\"dataframe\">\n",
              "  <thead>\n",
              "    <tr style=\"text-align: right;\">\n",
              "      <th></th>\n",
              "      <th>Unnamed: 0</th>\n",
              "      <th>Unnamed: 0.1</th>\n",
              "      <th>title</th>\n",
              "      <th>text</th>\n",
              "      <th>subject</th>\n",
              "      <th>date</th>\n",
              "      <th>label</th>\n",
              "      <th>caps_in_title</th>\n",
              "      <th>text_tokens</th>\n",
              "      <th>text_urls</th>\n",
              "      <th>clean_text</th>\n",
              "      <th>title_urls</th>\n",
              "      <th>twitter_handles</th>\n",
              "      <th>clean_title</th>\n",
              "      <th>clean_text_tokens</th>\n",
              "      <th>clean_title_tokens</th>\n",
              "    </tr>\n",
              "  </thead>\n",
              "  <tbody>\n",
              "    <tr>\n",
              "      <th>0</th>\n",
              "      <td>0</td>\n",
              "      <td>0</td>\n",
              "      <td>Donald Trump Sends Out Embarrassing New Year’...</td>\n",
              "      <td>Donald Trump just couldn t wish all Americans ...</td>\n",
              "      <td>News</td>\n",
              "      <td>2017-12-31</td>\n",
              "      <td>fake</td>\n",
              "      <td>11</td>\n",
              "      <td>['Donald', 'Trump', 'just', 'couldn', 't', 'wi...</td>\n",
              "      <td>['pic.twitter.com/4FPAe2KypA']</td>\n",
              "      <td>donald trump just couldn t wish all americans ...</td>\n",
              "      <td>[]</td>\n",
              "      <td>['@realDonaldTrump', '@TalbertSwan', '@calvins...</td>\n",
              "      <td>donald trump sends out embarrassing new year’s...</td>\n",
              "      <td>['donald', 'trump', 'just', 'couldn', 'wish', ...</td>\n",
              "      <td>['donald', 'trump', 'sends', 'out', 'embarrass...</td>\n",
              "    </tr>\n",
              "    <tr>\n",
              "      <th>1</th>\n",
              "      <td>1</td>\n",
              "      <td>1</td>\n",
              "      <td>Drunk Bragging Trump Staffer Started Russian ...</td>\n",
              "      <td>House Intelligence Committee Chairman Devin Nu...</td>\n",
              "      <td>News</td>\n",
              "      <td>2017-12-31</td>\n",
              "      <td>fake</td>\n",
              "      <td>8</td>\n",
              "      <td>['House', 'Intelligence', 'Committee', 'Chairm...</td>\n",
              "      <td>[]</td>\n",
              "      <td>house intelligence committee chairman devin nu...</td>\n",
              "      <td>[]</td>\n",
              "      <td>[]</td>\n",
              "      <td>drunk bragging trump staffer started russian c...</td>\n",
              "      <td>['house', 'intelligence', 'committee', 'chairm...</td>\n",
              "      <td>['drunk', 'bragging', 'trump', 'staffer', 'sta...</td>\n",
              "    </tr>\n",
              "    <tr>\n",
              "      <th>2</th>\n",
              "      <td>2</td>\n",
              "      <td>2</td>\n",
              "      <td>Sheriff David Clarke Becomes An Internet Joke...</td>\n",
              "      <td>On Friday, it was revealed that former Milwauk...</td>\n",
              "      <td>News</td>\n",
              "      <td>2017-12-30</td>\n",
              "      <td>fake</td>\n",
              "      <td>15</td>\n",
              "      <td>['On', 'Friday', 'it', 'was', 'revealed', 'tha...</td>\n",
              "      <td>['pic.twitter.com/XtZW5PdU2b', 'pic.twitter.co...</td>\n",
              "      <td>on friday, it was revealed that former milwauk...</td>\n",
              "      <td>[]</td>\n",
              "      <td>['@SheriffClarke', '@SheriffClarke', '@KeithLe...</td>\n",
              "      <td>sheriff david clarke becomes an internet joke ...</td>\n",
              "      <td>['on', 'it', 'was', 'revealed', 'that', 'forme...</td>\n",
              "      <td>['sheriff', 'david', 'clarke', 'becomes', 'an'...</td>\n",
              "    </tr>\n",
              "    <tr>\n",
              "      <th>3</th>\n",
              "      <td>3</td>\n",
              "      <td>3</td>\n",
              "      <td>Trump Is So Obsessed He Even Has Obama’s Name...</td>\n",
              "      <td>On Christmas day, Donald Trump announced that ...</td>\n",
              "      <td>News</td>\n",
              "      <td>2017-12-29</td>\n",
              "      <td>fake</td>\n",
              "      <td>19</td>\n",
              "      <td>['On', 'Christmas', 'day', 'Donald', 'Trump', ...</td>\n",
              "      <td>['https://t.co/Fg7VacxRtJ', 'pic.twitter.com/5...</td>\n",
              "      <td>on christmas day, donald trump announced that ...</td>\n",
              "      <td>[]</td>\n",
              "      <td>['@pbump', '@_cingraham', '@_cingraham', '@_ci...</td>\n",
              "      <td>trump is so obsessed he even has obama’s name ...</td>\n",
              "      <td>['on', 'christmas', 'day', 'donald', 'trump', ...</td>\n",
              "      <td>['trump', 'is', 'so', 'obsessed', 'he', 'even'...</td>\n",
              "    </tr>\n",
              "    <tr>\n",
              "      <th>4</th>\n",
              "      <td>4</td>\n",
              "      <td>4</td>\n",
              "      <td>Pope Francis Just Called Out Donald Trump Dur...</td>\n",
              "      <td>Pope Francis used his annual Christmas Day mes...</td>\n",
              "      <td>News</td>\n",
              "      <td>2017-12-25</td>\n",
              "      <td>fake</td>\n",
              "      <td>11</td>\n",
              "      <td>['Pope', 'Francis', 'used', 'his', 'annual', '...</td>\n",
              "      <td>[]</td>\n",
              "      <td>pope francis used his annual christmas day mes...</td>\n",
              "      <td>[]</td>\n",
              "      <td>[]</td>\n",
              "      <td>pope francis just called out donald trump duri...</td>\n",
              "      <td>['pope', 'francis', 'used', 'his', 'annual', '...</td>\n",
              "      <td>['pope', 'francis', 'just', 'called', 'out', '...</td>\n",
              "    </tr>\n",
              "  </tbody>\n",
              "</table>\n",
              "</div>"
            ],
            "text/plain": [
              "   Unnamed: 0  ...                                 clean_title_tokens\n",
              "0           0  ...  ['donald', 'trump', 'sends', 'out', 'embarrass...\n",
              "1           1  ...  ['drunk', 'bragging', 'trump', 'staffer', 'sta...\n",
              "2           2  ...  ['sheriff', 'david', 'clarke', 'becomes', 'an'...\n",
              "3           3  ...  ['trump', 'is', 'so', 'obsessed', 'he', 'even'...\n",
              "4           4  ...  ['pope', 'francis', 'just', 'called', 'out', '...\n",
              "\n",
              "[5 rows x 16 columns]"
            ]
          },
          "metadata": {},
          "execution_count": 83
        }
      ]
    },
    {
      "cell_type": "code",
      "metadata": {
        "colab": {
          "base_uri": "https://localhost:8080/",
          "height": 204
        },
        "id": "bmxl5ff2tUOK",
        "outputId": "9c4ae4bd-decb-4b78-c9c0-858dbc19ccf2"
      },
      "source": [
        "df = df.drop(['Unnamed: 0'], axis = 1)\n",
        "df = df.drop(['Unnamed: 0.1'], axis = 1)\n",
        "df = df.drop(['text_tokens'], axis = 1)\n",
        "df = df.drop(['text_urls'], axis = 1)\n",
        "df = df.drop(['title_urls'], axis = 1)\n",
        "df = df.drop(['twitter_handles'], axis = 1)\n",
        "df = df.drop(['clean_text_tokens'], axis = 1)\n",
        "df = df.drop(['clean_title_tokens'], axis = 1)\n",
        "df.head(5)"
      ],
      "execution_count": 84,
      "outputs": [
        {
          "output_type": "execute_result",
          "data": {
            "text/html": [
              "<div>\n",
              "<style scoped>\n",
              "    .dataframe tbody tr th:only-of-type {\n",
              "        vertical-align: middle;\n",
              "    }\n",
              "\n",
              "    .dataframe tbody tr th {\n",
              "        vertical-align: top;\n",
              "    }\n",
              "\n",
              "    .dataframe thead th {\n",
              "        text-align: right;\n",
              "    }\n",
              "</style>\n",
              "<table border=\"1\" class=\"dataframe\">\n",
              "  <thead>\n",
              "    <tr style=\"text-align: right;\">\n",
              "      <th></th>\n",
              "      <th>title</th>\n",
              "      <th>text</th>\n",
              "      <th>subject</th>\n",
              "      <th>date</th>\n",
              "      <th>label</th>\n",
              "      <th>caps_in_title</th>\n",
              "      <th>clean_text</th>\n",
              "      <th>clean_title</th>\n",
              "    </tr>\n",
              "  </thead>\n",
              "  <tbody>\n",
              "    <tr>\n",
              "      <th>0</th>\n",
              "      <td>Donald Trump Sends Out Embarrassing New Year’...</td>\n",
              "      <td>Donald Trump just couldn t wish all Americans ...</td>\n",
              "      <td>News</td>\n",
              "      <td>2017-12-31</td>\n",
              "      <td>fake</td>\n",
              "      <td>11</td>\n",
              "      <td>donald trump just couldn t wish all americans ...</td>\n",
              "      <td>donald trump sends out embarrassing new year’s...</td>\n",
              "    </tr>\n",
              "    <tr>\n",
              "      <th>1</th>\n",
              "      <td>Drunk Bragging Trump Staffer Started Russian ...</td>\n",
              "      <td>House Intelligence Committee Chairman Devin Nu...</td>\n",
              "      <td>News</td>\n",
              "      <td>2017-12-31</td>\n",
              "      <td>fake</td>\n",
              "      <td>8</td>\n",
              "      <td>house intelligence committee chairman devin nu...</td>\n",
              "      <td>drunk bragging trump staffer started russian c...</td>\n",
              "    </tr>\n",
              "    <tr>\n",
              "      <th>2</th>\n",
              "      <td>Sheriff David Clarke Becomes An Internet Joke...</td>\n",
              "      <td>On Friday, it was revealed that former Milwauk...</td>\n",
              "      <td>News</td>\n",
              "      <td>2017-12-30</td>\n",
              "      <td>fake</td>\n",
              "      <td>15</td>\n",
              "      <td>on friday, it was revealed that former milwauk...</td>\n",
              "      <td>sheriff david clarke becomes an internet joke ...</td>\n",
              "    </tr>\n",
              "    <tr>\n",
              "      <th>3</th>\n",
              "      <td>Trump Is So Obsessed He Even Has Obama’s Name...</td>\n",
              "      <td>On Christmas day, Donald Trump announced that ...</td>\n",
              "      <td>News</td>\n",
              "      <td>2017-12-29</td>\n",
              "      <td>fake</td>\n",
              "      <td>19</td>\n",
              "      <td>on christmas day, donald trump announced that ...</td>\n",
              "      <td>trump is so obsessed he even has obama’s name ...</td>\n",
              "    </tr>\n",
              "    <tr>\n",
              "      <th>4</th>\n",
              "      <td>Pope Francis Just Called Out Donald Trump Dur...</td>\n",
              "      <td>Pope Francis used his annual Christmas Day mes...</td>\n",
              "      <td>News</td>\n",
              "      <td>2017-12-25</td>\n",
              "      <td>fake</td>\n",
              "      <td>11</td>\n",
              "      <td>pope francis used his annual christmas day mes...</td>\n",
              "      <td>pope francis just called out donald trump duri...</td>\n",
              "    </tr>\n",
              "  </tbody>\n",
              "</table>\n",
              "</div>"
            ],
            "text/plain": [
              "                                               title  ...                                        clean_title\n",
              "0   Donald Trump Sends Out Embarrassing New Year’...  ...  donald trump sends out embarrassing new year’s...\n",
              "1   Drunk Bragging Trump Staffer Started Russian ...  ...  drunk bragging trump staffer started russian c...\n",
              "2   Sheriff David Clarke Becomes An Internet Joke...  ...  sheriff david clarke becomes an internet joke ...\n",
              "3   Trump Is So Obsessed He Even Has Obama’s Name...  ...  trump is so obsessed he even has obama’s name ...\n",
              "4   Pope Francis Just Called Out Donald Trump Dur...  ...  pope francis just called out donald trump duri...\n",
              "\n",
              "[5 rows x 8 columns]"
            ]
          },
          "metadata": {},
          "execution_count": 84
        }
      ]
    },
    {
      "cell_type": "code",
      "metadata": {
        "id": "_Nkz9EcatnZD"
      },
      "source": [
        "#add the target column\n",
        "df['Target'] = df['label'].apply(lambda x: 'True' if x == True else 'False')"
      ],
      "execution_count": 85,
      "outputs": []
    },
    {
      "cell_type": "code",
      "metadata": {
        "id": "GncPcvmttp8d"
      },
      "source": [
        "#The Target column is made of strings, and it is not computer-friendly. So we adjust it\n",
        "df['label']=pd.get_dummies(df.Target)"
      ],
      "execution_count": 86,
      "outputs": []
    },
    {
      "cell_type": "markdown",
      "metadata": {
        "id": "sXx4aSK1tq-5"
      },
      "source": [
        "Text Classification using Bert"
      ]
    },
    {
      "cell_type": "code",
      "metadata": {
        "id": "l4M2aUgDts3p"
      },
      "source": [
        "#1.Train-Validation split\n",
        "train_text, temp_text, train_labels, temp_labels = train_test_split(df['clean_title'],df['label'], \n",
        "                                                                    random_state=2018, \n",
        "                                                                    test_size=0.25, \n",
        "                                                                    stratify=df['Target'])"
      ],
      "execution_count": 87,
      "outputs": []
    },
    {
      "cell_type": "code",
      "metadata": {
        "id": "HnCrmlxQtwvj"
      },
      "source": [
        "#2.Validation-Test split\n",
        "val_text, test_text, val_labels, test_labels = train_test_split(temp_text, temp_labels, \n",
        "                                                                random_state=2018, \n",
        "                                                                test_size=0.15, \n",
        "                                                                stratify=temp_labels)"
      ],
      "execution_count": 88,
      "outputs": []
    },
    {
      "cell_type": "markdown",
      "metadata": {
        "id": "70YfwEfq00Of"
      },
      "source": [
        "So, we will fine-tune the model using the train set and the validation set, and make predictions for the test set."
      ]
    },
    {
      "cell_type": "code",
      "metadata": {
        "colab": {
          "base_uri": "https://localhost:8080/"
        },
        "id": "ipShfy0stzZM",
        "outputId": "34da70ec-ebb6-4896-8063-a8bc94b8e9f4"
      },
      "source": [
        "#3.Defining the model and the tokenizer of BERT.\n",
        "\n",
        "#import BERT-base pretrained model\n",
        "bert = AutoModel.from_pretrained('bert-base-uncased')\n",
        "\n",
        "#Load the BERT tokenizer\n",
        "tokenizer = BertTokenizerFast.from_pretrained('bert-base-uncased')"
      ],
      "execution_count": 89,
      "outputs": [
        {
          "output_type": "stream",
          "name": "stderr",
          "text": [
            "Some weights of the model checkpoint at bert-base-uncased were not used when initializing BertModel: ['cls.seq_relationship.bias', 'cls.predictions.transform.LayerNorm.bias', 'cls.seq_relationship.weight', 'cls.predictions.transform.dense.weight', 'cls.predictions.decoder.weight', 'cls.predictions.transform.LayerNorm.weight', 'cls.predictions.bias', 'cls.predictions.transform.dense.bias']\n",
            "- This IS expected if you are initializing BertModel from the checkpoint of a model trained on another task or with another architecture (e.g. initializing a BertForSequenceClassification model from a BertForPreTraining model).\n",
            "- This IS NOT expected if you are initializing BertModel from the checkpoint of a model that you expect to be exactly identical (initializing a BertForSequenceClassification model from a BertForSequenceClassification model).\n"
          ]
        }
      ]
    },
    {
      "cell_type": "code",
      "metadata": {
        "id": "saSjsteBt2Us"
      },
      "source": [
        "#plot style\n",
        "plt.style.use('ggplot')\n",
        "plt.rcParams['font.family'] = 'sans-serif' \n",
        "plt.rcParams['font.serif'] = 'Ubuntu' \n",
        "plt.rcParams['font.monospace'] = 'Ubuntu Mono' \n",
        "plt.rcParams['font.size'] = 14 \n",
        "plt.rcParams['axes.labelsize'] = 12 \n",
        "plt.rcParams['axes.labelweight'] = 'bold' \n",
        "plt.rcParams['axes.titlesize'] = 12 \n",
        "plt.rcParams['xtick.labelsize'] = 12 \n",
        "plt.rcParams['ytick.labelsize'] = 12 \n",
        "plt.rcParams['legend.fontsize'] = 12 \n",
        "plt.rcParams['figure.titlesize'] = 12 \n",
        "plt.rcParams['image.cmap'] = 'jet' \n",
        "plt.rcParams['image.interpolation'] = 'none' \n",
        "plt.rcParams['figure.figsize'] = (10, 10\n",
        "                                 ) \n",
        "plt.rcParams['axes.grid']=False\n",
        "plt.rcParams['lines.linewidth'] = 2 \n",
        "plt.rcParams['lines.markersize'] = 8\n",
        "colors = ['xkcd:pale range', 'xkcd:sea blue', 'xkcd:pale red', 'xkcd:sage green', 'xkcd:terra cotta', 'xkcd:dull purple', 'xkcd:teal', 'xkcd: goldenrod', 'xkcd:cadet blue',\n",
        "'xkcd:scarlet']"
      ],
      "execution_count": 90,
      "outputs": []
    },
    {
      "cell_type": "code",
      "metadata": {
        "colab": {
          "base_uri": "https://localhost:8080/",
          "height": 629
        },
        "id": "kAxY3KWCt5Mt",
        "outputId": "047bf1be-eac1-45c1-897f-1747788198dd"
      },
      "source": [
        "#4.Plotting the histogram\n",
        "seq_len = [len(i.split()) for i in train_text]\n",
        "\n",
        "pd.Series(seq_len).hist(bins = 40,color='firebrick')\n",
        "plt.xlabel('Number of Words')\n",
        "plt.ylabel('Number of texts')"
      ],
      "execution_count": 91,
      "outputs": [
        {
          "output_type": "execute_result",
          "data": {
            "text/plain": [
              "Text(0, 0.5, 'Number of texts')"
            ]
          },
          "metadata": {},
          "execution_count": 91
        },
        {
          "output_type": "display_data",
          "data": {
            "image/png": "[encoded data removed]",
            "text/plain": [
              "<Figure size 720x720 with 1 Axes>"
            ]
          },
          "metadata": {}
        }
      ]
    },
    {
      "cell_type": "markdown",
      "metadata": {
        "id": "ndm21uABt-v8"
      },
      "source": [
        "Since the text in the dataset are of varying length, therefore we will use padding to make all the messages have the same length. We can use the maximum sequence length to pad the messages. However, using the previous histogram we find the righ padding lenght. We will use the max lenght equal to the mean of words in a title."
      ]
    },
    {
      "cell_type": "code",
      "metadata": {
        "id": "w2lYPm9uByF5",
        "colab": {
          "base_uri": "https://localhost:8080/"
        },
        "outputId": "7183992f-ba24-419b-8dc5-5d1ec2ca2213"
      },
      "source": [
        "import statistics\n",
        "seq_len = [len(i.split()) for i in train_text]\n",
        "MAX_LENGHT = int(statistics.mean(seq_len))\n",
        "print(MAX_LENGHT)"
      ],
      "execution_count": 92,
      "outputs": [
        {
          "output_type": "stream",
          "name": "stdout",
          "text": [
            "11\n"
          ]
        }
      ]
    },
    {
      "cell_type": "code",
      "metadata": {
        "colab": {
          "base_uri": "https://localhost:8080/"
        },
        "id": "9hwHiT5bt_gT",
        "outputId": "ebb79f18-8e39-413c-833b-1d67f20e0929"
      },
      "source": [
        "#MAX_LENGHT = 399\n",
        "\n",
        "#tokenize and encode sequences in the training set\n",
        "tokens_train = tokenizer.batch_encode_plus(\n",
        "    train_text.tolist(),\n",
        "    max_length = MAX_LENGHT,\n",
        "    pad_to_max_length=True,\n",
        "    truncation=True\n",
        ")\n",
        "\n",
        "# tokenize and encode sequences in the validation set\n",
        "tokens_val = tokenizer.batch_encode_plus(\n",
        "    val_text.tolist(),\n",
        "    max_length = MAX_LENGHT,\n",
        "    pad_to_max_length=True,\n",
        "    truncation=True\n",
        ")\n",
        "\n",
        "# tokenize and encode sequences in the test set\n",
        "tokens_test = tokenizer.batch_encode_plus(\n",
        "    test_text.tolist(),\n",
        "    max_length = MAX_LENGHT,\n",
        "    pad_to_max_length=True,\n",
        "    truncation=True\n",
        ")"
      ],
      "execution_count": 93,
      "outputs": [
        {
          "output_type": "stream",
          "name": "stderr",
          "text": [
            "/usr/local/lib/python3.7/dist-packages/transformers/tokenization_utils_base.py:2204: FutureWarning: The `pad_to_max_length` argument is deprecated and will be removed in a future version, use `padding=True` or `padding='longest'` to pad to the longest sequence in the batch, or use `padding='max_length'` to pad to a max length. In this case, you can give a specific length with `max_length` (e.g. `max_length=45`) or leave max_length to None to pad to the maximal input size of the model (e.g. 512 for Bert).\n",
            "  FutureWarning,\n"
          ]
        }
      ]
    },
    {
      "cell_type": "code",
      "metadata": {
        "id": "yOFE8IBkuD27"
      },
      "source": [
        "#5.Converting lists to tensors\n",
        "train_seq = torch.tensor(tokens_train['input_ids'])\n",
        "train_mask = torch.tensor(tokens_train['attention_mask'])\n",
        "train_y = torch.tensor(train_labels.tolist())\n",
        "\n",
        "val_seq = torch.tensor(tokens_val['input_ids'])\n",
        "val_mask = torch.tensor(tokens_val['attention_mask'])\n",
        "val_y = torch.tensor(val_labels.tolist())\n",
        "\n",
        "test_seq = torch.tensor(tokens_test['input_ids'])\n",
        "test_mask = torch.tensor(tokens_test['attention_mask'])\n",
        "test_y = torch.tensor(test_labels.tolist()) "
      ],
      "execution_count": 94,
      "outputs": []
    },
    {
      "cell_type": "markdown",
      "metadata": {
        "id": "VkoFUmOy77tz"
      },
      "source": [
        "Now we will create dataloaders for both train and validation set. These dataloaders will pass batches of train data and validation data as input to the model during the training phase."
      ]
    },
    {
      "cell_type": "code",
      "metadata": {
        "id": "14z9O5koucMg"
      },
      "source": [
        "#6.Data Loader structure definition:\n",
        "from torch.utils.data import TensorDataset, DataLoader, RandomSampler, SequentialSampler\n",
        "\n",
        "#define a batch size\n",
        "batch_size = 32\n",
        "\n",
        "# wrap tensors\n",
        "train_data = TensorDataset(train_seq, train_mask, train_y)\n",
        "\n",
        "# sampler for sampling the data during training\n",
        "train_sampler = RandomSampler(train_data)\n",
        "\n",
        "# dataLoader for train set\n",
        "train_dataloader = DataLoader(train_data, sampler=train_sampler, batch_size=batch_size)\n",
        "\n",
        "\n",
        "# wrap tensors\n",
        "val_data = TensorDataset(val_seq, val_mask, val_y)\n",
        "\n",
        "# sampler for sampling the data during training\n",
        "val_sampler = SequentialSampler(val_data)\n",
        "\n",
        "# dataLoader for validation set\n",
        "val_dataloader = DataLoader(val_data, sampler = val_sampler, batch_size=batch_size)\n"
      ],
      "execution_count": 95,
      "outputs": []
    },
    {
      "cell_type": "markdown",
      "metadata": {
        "id": "V0RME0U58D7M"
      },
      "source": [
        "Define Model Architecture "
      ]
    },
    {
      "cell_type": "code",
      "metadata": {
        "id": "pDyY6ojIujeq"
      },
      "source": [
        "#7.Freezing the parameters and defining the trainable BERT structure:\n",
        "for param in bert.parameters():\n",
        "    param.requires_grad = False"
      ],
      "execution_count": 96,
      "outputs": []
    },
    {
      "cell_type": "markdown",
      "metadata": {
        "id": "tMeho3fv8Ls8"
      },
      "source": [
        "We freeze all the layers of the model before fine-tuning it. This will prevent updating of model weights during fine-tuning"
      ]
    },
    {
      "cell_type": "code",
      "metadata": {
        "id": "NtLk4gyvupnk"
      },
      "source": [
        "#define our model architecture.\n",
        "class BERT_Arch(nn.Module):\n",
        "\n",
        "    def __init__(self, bert):\n",
        "      \n",
        "      super(BERT_Arch, self).__init__()\n",
        "\n",
        "      self.bert = bert \n",
        "      \n",
        "      # dropout layer\n",
        "      self.dropout = nn.Dropout(0.1)\n",
        "      \n",
        "      # relu activation function\n",
        "      self.relu =  nn.ReLU()\n",
        "\n",
        "      # dense layer 1\n",
        "      self.fc1 = nn.Linear(768,512)\n",
        "      \n",
        "      # dense layer 2 (Output layer)\n",
        "      self.fc2 = nn.Linear(512,2)\n",
        "\n",
        "      #softmax activation function\n",
        "      self.softmax = nn.LogSoftmax(dim=1)\n",
        "\n",
        "    #define the forward pass\n",
        "    def forward(self, sent_id, mask):\n",
        "\n",
        "      #pass the inputs to the model  \n",
        "      cls_hs = self.bert(sent_id, attention_mask=mask)['pooler_output']\n",
        "      x = self.fc1(cls_hs)\n",
        "\n",
        "      x = self.relu(x)\n",
        "\n",
        "      x = self.dropout(x)\n",
        "\n",
        "      # output layer\n",
        "      x = self.fc2(x)\n",
        "      \n",
        "      # apply softmax activation\n",
        "      x = self.softmax(x)\n",
        "\n",
        "      return x"
      ],
      "execution_count": 97,
      "outputs": []
    },
    {
      "cell_type": "code",
      "metadata": {
        "id": "LpqqM4yqu2SM"
      },
      "source": [
        "model = BERT_Arch(bert)"
      ],
      "execution_count": 98,
      "outputs": []
    },
    {
      "cell_type": "markdown",
      "metadata": {
        "id": "XOUNvv2h8kaL"
      },
      "source": [
        "We will use AdamW as our optimizer."
      ]
    },
    {
      "cell_type": "code",
      "metadata": {
        "id": "eC3rt5GEu5Ar"
      },
      "source": [
        "#8.Defining the hyperparameters (optimizer, weights of the classes and the epochs)\n",
        "from transformers import AdamW\n",
        "\n",
        "# define the optimizer\n",
        "optimizer = AdamW(model.parameters(),\n",
        "                  lr = 1e-5)          # learning rate"
      ],
      "execution_count": 99,
      "outputs": []
    },
    {
      "cell_type": "code",
      "metadata": {
        "colab": {
          "base_uri": "https://localhost:8080/"
        },
        "id": "UTjWyCTQvC48",
        "outputId": "eb061bb9-8383-430b-ba80-62afcbeee4a9"
      },
      "source": [
        "from sklearn.utils.class_weight import compute_class_weight\n",
        "\n",
        "#compute the class weights\n",
        "class_weights = compute_class_weight('balanced', np.unique(train_labels), train_labels)\n",
        "\n",
        "print(\"Class Weights:\",class_weights)"
      ],
      "execution_count": 100,
      "outputs": [
        {
          "output_type": "stream",
          "name": "stdout",
          "text": [
            "Class Weights: [3.29145843 0.58955892]\n"
          ]
        }
      ]
    },
    {
      "cell_type": "code",
      "metadata": {
        "id": "TlIBweKbvM32"
      },
      "source": [
        "weights= torch.tensor(class_weights,dtype=torch.float)\n",
        "\n",
        "# define the loss function\n",
        "cross_entropy  = nn.NLLLoss(weight=weights) \n",
        "\n",
        "# number of training epochs\n",
        "epochs = 10"
      ],
      "execution_count": 101,
      "outputs": []
    },
    {
      "cell_type": "markdown",
      "metadata": {
        "id": "v0yKhJE19Cem"
      },
      "source": [
        "Fine-Tune BERT"
      ]
    },
    {
      "cell_type": "code",
      "metadata": {
        "id": "Hu7xDnGYvP8a"
      },
      "source": [
        "def train():\n",
        "  \n",
        "  model.train()\n",
        "\n",
        "  total_loss, total_accuracy = 0, 0\n",
        "  \n",
        "  # empty list to save model predictions\n",
        "  total_preds=[]\n",
        "  \n",
        "  # iterate over batches\n",
        "  for step,batch in enumerate(train_dataloader):\n",
        "    \n",
        "    # progress update after every 50 batches.\n",
        "    if step % 50 == 0 and not step == 0:\n",
        "      print('  Batch {:>5,}  of  {:>5,}.'.format(step, len(train_dataloader)))\n",
        "\n",
        "    # push the batch to gpu\n",
        "    batch = [r for r in batch]\n",
        "    sent_id, mask, labels = batch\n",
        "\n",
        "    # clear previously calculated gradients \n",
        "    model.zero_grad()        \n",
        "    # get model predictions for the current batch\n",
        "    preds = model(sent_id, mask)\n",
        "\n",
        "    # compute the loss between actual and predicted values\n",
        "    loss = cross_entropy(preds, labels)\n",
        "\n",
        "    # add on to the total loss\n",
        "    total_loss = total_loss + loss.item()\n",
        "\n",
        "    # backward pass to calculate the gradients\n",
        "    loss.backward()\n",
        "\n",
        "    # clip the the gradients to 1.0. It helps in preventing the exploding gradient problem\n",
        "    torch.nn.utils.clip_grad_norm_(model.parameters(), 1.0)\n",
        "\n",
        "    # update parameters\n",
        "    optimizer.step()\n",
        "\n",
        "    # model predictions are stored on GPU. So, push it to CPU\n",
        "    preds=preds.detach().cpu().numpy()\n",
        "\n",
        "    # append the model predictions\n",
        "    total_preds.append(preds)\n",
        "\n",
        "  # compute the training loss of the epoch\n",
        "  avg_loss = total_loss / len(train_dataloader)\n",
        "  \n",
        "  # predictions are in the form of (no. of batches, size of batch, no. of classes).\n",
        "  # reshape the predictions in form of (number of samples, no. of classes)\n",
        "  total_preds  = np.concatenate(total_preds, axis=0)\n",
        "\n",
        "  #returns the loss and predictions\n",
        "  return avg_loss, total_preds"
      ],
      "execution_count": 102,
      "outputs": []
    },
    {
      "cell_type": "code",
      "metadata": {
        "id": "Dq6RoqUpvXWz"
      },
      "source": [
        "def evaluate():\n",
        "  \n",
        "  print(\"\\nEvaluating...\")\n",
        "  \n",
        "  # deactivate dropout layers\n",
        "  model.eval()\n",
        "\n",
        "  total_loss, total_accuracy = 0, 0\n",
        "  \n",
        "  # empty list to save the model predictions\n",
        "  total_preds = []\n",
        "\n",
        "  # iterate over batches\n",
        "  for step,batch in enumerate(val_dataloader):\n",
        "    \n",
        "    # Progress update every 50 batches.\n",
        "    if step % 50 == 0 and not step == 0:\n",
        "       \n",
        "      # Report progress.\n",
        "      print('  Batch {:>5,}  of  {:>5,}.'.format(step, len(val_dataloader)))\n",
        "\n",
        "    # push the batch to gpu\n",
        "    batch = [t for t in batch]\n",
        "\n",
        "    sent_id, mask, labels = batch\n",
        "\n",
        "    # deactivate autograd\n",
        "    with torch.no_grad():\n",
        "      \n",
        "      # model predictions\n",
        "      preds = model(sent_id, mask)\n",
        "\n",
        "      # compute the validation loss between actual and predicted values\n",
        "      loss = cross_entropy(preds,labels)\n",
        "\n",
        "      total_loss = total_loss + loss.item()\n",
        "\n",
        "      preds = preds.detach().cpu().numpy()\n",
        "\n",
        "      total_preds.append(preds)\n",
        "\n",
        "  # compute the validation loss of the epoch\n",
        "  avg_loss = total_loss / len(val_dataloader) \n",
        "\n",
        "  # reshape the predictions in form of (number of samples, no. of classes)\n",
        "  total_preds  = np.concatenate(total_preds, axis=0)\n",
        "\n",
        "  return avg_loss, total_preds"
      ],
      "execution_count": 103,
      "outputs": []
    },
    {
      "cell_type": "code",
      "metadata": {
        "colab": {
          "base_uri": "https://localhost:8080/"
        },
        "id": "mno_ffWIvarT",
        "outputId": "d030d578-0a25-4629-f56d-1adf6eba196c"
      },
      "source": [
        "# Train and predict\n",
        "best_valid_loss = float('inf')\n",
        "\n",
        "# empty lists to store training and validation loss of each epoch\n",
        "train_losses=[]\n",
        "valid_losses=[]\n",
        "\n",
        "#for each epoch\n",
        "for epoch in range(epochs):\n",
        "     \n",
        "    print('\\n Epoch {:} / {:}'.format(epoch + 1, epochs))\n",
        "    \n",
        "    #train model\n",
        "    train_loss, _ = train()\n",
        "    \n",
        "    #evaluate model\n",
        "    valid_loss, _ = evaluate()\n",
        "    \n",
        "    #save the best model\n",
        "    if valid_loss < best_valid_loss:\n",
        "        best_valid_loss = valid_loss\n",
        "        torch.save(model.state_dict(), 'saved_weights.pt')\n",
        "    \n",
        "    # append training and validation loss\n",
        "    train_losses.append(train_loss)\n",
        "    valid_losses.append(valid_loss)\n",
        "    \n",
        "    print(f'\\nTraining Loss: {train_loss:.3f}')\n",
        "    print(f'Validation Loss: {valid_loss:.3f}')"
      ],
      "execution_count": 104,
      "outputs": [
        {
          "output_type": "stream",
          "name": "stdout",
          "text": [
            "\n",
            " Epoch 1 / 10\n",
            "  Batch    50  of    906.\n",
            "  Batch   100  of    906.\n",
            "  Batch   150  of    906.\n",
            "  Batch   200  of    906.\n",
            "  Batch   250  of    906.\n",
            "  Batch   300  of    906.\n",
            "  Batch   350  of    906.\n",
            "  Batch   400  of    906.\n",
            "  Batch   450  of    906.\n",
            "  Batch   500  of    906.\n",
            "  Batch   550  of    906.\n",
            "  Batch   600  of    906.\n",
            "  Batch   650  of    906.\n",
            "  Batch   700  of    906.\n",
            "  Batch   750  of    906.\n",
            "  Batch   800  of    906.\n",
            "  Batch   850  of    906.\n",
            "  Batch   900  of    906.\n",
            "\n",
            "Evaluating...\n",
            "  Batch    50  of    257.\n",
            "  Batch   100  of    257.\n",
            "  Batch   150  of    257.\n",
            "  Batch   200  of    257.\n",
            "  Batch   250  of    257.\n",
            "\n",
            "Training Loss: 0.654\n",
            "Validation Loss: 0.613\n",
            "\n",
            " Epoch 2 / 10\n",
            "  Batch    50  of    906.\n",
            "  Batch   100  of    906.\n",
            "  Batch   150  of    906.\n",
            "  Batch   200  of    906.\n",
            "  Batch   250  of    906.\n",
            "  Batch   300  of    906.\n",
            "  Batch   350  of    906.\n",
            "  Batch   400  of    906.\n",
            "  Batch   450  of    906.\n",
            "  Batch   500  of    906.\n",
            "  Batch   550  of    906.\n",
            "  Batch   600  of    906.\n",
            "  Batch   650  of    906.\n",
            "  Batch   700  of    906.\n",
            "  Batch   750  of    906.\n",
            "  Batch   800  of    906.\n",
            "  Batch   850  of    906.\n",
            "  Batch   900  of    906.\n",
            "\n",
            "Evaluating...\n",
            "  Batch    50  of    257.\n",
            "  Batch   100  of    257.\n",
            "  Batch   150  of    257.\n",
            "  Batch   200  of    257.\n",
            "  Batch   250  of    257.\n",
            "\n",
            "Training Loss: 0.606\n",
            "Validation Loss: 0.579\n",
            "\n",
            " Epoch 3 / 10\n",
            "  Batch    50  of    906.\n",
            "  Batch   100  of    906.\n",
            "  Batch   150  of    906.\n",
            "  Batch   200  of    906.\n",
            "  Batch   250  of    906.\n",
            "  Batch   300  of    906.\n",
            "  Batch   350  of    906.\n",
            "  Batch   400  of    906.\n",
            "  Batch   450  of    906.\n",
            "  Batch   500  of    906.\n",
            "  Batch   550  of    906.\n",
            "  Batch   600  of    906.\n",
            "  Batch   650  of    906.\n",
            "  Batch   700  of    906.\n",
            "  Batch   750  of    906.\n",
            "  Batch   800  of    906.\n",
            "  Batch   850  of    906.\n",
            "  Batch   900  of    906.\n",
            "\n",
            "Evaluating...\n",
            "  Batch    50  of    257.\n",
            "  Batch   100  of    257.\n",
            "  Batch   150  of    257.\n",
            "  Batch   200  of    257.\n",
            "  Batch   250  of    257.\n",
            "\n",
            "Training Loss: 0.572\n",
            "Validation Loss: 0.539\n",
            "\n",
            " Epoch 4 / 10\n",
            "  Batch    50  of    906.\n",
            "  Batch   100  of    906.\n",
            "  Batch   150  of    906.\n",
            "  Batch   200  of    906.\n",
            "  Batch   250  of    906.\n",
            "  Batch   300  of    906.\n",
            "  Batch   350  of    906.\n",
            "  Batch   400  of    906.\n",
            "  Batch   450  of    906.\n",
            "  Batch   500  of    906.\n",
            "  Batch   550  of    906.\n",
            "  Batch   600  of    906.\n",
            "  Batch   650  of    906.\n",
            "  Batch   700  of    906.\n",
            "  Batch   750  of    906.\n",
            "  Batch   800  of    906.\n",
            "  Batch   850  of    906.\n",
            "  Batch   900  of    906.\n",
            "\n",
            "Evaluating...\n",
            "  Batch    50  of    257.\n",
            "  Batch   100  of    257.\n",
            "  Batch   150  of    257.\n",
            "  Batch   200  of    257.\n",
            "  Batch   250  of    257.\n",
            "\n",
            "Training Loss: 0.545\n",
            "Validation Loss: 0.511\n",
            "\n",
            " Epoch 5 / 10\n",
            "  Batch    50  of    906.\n",
            "  Batch   100  of    906.\n",
            "  Batch   150  of    906.\n",
            "  Batch   200  of    906.\n",
            "  Batch   250  of    906.\n",
            "  Batch   300  of    906.\n",
            "  Batch   350  of    906.\n",
            "  Batch   400  of    906.\n",
            "  Batch   450  of    906.\n",
            "  Batch   500  of    906.\n",
            "  Batch   550  of    906.\n",
            "  Batch   600  of    906.\n",
            "  Batch   650  of    906.\n",
            "  Batch   700  of    906.\n",
            "  Batch   750  of    906.\n",
            "  Batch   800  of    906.\n",
            "  Batch   850  of    906.\n",
            "  Batch   900  of    906.\n",
            "\n",
            "Evaluating...\n",
            "  Batch    50  of    257.\n",
            "  Batch   100  of    257.\n",
            "  Batch   150  of    257.\n",
            "  Batch   200  of    257.\n",
            "  Batch   250  of    257.\n",
            "\n",
            "Training Loss: 0.520\n",
            "Validation Loss: 0.492\n",
            "\n",
            " Epoch 6 / 10\n",
            "  Batch    50  of    906.\n",
            "  Batch   100  of    906.\n",
            "  Batch   150  of    906.\n",
            "  Batch   200  of    906.\n",
            "  Batch   250  of    906.\n",
            "  Batch   300  of    906.\n",
            "  Batch   350  of    906.\n",
            "  Batch   400  of    906.\n",
            "  Batch   450  of    906.\n",
            "  Batch   500  of    906.\n",
            "  Batch   550  of    906.\n",
            "  Batch   600  of    906.\n",
            "  Batch   650  of    906.\n",
            "  Batch   700  of    906.\n",
            "  Batch   750  of    906.\n",
            "  Batch   800  of    906.\n",
            "  Batch   850  of    906.\n",
            "  Batch   900  of    906.\n",
            "\n",
            "Evaluating...\n",
            "  Batch    50  of    257.\n",
            "  Batch   100  of    257.\n",
            "  Batch   150  of    257.\n",
            "  Batch   200  of    257.\n",
            "  Batch   250  of    257.\n",
            "\n",
            "Training Loss: 0.502\n",
            "Validation Loss: 0.470\n",
            "\n",
            " Epoch 7 / 10\n",
            "  Batch    50  of    906.\n",
            "  Batch   100  of    906.\n",
            "  Batch   150  of    906.\n",
            "  Batch   200  of    906.\n",
            "  Batch   250  of    906.\n",
            "  Batch   300  of    906.\n",
            "  Batch   350  of    906.\n",
            "  Batch   400  of    906.\n",
            "  Batch   450  of    906.\n",
            "  Batch   500  of    906.\n",
            "  Batch   550  of    906.\n",
            "  Batch   600  of    906.\n",
            "  Batch   650  of    906.\n",
            "  Batch   700  of    906.\n",
            "  Batch   750  of    906.\n",
            "  Batch   800  of    906.\n",
            "  Batch   850  of    906.\n",
            "  Batch   900  of    906.\n",
            "\n",
            "Evaluating...\n",
            "  Batch    50  of    257.\n",
            "  Batch   100  of    257.\n",
            "  Batch   150  of    257.\n",
            "  Batch   200  of    257.\n",
            "  Batch   250  of    257.\n",
            "\n",
            "Training Loss: 0.484\n",
            "Validation Loss: 0.455\n",
            "\n",
            " Epoch 8 / 10\n",
            "  Batch    50  of    906.\n",
            "  Batch   100  of    906.\n",
            "  Batch   150  of    906.\n",
            "  Batch   200  of    906.\n",
            "  Batch   250  of    906.\n",
            "  Batch   300  of    906.\n",
            "  Batch   350  of    906.\n",
            "  Batch   400  of    906.\n",
            "  Batch   450  of    906.\n",
            "  Batch   500  of    906.\n",
            "  Batch   550  of    906.\n",
            "  Batch   600  of    906.\n",
            "  Batch   650  of    906.\n",
            "  Batch   700  of    906.\n",
            "  Batch   750  of    906.\n",
            "  Batch   800  of    906.\n",
            "  Batch   850  of    906.\n",
            "  Batch   900  of    906.\n",
            "\n",
            "Evaluating...\n",
            "  Batch    50  of    257.\n",
            "  Batch   100  of    257.\n",
            "  Batch   150  of    257.\n",
            "  Batch   200  of    257.\n",
            "  Batch   250  of    257.\n",
            "\n",
            "Training Loss: 0.472\n",
            "Validation Loss: 0.446\n",
            "\n",
            " Epoch 9 / 10\n",
            "  Batch    50  of    906.\n",
            "  Batch   100  of    906.\n",
            "  Batch   150  of    906.\n",
            "  Batch   200  of    906.\n",
            "  Batch   250  of    906.\n",
            "  Batch   300  of    906.\n",
            "  Batch   350  of    906.\n",
            "  Batch   400  of    906.\n",
            "  Batch   450  of    906.\n",
            "  Batch   500  of    906.\n",
            "  Batch   550  of    906.\n",
            "  Batch   600  of    906.\n",
            "  Batch   650  of    906.\n",
            "  Batch   700  of    906.\n",
            "  Batch   750  of    906.\n",
            "  Batch   800  of    906.\n",
            "  Batch   850  of    906.\n",
            "  Batch   900  of    906.\n",
            "\n",
            "Evaluating...\n",
            "  Batch    50  of    257.\n",
            "  Batch   100  of    257.\n",
            "  Batch   150  of    257.\n",
            "  Batch   200  of    257.\n",
            "  Batch   250  of    257.\n",
            "\n",
            "Training Loss: 0.463\n",
            "Validation Loss: 0.439\n",
            "\n",
            " Epoch 10 / 10\n",
            "  Batch    50  of    906.\n",
            "  Batch   100  of    906.\n",
            "  Batch   150  of    906.\n",
            "  Batch   200  of    906.\n",
            "  Batch   250  of    906.\n",
            "  Batch   300  of    906.\n",
            "  Batch   350  of    906.\n",
            "  Batch   400  of    906.\n",
            "  Batch   450  of    906.\n",
            "  Batch   500  of    906.\n",
            "  Batch   550  of    906.\n",
            "  Batch   600  of    906.\n",
            "  Batch   650  of    906.\n",
            "  Batch   700  of    906.\n",
            "  Batch   750  of    906.\n",
            "  Batch   800  of    906.\n",
            "  Batch   850  of    906.\n",
            "  Batch   900  of    906.\n",
            "\n",
            "Evaluating...\n",
            "  Batch    50  of    257.\n",
            "  Batch   100  of    257.\n",
            "  Batch   150  of    257.\n",
            "  Batch   200  of    257.\n",
            "  Batch   250  of    257.\n",
            "\n",
            "Training Loss: 0.451\n",
            "Validation Loss: 0.428\n"
          ]
        }
      ]
    },
    {
      "cell_type": "code",
      "metadata": {
        "id": "eGYTJolN-tIT",
        "colab": {
          "base_uri": "https://localhost:8080/"
        },
        "outputId": "22ed1614-e491-4f2b-9718-6c51ff668f5d"
      },
      "source": [
        "#load weights of best model\n",
        "path = 'saved_weights.pt'\n",
        "model.load_state_dict(torch.load(path))"
      ],
      "execution_count": 105,
      "outputs": [
        {
          "output_type": "execute_result",
          "data": {
            "text/plain": [
              "<All keys matched successfully>"
            ]
          },
          "metadata": {},
          "execution_count": 105
        }
      ]
    },
    {
      "cell_type": "markdown",
      "metadata": {
        "id": "_hiZHuBK-x_L"
      },
      "source": [
        "Evaluation"
      ]
    },
    {
      "cell_type": "markdown",
      "metadata": {
        "id": "KUZtpR2DMd3E"
      },
      "source": [
        "We will evaluate the model using the classificationr eport, confusion amtrix and the Precision Recall Curve."
      ]
    },
    {
      "cell_type": "code",
      "metadata": {
        "id": "1eNaolNa-t7D"
      },
      "source": [
        "with torch.no_grad():\n",
        "    preds = model(test_seq, test_mask)\n",
        "    preds = preds.detach().cpu().numpy()"
      ],
      "execution_count": 106,
      "outputs": []
    },
    {
      "cell_type": "code",
      "metadata": {
        "id": "UxH7YBNF-wAD",
        "colab": {
          "base_uri": "https://localhost:8080/"
        },
        "outputId": "d5a1a6a4-f8cc-4800-c643-6fd8d171b6a7"
      },
      "source": [
        "preds = np.argmax(preds, axis = 1)\n",
        "print(classification_report(test_y, preds))"
      ],
      "execution_count": 107,
      "outputs": [
        {
          "output_type": "stream",
          "name": "stdout",
          "text": [
            "              precision    recall  f1-score   support\n",
            "\n",
            "           0       0.43      0.84      0.57       220\n",
            "           1       0.97      0.80      0.88      1229\n",
            "\n",
            "    accuracy                           0.81      1449\n",
            "   macro avg       0.70      0.82      0.73      1449\n",
            "weighted avg       0.89      0.81      0.83      1449\n",
            "\n"
          ]
        }
      ]
    },
    {
      "cell_type": "code",
      "metadata": {
        "id": "C_O73eqJ-ztM"
      },
      "source": [
        "from sklearn.metrics import confusion_matrix, classification_report\n",
        "from sklearn.metrics import roc_curve, auc"
      ],
      "execution_count": 108,
      "outputs": []
    },
    {
      "cell_type": "code",
      "metadata": {
        "id": "WSZ0UrFB-10Q",
        "colab": {
          "base_uri": "https://localhost:8080/",
          "height": 111
        },
        "outputId": "26d07c39-a4f7-4f56-f4ef-2c846274643a"
      },
      "source": [
        "conf_mat = confusion_matrix(y_true=test_y, y_pred=preds,labels =[0, 1])\n",
        "pd.DataFrame(conf_mat, columns = [0,1],index = [0, 1])"
      ],
      "execution_count": 109,
      "outputs": [
        {
          "output_type": "execute_result",
          "data": {
            "text/html": [
              "<div>\n",
              "<style scoped>\n",
              "    .dataframe tbody tr th:only-of-type {\n",
              "        vertical-align: middle;\n",
              "    }\n",
              "\n",
              "    .dataframe tbody tr th {\n",
              "        vertical-align: top;\n",
              "    }\n",
              "\n",
              "    .dataframe thead th {\n",
              "        text-align: right;\n",
              "    }\n",
              "</style>\n",
              "<table border=\"1\" class=\"dataframe\">\n",
              "  <thead>\n",
              "    <tr style=\"text-align: right;\">\n",
              "      <th></th>\n",
              "      <th>0</th>\n",
              "      <th>1</th>\n",
              "    </tr>\n",
              "  </thead>\n",
              "  <tbody>\n",
              "    <tr>\n",
              "      <th>0</th>\n",
              "      <td>185</td>\n",
              "      <td>35</td>\n",
              "    </tr>\n",
              "    <tr>\n",
              "      <th>1</th>\n",
              "      <td>241</td>\n",
              "      <td>988</td>\n",
              "    </tr>\n",
              "  </tbody>\n",
              "</table>\n",
              "</div>"
            ],
            "text/plain": [
              "     0    1\n",
              "0  185   35\n",
              "1  241  988"
            ]
          },
          "metadata": {},
          "execution_count": 109
        }
      ]
    },
    {
      "cell_type": "code",
      "metadata": {
        "id": "uXoM9-Bo-5bN"
      },
      "source": [
        "from sklearn.metrics import precision_recall_curve"
      ],
      "execution_count": 111,
      "outputs": []
    },
    {
      "cell_type": "code",
      "metadata": {
        "id": "Lc3ivWk8-7Hd"
      },
      "source": [
        "device = torch.device('cuda' if torch.cuda.is_available() else 'cpu')"
      ],
      "execution_count": 112,
      "outputs": []
    },
    {
      "cell_type": "code",
      "metadata": {
        "id": "FX-BB9lr-9P2",
        "colab": {
          "base_uri": "https://localhost:8080/"
        },
        "outputId": "5e802dcf-5d82-4df7-e7e3-7d602389901b"
      },
      "source": [
        "device"
      ],
      "execution_count": 113,
      "outputs": [
        {
          "output_type": "execute_result",
          "data": {
            "text/plain": [
              "device(type='cpu')"
            ]
          },
          "metadata": {},
          "execution_count": 113
        }
      ]
    },
    {
      "cell_type": "code",
      "metadata": {
        "id": "_3Qit6Vd-_DW"
      },
      "source": [
        "# get predictions for test data\n",
        "with torch.no_grad():\n",
        "  preds = model(test_seq.to(device), test_mask.to(device))\n",
        "  preds = preds.detach().cpu().numpy()"
      ],
      "execution_count": 114,
      "outputs": []
    },
    {
      "cell_type": "code",
      "metadata": {
        "id": "ccROuvtn_BHE",
        "colab": {
          "base_uri": "https://localhost:8080/",
          "height": 612
        },
        "outputId": "ce88faf0-5c86-4143-f3b5-811124970260"
      },
      "source": [
        "# model's performance\n",
        "precision_, recall_, proba = precision_recall_curve(test_y, preds[:, -1])\n",
        "preds = np.argmax(preds, axis = 1)\n",
        "#plot precision-recall curve\n",
        "plt.plot(recall_, precision_, marker='.', label='BERT-model')\n",
        "plt.xlabel('Recall')\n",
        "plt.ylabel('Precision')\n",
        "plt.legend()\n",
        "plt.show()"
      ],
      "execution_count": 115,
      "outputs": [
        {
          "output_type": "display_data",
          "data": {
            "image/png": "[encoded data removed]",
            "text/plain": [
              "<Figure size 720x720 with 1 Axes>"
            ]
          },
          "metadata": {}
        }
      ]
    }
  ]
}