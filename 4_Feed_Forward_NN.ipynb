{
  "nbformat": 4,
  "nbformat_minor": 0,
  "metadata": {
    "accelerator": "GPU",
    "colab": {
      "name": "4. Feed_Forward_NN.ipynb",
      "provenance": [],
      "collapsed_sections": []
    },
    "kernelspec": {
      "display_name": "Python 3",
      "language": "python",
      "name": "python3"
    },
    "language_info": {
      "codemirror_mode": {
        "name": "ipython",
        "version": 3
      },
      "file_extension": ".py",
      "mimetype": "text/x-python",
      "name": "python",
      "nbconvert_exporter": "python",
      "pygments_lexer": "ipython3",
      "version": "3.8.3"
    },
    "toc": {
      "nav_menu": {},
      "number_sections": true,
      "sideBar": true,
      "skip_h1_title": false,
      "toc_cell": false,
      "toc_position": {},
      "toc_section_display": "block",
      "toc_window_display": false
    }
  },
  "cells": [
    {
      "cell_type": "markdown",
      "metadata": {
        "id": "pj38L3nGSeX3"
      },
      "source": [
        "## Feed Forward Neural Network in Fake Data\n"
      ]
    },
    {
      "cell_type": "markdown",
      "metadata": {
        "id": "AVBLxwm-SeYB"
      },
      "source": [
        "### Importing Libraries"
      ]
    },
    {
      "cell_type": "code",
      "metadata": {
        "colab": {
          "base_uri": "https://localhost:8080/"
        },
        "id": "SVWTNznkSeYE",
        "outputId": "6b09fd21-65d5-43da-9795-3128f89f45e6"
      },
      "source": [
        "from pydrive.auth import GoogleAuth\n",
        "from pydrive.drive import GoogleDrive\n",
        "from google.colab import auth\n",
        "from google.colab import drive \n",
        "from oauth2client.client import GoogleCredentials\n",
        "\n",
        "drive.mount('/content/gdrive')"
      ],
      "execution_count": 1,
      "outputs": [
        {
          "output_type": "stream",
          "name": "stdout",
          "text": [
            "Mounted at /content/gdrive\n"
          ]
        }
      ]
    },
    {
      "cell_type": "code",
      "metadata": {
        "id": "09dfON0OSeYK"
      },
      "source": [
        "import pandas as pd\n",
        "from collections import Counter\n",
        "import numpy as np\n",
        "import matplotlib.pyplot as plt\n",
        "\n",
        "%matplotlib inline"
      ],
      "execution_count": 2,
      "outputs": []
    },
    {
      "cell_type": "markdown",
      "metadata": {
        "id": "Q8_q9qkQSeYO"
      },
      "source": [
        "### Loading dataset"
      ]
    },
    {
      "cell_type": "code",
      "metadata": {
        "colab": {
          "base_uri": "https://localhost:8080/",
          "height": 697
        },
        "id": "l6Nvs4g9SeYS",
        "outputId": "735849b6-4387-4321-b7a5-b1d858a1156f"
      },
      "source": [
        "#read a '.csv' file into data-frame\n",
        "df = pd.read_csv('gdrive/My Drive/text_pre_processing.csv', sep=',')\n",
        "\n",
        "df.sample(5)"
      ],
      "execution_count": 3,
      "outputs": [
        {
          "output_type": "stream",
          "name": "stderr",
          "text": [
            "/usr/local/lib/python3.7/dist-packages/IPython/core/interactiveshell.py:2718: DtypeWarning: Columns (6) have mixed types.Specify dtype option on import or set low_memory=False.\n",
            "  interactivity=interactivity, compiler=compiler, result=result)\n"
          ]
        },
        {
          "output_type": "execute_result",
          "data": {
            "text/html": [
              "<div>\n",
              "<style scoped>\n",
              "    .dataframe tbody tr th:only-of-type {\n",
              "        vertical-align: middle;\n",
              "    }\n",
              "\n",
              "    .dataframe tbody tr th {\n",
              "        vertical-align: top;\n",
              "    }\n",
              "\n",
              "    .dataframe thead th {\n",
              "        text-align: right;\n",
              "    }\n",
              "</style>\n",
              "<table border=\"1\" class=\"dataframe\">\n",
              "  <thead>\n",
              "    <tr style=\"text-align: right;\">\n",
              "      <th></th>\n",
              "      <th>Unnamed: 0</th>\n",
              "      <th>Unnamed: 0.1</th>\n",
              "      <th>title</th>\n",
              "      <th>text</th>\n",
              "      <th>subject</th>\n",
              "      <th>date</th>\n",
              "      <th>label</th>\n",
              "      <th>caps_in_title</th>\n",
              "      <th>text_tokens</th>\n",
              "      <th>text_urls</th>\n",
              "      <th>clean_text</th>\n",
              "      <th>title_urls</th>\n",
              "      <th>twitter_handles</th>\n",
              "      <th>clean_title</th>\n",
              "      <th>clean_text_tokens</th>\n",
              "      <th>clean_title_tokens</th>\n",
              "    </tr>\n",
              "  </thead>\n",
              "  <tbody>\n",
              "    <tr>\n",
              "      <th>25621</th>\n",
              "      <td>25621</td>\n",
              "      <td>25627</td>\n",
              "      <td>Mexico's new finance minister spurns Donald Trump</td>\n",
              "      <td>MEXICO CITY (Reuters) - Mexico’s new finance m...</td>\n",
              "      <td>politicsNews</td>\n",
              "      <td>2016-09-08</td>\n",
              "      <td>true</td>\n",
              "      <td>3</td>\n",
              "      <td>['MEXICO', 'CITY', '(Reuters)', 'Mexico', 's',...</td>\n",
              "      <td>[]</td>\n",
              "      <td>MEXICO CITY   - mexico’s new finance minister ...</td>\n",
              "      <td>[]</td>\n",
              "      <td>[]</td>\n",
              "      <td>mexico's new finance minister spurns donald trump</td>\n",
              "      <td>['MEXICO', 'CITY', 'mexico', 'new', 'finance',...</td>\n",
              "      <td>['mexico', 'new', 'finance', 'minister', 'spur...</td>\n",
              "    </tr>\n",
              "    <tr>\n",
              "      <th>27638</th>\n",
              "      <td>27638</td>\n",
              "      <td>27644</td>\n",
              "      <td>U.S. climate envoy Stern to step down: State D...</td>\n",
              "      <td>WASHINGTON (Reuters) - U.S. climate envoy Todd...</td>\n",
              "      <td>politicsNews</td>\n",
              "      <td>2016-03-21</td>\n",
              "      <td>true</td>\n",
              "      <td>5</td>\n",
              "      <td>['WASHINGTON', '(Reuters)', 'U', 'S', 'climate...</td>\n",
              "      <td>[]</td>\n",
              "      <td>WASHINGTON   - U.S. climate envoy todd stern, ...</td>\n",
              "      <td>[]</td>\n",
              "      <td>[]</td>\n",
              "      <td>U.S. climate envoy stern to step down: state d...</td>\n",
              "      <td>['WASHINGTON', 'U.S.', 'climate', 'envoy', 'to...</td>\n",
              "      <td>['U.S.', 'climate', 'envoy', 'stern', 'to', 's...</td>\n",
              "    </tr>\n",
              "    <tr>\n",
              "      <th>21114</th>\n",
              "      <td>21114</td>\n",
              "      <td>21120</td>\n",
              "      <td>Goldman's Donovan to withdraw from deputy Trea...</td>\n",
              "      <td>(Reuters) - Goldman Sachs Group Inc banker Jam...</td>\n",
              "      <td>politicsNews</td>\n",
              "      <td>2017-05-19</td>\n",
              "      <td>true</td>\n",
              "      <td>3</td>\n",
              "      <td>['(Reuters)', 'Goldman', 'Sachs', 'Group', 'In...</td>\n",
              "      <td>[]</td>\n",
              "      <td>- goldman sachs group inc banker james donov...</td>\n",
              "      <td>[]</td>\n",
              "      <td>[]</td>\n",
              "      <td>goldman's donovan to withdraw from deputy trea...</td>\n",
              "      <td>['goldman', 'sachs', 'group', 'inc', 'banker',...</td>\n",
              "      <td>['goldman', 'donovan', 'to', 'withdraw', 'from...</td>\n",
              "    </tr>\n",
              "    <tr>\n",
              "      <th>11083</th>\n",
              "      <td>11083</td>\n",
              "      <td>11084</td>\n",
              "      <td>ARROGANT Former ILLEGAL ALIEN Brags About Usin...</td>\n",
              "      <td>Julissa Arce, who is now a Vice President at G...</td>\n",
              "      <td>politics</td>\n",
              "      <td>2017-04-21</td>\n",
              "      <td>fake</td>\n",
              "      <td>52</td>\n",
              "      <td>['Julissa', 'Arce', 'who', 'is', 'now', 'a', '...</td>\n",
              "      <td>[]</td>\n",
              "      <td>julissa arce, who is now a vice president at g...</td>\n",
              "      <td>[]</td>\n",
              "      <td>[]</td>\n",
              "      <td>ARROGANT former ILLEGAL ALIEN brags about usin...</td>\n",
              "      <td>['julissa', 'arce', 'who', 'is', 'now', 'vice'...</td>\n",
              "      <td>['ARROGANT', 'former', 'ILLEGAL', 'ALIEN', 'br...</td>\n",
              "    </tr>\n",
              "    <tr>\n",
              "      <th>15001</th>\n",
              "      <td>15001</td>\n",
              "      <td>15002</td>\n",
              "      <td>HILLARY CLINTON PROVES SHE DOESN’T “PLAY WELL ...</td>\n",
              "      <td>It s all about Hillary and Bill in their world...</td>\n",
              "      <td>politics</td>\n",
              "      <td>2015-07-30</td>\n",
              "      <td>fake</td>\n",
              "      <td>78</td>\n",
              "      <td>['It', 's', 'all', 'about', 'Hillary', 'and', ...</td>\n",
              "      <td>[]</td>\n",
              "      <td>it s all about hillary and bill in their world...</td>\n",
              "      <td>[]</td>\n",
              "      <td>[]</td>\n",
              "      <td>HILLARY CLINTON PROVES SHE DOESN’T “PLAY WELL ...</td>\n",
              "      <td>['it', 'all', 'about', 'hillary', 'and', 'bill...</td>\n",
              "      <td>['HILLARY', 'CLINTON', 'PROVES', 'SHE', 'DOESN...</td>\n",
              "    </tr>\n",
              "  </tbody>\n",
              "</table>\n",
              "</div>"
            ],
            "text/plain": [
              "       Unnamed: 0  ...                                 clean_title_tokens\n",
              "25621       25621  ...  ['mexico', 'new', 'finance', 'minister', 'spur...\n",
              "27638       27638  ...  ['U.S.', 'climate', 'envoy', 'stern', 'to', 's...\n",
              "21114       21114  ...  ['goldman', 'donovan', 'to', 'withdraw', 'from...\n",
              "11083       11083  ...  ['ARROGANT', 'former', 'ILLEGAL', 'ALIEN', 'br...\n",
              "15001       15001  ...  ['HILLARY', 'CLINTON', 'PROVES', 'SHE', 'DOESN...\n",
              "\n",
              "[5 rows x 16 columns]"
            ]
          },
          "metadata": {},
          "execution_count": 3
        }
      ]
    },
    {
      "cell_type": "code",
      "metadata": {
        "colab": {
          "base_uri": "https://localhost:8080/",
          "height": 608
        },
        "id": "G5EiUzm7i0aM",
        "outputId": "85136108-8320-4a68-a803-24071d98b735"
      },
      "source": [
        "#drop the duplicated and unwanted columns\n",
        "df = df.drop(['Unnamed: 0'], axis = 1)\n",
        "df = df.drop(['Unnamed: 0.1'], axis = 1)\n",
        "df.sample(5)"
      ],
      "execution_count": 4,
      "outputs": [
        {
          "output_type": "execute_result",
          "data": {
            "text/html": [
              "<div>\n",
              "<style scoped>\n",
              "    .dataframe tbody tr th:only-of-type {\n",
              "        vertical-align: middle;\n",
              "    }\n",
              "\n",
              "    .dataframe tbody tr th {\n",
              "        vertical-align: top;\n",
              "    }\n",
              "\n",
              "    .dataframe thead th {\n",
              "        text-align: right;\n",
              "    }\n",
              "</style>\n",
              "<table border=\"1\" class=\"dataframe\">\n",
              "  <thead>\n",
              "    <tr style=\"text-align: right;\">\n",
              "      <th></th>\n",
              "      <th>title</th>\n",
              "      <th>text</th>\n",
              "      <th>subject</th>\n",
              "      <th>date</th>\n",
              "      <th>label</th>\n",
              "      <th>caps_in_title</th>\n",
              "      <th>text_tokens</th>\n",
              "      <th>text_urls</th>\n",
              "      <th>clean_text</th>\n",
              "      <th>title_urls</th>\n",
              "      <th>twitter_handles</th>\n",
              "      <th>clean_title</th>\n",
              "      <th>clean_text_tokens</th>\n",
              "      <th>clean_title_tokens</th>\n",
              "    </tr>\n",
              "  </thead>\n",
              "  <tbody>\n",
              "    <tr>\n",
              "      <th>7346</th>\n",
              "      <td>Former Nixon Aid Reveals Why The ‘War On Drug...</td>\n",
              "      <td>It s long been said that the  War on Drugs  is...</td>\n",
              "      <td>News</td>\n",
              "      <td>2016-03-22</td>\n",
              "      <td>fake</td>\n",
              "      <td>17</td>\n",
              "      <td>['It', 's', 'long', 'been', 'said', 'that', 't...</td>\n",
              "      <td>[]</td>\n",
              "      <td>it s long been said that the war on drugs is a...</td>\n",
              "      <td>[]</td>\n",
              "      <td>[]</td>\n",
              "      <td>former nixon aid reveals why the ‘war on drugs...</td>\n",
              "      <td>['it', 'long', 'been', 'said', 'that', 'the', ...</td>\n",
              "      <td>['former', 'nixon', 'aid', 'reveals', 'why', '...</td>\n",
              "    </tr>\n",
              "    <tr>\n",
              "      <th>11329</th>\n",
              "      <td>SHAMEFUL: Video Shows How Liberal Media, Democ...</td>\n",
              "      <td>Remember when liberal media and entertainers, ...</td>\n",
              "      <td>politics</td>\n",
              "      <td>2017-03-18</td>\n",
              "      <td>fake</td>\n",
              "      <td>38</td>\n",
              "      <td>['Remember', 'when', 'liberal', 'media', 'and'...</td>\n",
              "      <td>[]</td>\n",
              "      <td>remember when liberal media and entertainers, ...</td>\n",
              "      <td>[]</td>\n",
              "      <td>[]</td>\n",
              "      <td>SHAMEFUL: video shows how liberal media, democ...</td>\n",
              "      <td>['remember', 'when', 'liberal', 'media', 'and'...</td>\n",
              "      <td>['SHAMEFUL', 'video', 'shows', 'how', 'liberal...</td>\n",
              "    </tr>\n",
              "    <tr>\n",
              "      <th>23011</th>\n",
              "      <td>Netanyahu, Trump align on Iran ahead of Israel...</td>\n",
              "      <td>JERUSALEM/WASHINGTON (Reuters) - Israeli Prime...</td>\n",
              "      <td>politicsNews</td>\n",
              "      <td>2017-02-07</td>\n",
              "      <td>true</td>\n",
              "      <td>4</td>\n",
              "      <td>['JERUSALEM', 'WASHINGTON', '(Reuters)', 'Isra...</td>\n",
              "      <td>[]</td>\n",
              "      <td>JERUSALEM/WASHINGTON   - israeli prime ministe...</td>\n",
              "      <td>[]</td>\n",
              "      <td>[]</td>\n",
              "      <td>netanyahu, trump align on iran ahead of israel...</td>\n",
              "      <td>['JERUSALEM/WASHINGTON', 'israeli', 'prime', '...</td>\n",
              "      <td>['netanyahu', 'trump', 'align', 'on', 'iran', ...</td>\n",
              "    </tr>\n",
              "    <tr>\n",
              "      <th>35703</th>\n",
              "      <td>Catalan leader calls for international mediati...</td>\n",
              "      <td>MADRID/BARCELONA (Reuters) - The secessionist ...</td>\n",
              "      <td>worldnews</td>\n",
              "      <td>2017-10-02</td>\n",
              "      <td>True</td>\n",
              "      <td>2</td>\n",
              "      <td>['MADRID', 'BARCELONA', '(Reuters)', 'The', 's...</td>\n",
              "      <td>[]</td>\n",
              "      <td>MADRID/BARCELONA   - the secessionist leader o...</td>\n",
              "      <td>[]</td>\n",
              "      <td>[]</td>\n",
              "      <td>catalan leader calls for international mediati...</td>\n",
              "      <td>['MADRID/BARCELONA', 'the', 'secessionist', 'l...</td>\n",
              "      <td>['catalan', 'leader', 'calls', 'for', 'interna...</td>\n",
              "    </tr>\n",
              "    <tr>\n",
              "      <th>6692</th>\n",
              "      <td>Hillary Clinton Says Half Her Cabinet Will Be...</td>\n",
              "      <td>Women make up over 50 percent of this country,...</td>\n",
              "      <td>News</td>\n",
              "      <td>2016-04-26</td>\n",
              "      <td>fake</td>\n",
              "      <td>12</td>\n",
              "      <td>['Women', 'make', 'up', 'over', '50', 'percent...</td>\n",
              "      <td>[]</td>\n",
              "      <td>women make up over   percent of this country, ...</td>\n",
              "      <td>[]</td>\n",
              "      <td>[]</td>\n",
              "      <td>hillary clinton says half her cabinet will be ...</td>\n",
              "      <td>['women', 'make', 'up', 'over', 'percent', 'of...</td>\n",
              "      <td>['hillary', 'clinton', 'says', 'half', 'her', ...</td>\n",
              "    </tr>\n",
              "  </tbody>\n",
              "</table>\n",
              "</div>"
            ],
            "text/plain": [
              "                                                   title  ...                                 clean_title_tokens\n",
              "7346    Former Nixon Aid Reveals Why The ‘War On Drug...  ...  ['former', 'nixon', 'aid', 'reveals', 'why', '...\n",
              "11329  SHAMEFUL: Video Shows How Liberal Media, Democ...  ...  ['SHAMEFUL', 'video', 'shows', 'how', 'liberal...\n",
              "23011  Netanyahu, Trump align on Iran ahead of Israel...  ...  ['netanyahu', 'trump', 'align', 'on', 'iran', ...\n",
              "35703  Catalan leader calls for international mediati...  ...  ['catalan', 'leader', 'calls', 'for', 'interna...\n",
              "6692    Hillary Clinton Says Half Her Cabinet Will Be...  ...  ['hillary', 'clinton', 'says', 'half', 'her', ...\n",
              "\n",
              "[5 rows x 14 columns]"
            ]
          },
          "metadata": {},
          "execution_count": 4
        }
      ]
    },
    {
      "cell_type": "code",
      "metadata": {
        "colab": {
          "base_uri": "https://localhost:8080/",
          "height": 81
        },
        "id": "Z4nfhfMsSeYW",
        "outputId": "27f2ec82-b8da-4ab4-d4a3-208464f7269c"
      },
      "source": [
        "#show some basic description \n",
        "df.describe().T"
      ],
      "execution_count": 5,
      "outputs": [
        {
          "output_type": "execute_result",
          "data": {
            "text/html": [
              "<div>\n",
              "<style scoped>\n",
              "    .dataframe tbody tr th:only-of-type {\n",
              "        vertical-align: middle;\n",
              "    }\n",
              "\n",
              "    .dataframe tbody tr th {\n",
              "        vertical-align: top;\n",
              "    }\n",
              "\n",
              "    .dataframe thead th {\n",
              "        text-align: right;\n",
              "    }\n",
              "</style>\n",
              "<table border=\"1\" class=\"dataframe\">\n",
              "  <thead>\n",
              "    <tr style=\"text-align: right;\">\n",
              "      <th></th>\n",
              "      <th>count</th>\n",
              "      <th>mean</th>\n",
              "      <th>std</th>\n",
              "      <th>min</th>\n",
              "      <th>25%</th>\n",
              "      <th>50%</th>\n",
              "      <th>75%</th>\n",
              "      <th>max</th>\n",
              "    </tr>\n",
              "  </thead>\n",
              "  <tbody>\n",
              "    <tr>\n",
              "      <th>caps_in_title</th>\n",
              "      <td>38638.0</td>\n",
              "      <td>13.545059</td>\n",
              "      <td>14.541594</td>\n",
              "      <td>1.0</td>\n",
              "      <td>3.0</td>\n",
              "      <td>6.0</td>\n",
              "      <td>20.0</td>\n",
              "      <td>137.0</td>\n",
              "    </tr>\n",
              "  </tbody>\n",
              "</table>\n",
              "</div>"
            ],
            "text/plain": [
              "                 count       mean        std  min  25%  50%   75%    max\n",
              "caps_in_title  38638.0  13.545059  14.541594  1.0  3.0  6.0  20.0  137.0"
            ]
          },
          "metadata": {},
          "execution_count": 5
        }
      ]
    },
    {
      "cell_type": "code",
      "metadata": {
        "colab": {
          "base_uri": "https://localhost:8080/"
        },
        "id": "LFXb6ktXSeYX",
        "scrolled": false,
        "outputId": "6f3607ed-5c66-469e-fa49-f312df7dfd9c"
      },
      "source": [
        "#and other extra info for this dataframe\n",
        "df.info()"
      ],
      "execution_count": 6,
      "outputs": [
        {
          "output_type": "stream",
          "name": "stdout",
          "text": [
            "<class 'pandas.core.frame.DataFrame'>\n",
            "RangeIndex: 38638 entries, 0 to 38637\n",
            "Data columns (total 14 columns):\n",
            " #   Column              Non-Null Count  Dtype \n",
            "---  ------              --------------  ----- \n",
            " 0   title               38638 non-null  object\n",
            " 1   text                38638 non-null  object\n",
            " 2   subject             38638 non-null  object\n",
            " 3   date                38638 non-null  object\n",
            " 4   label               38638 non-null  object\n",
            " 5   caps_in_title       38638 non-null  int64 \n",
            " 6   text_tokens         38638 non-null  object\n",
            " 7   text_urls           38638 non-null  object\n",
            " 8   clean_text          38638 non-null  object\n",
            " 9   title_urls          38638 non-null  object\n",
            " 10  twitter_handles     38638 non-null  object\n",
            " 11  clean_title         38638 non-null  object\n",
            " 12  clean_text_tokens   38638 non-null  object\n",
            " 13  clean_title_tokens  38638 non-null  object\n",
            "dtypes: int64(1), object(13)\n",
            "memory usage: 4.1+ MB\n"
          ]
        }
      ]
    },
    {
      "cell_type": "markdown",
      "metadata": {
        "id": "nosTbVWXSeYk"
      },
      "source": [
        "### Splitting Dataset Procedure\n",
        "\n",
        "---\n",
        "We split the data in 3 smaller datasets:\n",
        "* Training, validation and test datasets\n",
        "\n"
      ]
    },
    {
      "cell_type": "code",
      "metadata": {
        "colab": {
          "base_uri": "https://localhost:8080/"
        },
        "id": "s5GxqCOErDht",
        "outputId": "50ff0b8e-4d86-4367-86ac-fe4b6f6d3e7a"
      },
      "source": [
        "#the column 'clean_text' is the one we want to split\n",
        "X = df['clean_text'].reset_index(drop=True)\n",
        "\n",
        "X.sample(10)"
      ],
      "execution_count": 7,
      "outputs": [
        {
          "output_type": "execute_result",
          "data": {
            "text/plain": [
              "25850    WASHINGTON   - republican presidential nominee...\n",
              "13349    senator jess sessions tough love talk may be e...\n",
              "22757    WASHINGTON   - the department of homeland secu...\n",
              "31966    UNITED NATIONS   - the united nations security...\n",
              "31995    BERLIN   - with just one day left to conclude ...\n",
              "25813    WASHINGTON   - two senior lawmakers on the U.S...\n",
              "3918     saturday night live has helped bring quite a b...\n",
              "12601    hillary spoke to a very small group of student...\n",
              "36370    PARIS   - french trade unionists blocked acces...\n",
              "19001    WASHINGTON   - U.S. senate majority leader mit...\n",
              "Name: clean_text, dtype: object"
            ]
          },
          "metadata": {},
          "execution_count": 7
        }
      ]
    },
    {
      "cell_type": "code",
      "metadata": {
        "colab": {
          "base_uri": "https://localhost:8080/",
          "height": 363
        },
        "id": "0NkwkS6hrDt4",
        "outputId": "f3d5c81e-e12a-4514-d20c-9c4ee626cca8"
      },
      "source": [
        "y = df['label'].to_frame()\n",
        "\n",
        "y.sample(10)"
      ],
      "execution_count": 8,
      "outputs": [
        {
          "output_type": "execute_result",
          "data": {
            "text/html": [
              "<div>\n",
              "<style scoped>\n",
              "    .dataframe tbody tr th:only-of-type {\n",
              "        vertical-align: middle;\n",
              "    }\n",
              "\n",
              "    .dataframe tbody tr th {\n",
              "        vertical-align: top;\n",
              "    }\n",
              "\n",
              "    .dataframe thead th {\n",
              "        text-align: right;\n",
              "    }\n",
              "</style>\n",
              "<table border=\"1\" class=\"dataframe\">\n",
              "  <thead>\n",
              "    <tr style=\"text-align: right;\">\n",
              "      <th></th>\n",
              "      <th>label</th>\n",
              "    </tr>\n",
              "  </thead>\n",
              "  <tbody>\n",
              "    <tr>\n",
              "      <th>3723</th>\n",
              "      <td>fake</td>\n",
              "    </tr>\n",
              "    <tr>\n",
              "      <th>18370</th>\n",
              "      <td>true</td>\n",
              "    </tr>\n",
              "    <tr>\n",
              "      <th>26926</th>\n",
              "      <td>true</td>\n",
              "    </tr>\n",
              "    <tr>\n",
              "      <th>23434</th>\n",
              "      <td>true</td>\n",
              "    </tr>\n",
              "    <tr>\n",
              "      <th>1729</th>\n",
              "      <td>fake</td>\n",
              "    </tr>\n",
              "    <tr>\n",
              "      <th>15362</th>\n",
              "      <td>fake</td>\n",
              "    </tr>\n",
              "    <tr>\n",
              "      <th>12590</th>\n",
              "      <td>fake</td>\n",
              "    </tr>\n",
              "    <tr>\n",
              "      <th>27869</th>\n",
              "      <td>true</td>\n",
              "    </tr>\n",
              "    <tr>\n",
              "      <th>10534</th>\n",
              "      <td>fake</td>\n",
              "    </tr>\n",
              "    <tr>\n",
              "      <th>22768</th>\n",
              "      <td>true</td>\n",
              "    </tr>\n",
              "  </tbody>\n",
              "</table>\n",
              "</div>"
            ],
            "text/plain": [
              "      label\n",
              "3723   fake\n",
              "18370  true\n",
              "26926  true\n",
              "23434  true\n",
              "1729   fake\n",
              "15362  fake\n",
              "12590  fake\n",
              "27869  true\n",
              "10534  fake\n",
              "22768  true"
            ]
          },
          "metadata": {},
          "execution_count": 8
        }
      ]
    },
    {
      "cell_type": "code",
      "metadata": {
        "colab": {
          "base_uri": "https://localhost:8080/"
        },
        "id": "k29L09uSu-bN",
        "outputId": "805023e0-dd67-452d-ef47-63442271012b"
      },
      "source": [
        "y[y['label'] == True] = 'true'\n",
        "y = y.squeeze() #convert the data-frame to array\n",
        "y"
      ],
      "execution_count": 9,
      "outputs": [
        {
          "output_type": "execute_result",
          "data": {
            "text/plain": [
              "0        fake\n",
              "1        fake\n",
              "2        fake\n",
              "3        fake\n",
              "4        fake\n",
              "         ... \n",
              "38633    true\n",
              "38634    true\n",
              "38635    true\n",
              "38636    true\n",
              "38637    true\n",
              "Name: label, Length: 38638, dtype: object"
            ]
          },
          "metadata": {},
          "execution_count": 9
        }
      ]
    },
    {
      "cell_type": "code",
      "metadata": {
        "colab": {
          "base_uri": "https://localhost:8080/"
        },
        "id": "4AfLcbIiMvwg",
        "outputId": "ac5a1f5a-c15e-4345-a79c-2d9d992ae9eb"
      },
      "source": [
        "#how the labels are distributed\n",
        "y.value_counts(normalize=True)"
      ],
      "execution_count": 10,
      "outputs": [
        {
          "output_type": "execute_result",
          "data": {
            "text/plain": [
              "true    0.54845\n",
              "fake    0.45155\n",
              "Name: label, dtype: float64"
            ]
          },
          "metadata": {},
          "execution_count": 10
        }
      ]
    },
    {
      "cell_type": "markdown",
      "metadata": {
        "id": "5IB3Sq7YSeYn"
      },
      "source": [
        "---\n",
        "At first, we will split the main dataset into two parts:\n",
        "* Train-Validation dataset and\n",
        "* Test dataset (25% of the whole dataset)\n",
        "\n",
        "After that, we will split the Train-Validation dataset into another two:\n",
        "* Train dataset and\n",
        "* Validation dataset (15% of the train-validation dataset)\n",
        "\n",
        "This splitting has been done in stratified manner, meaning that the dataset has been split uniformly based on the percentage of 'fake' - 'true' news."
      ]
    },
    {
      "cell_type": "code",
      "metadata": {
        "id": "kjIeLtM5SeYk"
      },
      "source": [
        "from sklearn.preprocessing import LabelEncoder\n",
        "\n",
        "from sklearn.model_selection import StratifiedShuffleSplit"
      ],
      "execution_count": 11,
      "outputs": []
    },
    {
      "cell_type": "code",
      "metadata": {
        "colab": {
          "base_uri": "https://localhost:8080/"
        },
        "id": "1gjVGqKjSeYp",
        "outputId": "cfe66062-c86b-4882-db39-9fa04a13a7a3"
      },
      "source": [
        "#sss: stratified shuffle split\n",
        "test_sss = StratifiedShuffleSplit(n_splits=5, test_size=0.25, random_state=0)\n",
        "test_sss"
      ],
      "execution_count": 12,
      "outputs": [
        {
          "output_type": "execute_result",
          "data": {
            "text/plain": [
              "StratifiedShuffleSplit(n_splits=5, random_state=0, test_size=0.25,\n",
              "            train_size=None)"
            ]
          },
          "metadata": {},
          "execution_count": 12
        }
      ]
    },
    {
      "cell_type": "code",
      "metadata": {
        "colab": {
          "base_uri": "https://localhost:8080/"
        },
        "id": "V0r3Qw4qSeYq",
        "outputId": "2c77add4-4b4c-484d-d79b-5c0a93016d22"
      },
      "source": [
        "val_sss = StratifiedShuffleSplit(n_splits=5, test_size=0.15, random_state=0)\n",
        "val_sss"
      ],
      "execution_count": 13,
      "outputs": [
        {
          "output_type": "execute_result",
          "data": {
            "text/plain": [
              "StratifiedShuffleSplit(n_splits=5, random_state=0, test_size=0.15,\n",
              "            train_size=None)"
            ]
          },
          "metadata": {},
          "execution_count": 13
        }
      ]
    },
    {
      "cell_type": "code",
      "metadata": {
        "colab": {
          "base_uri": "https://localhost:8080/"
        },
        "id": "oyYFp_2RSeYr",
        "scrolled": true,
        "outputId": "acb03e95-595a-4ff4-e4b8-0a8e12cadfd6"
      },
      "source": [
        "#split in train-validation dataset and test dataset\n",
        "X_train_val, X_test, y_train_val, y_test = None, None, None, None\n",
        "\n",
        "#get the indexes for each dataset\n",
        "for train_index, test_index in test_sss.split(X, y):\n",
        "    \n",
        "    print(\"TRAIN-VAL:\", train_index[:10], \"TEST:\", test_index[:10])\n",
        "    \n",
        "    X_train_val, X_test = X[train_index], X[test_index]\n",
        "    y_train_val, y_test = y[train_index], y[test_index]"
      ],
      "execution_count": 14,
      "outputs": [
        {
          "output_type": "stream",
          "name": "stdout",
          "text": [
            "TRAIN-VAL: [22033 10814  8803 11309 26936 27847  4873  7727 20681 11339] TEST: [35872 38335 20464 32126  8698 12391 28753   145 15427 23566]\n",
            "TRAIN-VAL: [31419 32366  2163 20173 32013 12531 35254 12308 18870 32123] TEST: [ 5362 23644 31270 11417 20018 31629 33623 34934  4858  3667]\n",
            "TRAIN-VAL: [37017 21858 27556 26992 15331  7244 28496  9024 17132 20787] TEST: [36063 25352   990  4780 23669 17533  9029 20777 25330 14106]\n",
            "TRAIN-VAL: [ 3136 13433 17381 19237  3151 28199  6094 19151 33372   968] TEST: [ 1769 26284 28168 20047 31449 28233 25473 29949 24160 16172]\n",
            "TRAIN-VAL: [16042  6117 32481 33043 19496 19840  5078 28837 30784   971] TEST: [29850  9130 10604 18938 27374 29830  8513  9434 30759 23950]\n"
          ]
        }
      ]
    },
    {
      "cell_type": "code",
      "metadata": {
        "colab": {
          "base_uri": "https://localhost:8080/"
        },
        "id": "8vIrFU76SeYr",
        "outputId": "2e54f812-30e7-48e4-f39d-765ddcc91229"
      },
      "source": [
        "X_train_val.head() #show the first 5 indexes"
      ],
      "execution_count": 15,
      "outputs": [
        {
          "output_type": "execute_result",
          "data": {
            "text/plain": [
              "16042    can you believe a first grader was investigate...\n",
              "6117     there should be no doubt that racism is very m...\n",
              "32481    BEIRUT   - hezbollah s parliamentary bloc call...\n",
              "33043    SEOUL/WASHINGTON   - two U.S. strategic bomber...\n",
              "19496      - the wife of U.S. treasury secretary steve ...\n",
              "Name: clean_text, dtype: object"
            ]
          },
          "metadata": {},
          "execution_count": 15
        }
      ]
    },
    {
      "cell_type": "code",
      "metadata": {
        "id": "pDdBPjGpSeYv"
      },
      "source": [
        "#reset the indexes\n",
        "X_train_val = X_train_val.reset_index(drop=True)\n",
        "y_train_val = y_train_val.reset_index(drop=True)"
      ],
      "execution_count": 16,
      "outputs": []
    },
    {
      "cell_type": "code",
      "metadata": {
        "colab": {
          "base_uri": "https://localhost:8080/"
        },
        "id": "SCNxq3WzSeYw",
        "outputId": "54b5d362-0074-4c59-e131-34411d57fa61"
      },
      "source": [
        "#split the train-validation dataset into train and validation dataset\n",
        "X_train, X_val, y_train, y_val = None, None, None, None\n",
        "\n",
        "for train_index, val_index in val_sss.split(X_train_val, y_train_val):\n",
        "    \n",
        "    print(\"TRAIN:\", train_index[:10], \"VALID:\", test_index[:10])\n",
        "    \n",
        "    X_train, X_val = X_train_val[train_index], X_train_val[val_index]\n",
        "    y_train, y_val = y_train_val[train_index], y_train_val[val_index]"
      ],
      "execution_count": 17,
      "outputs": [
        {
          "output_type": "stream",
          "name": "stdout",
          "text": [
            "TRAIN: [16622 27701 25079 28089 21477 11662  8228 14396  5133 26223] VALID: [29850  9130 10604 18938 27374 29830  8513  9434 30759 23950]\n",
            "TRAIN: [ 7622  6949 15797  6652 16246 16534 19690 11268 28871 21944] VALID: [29850  9130 10604 18938 27374 29830  8513  9434 30759 23950]\n",
            "TRAIN: [16548 26162 16257 12055  5336  5928 10012 14887 17351  6124] VALID: [29850  9130 10604 18938 27374 29830  8513  9434 30759 23950]\n",
            "TRAIN: [11278  5654 15952 23752 26907 15079 28130 16321 24645  4279] VALID: [29850  9130 10604 18938 27374 29830  8513  9434 30759 23950]\n",
            "TRAIN: [11639 14247 14867  3939 12279 12830 16613  8407 19602 27713] VALID: [29850  9130 10604 18938 27374 29830  8513  9434 30759 23950]\n"
          ]
        }
      ]
    },
    {
      "cell_type": "code",
      "metadata": {
        "colab": {
          "base_uri": "https://localhost:8080/"
        },
        "id": "JhjJ_ZaYSeYz",
        "outputId": "00690ae0-e480-45d0-bc04-0f530445f5fc"
      },
      "source": [
        "#see the final results\n",
        "print('X_train_val shape: {}'.format(X_train_val.shape))\n",
        "print('y_train_val shape: {}'.format(y_train_val.shape))\n",
        "print()\n",
        "\n",
        "print('X_train shape: {}'.format(X_train.shape))\n",
        "print('y_train shape: {}'.format(y_train.shape))\n",
        "print()\n",
        "\n",
        "print('X_test shape: {}'.format(X_test.shape))\n",
        "print('y_test shape: {}'.format(y_test.shape))\n",
        "\n",
        "print()\n",
        "print('X_val shape: {}'.format(X_val.shape))\n",
        "print('y_val shape: {}'.format(y_val.shape))"
      ],
      "execution_count": 18,
      "outputs": [
        {
          "output_type": "stream",
          "name": "stdout",
          "text": [
            "X_train_val shape: (28978,)\n",
            "y_train_val shape: (28978,)\n",
            "\n",
            "X_train shape: (24631,)\n",
            "y_train shape: (24631,)\n",
            "\n",
            "X_test shape: (9660,)\n",
            "y_test shape: (9660,)\n",
            "\n",
            "X_val shape: (4347,)\n",
            "y_val shape: (4347,)\n"
          ]
        }
      ]
    },
    {
      "cell_type": "markdown",
      "metadata": {
        "id": "DanQR4p5SeY1"
      },
      "source": [
        "### Label Encoding "
      ]
    },
    {
      "cell_type": "markdown",
      "metadata": {
        "id": "_e0U-UUM9EXY"
      },
      "source": [
        "We use label encoder instead of one-hot, because we want to have only one class in the end in order to insert it in the Feed Forward NN."
      ]
    },
    {
      "cell_type": "code",
      "metadata": {
        "id": "5-XKEZx1SeY1"
      },
      "source": [
        "#encoding the labels using Label Encoder\n",
        "y_lab = LabelEncoder()"
      ],
      "execution_count": 19,
      "outputs": []
    },
    {
      "cell_type": "code",
      "metadata": {
        "colab": {
          "base_uri": "https://localhost:8080/"
        },
        "id": "UWFb7uvbSeY4",
        "outputId": "44075ff8-4a82-4f81-9f4a-d37511eb9254"
      },
      "source": [
        "y_train_lab = y_lab.fit_transform(y_train)\n",
        "y_train_lab"
      ],
      "execution_count": 20,
      "outputs": [
        {
          "output_type": "execute_result",
          "data": {
            "text/plain": [
              "array([1, 0, 1, ..., 0, 0, 0])"
            ]
          },
          "metadata": {},
          "execution_count": 20
        }
      ]
    },
    {
      "cell_type": "code",
      "metadata": {
        "id": "Tas4Nq_PSeY5"
      },
      "source": [
        "y_test_lab = y_lab.transform(y_test)\n",
        "y_val_lab = y_lab.transform(y_val)"
      ],
      "execution_count": 21,
      "outputs": []
    },
    {
      "cell_type": "code",
      "metadata": {
        "colab": {
          "base_uri": "https://localhost:8080/"
        },
        "id": "epEnTlJbSeY7",
        "outputId": "25ba79c7-214d-4cab-86cc-69a8774a58ca"
      },
      "source": [
        "#print their format\n",
        "print('y_train shape: {}'.format(y_train_lab.shape))\n",
        "print('y_test shape: {}'.format(y_test_lab.shape))\n",
        "print('y_val shape: {}'.format(y_val_lab.shape))"
      ],
      "execution_count": 22,
      "outputs": [
        {
          "output_type": "stream",
          "name": "stdout",
          "text": [
            "y_train shape: (24631,)\n",
            "y_test shape: (9660,)\n",
            "y_val shape: (4347,)\n"
          ]
        }
      ]
    },
    {
      "cell_type": "code",
      "metadata": {
        "colab": {
          "base_uri": "https://localhost:8080/"
        },
        "id": "2xuHpHAbSeY7",
        "outputId": "92aa5a61-a403-46bd-9ceb-036a6af79d38"
      },
      "source": [
        "#the final classes from the encoder\n",
        "y_lab.classes_"
      ],
      "execution_count": 23,
      "outputs": [
        {
          "output_type": "execute_result",
          "data": {
            "text/plain": [
              "array(['fake', 'true'], dtype=object)"
            ]
          },
          "metadata": {},
          "execution_count": 23
        }
      ]
    },
    {
      "cell_type": "markdown",
      "metadata": {
        "id": "Loii2P9mSeZD"
      },
      "source": [
        "## Handling Text\n"
      ]
    },
    {
      "cell_type": "code",
      "metadata": {
        "colab": {
          "base_uri": "https://localhost:8080/"
        },
        "id": "npHrlTZ4P5TN",
        "outputId": "893a8eb8-2c2e-44ff-cc76-ce9449895e14"
      },
      "source": [
        "#import the appropriate libraries\n",
        "from sklearn.feature_extraction.text import CountVectorizer, TfidfVectorizer\n",
        "import nltk\n",
        "from nltk.corpus import stopwords\n",
        "nltk.download('stopwords')"
      ],
      "execution_count": 24,
      "outputs": [
        {
          "output_type": "stream",
          "name": "stdout",
          "text": [
            "[nltk_data] Downloading package stopwords to /root/nltk_data...\n",
            "[nltk_data]   Unzipping corpora/stopwords.zip.\n"
          ]
        },
        {
          "output_type": "execute_result",
          "data": {
            "text/plain": [
              "True"
            ]
          },
          "metadata": {},
          "execution_count": 24
        }
      ]
    },
    {
      "cell_type": "code",
      "metadata": {
        "id": "wBoqY5duRzYY"
      },
      "source": [
        "#getting the stopwords in English language\n",
        "stop = stopwords.words('english')"
      ],
      "execution_count": 25,
      "outputs": []
    },
    {
      "cell_type": "markdown",
      "metadata": {
        "id": "B2izbQbvSeZK"
      },
      "source": [
        "#### Now, we will split the text into tokens, in order to count them and get the most frequent. In the most cases, these tokens are stopwords."
      ]
    },
    {
      "cell_type": "code",
      "metadata": {
        "id": "Af25f0LVSeZL"
      },
      "source": [
        "#total words we will use for vectorization \n",
        "max_words = 15000"
      ],
      "execution_count": 26,
      "outputs": []
    },
    {
      "cell_type": "code",
      "metadata": {
        "colab": {
          "base_uri": "https://localhost:8080/"
        },
        "id": "TzLgY-3JSeZM",
        "outputId": "dd2ff728-0bc2-44e9-8ef7-5dfdadb5dbfd"
      },
      "source": [
        "#this vectorizer is created in order to show us how many times each word appear\n",
        "counter_vectorizer = CountVectorizer(\n",
        "    encoding='utf-8',\n",
        "    strip_accents='unicode',\n",
        "    lowercase=True,\n",
        "    stop_words= stop,\n",
        "    ngram_range=(1, 1), # unigrams\n",
        "    max_features=max_words,\n",
        "    binary=False) # binary output or full counts\n",
        "\n",
        "counter_vectorizer"
      ],
      "execution_count": 27,
      "outputs": [
        {
          "output_type": "execute_result",
          "data": {
            "text/plain": [
              "CountVectorizer(analyzer='word', binary=False, decode_error='strict',\n",
              "                dtype=<class 'numpy.int64'>, encoding='utf-8', input='content',\n",
              "                lowercase=True, max_df=1.0, max_features=15000, min_df=1,\n",
              "                ngram_range=(1, 1), preprocessor=None,\n",
              "                stop_words=['i', 'me', 'my', 'myself', 'we', 'our', 'ours',\n",
              "                            'ourselves', 'you', \"you're\", \"you've\", \"you'll\",\n",
              "                            \"you'd\", 'your', 'yours', 'yourself', 'yourselves',\n",
              "                            'he', 'him', 'his', 'himself', 'she', \"she's\",\n",
              "                            'her', 'hers', 'herself', 'it', \"it's\", 'its',\n",
              "                            'itself', ...],\n",
              "                strip_accents='unicode', token_pattern='(?u)\\\\b\\\\w\\\\w+\\\\b',\n",
              "                tokenizer=None, vocabulary=None)"
            ]
          },
          "metadata": {},
          "execution_count": 27
        }
      ]
    },
    {
      "cell_type": "markdown",
      "metadata": {
        "id": "Tz9kvTNHSeZN"
      },
      "source": [
        "* We will now fit the CountVectorizer in the datasets."
      ]
    },
    {
      "cell_type": "code",
      "metadata": {
        "colab": {
          "base_uri": "https://localhost:8080/"
        },
        "id": "h7xewvYoSeZN",
        "outputId": "7ada9b37-4057-46b5-9466-1d8792786392"
      },
      "source": [
        "X_train_lab = counter_vectorizer.fit_transform(X_train)\n",
        "X_train_lab"
      ],
      "execution_count": 28,
      "outputs": [
        {
          "output_type": "execute_result",
          "data": {
            "text/plain": [
              "<24631x15000 sparse matrix of type '<class 'numpy.int64'>'\n",
              "\twith 3731824 stored elements in Compressed Sparse Row format>"
            ]
          },
          "metadata": {},
          "execution_count": 28
        }
      ]
    },
    {
      "cell_type": "code",
      "metadata": {
        "id": "BlheXh0tSeZO"
      },
      "source": [
        "#with the above CountVectorizer we transform the Validation and Test Sets\n",
        "X_test_lab = counter_vectorizer.transform(X_test)\n",
        "X_val_lab = counter_vectorizer.transform(X_val)"
      ],
      "execution_count": 29,
      "outputs": []
    },
    {
      "cell_type": "code",
      "metadata": {
        "colab": {
          "base_uri": "https://localhost:8080/"
        },
        "id": "PZEY19yvSeZP",
        "outputId": "196d4ded-d79a-41ca-a12d-b59423a70bc2"
      },
      "source": [
        "print('X_train labeled shape: {}'.format(X_train_lab.shape))\n",
        "print('X_test labeled shape: {}'.format(X_test_lab.shape))\n",
        "print('X_val labeled shape: {}'.format(X_val_lab.shape))"
      ],
      "execution_count": 30,
      "outputs": [
        {
          "output_type": "stream",
          "name": "stdout",
          "text": [
            "X_train labeled shape: (24631, 15000)\n",
            "X_test labeled shape: (9660, 15000)\n",
            "X_val labeled shape: (4347, 15000)\n"
          ]
        }
      ]
    },
    {
      "cell_type": "markdown",
      "metadata": {
        "id": "CGL6XqiQSeZV"
      },
      "source": [
        "### Build and Fit the *Model*"
      ]
    },
    {
      "cell_type": "code",
      "metadata": {
        "id": "arBZKHonSeZW"
      },
      "source": [
        "#imports for the model\n",
        "from tensorflow.keras.models import Sequential\n",
        "from tensorflow.keras.layers import Dense, Dropout, Activation\n",
        "from tensorflow.python.keras.callbacks import ModelCheckpoint, ReduceLROnPlateau, EarlyStopping, TensorBoard\n",
        "from tensorflow.keras import metrics\n",
        "from tensorflow.keras.utils import plot_model\n",
        "import pydot"
      ],
      "execution_count": 31,
      "outputs": []
    },
    {
      "cell_type": "code",
      "metadata": {
        "colab": {
          "base_uri": "https://localhost:8080/"
        },
        "id": "UoQpe3hPSeZW",
        "outputId": "114cb18f-e407-4598-e621-00e35c13e3da"
      },
      "source": [
        "#although the number of classes for the y labels ('fake' - 'true' categories) is 2 we want 1 class in the model \n",
        "#if we had 2 classes our model will have the type [0, 1] (for true news) or [1, 0] (for fake news) something we do not want\n",
        "nb_classes = 1\n",
        "\n",
        "print('Number of Classes: {} (true - fake)'.format(nb_classes))\n",
        "\n",
        "#set how many Epochs will train our Feed Forward Network\n",
        "nb_epoch = 30\n",
        "\n",
        "#the 'batch_size' is a number that will be fed to the model when training\n",
        "batch_size = 64 \n",
        "\n",
        "#set the dropout rate meaning how many neurons will be shutdown each time\n",
        "dropout_rate = 0.4"
      ],
      "execution_count": 32,
      "outputs": [
        {
          "output_type": "stream",
          "name": "stdout",
          "text": [
            "Number of Classes: 1 (true - fake)\n"
          ]
        }
      ]
    },
    {
      "cell_type": "markdown",
      "metadata": {
        "id": "70dw7TRASeZX"
      },
      "source": [
        "#### Model Setup"
      ]
    },
    {
      "cell_type": "code",
      "metadata": {
        "colab": {
          "base_uri": "https://localhost:8080/"
        },
        "id": "Et_OtNBDSeZY",
        "scrolled": false,
        "outputId": "c7f3320a-615e-453f-8b45-eb7e6d2920f4"
      },
      "source": [
        "print('Building model...', end='\\n\\n')\n",
        "\n",
        "#initialize an empty sequential structure, meaning that each layer we add, its output will be added as input in the next layer \n",
        "model = Sequential()\n",
        "\n",
        "#add a dense layer (multi layer perception - MLP)\n",
        "model.add(Dense(512, input_shape=(max_words,)))\n",
        "\n",
        "#use a relu activation on MLP's outputs\n",
        "model.add(Activation('relu'))\n",
        "\n",
        "#use a dropout layer with with 40% of inputs dropped\n",
        "model.add(Dropout(dropout_rate))\n",
        "\n",
        "#add a dense layer\n",
        "model.add(Dense(512))\n",
        "\n",
        "model.add(Activation('relu'))\n",
        "\n",
        "model.add(Dropout(dropout_rate))\n",
        "\n",
        "#add a dense layer (MLP) \n",
        "model.add(Dense(nb_classes))\n",
        "\n",
        "#use a sigmoid activation on 2nd MLP's outputs\n",
        "model.add(Activation('sigmoid'))\n",
        "\n",
        "#print model layers' info\n",
        "print(model.summary())"
      ],
      "execution_count": 33,
      "outputs": [
        {
          "output_type": "stream",
          "name": "stdout",
          "text": [
            "Building model...\n",
            "\n",
            "Model: \"sequential\"\n",
            "_________________________________________________________________\n",
            "Layer (type)                 Output Shape              Param #   \n",
            "=================================================================\n",
            "dense (Dense)                (None, 512)               7680512   \n",
            "_________________________________________________________________\n",
            "activation (Activation)      (None, 512)               0         \n",
            "_________________________________________________________________\n",
            "dropout (Dropout)            (None, 512)               0         \n",
            "_________________________________________________________________\n",
            "dense_1 (Dense)              (None, 512)               262656    \n",
            "_________________________________________________________________\n",
            "activation_1 (Activation)    (None, 512)               0         \n",
            "_________________________________________________________________\n",
            "dropout_1 (Dropout)          (None, 512)               0         \n",
            "_________________________________________________________________\n",
            "dense_2 (Dense)              (None, 1)                 513       \n",
            "_________________________________________________________________\n",
            "activation_2 (Activation)    (None, 1)                 0         \n",
            "=================================================================\n",
            "Total params: 7,943,681\n",
            "Trainable params: 7,943,681\n",
            "Non-trainable params: 0\n",
            "_________________________________________________________________\n",
            "None\n"
          ]
        }
      ]
    },
    {
      "cell_type": "code",
      "metadata": {
        "colab": {
          "base_uri": "https://localhost:8080/",
          "height": 976
        },
        "id": "FmqltC_LSeZY",
        "scrolled": true,
        "outputId": "df566a46-2b2d-46a9-eb97-4cf5eb3f9ed1"
      },
      "source": [
        "plot_model(model, to_file='model_plot.png', show_shapes=True, show_layer_names=True)"
      ],
      "execution_count": 34,
      "outputs": [
        {
          "output_type": "execute_result",
          "data": {
            "image/png": "[encoded data removed]",
            "text/plain": [
              "<IPython.core.display.Image object>"
            ]
          },
          "metadata": {},
          "execution_count": 34
        }
      ]
    },
    {
      "cell_type": "markdown",
      "metadata": {
        "id": "b-mCMxexSeZZ"
      },
      "source": [
        "#### Compiling the model"
      ]
    },
    {
      "cell_type": "code",
      "metadata": {
        "id": "GMe0FlLNSeZZ"
      },
      "source": [
        "#we use binary crossentropy as a loss function in the compiling of the model, because we want to predict whether the news are 'fake' or 'true'\n",
        "#and 'Adam' as an optimizer (is more robust)\n",
        "model.compile(\n",
        "    loss='binary_crossentropy',\n",
        "    optimizer='adam',\n",
        "    metrics=['accuracy'],)"
      ],
      "execution_count": 35,
      "outputs": []
    },
    {
      "cell_type": "markdown",
      "metadata": {
        "id": "sSc6QsO-SeZa"
      },
      "source": [
        "### Training the Feed Forward Network Model"
      ]
    },
    {
      "cell_type": "code",
      "metadata": {
        "id": "3fjiqZJC8Bgh"
      },
      "source": [
        "monitor = 'val_loss'\n",
        "\n",
        "callbacks = [   \n",
        "    #stop the training when a monitored quantity has stopped improving\n",
        "    EarlyStopping(monitor=monitor, patience=7, verbose=1, restore_best_weights=True),\n",
        "             \n",
        "    #Reduce learning rate is called when a metric has stopped improving\n",
        "    ReduceLROnPlateau(monitor=monitor, factor=0.1, patience=5, verbose=1)]"
      ],
      "execution_count": 36,
      "outputs": []
    },
    {
      "cell_type": "code",
      "metadata": {
        "colab": {
          "base_uri": "https://localhost:8080/"
        },
        "id": "qc7no5dpSeZa",
        "scrolled": false,
        "outputId": "baa291df-49d6-4f2c-9386-787f8c63b857"
      },
      "source": [
        "#we fit the data to our model\n",
        "history = model.fit(\n",
        "    x=X_train_lab.todense(), #features (as dense inputs)\n",
        "    y=y_train_lab,           #labels\n",
        "    batch_size=batch_size,   \n",
        "    epochs=nb_epoch,         \n",
        "    verbose=2,\n",
        "    callbacks = callbacks,             \n",
        "    validation_data=(       \n",
        "    X_test_lab.todense(),               \n",
        "    y_test_lab))"
      ],
      "execution_count": 37,
      "outputs": [
        {
          "output_type": "stream",
          "name": "stdout",
          "text": [
            "Epoch 1/30\n",
            "385/385 - 29s - loss: 0.1137 - accuracy: 0.9694 - val_loss: 0.0658 - val_accuracy: 0.9790\n",
            "Epoch 2/30\n",
            "385/385 - 28s - loss: 0.0221 - accuracy: 0.9945 - val_loss: 0.0763 - val_accuracy: 0.9789\n",
            "Epoch 3/30\n",
            "385/385 - 28s - loss: 0.0162 - accuracy: 0.9968 - val_loss: 0.1140 - val_accuracy: 0.9790\n",
            "Epoch 4/30\n",
            "385/385 - 28s - loss: 0.0074 - accuracy: 0.9985 - val_loss: 0.0881 - val_accuracy: 0.9831\n",
            "Epoch 5/30\n",
            "385/385 - 28s - loss: 0.0064 - accuracy: 0.9987 - val_loss: 0.1246 - val_accuracy: 0.9821\n",
            "Epoch 6/30\n",
            "385/385 - 28s - loss: 0.0260 - accuracy: 0.9972 - val_loss: 0.1651 - val_accuracy: 0.9791\n",
            "\n",
            "Epoch 00006: ReduceLROnPlateau reducing learning rate to 0.00010000000474974513.\n",
            "Epoch 7/30\n",
            "385/385 - 28s - loss: 0.0065 - accuracy: 0.9991 - val_loss: 0.1328 - val_accuracy: 0.9816\n",
            "Epoch 8/30\n",
            "385/385 - 28s - loss: 0.0056 - accuracy: 0.9993 - val_loss: 0.1311 - val_accuracy: 0.9818\n",
            "Restoring model weights from the end of the best epoch.\n",
            "Epoch 00008: early stopping\n"
          ]
        }
      ]
    },
    {
      "cell_type": "code",
      "metadata": {
        "id": "26YLBS68SeZc"
      },
      "source": [
        "def plot_keras_history(history):\n",
        "    \"\"\"    \n",
        "    :param history: \n",
        "    :return: \n",
        "    \"\"\" \n",
        "    metrics_names = [key for key in history.history.keys() if not key.startswith('val_')]\n",
        "\n",
        "    for i, metric in enumerate(metrics_names):\n",
        "        \n",
        "        if i == 2:\n",
        "          break\n",
        "        else:\n",
        "          #getting the training values\n",
        "          metric_train_values = history.history.get(metric, [])\n",
        "          \n",
        "          #getting the validation values\n",
        "          metric_val_values = history.history.get(\"val_{}\".format(metric), [])\n",
        "\n",
        "          epochs = range(1, len(metric_train_values) + 1)\n",
        "          \n",
        "          #leaving extra spaces to allign with the validation text\n",
        "          training_text = \"   Training {}: {:.5f}\".format(metric,\n",
        "                                                          metric_train_values[-1])\n",
        "\n",
        "          #metric\n",
        "          plt.figure(i, figsize=(12, 6))\n",
        "          plt.plot(epochs, metric_train_values, 'b', label=training_text)\n",
        "          \n",
        "          #if the validation metric exists, then plot that as well\n",
        "          if metric_val_values:\n",
        "              validation_text = \"Validation {}: {:.5f}\".format(metric,\n",
        "                                                              metric_val_values[-1])\n",
        "\n",
        "              plt.plot(epochs, metric_val_values, 'g', label=validation_text)\n",
        "          \n",
        "          #add title, xlabel, ylabel, and legend\n",
        "          plt.title('Model Metric: {}'.format(metric))\n",
        "          plt.xlabel('Epochs')\n",
        "          plt.ylabel(metric.title())\n",
        "          plt.legend()\n",
        "\n",
        "    plt.show()"
      ],
      "execution_count": 38,
      "outputs": []
    },
    {
      "cell_type": "code",
      "metadata": {
        "colab": {
          "base_uri": "https://localhost:8080/",
          "height": 791
        },
        "id": "RtoHT6s5SeZc",
        "outputId": "f38e7f05-11ba-4d59-e1f5-7bf9f37d31d1"
      },
      "source": [
        "plot_keras_history(history)"
      ],
      "execution_count": 39,
      "outputs": [
        {
          "output_type": "display_data",
          "data": {
            "image/png": "[encoded data removed]",
            "text/plain": [
              "<Figure size 864x432 with 1 Axes>"
            ]
          },
          "metadata": {
            "needs_background": "light"
          }
        },
        {
          "output_type": "display_data",
          "data": {
            "image/png": "[encoded data removed]",
            "text/plain": [
              "<Figure size 864x432 with 1 Axes>"
            ]
          },
          "metadata": {
            "needs_background": "light"
          }
        }
      ]
    },
    {
      "cell_type": "markdown",
      "metadata": {
        "id": "ujkZDAH7SeZd"
      },
      "source": [
        "### Model Evaluation"
      ]
    },
    {
      "cell_type": "code",
      "metadata": {
        "colab": {
          "base_uri": "https://localhost:8080/"
        },
        "id": "jGyMNkxlSeZd",
        "outputId": "4412c1bf-b430-4cee-ed42-5691dcf72ff4"
      },
      "source": [
        "#evaluate and store on score variable the test dataset\n",
        "score = model.evaluate(\n",
        "    X_val_lab.todense(),    \n",
        "    y_val_lab,             \n",
        "    batch_size=batch_size,   \n",
        "    verbose=2)"
      ],
      "execution_count": 40,
      "outputs": [
        {
          "output_type": "stream",
          "name": "stdout",
          "text": [
            "68/68 - 2s - loss: 0.0732 - accuracy: 0.9795\n"
          ]
        }
      ]
    },
    {
      "cell_type": "code",
      "metadata": {
        "colab": {
          "base_uri": "https://localhost:8080/"
        },
        "id": "UWMWDQdBSeZe",
        "outputId": "abd8375e-871c-4d9b-fe9e-634193fca6b9"
      },
      "source": [
        "print('\\nTest binary_crossentropy: {:.4f}'.format(score[0]))\n",
        "print('\\nTest accuracy: {:.3f} %'.format(score[1]*100))"
      ],
      "execution_count": 41,
      "outputs": [
        {
          "output_type": "stream",
          "name": "stdout",
          "text": [
            "\n",
            "Test binary_crossentropy: 0.0732\n",
            "\n",
            "Test accuracy: 97.953 %\n"
          ]
        }
      ]
    },
    {
      "cell_type": "markdown",
      "metadata": {
        "id": "qTRNw1Z3vx_s"
      },
      "source": [
        "---\n",
        "In the above plots and after the evaluation of the model, we can see the basic metrics of our Feed Forward Neural Network and how they evolve in the passing of the epochs. \n",
        "* First of all, the loss function, a function that shows the error, takes very small values. This is more than good, because it shows that the error for predicting the right class in our binary classification problem is minor. Combining with the fact of both the training and the validation loss have very low values (**from about 0.13 to 0.07**) it is a good indicator of a very promising model. We have to clarify that the training loss indicates how well the model is fitting the training data, while the validation loss indicates how well the model fits new data.\n",
        "\n",
        "* On the other hand, the accuracy metric, a metric  that depicts the ratio of number of correct predictions to the total number of input samples is really high (**nearly 98%** for both training and validation accuracy). This means that our model is very accurate and predicts correctly the class of the news (fake or true) nearly all the time."
      ]
    },
    {
      "cell_type": "markdown",
      "metadata": {
        "id": "huQljX0HSeZe"
      },
      "source": [
        "### Model Prediction "
      ]
    },
    {
      "cell_type": "code",
      "metadata": {
        "colab": {
          "base_uri": "https://localhost:8080/"
        },
        "id": "NWW961tcSeZf",
        "outputId": "f67536bc-1299-4e7a-abba-36a4c3f1c73d"
      },
      "source": [
        "#get the probabilities for each category for every news\n",
        "y_val_pred_probs = model.predict(X_val_lab)\n",
        "y_val_pred_probs"
      ],
      "execution_count": 42,
      "outputs": [
        {
          "output_type": "execute_result",
          "data": {
            "text/plain": [
              "array([[3.2253891e-01],\n",
              "       [1.0000000e+00],\n",
              "       [4.8517722e-07],\n",
              "       ...,\n",
              "       [1.8178344e-02],\n",
              "       [1.2427568e-04],\n",
              "       [1.9893050e-04]], dtype=float32)"
            ]
          },
          "metadata": {},
          "execution_count": 42
        }
      ]
    },
    {
      "cell_type": "code",
      "metadata": {
        "colab": {
          "base_uri": "https://localhost:8080/"
        },
        "id": "q9jrsaGUSeZg",
        "outputId": "12de1421-1d79-4654-e920-56e394885e88"
      },
      "source": [
        "y_val_pred_probs.shape"
      ],
      "execution_count": 43,
      "outputs": [
        {
          "output_type": "execute_result",
          "data": {
            "text/plain": [
              "(4347, 1)"
            ]
          },
          "metadata": {},
          "execution_count": 43
        }
      ]
    },
    {
      "cell_type": "code",
      "metadata": {
        "colab": {
          "base_uri": "https://localhost:8080/"
        },
        "id": "cIEt-sdrSeZi",
        "scrolled": true,
        "outputId": "3e5d82b2-3292-4eb9-9563-616c14561e19"
      },
      "source": [
        "#show the class they belong\n",
        "y_val_preds = (y_val_pred_probs >= 0.5).astype('int64')\n",
        "\n",
        "y_val_preds[:10]"
      ],
      "execution_count": 44,
      "outputs": [
        {
          "output_type": "execute_result",
          "data": {
            "text/plain": [
              "array([[0],\n",
              "       [1],\n",
              "       [0],\n",
              "       [0],\n",
              "       [0],\n",
              "       [1],\n",
              "       [1],\n",
              "       [1],\n",
              "       [0],\n",
              "       [0]])"
            ]
          },
          "metadata": {},
          "execution_count": 44
        }
      ]
    },
    {
      "cell_type": "markdown",
      "metadata": {
        "id": "7k3L0YM3u7vy"
      },
      "source": [
        "* Some more evaluation merics."
      ]
    },
    {
      "cell_type": "code",
      "metadata": {
        "id": "PsHfWMO5SeZn"
      },
      "source": [
        "from sklearn.metrics import confusion_matrix, classification_report\n",
        "from sklearn.metrics import roc_curve, auc\n",
        "from sklearn.metrics import roc_auc_score"
      ],
      "execution_count": 45,
      "outputs": []
    },
    {
      "cell_type": "code",
      "metadata": {
        "colab": {
          "base_uri": "https://localhost:8080/",
          "height": 112
        },
        "id": "NWFZIsNbSeZo",
        "outputId": "0b3a5d09-26dc-4f3b-aa46-881b4062aca3"
      },
      "source": [
        "#confusion matrix\n",
        "conf_mat = confusion_matrix(y_true=y_val_lab, y_pred=y_val_preds)\n",
        "pd.DataFrame(conf_mat, columns = y_lab.classes_, index=y_lab.classes_)"
      ],
      "execution_count": 46,
      "outputs": [
        {
          "output_type": "execute_result",
          "data": {
            "text/html": [
              "<div>\n",
              "<style scoped>\n",
              "    .dataframe tbody tr th:only-of-type {\n",
              "        vertical-align: middle;\n",
              "    }\n",
              "\n",
              "    .dataframe tbody tr th {\n",
              "        vertical-align: top;\n",
              "    }\n",
              "\n",
              "    .dataframe thead th {\n",
              "        text-align: right;\n",
              "    }\n",
              "</style>\n",
              "<table border=\"1\" class=\"dataframe\">\n",
              "  <thead>\n",
              "    <tr style=\"text-align: right;\">\n",
              "      <th></th>\n",
              "      <th>fake</th>\n",
              "      <th>true</th>\n",
              "    </tr>\n",
              "  </thead>\n",
              "  <tbody>\n",
              "    <tr>\n",
              "      <th>fake</th>\n",
              "      <td>1892</td>\n",
              "      <td>71</td>\n",
              "    </tr>\n",
              "    <tr>\n",
              "      <th>true</th>\n",
              "      <td>18</td>\n",
              "      <td>2366</td>\n",
              "    </tr>\n",
              "  </tbody>\n",
              "</table>\n",
              "</div>"
            ],
            "text/plain": [
              "      fake  true\n",
              "fake  1892    71\n",
              "true    18  2366"
            ]
          },
          "metadata": {},
          "execution_count": 46
        }
      ]
    },
    {
      "cell_type": "markdown",
      "metadata": {
        "id": "QIDOdL12nySw"
      },
      "source": [
        "* From the above confusion matrix we can observe that the performance of the model is pretty good. This is concluded by the fact that the predicted values do not differ a lot from the actual values. For example, from the 1963 false news, only the 71 predicted falsefully as true and from the 2384 true new only 18 predicted as fake."
      ]
    },
    {
      "cell_type": "code",
      "metadata": {
        "colab": {
          "base_uri": "https://localhost:8080/"
        },
        "id": "mBRLL7nnSeZq",
        "scrolled": false,
        "outputId": "5ebab77e-117e-44de-8c46-a2bb10c3beef"
      },
      "source": [
        "#classification report\n",
        "print(classification_report(y_true=y_val_lab, y_pred=y_val_preds))"
      ],
      "execution_count": 47,
      "outputs": [
        {
          "output_type": "stream",
          "name": "stdout",
          "text": [
            "              precision    recall  f1-score   support\n",
            "\n",
            "           0       0.99      0.96      0.98      1963\n",
            "           1       0.97      0.99      0.98      2384\n",
            "\n",
            "    accuracy                           0.98      4347\n",
            "   macro avg       0.98      0.98      0.98      4347\n",
            "weighted avg       0.98      0.98      0.98      4347\n",
            "\n"
          ]
        }
      ]
    },
    {
      "cell_type": "markdown",
      "metadata": {
        "id": "iJg5kQfQneHD"
      },
      "source": [
        "Before analyzing the classifiation report it is worth mentioning the definitions of the above metrics. \n",
        "* **Precision** : the number of correct positive results divided by the number of positive results predicted by the classifier.\n",
        "* **Recall** : the number of correct positive results divided by the number of all samples that should have been identified as positive\n",
        "* **F1 Score**: the Harmonic Mean between precision and recall. It shows how precise our classifier is (how many instances are classified correctly), as well as how robust it is (it does not miss a significant number of instances).\n",
        "* **Support**: the number of news.\n",
        "\n",
        "After checking the results of our classification report we can assume that our model performs really good (**from 96% to 99%**)."
      ]
    },
    {
      "cell_type": "code",
      "metadata": {
        "id": "pGuRnh30Eujx"
      },
      "source": [
        "def plot_binary_class_row_auc(y_true,\n",
        "                              clf_names: list,\n",
        "                              clfs_preds: list):\n",
        "    \"\"\"\n",
        "\n",
        "    :param y_true: The true labels in label encoding\n",
        "    :param clf_names: The names of the classifiers in order to plot\n",
        "    :param clfs_preds: A list of numpy arrays, that contain predictions from various classifiers\n",
        "    :return:\n",
        "    \"\"\"\n",
        "    assert len(clf_names) == len(clfs_preds)\n",
        "\n",
        "    plt.figure(1)\n",
        "    plt.plot([0, 1], [0, 1], 'k--')\n",
        "\n",
        "    for clf_name, preds in zip(clf_names, clfs_preds):\n",
        "        fpr, tpr, thresholds = roc_curve(y_true,\n",
        "                                         preds)\n",
        "\n",
        "        # AUC value can also be calculated like this.\n",
        "\n",
        "        auc_score = auc(fpr, tpr)\n",
        "\n",
        "        plt.plot(fpr,\n",
        "                 tpr,\n",
        "                 label='{} (area = {:.3f})'.format(clf_name, auc_score))\n",
        "\n",
        "    plt.xlabel('False positive rate')\n",
        "    plt.ylabel('True positive rate')\n",
        "    plt.title('ROC curve')\n",
        "    plt.legend(loc='best')\n",
        "    plt.show()\n",
        "\n",
        "    # Zoom in view of the upper left corner.\n",
        "    plt.figure(2)\n",
        "    plt.xlim(0, 0.2)\n",
        "    plt.ylim(0.7, 1)\n",
        "    plt.plot([0, 1],\n",
        "             [0, 1],\n",
        "             'k--')\n",
        "\n",
        "    for clf_name, preds in zip(clf_names, clfs_preds):\n",
        "        fpr, tpr, thresholds = roc_curve(y_true,\n",
        "                                         preds)\n",
        "\n",
        "        # AUC value can also be calculated like this.\n",
        "\n",
        "        auc_score = auc(fpr, tpr)\n",
        "\n",
        "        plt.plot(fpr, tpr,\n",
        "                 label='{} (area = {:.3f})'.format(clf_name, auc_score))\n",
        "\n",
        "    plt.xlabel('False positive rate')\n",
        "    plt.ylabel('True positive rate')\n",
        "    plt.title('ROC curve (zoomed in at top left)')\n",
        "    plt.legend(loc='best')\n",
        "    plt.show()"
      ],
      "execution_count": 48,
      "outputs": []
    },
    {
      "cell_type": "code",
      "metadata": {
        "colab": {
          "base_uri": "https://localhost:8080/",
          "height": 573
        },
        "id": "wtUDo1xxE1Np",
        "outputId": "b4c2e4ab-53a0-4343-faeb-51bfb9fbbec7"
      },
      "source": [
        "#ROC curve\n",
        "plot_binary_class_row_auc(y_true=y_val_lab,\n",
        "                          clf_names=['Keras'],\n",
        "                          clfs_preds=[y_val_preds.ravel()])"
      ],
      "execution_count": 49,
      "outputs": [
        {
          "output_type": "display_data",
          "data": {
            "image/png": "[encoded data removed]",
            "text/plain": [
              "<Figure size 432x288 with 1 Axes>"
            ]
          },
          "metadata": {
            "needs_background": "light"
          }
        },
        {
          "output_type": "display_data",
          "data": {
            "image/png": "[encoded data removed]",
            "text/plain": [
              "<Figure size 432x288 with 1 Axes>"
            ]
          },
          "metadata": {
            "needs_background": "light"
          }
        }
      ]
    },
    {
      "cell_type": "code",
      "metadata": {
        "colab": {
          "base_uri": "https://localhost:8080/"
        },
        "id": "fFjFTbBN355Y",
        "outputId": "f54b7af5-e120-49ef-f146-ef651fb228aa"
      },
      "source": [
        "print('ROC Curve Score: ', roc_auc_score(y_val_lab, y_val_preds))"
      ],
      "execution_count": 50,
      "outputs": [
        {
          "output_type": "stream",
          "name": "stdout",
          "text": [
            "ROC Curve Score:  0.9781402677725849\n"
          ]
        }
      ]
    },
    {
      "cell_type": "markdown",
      "metadata": {
        "id": "Aap6BQHRFYiK"
      },
      "source": [
        "Area Under Curve (AUC) of a classifier is the probability that a classifier will rank a randomly chosen positive example higher than a randomly chosen negative example. So, we want the curve to approach as much the upper left corner of the graph as possible. In other words we want the ratio true positive to false positive to have the biggest possible value. This is happening to our case, something which indicates nearly perfect performance of our model (97.81%)."
      ]
    },
    {
      "cell_type": "markdown",
      "metadata": {
        "id": "8LCyd893vRDn"
      },
      "source": [
        "* Let 's see an example for testing the accuracy of the model."
      ]
    },
    {
      "cell_type": "code",
      "metadata": {
        "colab": {
          "base_uri": "https://localhost:8080/",
          "height": 188
        },
        "id": "rsVI-h7zWoaH",
        "outputId": "39213132-fce9-4c50-eb6e-f3ec1fc84873"
      },
      "source": [
        "df[df['clean_text'] == X_val.iloc[1400,]]"
      ],
      "execution_count": 51,
      "outputs": [
        {
          "output_type": "execute_result",
          "data": {
            "text/html": [
              "<div>\n",
              "<style scoped>\n",
              "    .dataframe tbody tr th:only-of-type {\n",
              "        vertical-align: middle;\n",
              "    }\n",
              "\n",
              "    .dataframe tbody tr th {\n",
              "        vertical-align: top;\n",
              "    }\n",
              "\n",
              "    .dataframe thead th {\n",
              "        text-align: right;\n",
              "    }\n",
              "</style>\n",
              "<table border=\"1\" class=\"dataframe\">\n",
              "  <thead>\n",
              "    <tr style=\"text-align: right;\">\n",
              "      <th></th>\n",
              "      <th>title</th>\n",
              "      <th>text</th>\n",
              "      <th>subject</th>\n",
              "      <th>date</th>\n",
              "      <th>label</th>\n",
              "      <th>caps_in_title</th>\n",
              "      <th>text_tokens</th>\n",
              "      <th>text_urls</th>\n",
              "      <th>clean_text</th>\n",
              "      <th>title_urls</th>\n",
              "      <th>twitter_handles</th>\n",
              "      <th>clean_title</th>\n",
              "      <th>clean_text_tokens</th>\n",
              "      <th>clean_title_tokens</th>\n",
              "    </tr>\n",
              "  </thead>\n",
              "  <tbody>\n",
              "    <tr>\n",
              "      <th>27629</th>\n",
              "      <td>Trump warns Republicans against pushing a thir...</td>\n",
              "      <td>WASHINGTON (Reuters) - Republican presidential...</td>\n",
              "      <td>politicsNews</td>\n",
              "      <td>2016-03-21</td>\n",
              "      <td>true</td>\n",
              "      <td>2</td>\n",
              "      <td>['WASHINGTON', '(Reuters)', 'Republican', 'pre...</td>\n",
              "      <td>[]</td>\n",
              "      <td>WASHINGTON   - republican presidential front-r...</td>\n",
              "      <td>[]</td>\n",
              "      <td>[]</td>\n",
              "      <td>trump warns republicans against pushing a thir...</td>\n",
              "      <td>['WASHINGTON', 'republican', 'presidential', '...</td>\n",
              "      <td>['trump', 'warns', 'republicans', 'against', '...</td>\n",
              "    </tr>\n",
              "  </tbody>\n",
              "</table>\n",
              "</div>"
            ],
            "text/plain": [
              "                                                   title  ...                                 clean_title_tokens\n",
              "27629  Trump warns Republicans against pushing a thir...  ...  ['trump', 'warns', 'republicans', 'against', '...\n",
              "\n",
              "[1 rows x 14 columns]"
            ]
          },
          "metadata": {},
          "execution_count": 51
        }
      ]
    },
    {
      "cell_type": "code",
      "metadata": {
        "colab": {
          "base_uri": "https://localhost:8080/",
          "height": 109
        },
        "id": "vRzDYmyovdc7",
        "outputId": "4d50ebe6-73e6-4d03-da53-cd08f06024ac"
      },
      "source": [
        "X_val.iloc[1400,]"
      ],
      "execution_count": 52,
      "outputs": [
        {
          "output_type": "execute_result",
          "data": {
            "application/vnd.google.colaboratory.intrinsic+json": {
              "type": "string"
            },
            "text/plain": [
              "'WASHINGTON   - republican presidential front-runner donald trump on monday warned republicans against backing a third-party candidate should he win the party’s nomination, saying doing so would hand the election to the democrats. “democrats are going to win almost certainly,” trump said at a news conference in commenting on the prospects of republicans trying to coalesce around a third-party candidate to prevent him from winning office. “you can’t be that spiteful because you would destroy the country.”'"
            ]
          },
          "metadata": {},
          "execution_count": 52
        }
      ]
    },
    {
      "cell_type": "code",
      "metadata": {
        "colab": {
          "base_uri": "https://localhost:8080/"
        },
        "id": "ul9EbOBrSeZr",
        "scrolled": false,
        "outputId": "1c5c5079-d105-4c0e-e30a-d8defabe8961"
      },
      "source": [
        "input_news = X_val.iloc[1400,]\n",
        "\n",
        "#vectorizing news with Count Vectorizer\n",
        "news_vect = counter_vectorizer.transform([input_news])\n",
        "\n",
        "print(news_vect.shape, end='\\n\\n')\n",
        "\n",
        "news_pred = model.predict(news_vect)\n",
        "\n",
        "print('Probabilities:', end='\\n\\n')\n",
        "print(news_pred, end='\\n\\n')\n",
        "\n",
        "news_pred_lab = (news_pred >= 0.5).astype('int64')\n",
        "\n",
        "print('Probabilities Label Vector:', end='\\n\\n')\n",
        "print(news_pred_lab, end='\\n\\n')\n",
        "\n",
        "print('News Prediction:', end='\\n\\n')\n",
        "if news_pred_lab == 0:\n",
        "  print('fake')\n",
        "else:\n",
        "  print('true')"
      ],
      "execution_count": 53,
      "outputs": [
        {
          "output_type": "stream",
          "name": "stdout",
          "text": [
            "(1, 15000)\n",
            "\n",
            "Probabilities:\n",
            "\n",
            "[[0.97059184]]\n",
            "\n",
            "Probabilities Label Vector:\n",
            "\n",
            "[[1]]\n",
            "\n",
            "News Prediction:\n",
            "\n",
            "true\n"
          ]
        }
      ]
    },
    {
      "cell_type": "markdown",
      "metadata": {
        "id": "wXMLQywGzHOH"
      },
      "source": [
        "## Word Embeddings"
      ]
    },
    {
      "cell_type": "markdown",
      "metadata": {
        "id": "BdRIUMiQv6L4"
      },
      "source": [
        "---\n",
        "An embedding is a relatively low-dimensional space into which you can translate high-dimensional vectors. Embeddings are very useful for representing words, because the take into account the semantics of each word. For example, similar inputs are placed close together in the embedding space. \n",
        "\n",
        "The major difference with label-encoding is that it turns text into sequence of numbers. "
      ]
    },
    {
      "cell_type": "code",
      "metadata": {
        "id": "XBRy8nwEzcpG"
      },
      "source": [
        "import os\n",
        "from glob import glob\n",
        "from typing import Tuple, List\n",
        "from tensorflow.keras.preprocessing import text, sequence \n",
        "from tensorflow.python.keras.layers import Embedding, Flatten, Dense\n",
        "from tensorflow.python.keras.models import Sequential\n",
        "from tensorflow.python.keras.preprocessing.sequence import pad_sequences\n",
        "from tensorflow.python.keras.preprocessing.text import Tokenizer\n",
        "from tqdm import tqdm\n",
        "from ipywidgets import interact"
      ],
      "execution_count": 54,
      "outputs": []
    },
    {
      "cell_type": "code",
      "metadata": {
        "id": "VzbW-cfZzGPd"
      },
      "source": [
        "max_words = 15_000  #we will only take the 15K most used words in the whole news dataset\n",
        "\n",
        "#initialize the Keras tokenizer\n",
        "reviews_tokenizer = Tokenizer(num_words=max_words, lower=True, oov_token='<OOV>')\n",
        "reviews_tokenizer.fit_on_texts(X_train)"
      ],
      "execution_count": 55,
      "outputs": []
    },
    {
      "cell_type": "code",
      "metadata": {
        "id": "HTgkkuofLyeY"
      },
      "source": [
        "reviews_tokenizerTest = Tokenizer(num_words=max_words, lower=True, oov_token='<OOV>')\n",
        "reviews_tokenizerTest.fit_on_texts(X_test)"
      ],
      "execution_count": 56,
      "outputs": []
    },
    {
      "cell_type": "code",
      "metadata": {
        "id": "djojAePJOfi7"
      },
      "source": [
        "reviews_tokenizerVal = Tokenizer(num_words=max_words, lower=True, oov_token='<OOV>')\n",
        "reviews_tokenizerVal.fit_on_texts(X_val)"
      ],
      "execution_count": 57,
      "outputs": []
    },
    {
      "cell_type": "code",
      "metadata": {
        "id": "Hl9DRXiQOYcK"
      },
      "source": [
        "xtrain_seq = reviews_tokenizer.texts_to_sequences(X_train)\n",
        "xtest_seq = reviews_tokenizerTest.texts_to_sequences(X_test)\n",
        "xval_seq = reviews_tokenizerVal.texts_to_sequences(X_val)"
      ],
      "execution_count": 58,
      "outputs": []
    },
    {
      "cell_type": "markdown",
      "metadata": {
        "id": "VZvmaJMKyGvi"
      },
      "source": [
        "* In order to continue, we have to make sure that all the sentences that will be used in our model will have the same length. So, we use the `Keras pad sequences tool`. This tool, cuts those sentences that are too big and for those that are too small adds zeros. \n",
        "\n",
        "Here, we make all the sentences to have length 401 words (the average words of each sentence)."
      ]
    },
    {
      "cell_type": "code",
      "metadata": {
        "colab": {
          "base_uri": "https://localhost:8080/"
        },
        "id": "wR4b7PQ22haV",
        "outputId": "267bcecf-1be0-410a-b609-3ca84c425f86"
      },
      "source": [
        "import statistics\n",
        "seq_len = [len(i.split()) for i in X_train]\n",
        "MAX_LENGHT = int(statistics.mean(seq_len))\n",
        "print(MAX_LENGHT)"
      ],
      "execution_count": 59,
      "outputs": [
        {
          "output_type": "stream",
          "name": "stdout",
          "text": [
            "401\n"
          ]
        }
      ]
    },
    {
      "cell_type": "code",
      "metadata": {
        "id": "wAs5PwcZzjpc"
      },
      "source": [
        "xtrain_pad = pad_sequences(xtrain_seq, maxlen=MAX_LENGHT)\n",
        "xtest_pad = pad_sequences(xtest_seq, maxlen=MAX_LENGHT)\n",
        "xval_pad = pad_sequences(xval_seq, maxlen=MAX_LENGHT) #create embedding (wonrds into sequence of numbers)"
      ],
      "execution_count": 60,
      "outputs": []
    },
    {
      "cell_type": "markdown",
      "metadata": {
        "id": "CN01vJp-xWPu"
      },
      "source": [
        "* These tokenizers create a dictionary that maps each word to a number. If we take a closer look, we can infer that those words are used more in the news take a lower token number. Some examples are the following:"
      ]
    },
    {
      "cell_type": "code",
      "metadata": {
        "colab": {
          "base_uri": "https://localhost:8080/"
        },
        "id": "DVdMJSErzjwH",
        "outputId": "6698064a-9540-4c13-803d-96e0ddaf0724"
      },
      "source": [
        "word_index = reviews_tokenizer.word_index\n",
        "\n",
        "print('Token for the word \"news\": {}'.format(word_index['news']))\n",
        "print('Token for the word \"the\": {}'.format(word_index['the']))\n",
        "print('Token for the word \"happy\": {}'.format(word_index['happy']))\n",
        "print('Token for the word \"sad\": {}'.format(word_index['sad']))"
      ],
      "execution_count": 61,
      "outputs": [
        {
          "output_type": "stream",
          "name": "stdout",
          "text": [
            "Token for the word \"news\": 106\n",
            "Token for the word \"the\": 2\n",
            "Token for the word \"happy\": 1663\n",
            "Token for the word \"sad\": 2258\n"
          ]
        }
      ]
    },
    {
      "cell_type": "markdown",
      "metadata": {
        "id": "6Kdrd-sOKIm_"
      },
      "source": [
        "* Build the vocabulary from the text taken in [Kaggle](https://www.kaggle.com/thanakomsn/glove6b300dtxt?select=glove.6B.300d.txt)"
      ]
    },
    {
      "cell_type": "code",
      "metadata": {
        "colab": {
          "base_uri": "https://localhost:8080/"
        },
        "id": "CeVlt8jxoX73",
        "outputId": "54f94957-e262-44f1-9a5e-8e0b5422863b"
      },
      "source": [
        "embedding_vectors = {}\n",
        "with open('gdrive/MyDrive/glove.6B.300d.txt','r',encoding='utf-8') as file:\n",
        "    for row in file:\n",
        "        values = row.split(' ')\n",
        "        word = values[0]\n",
        "        weights = np.asarray([float(val) for val in values[1:]])\n",
        "        embedding_vectors[word] = weights\n",
        "print(f\"Size of vocabulary in GloVe: {len(embedding_vectors)}\") "
      ],
      "execution_count": 62,
      "outputs": [
        {
          "output_type": "stream",
          "name": "stdout",
          "text": [
            "Size of vocabulary in GloVe: 400000\n"
          ]
        }
      ]
    },
    {
      "cell_type": "code",
      "metadata": {
        "id": "HQpoC5FboZ9M"
      },
      "source": [
        "#initialize the embedding_matrix with zeros\n",
        "emb_dim = 300\n",
        "if max_words is not None: \n",
        "    vocab_len = max_words \n",
        "else:\n",
        "    vocab_len = len(word_index)+1\n",
        "embedding_matrix = np.zeros((vocab_len, emb_dim))\n",
        "oov_count = 0\n",
        "oov_words = []\n",
        "for word, idx in word_index.items():\n",
        "    if idx < vocab_len:\n",
        "        embedding_vector = embedding_vectors.get(word)\n",
        "        if embedding_vector is not None:\n",
        "            embedding_matrix[idx] = embedding_vector\n",
        "        else:\n",
        "            oov_count += 1 \n",
        "            oov_words.append(word)"
      ],
      "execution_count": 63,
      "outputs": []
    },
    {
      "cell_type": "markdown",
      "metadata": {
        "id": "T3SNmTDnLM7-"
      },
      "source": [
        "#### Model Setup"
      ]
    },
    {
      "cell_type": "code",
      "metadata": {
        "colab": {
          "base_uri": "https://localhost:8080/"
        },
        "id": "qc3jgv9y7NQQ",
        "outputId": "7b5eb25b-ff53-4f35-c216-93b43eb4fe22"
      },
      "source": [
        "# Setting the model\n",
        "model1 = Sequential()\n",
        "model1.add(Embedding(input_dim=vocab_len,\n",
        "                      output_dim=300,\n",
        "                      embeddings_initializer='uniform',\n",
        "                      mask_zero=True, weights=[embedding_matrix],\n",
        "                      input_length=MAX_LENGHT))\n",
        "\n",
        "model1.add(Flatten()) #flattening is converting the data into a 1-dimensional array for inputting it to the next layer\n",
        "\n",
        "model1.add(Dense(512, activation='relu'))\n",
        "\n",
        "#use a dropout layer with with 40% of inputs dropped\n",
        "model1.add(Dropout(dropout_rate))\n",
        "\n",
        "#add a dense layer (MLP) \n",
        "model1.add(Dense(1, activation='sigmoid'))\n",
        "\n",
        "print(model1.summary())\n",
        "\n",
        "model1.compile(optimizer='adam',\n",
        "                loss='binary_crossentropy',\n",
        "                metrics=['acc'])"
      ],
      "execution_count": 64,
      "outputs": [
        {
          "output_type": "stream",
          "name": "stdout",
          "text": [
            "Model: \"sequential\"\n",
            "_________________________________________________________________\n",
            "Layer (type)                 Output Shape              Param #   \n",
            "=================================================================\n",
            "embedding (Embedding)        (None, 401, 300)          4500000   \n",
            "_________________________________________________________________\n",
            "flatten (Flatten)            (None, 120300)            0         \n",
            "_________________________________________________________________\n",
            "dense (Dense)                (None, 512)               61594112  \n",
            "_________________________________________________________________\n",
            "module_wrapper (ModuleWrappe (None, 512)               0         \n",
            "_________________________________________________________________\n",
            "dense_1 (Dense)              (None, 1)                 513       \n",
            "=================================================================\n",
            "Total params: 66,094,625\n",
            "Trainable params: 66,094,625\n",
            "Non-trainable params: 0\n",
            "_________________________________________________________________\n",
            "None\n"
          ]
        }
      ]
    },
    {
      "cell_type": "code",
      "metadata": {
        "colab": {
          "base_uri": "https://localhost:8080/"
        },
        "id": "XLwENHyT7WYq",
        "outputId": "346838af-4a1c-43e6-d09a-2d5b83a0f5b6"
      },
      "source": [
        "history = model1.fit(xtrain_pad, y_train_lab,\n",
        "                     epochs=30,\n",
        "                     batch_size=64,\n",
        "                     callbacks = callbacks,\n",
        "                     validation_data=(xtest_pad, y_test_lab))"
      ],
      "execution_count": 65,
      "outputs": [
        {
          "output_type": "stream",
          "name": "stdout",
          "text": [
            "Epoch 1/30\n",
            "385/385 [==============================] - 313s 812ms/step - loss: 0.2040 - acc: 0.9474 - val_loss: 0.6411 - val_acc: 0.7317\n",
            "Epoch 2/30\n",
            "385/385 [==============================] - 310s 807ms/step - loss: 0.0098 - acc: 0.9973 - val_loss: 0.8182 - val_acc: 0.7239\n",
            "Epoch 3/30\n",
            "385/385 [==============================] - 310s 806ms/step - loss: 0.0015 - acc: 0.9997 - val_loss: 1.2198 - val_acc: 0.7094\n",
            "Epoch 4/30\n",
            "385/385 [==============================] - 310s 805ms/step - loss: 4.7362e-04 - acc: 1.0000 - val_loss: 1.1155 - val_acc: 0.7298\n",
            "Epoch 5/30\n",
            "385/385 [==============================] - 310s 805ms/step - loss: 0.0011 - acc: 0.9996 - val_loss: 1.7344 - val_acc: 0.6975\n",
            "Epoch 6/30\n",
            "385/385 [==============================] - 310s 806ms/step - loss: 0.0136 - acc: 0.9957 - val_loss: 1.7578 - val_acc: 0.7093\n",
            "\n",
            "Epoch 00006: ReduceLROnPlateau reducing learning rate to 0.00010000000474974513.\n",
            "Epoch 7/30\n",
            "385/385 [==============================] - 310s 805ms/step - loss: 0.0046 - acc: 0.9985 - val_loss: 1.4132 - val_acc: 0.7382\n",
            "Epoch 8/30\n",
            "385/385 [==============================] - 311s 807ms/step - loss: 0.0010 - acc: 0.9997 - val_loss: 1.3087 - val_acc: 0.7472\n",
            "Restoring model weights from the end of the best epoch.\n",
            "Epoch 00008: early stopping\n"
          ]
        }
      ]
    },
    {
      "cell_type": "code",
      "metadata": {
        "id": "1QRbOOeUwFAR",
        "colab": {
          "base_uri": "https://localhost:8080/",
          "height": 791
        },
        "outputId": "9f7fc407-5994-41ee-c44c-4b38bc0528f2"
      },
      "source": [
        "plot_keras_history(history)"
      ],
      "execution_count": 66,
      "outputs": [
        {
          "output_type": "display_data",
          "data": {
            "image/png": "[encoded data removed]",
            "text/plain": [
              "<Figure size 864x432 with 1 Axes>"
            ]
          },
          "metadata": {
            "needs_background": "light"
          }
        },
        {
          "output_type": "display_data",
          "data": {
            "image/png": "[encoded data removed]",
            "text/plain": [
              "<Figure size 864x432 with 1 Axes>"
            ]
          },
          "metadata": {
            "needs_background": "light"
          }
        }
      ]
    },
    {
      "cell_type": "markdown",
      "metadata": {
        "id": "3CjEJblW5Us7"
      },
      "source": [
        "### Predicting using the fitted model"
      ]
    },
    {
      "cell_type": "code",
      "metadata": {
        "id": "8Gbj2DRFPBed",
        "colab": {
          "base_uri": "https://localhost:8080/"
        },
        "outputId": "c7898397-fcc5-4d14-b865-a2659a4a3322"
      },
      "source": [
        "score = model1.evaluate(\n",
        "    xval_pad,    \n",
        "    y_val_lab,             \n",
        "    batch_size=batch_size,   \n",
        "    verbose=2)"
      ],
      "execution_count": 67,
      "outputs": [
        {
          "output_type": "stream",
          "name": "stdout",
          "text": [
            "68/68 - 10s - loss: 0.7003 - acc: 0.7039\n"
          ]
        }
      ]
    },
    {
      "cell_type": "code",
      "metadata": {
        "id": "GYmNdJeAQNMY",
        "colab": {
          "base_uri": "https://localhost:8080/"
        },
        "outputId": "381f8a60-1e8c-4bb8-8e0b-bce001776fa8"
      },
      "source": [
        "print('\\nTest binary_crossentropy: {:.4f}'.format(score[0]))\n",
        "print('\\nTest accuracy: {:.3f} %'.format(score[1]*100))"
      ],
      "execution_count": 68,
      "outputs": [
        {
          "output_type": "stream",
          "name": "stdout",
          "text": [
            "\n",
            "Test binary_crossentropy: 0.7003\n",
            "\n",
            "Test accuracy: 70.393 %\n"
          ]
        }
      ]
    },
    {
      "cell_type": "markdown",
      "metadata": {
        "id": "eS3OwzRTDKsS"
      },
      "source": [
        "* In this case we can observe that the model was created with embeddings is worse than the previous one as far as the loss and the accuracy in the training and test set. We can see 1,31 loss on validation set, 0,70 loss on test set, approximately 75 % accuracy on validation set and only 70,4 % accuracy on test set. These differences are pretty big comparing with the previous model, which had very satisfying results. "
      ]
    },
    {
      "cell_type": "code",
      "metadata": {
        "id": "cUk2xNw1QQ9B",
        "colab": {
          "base_uri": "https://localhost:8080/"
        },
        "outputId": "e98106bf-6258-4cac-97ff-c20fbe04652b"
      },
      "source": [
        "y_val_pred_probs = model1.predict(xval_pad)\n",
        "y_val_pred_probs"
      ],
      "execution_count": 69,
      "outputs": [
        {
          "output_type": "execute_result",
          "data": {
            "text/plain": [
              "array([[0.2810756 ],\n",
              "       [0.998646  ],\n",
              "       [0.39778343],\n",
              "       ...,\n",
              "       [0.53716797],\n",
              "       [0.90908134],\n",
              "       [0.19215226]], dtype=float32)"
            ]
          },
          "metadata": {},
          "execution_count": 69
        }
      ]
    },
    {
      "cell_type": "code",
      "metadata": {
        "id": "ZIonNnbjQRCp",
        "colab": {
          "base_uri": "https://localhost:8080/"
        },
        "outputId": "c7cbe5bc-79e4-449e-878b-1c6f8636356f"
      },
      "source": [
        "y_val_preds = (y_val_pred_probs >= 0.5).astype('int64')\n",
        "\n",
        "y_val_preds[:10]"
      ],
      "execution_count": 70,
      "outputs": [
        {
          "output_type": "execute_result",
          "data": {
            "text/plain": [
              "array([[0],\n",
              "       [1],\n",
              "       [0],\n",
              "       [1],\n",
              "       [1],\n",
              "       [1],\n",
              "       [1],\n",
              "       [0],\n",
              "       [0],\n",
              "       [0]])"
            ]
          },
          "metadata": {},
          "execution_count": 70
        }
      ]
    },
    {
      "cell_type": "code",
      "metadata": {
        "id": "Mi7v6CAdQRF9",
        "colab": {
          "base_uri": "https://localhost:8080/",
          "height": 112
        },
        "outputId": "86dcd7dd-291a-4d13-ac63-34a515c65bef"
      },
      "source": [
        "#confusion matrix\n",
        "conf_mat = confusion_matrix(y_true=y_val_lab, y_pred=y_val_preds)\n",
        "pd.DataFrame(conf_mat, columns = y_lab.classes_, index= y_lab.classes_)"
      ],
      "execution_count": 71,
      "outputs": [
        {
          "output_type": "execute_result",
          "data": {
            "text/html": [
              "<div>\n",
              "<style scoped>\n",
              "    .dataframe tbody tr th:only-of-type {\n",
              "        vertical-align: middle;\n",
              "    }\n",
              "\n",
              "    .dataframe tbody tr th {\n",
              "        vertical-align: top;\n",
              "    }\n",
              "\n",
              "    .dataframe thead th {\n",
              "        text-align: right;\n",
              "    }\n",
              "</style>\n",
              "<table border=\"1\" class=\"dataframe\">\n",
              "  <thead>\n",
              "    <tr style=\"text-align: right;\">\n",
              "      <th></th>\n",
              "      <th>fake</th>\n",
              "      <th>true</th>\n",
              "    </tr>\n",
              "  </thead>\n",
              "  <tbody>\n",
              "    <tr>\n",
              "      <th>fake</th>\n",
              "      <td>932</td>\n",
              "      <td>1031</td>\n",
              "    </tr>\n",
              "    <tr>\n",
              "      <th>true</th>\n",
              "      <td>256</td>\n",
              "      <td>2128</td>\n",
              "    </tr>\n",
              "  </tbody>\n",
              "</table>\n",
              "</div>"
            ],
            "text/plain": [
              "      fake  true\n",
              "fake   932  1031\n",
              "true   256  2128"
            ]
          },
          "metadata": {},
          "execution_count": 71
        }
      ]
    },
    {
      "cell_type": "code",
      "metadata": {
        "id": "NIGEqACtQRJ0",
        "colab": {
          "base_uri": "https://localhost:8080/"
        },
        "outputId": "bc77fc12-dc45-4c66-8683-9a4eabddbe81"
      },
      "source": [
        "#classification report\n",
        "print(classification_report(y_true=y_val_lab, y_pred=y_val_preds))"
      ],
      "execution_count": 72,
      "outputs": [
        {
          "output_type": "stream",
          "name": "stdout",
          "text": [
            "              precision    recall  f1-score   support\n",
            "\n",
            "           0       0.78      0.47      0.59      1963\n",
            "           1       0.67      0.89      0.77      2384\n",
            "\n",
            "    accuracy                           0.70      4347\n",
            "   macro avg       0.73      0.68      0.68      4347\n",
            "weighted avg       0.72      0.70      0.69      4347\n",
            "\n"
          ]
        }
      ]
    },
    {
      "cell_type": "code",
      "metadata": {
        "id": "r45cu-93Rinz",
        "colab": {
          "base_uri": "https://localhost:8080/",
          "height": 573
        },
        "outputId": "b944ffeb-9dd9-437a-de97-d89a5d0a32bd"
      },
      "source": [
        "#ROC curve\n",
        "plot_binary_class_row_auc(y_true=y_val_lab,\n",
        "                          clf_names=['Keras'],\n",
        "                          clfs_preds=[y_val_preds.ravel()])"
      ],
      "execution_count": 73,
      "outputs": [
        {
          "output_type": "display_data",
          "data": {
            "image/png": "[encoded data removed]",
            "text/plain": [
              "<Figure size 432x288 with 1 Axes>"
            ]
          },
          "metadata": {
            "needs_background": "light"
          }
        },
        {
          "output_type": "display_data",
          "data": {
            "image/png": "[encoded data removed]",
            "text/plain": [
              "<Figure size 432x288 with 1 Axes>"
            ]
          },
          "metadata": {
            "needs_background": "light"
          }
        }
      ]
    },
    {
      "cell_type": "code",
      "metadata": {
        "id": "REBu21Qrr9J4",
        "colab": {
          "base_uri": "https://localhost:8080/"
        },
        "outputId": "1fe61e5c-1969-4802-abee-d6e046121dc8"
      },
      "source": [
        "print('ROC Curve Score: ', roc_auc_score(y_val_lab, y_val_preds))"
      ],
      "execution_count": 74,
      "outputs": [
        {
          "output_type": "stream",
          "name": "stdout",
          "text": [
            "ROC Curve Score:  0.6837004721577369\n"
          ]
        }
      ]
    },
    {
      "cell_type": "markdown",
      "metadata": {
        "id": "jUrlMLgiDjlQ"
      },
      "source": [
        "Here is an example. We are giving a text in the model and it returns to us how much fake it is."
      ]
    },
    {
      "cell_type": "code",
      "metadata": {
        "id": "6BK6715w5bMr",
        "colab": {
          "base_uri": "https://localhost:8080/",
          "height": 36
        },
        "outputId": "c59c8967-8f81-4712-96de-53a31fe7c58a"
      },
      "source": [
        "X_val.iloc[1943,]"
      ],
      "execution_count": 75,
      "outputs": [
        {
          "output_type": "execute_result",
          "data": {
            "application/vnd.google.colaboratory.intrinsic+json": {
              "type": "string"
            },
            "text/plain": [
              "'OOPS! IN   BILL CLINTON SAID THE SAME THING MAKE AMERICA GREAT AGAIN :'"
            ]
          },
          "metadata": {},
          "execution_count": 75
        }
      ]
    },
    {
      "cell_type": "code",
      "metadata": {
        "id": "PflPzlcpSAop",
        "colab": {
          "base_uri": "https://localhost:8080/",
          "height": 222
        },
        "outputId": "f631d3c8-055f-4e02-ed2f-f933e2425572"
      },
      "source": [
        "df[df['clean_text'] == X_val.iloc[1943,]]"
      ],
      "execution_count": 76,
      "outputs": [
        {
          "output_type": "execute_result",
          "data": {
            "text/html": [
              "<div>\n",
              "<style scoped>\n",
              "    .dataframe tbody tr th:only-of-type {\n",
              "        vertical-align: middle;\n",
              "    }\n",
              "\n",
              "    .dataframe tbody tr th {\n",
              "        vertical-align: top;\n",
              "    }\n",
              "\n",
              "    .dataframe thead th {\n",
              "        text-align: right;\n",
              "    }\n",
              "</style>\n",
              "<table border=\"1\" class=\"dataframe\">\n",
              "  <thead>\n",
              "    <tr style=\"text-align: right;\">\n",
              "      <th></th>\n",
              "      <th>title</th>\n",
              "      <th>text</th>\n",
              "      <th>subject</th>\n",
              "      <th>date</th>\n",
              "      <th>label</th>\n",
              "      <th>caps_in_title</th>\n",
              "      <th>text_tokens</th>\n",
              "      <th>text_urls</th>\n",
              "      <th>clean_text</th>\n",
              "      <th>title_urls</th>\n",
              "      <th>twitter_handles</th>\n",
              "      <th>clean_title</th>\n",
              "      <th>clean_text_tokens</th>\n",
              "      <th>clean_title_tokens</th>\n",
              "    </tr>\n",
              "  </thead>\n",
              "  <tbody>\n",
              "    <tr>\n",
              "      <th>12690</th>\n",
              "      <td>IRONIC: WHITE SOUTHERNER BILL CLINTON Just Tol...</td>\n",
              "      <td>OOPS! IN 2008 BILL CLINTON SAID THE SAME THING...</td>\n",
              "      <td>politics</td>\n",
              "      <td>2016-09-09</td>\n",
              "      <td>fake</td>\n",
              "      <td>41</td>\n",
              "      <td>['OOPS', 'IN', '2008', 'BILL', 'CLINTON', 'SAI...</td>\n",
              "      <td>[]</td>\n",
              "      <td>OOPS! IN   BILL CLINTON SAID THE SAME THING MA...</td>\n",
              "      <td>[]</td>\n",
              "      <td>[]</td>\n",
              "      <td>IRONIC: WHITE SOUTHERNER BILL CLINTON just tol...</td>\n",
              "      <td>['OOPS', '!', 'IN', 'BILL', 'CLINTON', 'SAID',...</td>\n",
              "      <td>['IRONIC', 'WHITE', 'SOUTHERNER', 'BILL', 'CLI...</td>\n",
              "    </tr>\n",
              "  </tbody>\n",
              "</table>\n",
              "</div>"
            ],
            "text/plain": [
              "                                                   title  ...                                 clean_title_tokens\n",
              "12690  IRONIC: WHITE SOUTHERNER BILL CLINTON Just Tol...  ...  ['IRONIC', 'WHITE', 'SOUTHERNER', 'BILL', 'CLI...\n",
              "\n",
              "[1 rows x 14 columns]"
            ]
          },
          "metadata": {},
          "execution_count": 76
        }
      ]
    },
    {
      "cell_type": "code",
      "metadata": {
        "id": "Wku2XpKY5WFJ",
        "colab": {
          "base_uri": "https://localhost:8080/"
        },
        "outputId": "314275d8-70c2-45c5-d07c-14c3bc9037c0"
      },
      "source": [
        "# Demo on a fake text\n",
        "my_text = df.iloc[12690,1] #the index\n",
        "\n",
        "seq = reviews_tokenizer.texts_to_sequences([my_text])\n",
        "print('raw seq:', seq)\n",
        "\n",
        "seq = pad_sequences(seq, maxlen=MAX_LENGHT)\n",
        "print('padded seq:', seq)\n",
        "\n",
        "prediction = model1.predict(seq)\n",
        "print('truthfullness:', prediction)"
      ],
      "execution_count": 77,
      "outputs": [
        {
          "output_type": "stream",
          "name": "stdout",
          "text": [
            "raw seq: [[12293, 7, 1, 161, 78, 13, 2, 245, 412, 135, 183, 375, 298]]\n",
            "padded seq: [[    0     0     0     0     0     0     0     0     0     0     0     0\n",
            "      0     0     0     0     0     0     0     0     0     0     0     0\n",
            "      0     0     0     0     0     0     0     0     0     0     0     0\n",
            "      0     0     0     0     0     0     0     0     0     0     0     0\n",
            "      0     0     0     0     0     0     0     0     0     0     0     0\n",
            "      0     0     0     0     0     0     0     0     0     0     0     0\n",
            "      0     0     0     0     0     0     0     0     0     0     0     0\n",
            "      0     0     0     0     0     0     0     0     0     0     0     0\n",
            "      0     0     0     0     0     0     0     0     0     0     0     0\n",
            "      0     0     0     0     0     0     0     0     0     0     0     0\n",
            "      0     0     0     0     0     0     0     0     0     0     0     0\n",
            "      0     0     0     0     0     0     0     0     0     0     0     0\n",
            "      0     0     0     0     0     0     0     0     0     0     0     0\n",
            "      0     0     0     0     0     0     0     0     0     0     0     0\n",
            "      0     0     0     0     0     0     0     0     0     0     0     0\n",
            "      0     0     0     0     0     0     0     0     0     0     0     0\n",
            "      0     0     0     0     0     0     0     0     0     0     0     0\n",
            "      0     0     0     0     0     0     0     0     0     0     0     0\n",
            "      0     0     0     0     0     0     0     0     0     0     0     0\n",
            "      0     0     0     0     0     0     0     0     0     0     0     0\n",
            "      0     0     0     0     0     0     0     0     0     0     0     0\n",
            "      0     0     0     0     0     0     0     0     0     0     0     0\n",
            "      0     0     0     0     0     0     0     0     0     0     0     0\n",
            "      0     0     0     0     0     0     0     0     0     0     0     0\n",
            "      0     0     0     0     0     0     0     0     0     0     0     0\n",
            "      0     0     0     0     0     0     0     0     0     0     0     0\n",
            "      0     0     0     0     0     0     0     0     0     0     0     0\n",
            "      0     0     0     0     0     0     0     0     0     0     0     0\n",
            "      0     0     0     0     0     0     0     0     0     0     0     0\n",
            "      0     0     0     0     0     0     0     0     0     0     0     0\n",
            "      0     0     0     0     0     0     0     0     0     0     0     0\n",
            "      0     0     0     0     0     0     0     0     0     0     0     0\n",
            "      0     0     0     0 12293     7     1   161    78    13     2   245\n",
            "    412   135   183   375   298]]\n",
            "truthfullness: [[0.00021112]]\n"
          ]
        }
      ]
    },
    {
      "cell_type": "markdown",
      "metadata": {
        "id": "QNiB70CV-G2E"
      },
      "source": [
        "---\n",
        "* From the demo example and from the above evaluation metrics we can draw the following conclusions:\n",
        "\n",
        "1.   **Binary Crossentropy Loss function**: gives us on validation set 0,70 loss\n",
        "2.   **Accuracy**: 70.4% on validation set,\n",
        "3.   **Confusion Matrix**: From the 1963 false news the majority of them (1031) predicted falsefully as true and from the 2384 true news the 256 predicted as fake.\n",
        "4.    **Classification Report**: As we said before, F1 score, which shows how good our classifier is and its robustness has 59% value on fake and 77% on true news. With combination of the value of the recall (47% and 89% respectively), we can infer that our recurrent NN model fits somehow bad in the data and predicts with medium presicion the fact that one article maybe fake or true as well.\n",
        "5.    **ROC Curve**: Combined the above plot and its score (68.37%) we can conclude that the ratio of true positive to false positive has medium value.\n",
        "\n",
        "Although these evaluation metrics were medium, the demo example found the category of the news, where we can see that one random fake news gives a really small number of *'truthfullness'*."
      ]
    }
  ]
}