{
  "nbformat": 4,
  "nbformat_minor": 0,
  "metadata": {
    "colab": {
      "name": "LogisticRegression.ipynb",
      "provenance": [],
      "collapsed_sections": []
    },
    "kernelspec": {
      "display_name": "Python 3",
      "name": "python3"
    },
    "language_info": {
      "name": "python"
    }
  },
  "cells": [
    {
      "cell_type": "code",
      "metadata": {
        "id": "rCc6vF6RCZ-r"
      },
      "source": [
        "import pandas as pd\n",
        "from collections import Counter\n",
        "import numpy as np\n",
        "import matplotlib.pyplot as plt\n",
        "\n",
        "%matplotlib inline"
      ],
      "execution_count": null,
      "outputs": []
    },
    {
      "cell_type": "code",
      "metadata": {
        "colab": {
          "base_uri": "https://localhost:8080/"
        },
        "id": "KofEpe1sC3gq",
        "outputId": "4f172b42-455a-416a-bf58-7042f501cbd8"
      },
      "source": [
        "from google.colab import drive \n",
        "drive.mount('/content/gdrive')"
      ],
      "execution_count": null,
      "outputs": [
        {
          "name": "stdout",
          "output_type": "stream",
          "text": [
            "Drive already mounted at /content/gdrive; to attempt to forcibly remount, call drive.mount(\"/content/gdrive\", force_remount=True).\n"
          ]
        }
      ]
    },
    {
      "cell_type": "code",
      "metadata": {
        "colab": {
          "base_uri": "https://localhost:8080/",
          "height": 561
        },
        "id": "HOe6N6l8Ca69",
        "outputId": "ae55f666-5e96-430f-93f0-71c34b90f7f7"
      },
      "source": [
        "df = pd.read_csv('/content/gdrive/MyDrive/text_pre_processing.csv')\n",
        "df.head(5)"
      ],
      "execution_count": null,
      "outputs": [
        {
          "name": "stderr",
          "output_type": "stream",
          "text": [
            "/usr/local/lib/python3.7/dist-packages/IPython/core/interactiveshell.py:2718: DtypeWarning: Columns (6) have mixed types.Specify dtype option on import or set low_memory=False.\n",
            "  interactivity=interactivity, compiler=compiler, result=result)\n"
          ]
        },
        {
          "data": {
            "text/html": [
              "<div>\n",
              "<style scoped>\n",
              "    .dataframe tbody tr th:only-of-type {\n",
              "        vertical-align: middle;\n",
              "    }\n",
              "\n",
              "    .dataframe tbody tr th {\n",
              "        vertical-align: top;\n",
              "    }\n",
              "\n",
              "    .dataframe thead th {\n",
              "        text-align: right;\n",
              "    }\n",
              "</style>\n",
              "<table border=\"1\" class=\"dataframe\">\n",
              "  <thead>\n",
              "    <tr style=\"text-align: right;\">\n",
              "      <th></th>\n",
              "      <th>Unnamed: 0</th>\n",
              "      <th>Unnamed: 0.1</th>\n",
              "      <th>title</th>\n",
              "      <th>text</th>\n",
              "      <th>subject</th>\n",
              "      <th>date</th>\n",
              "      <th>label</th>\n",
              "      <th>caps_in_title</th>\n",
              "      <th>text_tokens</th>\n",
              "      <th>text_urls</th>\n",
              "      <th>clean_text</th>\n",
              "      <th>title_urls</th>\n",
              "      <th>twitter_handles</th>\n",
              "      <th>clean_title</th>\n",
              "      <th>clean_text_tokens</th>\n",
              "      <th>clean_title_tokens</th>\n",
              "    </tr>\n",
              "  </thead>\n",
              "  <tbody>\n",
              "    <tr>\n",
              "      <th>0</th>\n",
              "      <td>0</td>\n",
              "      <td>0</td>\n",
              "      <td>Donald Trump Sends Out Embarrassing New Year’...</td>\n",
              "      <td>Donald Trump just couldn t wish all Americans ...</td>\n",
              "      <td>News</td>\n",
              "      <td>2017-12-31</td>\n",
              "      <td>fake</td>\n",
              "      <td>11</td>\n",
              "      <td>['Donald', 'Trump', 'just', 'couldn', 't', 'wi...</td>\n",
              "      <td>['pic.twitter.com/4FPAe2KypA']</td>\n",
              "      <td>donald trump just couldn t wish all americans ...</td>\n",
              "      <td>[]</td>\n",
              "      <td>['@realDonaldTrump', '@TalbertSwan', '@calvins...</td>\n",
              "      <td>donald trump sends out embarrassing new year’s...</td>\n",
              "      <td>['donald', 'trump', 'just', 'couldn', 'wish', ...</td>\n",
              "      <td>['donald', 'trump', 'sends', 'out', 'embarrass...</td>\n",
              "    </tr>\n",
              "    <tr>\n",
              "      <th>1</th>\n",
              "      <td>1</td>\n",
              "      <td>1</td>\n",
              "      <td>Drunk Bragging Trump Staffer Started Russian ...</td>\n",
              "      <td>House Intelligence Committee Chairman Devin Nu...</td>\n",
              "      <td>News</td>\n",
              "      <td>2017-12-31</td>\n",
              "      <td>fake</td>\n",
              "      <td>8</td>\n",
              "      <td>['House', 'Intelligence', 'Committee', 'Chairm...</td>\n",
              "      <td>[]</td>\n",
              "      <td>house intelligence committee chairman devin nu...</td>\n",
              "      <td>[]</td>\n",
              "      <td>[]</td>\n",
              "      <td>drunk bragging trump staffer started russian c...</td>\n",
              "      <td>['house', 'intelligence', 'committee', 'chairm...</td>\n",
              "      <td>['drunk', 'bragging', 'trump', 'staffer', 'sta...</td>\n",
              "    </tr>\n",
              "    <tr>\n",
              "      <th>2</th>\n",
              "      <td>2</td>\n",
              "      <td>2</td>\n",
              "      <td>Sheriff David Clarke Becomes An Internet Joke...</td>\n",
              "      <td>On Friday, it was revealed that former Milwauk...</td>\n",
              "      <td>News</td>\n",
              "      <td>2017-12-30</td>\n",
              "      <td>fake</td>\n",
              "      <td>15</td>\n",
              "      <td>['On', 'Friday', 'it', 'was', 'revealed', 'tha...</td>\n",
              "      <td>['pic.twitter.com/XtZW5PdU2b', 'pic.twitter.co...</td>\n",
              "      <td>on friday, it was revealed that former milwauk...</td>\n",
              "      <td>[]</td>\n",
              "      <td>['@SheriffClarke', '@SheriffClarke', '@KeithLe...</td>\n",
              "      <td>sheriff david clarke becomes an internet joke ...</td>\n",
              "      <td>['on', 'it', 'was', 'revealed', 'that', 'forme...</td>\n",
              "      <td>['sheriff', 'david', 'clarke', 'becomes', 'an'...</td>\n",
              "    </tr>\n",
              "    <tr>\n",
              "      <th>3</th>\n",
              "      <td>3</td>\n",
              "      <td>3</td>\n",
              "      <td>Trump Is So Obsessed He Even Has Obama’s Name...</td>\n",
              "      <td>On Christmas day, Donald Trump announced that ...</td>\n",
              "      <td>News</td>\n",
              "      <td>2017-12-29</td>\n",
              "      <td>fake</td>\n",
              "      <td>19</td>\n",
              "      <td>['On', 'Christmas', 'day', 'Donald', 'Trump', ...</td>\n",
              "      <td>['https://t.co/Fg7VacxRtJ', 'pic.twitter.com/5...</td>\n",
              "      <td>on christmas day, donald trump announced that ...</td>\n",
              "      <td>[]</td>\n",
              "      <td>['@pbump', '@_cingraham', '@_cingraham', '@_ci...</td>\n",
              "      <td>trump is so obsessed he even has obama’s name ...</td>\n",
              "      <td>['on', 'christmas', 'day', 'donald', 'trump', ...</td>\n",
              "      <td>['trump', 'is', 'so', 'obsessed', 'he', 'even'...</td>\n",
              "    </tr>\n",
              "    <tr>\n",
              "      <th>4</th>\n",
              "      <td>4</td>\n",
              "      <td>4</td>\n",
              "      <td>Pope Francis Just Called Out Donald Trump Dur...</td>\n",
              "      <td>Pope Francis used his annual Christmas Day mes...</td>\n",
              "      <td>News</td>\n",
              "      <td>2017-12-25</td>\n",
              "      <td>fake</td>\n",
              "      <td>11</td>\n",
              "      <td>['Pope', 'Francis', 'used', 'his', 'annual', '...</td>\n",
              "      <td>[]</td>\n",
              "      <td>pope francis used his annual christmas day mes...</td>\n",
              "      <td>[]</td>\n",
              "      <td>[]</td>\n",
              "      <td>pope francis just called out donald trump duri...</td>\n",
              "      <td>['pope', 'francis', 'used', 'his', 'annual', '...</td>\n",
              "      <td>['pope', 'francis', 'just', 'called', 'out', '...</td>\n",
              "    </tr>\n",
              "  </tbody>\n",
              "</table>\n",
              "</div>"
            ],
            "text/plain": [
              "   Unnamed: 0  ...                                 clean_title_tokens\n",
              "0           0  ...  ['donald', 'trump', 'sends', 'out', 'embarrass...\n",
              "1           1  ...  ['drunk', 'bragging', 'trump', 'staffer', 'sta...\n",
              "2           2  ...  ['sheriff', 'david', 'clarke', 'becomes', 'an'...\n",
              "3           3  ...  ['trump', 'is', 'so', 'obsessed', 'he', 'even'...\n",
              "4           4  ...  ['pope', 'francis', 'just', 'called', 'out', '...\n",
              "\n",
              "[5 rows x 16 columns]"
            ]
          },
          "execution_count": 102,
          "metadata": {},
          "output_type": "execute_result"
        }
      ]
    },
    {
      "cell_type": "code",
      "metadata": {
        "colab": {
          "base_uri": "https://localhost:8080/",
          "height": 204
        },
        "id": "SvBLG9G0LjJe",
        "outputId": "2b2c89de-ce81-4012-c441-307085335ba3"
      },
      "source": [
        "df = df.drop(['Unnamed: 0'], axis = 1)\n",
        "df = df.drop(['Unnamed: 0.1'], axis = 1)\n",
        "df = df.drop(['text_tokens'], axis = 1)\n",
        "df = df.drop(['text_urls'], axis = 1)\n",
        "df = df.drop(['title_urls'], axis = 1)\n",
        "df = df.drop(['twitter_handles'], axis = 1)\n",
        "df = df.drop(['clean_text_tokens'], axis = 1)\n",
        "df = df.drop(['clean_title_tokens'], axis = 1)\n",
        "df.head(5)"
      ],
      "execution_count": null,
      "outputs": [
        {
          "data": {
            "text/html": [
              "<div>\n",
              "<style scoped>\n",
              "    .dataframe tbody tr th:only-of-type {\n",
              "        vertical-align: middle;\n",
              "    }\n",
              "\n",
              "    .dataframe tbody tr th {\n",
              "        vertical-align: top;\n",
              "    }\n",
              "\n",
              "    .dataframe thead th {\n",
              "        text-align: right;\n",
              "    }\n",
              "</style>\n",
              "<table border=\"1\" class=\"dataframe\">\n",
              "  <thead>\n",
              "    <tr style=\"text-align: right;\">\n",
              "      <th></th>\n",
              "      <th>title</th>\n",
              "      <th>text</th>\n",
              "      <th>subject</th>\n",
              "      <th>date</th>\n",
              "      <th>label</th>\n",
              "      <th>caps_in_title</th>\n",
              "      <th>clean_text</th>\n",
              "      <th>clean_title</th>\n",
              "    </tr>\n",
              "  </thead>\n",
              "  <tbody>\n",
              "    <tr>\n",
              "      <th>0</th>\n",
              "      <td>Donald Trump Sends Out Embarrassing New Year’...</td>\n",
              "      <td>Donald Trump just couldn t wish all Americans ...</td>\n",
              "      <td>News</td>\n",
              "      <td>2017-12-31</td>\n",
              "      <td>fake</td>\n",
              "      <td>11</td>\n",
              "      <td>donald trump just couldn t wish all americans ...</td>\n",
              "      <td>donald trump sends out embarrassing new year’s...</td>\n",
              "    </tr>\n",
              "    <tr>\n",
              "      <th>1</th>\n",
              "      <td>Drunk Bragging Trump Staffer Started Russian ...</td>\n",
              "      <td>House Intelligence Committee Chairman Devin Nu...</td>\n",
              "      <td>News</td>\n",
              "      <td>2017-12-31</td>\n",
              "      <td>fake</td>\n",
              "      <td>8</td>\n",
              "      <td>house intelligence committee chairman devin nu...</td>\n",
              "      <td>drunk bragging trump staffer started russian c...</td>\n",
              "    </tr>\n",
              "    <tr>\n",
              "      <th>2</th>\n",
              "      <td>Sheriff David Clarke Becomes An Internet Joke...</td>\n",
              "      <td>On Friday, it was revealed that former Milwauk...</td>\n",
              "      <td>News</td>\n",
              "      <td>2017-12-30</td>\n",
              "      <td>fake</td>\n",
              "      <td>15</td>\n",
              "      <td>on friday, it was revealed that former milwauk...</td>\n",
              "      <td>sheriff david clarke becomes an internet joke ...</td>\n",
              "    </tr>\n",
              "    <tr>\n",
              "      <th>3</th>\n",
              "      <td>Trump Is So Obsessed He Even Has Obama’s Name...</td>\n",
              "      <td>On Christmas day, Donald Trump announced that ...</td>\n",
              "      <td>News</td>\n",
              "      <td>2017-12-29</td>\n",
              "      <td>fake</td>\n",
              "      <td>19</td>\n",
              "      <td>on christmas day, donald trump announced that ...</td>\n",
              "      <td>trump is so obsessed he even has obama’s name ...</td>\n",
              "    </tr>\n",
              "    <tr>\n",
              "      <th>4</th>\n",
              "      <td>Pope Francis Just Called Out Donald Trump Dur...</td>\n",
              "      <td>Pope Francis used his annual Christmas Day mes...</td>\n",
              "      <td>News</td>\n",
              "      <td>2017-12-25</td>\n",
              "      <td>fake</td>\n",
              "      <td>11</td>\n",
              "      <td>pope francis used his annual christmas day mes...</td>\n",
              "      <td>pope francis just called out donald trump duri...</td>\n",
              "    </tr>\n",
              "  </tbody>\n",
              "</table>\n",
              "</div>"
            ],
            "text/plain": [
              "                                               title  ...                                        clean_title\n",
              "0   Donald Trump Sends Out Embarrassing New Year’...  ...  donald trump sends out embarrassing new year’s...\n",
              "1   Drunk Bragging Trump Staffer Started Russian ...  ...  drunk bragging trump staffer started russian c...\n",
              "2   Sheriff David Clarke Becomes An Internet Joke...  ...  sheriff david clarke becomes an internet joke ...\n",
              "3   Trump Is So Obsessed He Even Has Obama’s Name...  ...  trump is so obsessed he even has obama’s name ...\n",
              "4   Pope Francis Just Called Out Donald Trump Dur...  ...  pope francis just called out donald trump duri...\n",
              "\n",
              "[5 rows x 8 columns]"
            ]
          },
          "execution_count": 103,
          "metadata": {},
          "output_type": "execute_result"
        }
      ]
    },
    {
      "cell_type": "code",
      "metadata": {
        "id": "xo8Wd4tHNCER"
      },
      "source": [
        "import multiprocessing\n",
        "cores = multiprocessing.cpu_count()"
      ],
      "execution_count": null,
      "outputs": []
    },
    {
      "cell_type": "code",
      "metadata": {
        "id": "l4UcmyYpNfSO"
      },
      "source": [
        "from tqdm import tqdm\n",
        "from gensim.models import Doc2Vec\n",
        "from sklearn import utils\n",
        "from sklearn.model_selection import train_test_split\n",
        "import gensim\n",
        "from sklearn.linear_model import LogisticRegression\n",
        "from gensim.models.doc2vec import TaggedDocument\n",
        "import re\n",
        "import seaborn as sns\n",
        "import matplotlib.pyplot as plt"
      ],
      "execution_count": null,
      "outputs": []
    },
    {
      "cell_type": "code",
      "metadata": {
        "id": "gxGbda0_NwUh"
      },
      "source": [
        "train, test = train_test_split(df, test_size=0.3, random_state=42)"
      ],
      "execution_count": null,
      "outputs": []
    },
    {
      "cell_type": "markdown",
      "metadata": {
        "id": "If2SsZ9nX-Q_"
      },
      "source": [
        "\n",
        "\n",
        "> Split the dataset\n",
        "\n",
        "\n",
        "\n",
        "\n",
        "\n"
      ]
    },
    {
      "cell_type": "markdown",
      "metadata": {
        "id": "cGuR1F63YNK8"
      },
      "source": [
        "We split the dataset in train, validation and test datasets."
      ]
    },
    {
      "cell_type": "code",
      "metadata": {
        "colab": {
          "base_uri": "https://localhost:8080/"
        },
        "id": "bW_7kooOYRru",
        "outputId": "f5b5b1ae-3d2b-424c-a714-fc7d9c166281"
      },
      "source": [
        "X = df['clean_text'].reset_index(drop=True)\n",
        "\n",
        "X.head(5)"
      ],
      "execution_count": null,
      "outputs": [
        {
          "data": {
            "text/plain": [
              "0    donald trump just couldn t wish all americans ...\n",
              "1    house intelligence committee chairman devin nu...\n",
              "2    on friday, it was revealed that former milwauk...\n",
              "3    on christmas day, donald trump announced that ...\n",
              "4    pope francis used his annual christmas day mes...\n",
              "Name: clean_text, dtype: object"
            ]
          },
          "execution_count": 107,
          "metadata": {},
          "output_type": "execute_result"
        }
      ]
    },
    {
      "cell_type": "code",
      "metadata": {
        "colab": {
          "base_uri": "https://localhost:8080/",
          "height": 204
        },
        "id": "Dz7ytgvzYTo3",
        "outputId": "69295649-edf1-4b1e-ebdb-df82d90e76de"
      },
      "source": [
        "y = df['label'].to_frame()\n",
        "\n",
        "y.head(5)"
      ],
      "execution_count": null,
      "outputs": [
        {
          "data": {
            "text/html": [
              "<div>\n",
              "<style scoped>\n",
              "    .dataframe tbody tr th:only-of-type {\n",
              "        vertical-align: middle;\n",
              "    }\n",
              "\n",
              "    .dataframe tbody tr th {\n",
              "        vertical-align: top;\n",
              "    }\n",
              "\n",
              "    .dataframe thead th {\n",
              "        text-align: right;\n",
              "    }\n",
              "</style>\n",
              "<table border=\"1\" class=\"dataframe\">\n",
              "  <thead>\n",
              "    <tr style=\"text-align: right;\">\n",
              "      <th></th>\n",
              "      <th>label</th>\n",
              "    </tr>\n",
              "  </thead>\n",
              "  <tbody>\n",
              "    <tr>\n",
              "      <th>0</th>\n",
              "      <td>fake</td>\n",
              "    </tr>\n",
              "    <tr>\n",
              "      <th>1</th>\n",
              "      <td>fake</td>\n",
              "    </tr>\n",
              "    <tr>\n",
              "      <th>2</th>\n",
              "      <td>fake</td>\n",
              "    </tr>\n",
              "    <tr>\n",
              "      <th>3</th>\n",
              "      <td>fake</td>\n",
              "    </tr>\n",
              "    <tr>\n",
              "      <th>4</th>\n",
              "      <td>fake</td>\n",
              "    </tr>\n",
              "  </tbody>\n",
              "</table>\n",
              "</div>"
            ],
            "text/plain": [
              "  label\n",
              "0  fake\n",
              "1  fake\n",
              "2  fake\n",
              "3  fake\n",
              "4  fake"
            ]
          },
          "execution_count": 108,
          "metadata": {},
          "output_type": "execute_result"
        }
      ]
    },
    {
      "cell_type": "code",
      "metadata": {
        "colab": {
          "base_uri": "https://localhost:8080/"
        },
        "id": "QOZiYJkZYTsa",
        "outputId": "352152f0-1192-44a6-ba28-8c4ef9e1f20d"
      },
      "source": [
        "y[y['label'] == True] = 'true'\n",
        "y = y.squeeze() #convert the data-frame to array\n",
        "y.head(5)"
      ],
      "execution_count": null,
      "outputs": [
        {
          "data": {
            "text/plain": [
              "0    fake\n",
              "1    fake\n",
              "2    fake\n",
              "3    fake\n",
              "4    fake\n",
              "Name: label, dtype: object"
            ]
          },
          "execution_count": 109,
          "metadata": {},
          "output_type": "execute_result"
        }
      ]
    },
    {
      "cell_type": "markdown",
      "metadata": {
        "id": "kYOsGwECYb-Y"
      },
      "source": [
        "At first, we will split the main dataset into two parts:\n",
        "\n",
        "Train-Validation dataset and\n",
        "Test dataset (25% of the whole dataset)\n",
        "After that, we will split the Train-Validation dataset into another two:\n",
        "\n",
        "Train dataset and\n",
        "Validation dataset (15% of the train-validation dataset)\n",
        "This splitting has been done in stratified manner, meaning that the dataset has been split uniformly based on the percentage of 'fake' - 'true' news."
      ]
    },
    {
      "cell_type": "code",
      "metadata": {
        "id": "aTegEcmzYwYt"
      },
      "source": [
        "from sklearn.model_selection import StratifiedShuffleSplit"
      ],
      "execution_count": null,
      "outputs": []
    },
    {
      "cell_type": "code",
      "metadata": {
        "colab": {
          "base_uri": "https://localhost:8080/"
        },
        "id": "rZH67tCqYTvJ",
        "outputId": "3da8f3c7-06a2-479f-8c81-01693d03a1cc"
      },
      "source": [
        "#sss: stratified shuffle split\n",
        "test_sss = StratifiedShuffleSplit(n_splits=5, test_size=0.15, random_state=0)\n",
        "test_sss"
      ],
      "execution_count": null,
      "outputs": [
        {
          "data": {
            "text/plain": [
              "StratifiedShuffleSplit(n_splits=5, random_state=0, test_size=0.15,\n",
              "            train_size=None)"
            ]
          },
          "execution_count": 111,
          "metadata": {},
          "output_type": "execute_result"
        }
      ]
    },
    {
      "cell_type": "code",
      "metadata": {
        "id": "_w7LNNfjYehm"
      },
      "source": [
        "#val_sss = StratifiedShuffleSplit(n_splits=5, test_size=0.2, random_state=0)\n",
        "#val_sss"
      ],
      "execution_count": null,
      "outputs": []
    },
    {
      "cell_type": "code",
      "metadata": {
        "colab": {
          "base_uri": "https://localhost:8080/"
        },
        "id": "-H_V0lXQYgQI",
        "outputId": "5f858d1e-2029-4d89-d8ea-7f0dddf83c39"
      },
      "source": [
        "#split in train-validation dataset and test dataset\n",
        "X_train_val, X_test, y_train_val, y_test = None, None, None, None\n",
        "\n",
        "#get the indexes for each dataset\n",
        "for train_index, test_index in test_sss.split(X, y):\n",
        "    \n",
        "    print(\"TRAIN:\", train_index[:10], \"TEST:\", test_index[:10])\n",
        "    \n",
        "    X_train, X_test = X[train_index], X[test_index]\n",
        "    y_train, y_test = y[train_index], y[test_index]"
      ],
      "execution_count": null,
      "outputs": [
        {
          "name": "stdout",
          "output_type": "stream",
          "text": [
            "TRAIN: [ 1473 20236  7194  1230   616 12707 28037  4521 22830 29675] TEST: [19888  4253   662 36631 28200 29359  4560  5729 19468 11209]\n",
            "TRAIN: [ 9024 26688 34918 18091 29506  8416   653  3435 16402 34528] TEST: [34604  9150  6520   314  4665  6165  6877 13644 17807 33967]\n",
            "TRAIN: [34104 21838 10327 37277 23630  9920 22776 26922 22315 32809] TEST: [25977 34988 25811 36094  7844 24844 37242 15920 19439 18091]\n",
            "TRAIN: [17460 25343 37380  2580 24307 12609 21504 23244 36770 35115] TEST: [13156 21501 37170 13348  7988 37994   726  5448 32161 36186]\n",
            "TRAIN: [29590 30461 17874 26870 29052 34387 32935  5171 25197 21626] TEST: [26046   568 36477 16728 19908  3977 21815 17381 34919 19756]\n"
          ]
        }
      ]
    },
    {
      "cell_type": "code",
      "metadata": {
        "id": "QXvyAE_UYhWn"
      },
      "source": [
        "#reset the indexes\n",
        "X_train = X_train.reset_index(drop=True)\n",
        "y_train = y_train.reset_index(drop=True)"
      ],
      "execution_count": null,
      "outputs": []
    },
    {
      "cell_type": "code",
      "metadata": {
        "id": "qsIdbByNYiYo"
      },
      "source": [
        "#split the train-validation dataset into train and validation dataset\n",
        "#X_train, X_val, y_train, y_val = None, None, None, None\n",
        "\n",
        "#for train_index, val_index in val_sss.split(X_train_val, y_train_val):\n",
        "    \n",
        "#    print(\"TRAIN:\", train_index[:10], \"VALID:\", test_index[:10])\n",
        "    \n",
        "#    X_train, X_val = X_train_val[train_index], X_train_val[val_index]\n",
        "#    y_train, y_val = y_train_val[train_index], y_train_val[val_index]"
      ],
      "execution_count": null,
      "outputs": []
    },
    {
      "cell_type": "markdown",
      "metadata": {
        "id": "-tgngjw2YlH2"
      },
      "source": [
        "Train and test datasets must be transformed into frames in order to use Doc2vec for tokenize them.\n",
        "\n",
        "\n",
        "\n",
        "\n"
      ]
    },
    {
      "cell_type": "code",
      "metadata": {
        "colab": {
          "base_uri": "https://localhost:8080/",
          "height": 204
        },
        "id": "pskY1lO9YjRR",
        "outputId": "f594028b-0be2-4dfa-ef36-7c721cec23ee"
      },
      "source": [
        "test = X_test.to_frame()\n",
        "test['label'] = y_test\n",
        "test.head(5)"
      ],
      "execution_count": null,
      "outputs": [
        {
          "data": {
            "text/html": [
              "<div>\n",
              "<style scoped>\n",
              "    .dataframe tbody tr th:only-of-type {\n",
              "        vertical-align: middle;\n",
              "    }\n",
              "\n",
              "    .dataframe tbody tr th {\n",
              "        vertical-align: top;\n",
              "    }\n",
              "\n",
              "    .dataframe thead th {\n",
              "        text-align: right;\n",
              "    }\n",
              "</style>\n",
              "<table border=\"1\" class=\"dataframe\">\n",
              "  <thead>\n",
              "    <tr style=\"text-align: right;\">\n",
              "      <th></th>\n",
              "      <th>clean_text</th>\n",
              "      <th>label</th>\n",
              "    </tr>\n",
              "  </thead>\n",
              "  <tbody>\n",
              "    <tr>\n",
              "      <th>26046</th>\n",
              "      <td>WASHINGTON   - former democratic presidential ...</td>\n",
              "      <td>true</td>\n",
              "    </tr>\n",
              "    <tr>\n",
              "      <th>568</th>\n",
              "      <td>after a night of white supremacist marches in ...</td>\n",
              "      <td>fake</td>\n",
              "    </tr>\n",
              "    <tr>\n",
              "      <th>36477</th>\n",
              "      <td>JOHANNESBURG   - south africa s association of...</td>\n",
              "      <td>true</td>\n",
              "    </tr>\n",
              "    <tr>\n",
              "      <th>16728</th>\n",
              "      <td>st century wire says we ve been covering the ...</td>\n",
              "      <td>fake</td>\n",
              "    </tr>\n",
              "    <tr>\n",
              "      <th>19908</th>\n",
              "      <td>WASHINGTON   - a proposed border tax in the ho...</td>\n",
              "      <td>true</td>\n",
              "    </tr>\n",
              "  </tbody>\n",
              "</table>\n",
              "</div>"
            ],
            "text/plain": [
              "                                              clean_text label\n",
              "26046  WASHINGTON   - former democratic presidential ...  true\n",
              "568    after a night of white supremacist marches in ...  fake\n",
              "36477  JOHANNESBURG   - south africa s association of...  true\n",
              "16728   st century wire says we ve been covering the ...  fake\n",
              "19908  WASHINGTON   - a proposed border tax in the ho...  true"
            ]
          },
          "execution_count": 116,
          "metadata": {},
          "output_type": "execute_result"
        }
      ]
    },
    {
      "cell_type": "code",
      "metadata": {
        "colab": {
          "base_uri": "https://localhost:8080/",
          "height": 204
        },
        "id": "wGYLle6uYkuO",
        "outputId": "029e1446-d0c4-4aa9-ebc6-4519b940a67c"
      },
      "source": [
        "train = X_train.to_frame()\n",
        "train['label'] = y_train\n",
        "train.head(5)"
      ],
      "execution_count": null,
      "outputs": [
        {
          "data": {
            "text/html": [
              "<div>\n",
              "<style scoped>\n",
              "    .dataframe tbody tr th:only-of-type {\n",
              "        vertical-align: middle;\n",
              "    }\n",
              "\n",
              "    .dataframe tbody tr th {\n",
              "        vertical-align: top;\n",
              "    }\n",
              "\n",
              "    .dataframe thead th {\n",
              "        text-align: right;\n",
              "    }\n",
              "</style>\n",
              "<table border=\"1\" class=\"dataframe\">\n",
              "  <thead>\n",
              "    <tr style=\"text-align: right;\">\n",
              "      <th></th>\n",
              "      <th>clean_text</th>\n",
              "      <th>label</th>\n",
              "    </tr>\n",
              "  </thead>\n",
              "  <tbody>\n",
              "    <tr>\n",
              "      <th>0</th>\n",
              "      <td>MOSCOW   - president vladimir putin warned on ...</td>\n",
              "      <td>true</td>\n",
              "    </tr>\n",
              "    <tr>\n",
              "      <th>1</th>\n",
              "      <td>NAIROBI   - a prominent strategist for kenya s...</td>\n",
              "      <td>true</td>\n",
              "    </tr>\n",
              "    <tr>\n",
              "      <th>2</th>\n",
              "      <td>WASHINGTON   - the senate banking committee wi...</td>\n",
              "      <td>true</td>\n",
              "    </tr>\n",
              "    <tr>\n",
              "      <th>3</th>\n",
              "      <td>WASHINGTON   - a small group of bipartisan sen...</td>\n",
              "      <td>true</td>\n",
              "    </tr>\n",
              "    <tr>\n",
              "      <th>4</th>\n",
              "      <td>BRUSSELS   - the european union wants a transi...</td>\n",
              "      <td>true</td>\n",
              "    </tr>\n",
              "  </tbody>\n",
              "</table>\n",
              "</div>"
            ],
            "text/plain": [
              "                                          clean_text label\n",
              "0  MOSCOW   - president vladimir putin warned on ...  true\n",
              "1  NAIROBI   - a prominent strategist for kenya s...  true\n",
              "2  WASHINGTON   - the senate banking committee wi...  true\n",
              "3  WASHINGTON   - a small group of bipartisan sen...  true\n",
              "4  BRUSSELS   - the european union wants a transi...  true"
            ]
          },
          "execution_count": 117,
          "metadata": {},
          "output_type": "execute_result"
        }
      ]
    },
    {
      "cell_type": "code",
      "metadata": {
        "id": "bnDoCH6mYrWr"
      },
      "source": [
        "#val = X_val.to_frame()\n",
        "#val['label'] = y_val\n",
        "#val.head(5)"
      ],
      "execution_count": null,
      "outputs": []
    },
    {
      "cell_type": "markdown",
      "metadata": {
        "id": "USxmGfndPTAq"
      },
      "source": [
        "Remove stop-words and tokenize text using NLTK tokenizer. For our first try we tag every complaint clean text with its label."
      ]
    },
    {
      "cell_type": "code",
      "metadata": {
        "colab": {
          "base_uri": "https://localhost:8080/"
        },
        "id": "qHXDC34JPN5S",
        "outputId": "26d9d2e5-69cb-4721-a80c-062c9d20fb32"
      },
      "source": [
        "import nltk\n",
        "nltk.download('punkt')"
      ],
      "execution_count": null,
      "outputs": [
        {
          "name": "stdout",
          "output_type": "stream",
          "text": [
            "[nltk_data] Downloading package punkt to /root/nltk_data...\n",
            "[nltk_data]   Package punkt is already up-to-date!\n"
          ]
        },
        {
          "data": {
            "text/plain": [
              "True"
            ]
          },
          "execution_count": 119,
          "metadata": {},
          "output_type": "execute_result"
        }
      ]
    },
    {
      "cell_type": "code",
      "metadata": {
        "id": "Oh1j275oO1L4"
      },
      "source": [
        "import nltk\n",
        "from nltk.corpus import stopwords\n",
        "def tokenize_text(clean_text):\n",
        "    tokens = []\n",
        "    for sent in nltk.sent_tokenize(clean_text):\n",
        "        for word in nltk.word_tokenize(sent):\n",
        "            if len(word) < 2:\n",
        "                continue\n",
        "            tokens.append(word.lower())\n",
        "    return tokens\n",
        "train_tagged = train.apply(\n",
        "    lambda r: TaggedDocument(words=tokenize_text(r['clean_text']), tags=[r.label]), axis=1)\n",
        "test_tagged = test.apply(\n",
        "    lambda r: TaggedDocument(words=tokenize_text(r['clean_text']), tags=[r.label]), axis=1)\n",
        "#val_tagged = val.apply(\n",
        "#    lambda r: TaggedDocument(words=tokenize_text(r['clean_text']), tags=[r.label]), axis=1)"
      ],
      "execution_count": null,
      "outputs": []
    },
    {
      "cell_type": "markdown",
      "metadata": {
        "id": "gJMpFuI2V78a"
      },
      "source": [
        "Doc2vec is an NLP tool for representing documents as a vector and is a generalizing of the word2vec method."
      ]
    },
    {
      "cell_type": "markdown",
      "metadata": {
        "id": "xqzI_T0mWL8h"
      },
      "source": [
        "In general, when you like to build some model using words, simply labeling/one-hot encoding them is a plausible way to go. However, when using such encoding, the words lose their meaning. e.g, if we encode Paris as id_4, France as id_6 and power as id_8, France will have the same relation to power as with Paris. We would prefer a representation in which France and Paris will be closer than France and power.\n",
        "The word2vec, presented in 2013 , intends to give you just that: a numeric representation for each word, that will be able to capture such relations as above. this is part of a wider concept in machine learning — the feature vectors."
      ]
    },
    {
      "cell_type": "markdown",
      "metadata": {
        "id": "zq8XB9l9WXVT"
      },
      "source": [
        "Such representations, encapsulate different relations between words, like synonyms, antonyms, or analogies, such as this one:"
      ]
    },
    {
      "cell_type": "markdown",
      "metadata": {
        "id": "4MjKBALdWX_7"
      },
      "source": [
        "![WORD2VEC_EXAMPLE.PNG](data:image/png;base64,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)"
      ]
    },
    {
      "cell_type": "markdown",
      "metadata": {
        "id": "2X9VkLQ2Wm7h"
      },
      "source": [
        " King to queen is like man to woman."
      ]
    },
    {
      "cell_type": "markdown",
      "metadata": {
        "id": "W_jsi1MQWza7"
      },
      "source": [
        "The goal of doc2vec is to create a numeric representation of a document, regardless of its length. But unlike words, documents do not come in logical structures such as words, so the another method has to be found."
      ]
    },
    {
      "cell_type": "markdown",
      "metadata": {
        "id": "60BIqv4IXDU_"
      },
      "source": [
        "There are 2 methods for doc2vec : \n",
        "\n",
        "\n",
        "1.   **Distributed Bag of Words (DBOW)** : The paragraph vectors are obtained by training a neural network on the task of predicting a probability distribution of words in a paragraph given a randomly-sampled word from the paragraph.\n",
        "2.   **Distributed Memory (DM)** : DM acts as a memory that remembers what is missing from the current context — or as the topic of the paragraph. While the word vectors represent the concept of a word, the document vector intends to represent the concept of a document\n",
        "\n",
        "\n",
        "\n"
      ]
    },
    {
      "cell_type": "markdown",
      "metadata": {
        "id": "PKMNeHWnP6Ds"
      },
      "source": [
        "Now we create a doc2vec model using distributed bag of words (DBOW), with 300-dimensional feature vectors.As for workers we use the system core threads to train the model."
      ]
    },
    {
      "cell_type": "code",
      "metadata": {
        "colab": {
          "base_uri": "https://localhost:8080/"
        },
        "id": "-NEzVzz9NZGw",
        "outputId": "1f742bbc-35d2-4ed8-e42f-4c57538124d0"
      },
      "source": [
        "model_dbow = Doc2Vec(dm=0, vector_size=300, negative=5, hs=0, min_count=2, sample = 0, workers=cores)\n",
        "model_dbow.build_vocab([x for x in tqdm(train_tagged.values)])"
      ],
      "execution_count": null,
      "outputs": [
        {
          "name": "stderr",
          "output_type": "stream",
          "text": [
            "100%|██████████| 32842/32842 [00:00<00:00, 2725065.42it/s]\n"
          ]
        }
      ]
    },
    {
      "cell_type": "markdown",
      "metadata": {
        "id": "6fwS9Rb6QlKj"
      },
      "source": [
        "Now we must train the model for 30 epochs ( =  cycle through the full training dataset)"
      ]
    },
    {
      "cell_type": "code",
      "metadata": {
        "colab": {
          "base_uri": "https://localhost:8080/"
        },
        "id": "8NgFBiPvQntK",
        "outputId": "e43e6888-3273-4d7f-dc47-49a44861a555"
      },
      "source": [
        "%%time\n",
        "for epoch in range(30):\n",
        "    model_dbow.train(utils.shuffle([x for x in tqdm(train_tagged.values)]), total_examples=len(train_tagged.values), epochs=1)\n",
        "    model_dbow.alpha -= 0.002\n",
        "    model_dbow.min_alpha = model_dbow.alpha"
      ],
      "execution_count": null,
      "outputs": [
        {
          "name": "stderr",
          "output_type": "stream",
          "text": [
            "100%|██████████| 32842/32842 [00:00<00:00, 2351273.06it/s]\n",
            "100%|██████████| 32842/32842 [00:00<00:00, 2477550.53it/s]\n",
            "100%|██████████| 32842/32842 [00:00<00:00, 2579913.70it/s]\n",
            "100%|██████████| 32842/32842 [00:00<00:00, 2268113.41it/s]\n",
            "100%|██████████| 32842/32842 [00:00<00:00, 2842595.43it/s]\n",
            "100%|██████████| 32842/32842 [00:00<00:00, 2497494.91it/s]\n",
            "100%|██████████| 32842/32842 [00:00<00:00, 2402073.94it/s]\n",
            "100%|██████████| 32842/32842 [00:00<00:00, 2657252.88it/s]\n",
            "100%|██████████| 32842/32842 [00:00<00:00, 2710320.56it/s]\n",
            "100%|██████████| 32842/32842 [00:00<00:00, 2759622.81it/s]\n",
            "100%|██████████| 32842/32842 [00:00<00:00, 2534952.74it/s]\n",
            "100%|██████████| 32842/32842 [00:00<00:00, 2881423.50it/s]\n",
            "100%|██████████| 32842/32842 [00:00<00:00, 2289069.44it/s]\n",
            "100%|██████████| 32842/32842 [00:00<00:00, 2535326.00it/s]\n",
            "100%|██████████| 32842/32842 [00:00<00:00, 2480539.72it/s]\n",
            "100%|██████████| 32842/32842 [00:00<00:00, 2519052.21it/s]\n",
            "100%|██████████| 32842/32842 [00:00<00:00, 2385269.82it/s]\n",
            "100%|██████████| 32842/32842 [00:00<00:00, 2738990.93it/s]\n",
            "100%|██████████| 32842/32842 [00:00<00:00, 2022008.54it/s]\n",
            "100%|██████████| 32842/32842 [00:00<00:00, 2437178.56it/s]\n",
            "100%|██████████| 32842/32842 [00:00<00:00, 2884440.32it/s]\n",
            "100%|██████████| 32842/32842 [00:00<00:00, 2698744.80it/s]\n",
            "100%|██████████| 32842/32842 [00:00<00:00, 2891949.36it/s]\n",
            "100%|██████████| 32842/32842 [00:00<00:00, 2300807.28it/s]\n",
            "100%|██████████| 32842/32842 [00:00<00:00, 2304386.84it/s]\n",
            "100%|██████████| 32842/32842 [00:00<00:00, 2314453.55it/s]\n",
            "100%|██████████| 32842/32842 [00:00<00:00, 2467387.91it/s]\n",
            "100%|██████████| 32842/32842 [00:00<00:00, 2518821.90it/s]\n",
            "100%|██████████| 32842/32842 [00:00<00:00, 2568225.30it/s]\n",
            "100%|██████████| 32842/32842 [00:00<00:00, 2478174.54it/s]\n"
          ]
        },
        {
          "name": "stdout",
          "output_type": "stream",
          "text": [
            "CPU times: user 15min 52s, sys: 8.76 s, total: 16min 1s\n",
            "Wall time: 8min 29s\n"
          ]
        }
      ]
    },
    {
      "cell_type": "markdown",
      "metadata": {
        "id": "F-1sAKPQQ_A8"
      },
      "source": [
        "Now we build the final vector for the classification"
      ]
    },
    {
      "cell_type": "code",
      "metadata": {
        "id": "yJxqTmbJRBjc"
      },
      "source": [
        "def vec_for_learning(model, tagged_docs):\n",
        "    sents = tagged_docs.values\n",
        "    targets, regressors = zip(*[(doc.tags[0], model.infer_vector(doc.words, steps=20)) for doc in sents])\n",
        "    return targets, regressors"
      ],
      "execution_count": null,
      "outputs": []
    },
    {
      "cell_type": "markdown",
      "metadata": {
        "id": "G1-GXGWhSIpA"
      },
      "source": [
        "Train the logistic regression classifier"
      ]
    },
    {
      "cell_type": "code",
      "metadata": {
        "colab": {
          "base_uri": "https://localhost:8080/"
        },
        "id": "c7A2tVhaSICV",
        "outputId": "c3824d69-3eef-40f6-dc7d-7ed4214e3f58"
      },
      "source": [
        "y_train, X_train = vec_for_learning(model_dbow, train_tagged)\n",
        "y_test, X_test = vec_for_learning(model_dbow, test_tagged)\n",
        "#val = vec_for_learning(model_dbow, val_tagged)\n",
        "logreg = LogisticRegression(n_jobs=1, C=1e5)\n",
        "logreg.fit(X_train, y_train)\n",
        "y_pred = logreg.predict(X_test)\n",
        "from sklearn.metrics import accuracy_score, f1_score\n",
        "print('Testing accuracy %s' % accuracy_score(y_test, y_pred))\n",
        "print('Testing F1 score: {}'.format(f1_score(y_test, y_pred, average='weighted')))"
      ],
      "execution_count": null,
      "outputs": [
        {
          "name": "stdout",
          "output_type": "stream",
          "text": [
            "Testing accuracy 0.5961007591442374\n",
            "Testing F1 score: 0.5877933526887494\n"
          ]
        },
        {
          "name": "stderr",
          "output_type": "stream",
          "text": [
            "/usr/local/lib/python3.7/dist-packages/sklearn/linear_model/_logistic.py:940: ConvergenceWarning: lbfgs failed to converge (status=1):\n",
            "STOP: TOTAL NO. of ITERATIONS REACHED LIMIT.\n",
            "\n",
            "Increase the number of iterations (max_iter) or scale the data as shown in:\n",
            "    https://scikit-learn.org/stable/modules/preprocessing.html\n",
            "Please also refer to the documentation for alternative solver options:\n",
            "    https://scikit-learn.org/stable/modules/linear_model.html#logistic-regression\n",
            "  extra_warning_msg=_LOGISTIC_SOLVER_CONVERGENCE_MSG)\n"
          ]
        }
      ]
    },
    {
      "cell_type": "code",
      "metadata": {
        "colab": {
          "base_uri": "https://localhost:8080/"
        },
        "id": "1Aromw-NkyC5",
        "outputId": "77de0002-3384-4cfd-da8d-3727ca540043"
      },
      "source": [
        "#get the probabilities for each category for every news\n",
        "y_pred_prob = logreg.predict_proba(X_test)\n",
        "y_pred_prob"
      ],
      "execution_count": null,
      "outputs": [
        {
          "data": {
            "text/plain": [
              "array([[0.31495757, 0.68504243],\n",
              "       [0.59052618, 0.40947382],\n",
              "       [0.27332627, 0.72667373],\n",
              "       ...,\n",
              "       [0.45205008, 0.54794992],\n",
              "       [0.3733367 , 0.6266633 ],\n",
              "       [0.18195271, 0.81804729]])"
            ]
          },
          "execution_count": 125,
          "metadata": {},
          "output_type": "execute_result"
        }
      ]
    },
    {
      "cell_type": "code",
      "metadata": {
        "id": "vzlE4RRyfm8Y"
      },
      "source": [
        "from sklearn.metrics import confusion_matrix, classification_report\n",
        "from sklearn.metrics import roc_curve, auc"
      ],
      "execution_count": null,
      "outputs": []
    },
    {
      "cell_type": "code",
      "metadata": {
        "id": "8iGtPR3Ml_C7"
      },
      "source": [
        "def plot_binary_class_row_auc(y_true,\n",
        "                              clf_names: list,\n",
        "                              clfs_preds: list):\n",
        "    \"\"\"\n",
        "\n",
        "    :param y_true: The true labels in one hot encoding\n",
        "    :param clf_names: The names of the classifiers in order to plot\n",
        "    :param clfs_preds: A list of numpy arrays, that contain predictions from various classifiers\n",
        "    :return:\n",
        "    \"\"\"\n",
        "    assert len(clf_names) == len(clfs_preds)\n",
        "\n",
        "    plt.figure(1)\n",
        "    plt.plot([0, 1], [0, 1], 'k--')\n",
        "\n",
        "    for clf_name, preds in zip(clf_names, clfs_preds):\n",
        "        fpr, tpr, thresholds = roc_curve(y_true,\n",
        "                                         preds,pos_label='true')\n",
        "\n",
        "        # AUC value can also be calculated like this.\n",
        "\n",
        "        auc_score = auc(fpr, tpr)\n",
        "\n",
        "        plt.plot(fpr,\n",
        "                 tpr,\n",
        "                 label='{} (area = {:.3f})'.format(clf_name, auc_score))\n",
        "\n",
        "    plt.xlabel('False positive rate')\n",
        "    plt.ylabel('True positive rate')\n",
        "    plt.title('ROC curve')\n",
        "    plt.legend(loc='best')\n",
        "    plt.show()\n",
        "\n",
        "    # Zoom in view of the upper left corner.\n",
        "    plt.figure(2)\n",
        "    plt.xlim(0, 0.2)\n",
        "    plt.ylim(0.7, 1)\n",
        "    plt.plot([0, 1],\n",
        "             [0, 1],\n",
        "             'k--')\n",
        "\n",
        "    for clf_name, preds in zip(clf_names, clfs_preds):\n",
        "        fpr, tpr, thresholds = roc_curve(y_true,\n",
        "                                         preds,pos_label='true')\n",
        "\n",
        "        # AUC value can also be calculated like this.\n",
        "\n",
        "        auc_score = auc(fpr, tpr)\n",
        "\n",
        "        plt.plot(fpr, tpr,\n",
        "                 label='{} (area = {:.3f})'.format(clf_name, auc_score))\n",
        "\n",
        "    plt.xlabel('False positive rate')\n",
        "    plt.ylabel('True positive rate')\n",
        "    plt.title('ROC curve (zoomed in at top left)')\n",
        "    plt.legend(loc='best')\n",
        "    plt.show()"
      ],
      "execution_count": null,
      "outputs": []
    },
    {
      "cell_type": "code",
      "metadata": {
        "colab": {
          "base_uri": "https://localhost:8080/",
          "height": 573
        },
        "id": "pBQUgigNmUrA",
        "outputId": "743146af-bdfd-4dc3-ee06-e7869ab536f4"
      },
      "source": [
        "plot_binary_class_row_auc(y_true=y_test,\n",
        "                          clf_names=['Keras'],\n",
        "                          clfs_preds=[y_pred_prob[:,1].ravel()])"
      ],
      "execution_count": null,
      "outputs": [
        {
          "data": {
            "image/png": "[encoded data removed]",
            "text/plain": [
              "<Figure size 432x288 with 1 Axes>"
            ]
          },
          "metadata": {},
          "output_type": "display_data"
        },
        {
          "data": {
            "image/png": "[encoded data removed]",
            "text/plain": [
              "<Figure size 432x288 with 1 Axes>"
            ]
          },
          "metadata": {},
          "output_type": "display_data"
        }
      ]
    },
    {
      "cell_type": "code",
      "metadata": {
        "colab": {
          "base_uri": "https://localhost:8080/",
          "height": 110
        },
        "id": "jkW3baSqgf7p",
        "outputId": "52c8da6c-882c-46c2-c008-b671d4bd99a1"
      },
      "source": [
        "conf_mat = confusion_matrix(y_true=y_test, y_pred=y_pred,labels =[\"fake\", \"true\"])\n",
        "pd.DataFrame(conf_mat, columns = [\"fake\", \"true\"],index = [\"fake\", \"true\"])"
      ],
      "execution_count": null,
      "outputs": [
        {
          "data": {
            "text/html": [
              "<div>\n",
              "<style scoped>\n",
              "    .dataframe tbody tr th:only-of-type {\n",
              "        vertical-align: middle;\n",
              "    }\n",
              "\n",
              "    .dataframe tbody tr th {\n",
              "        vertical-align: top;\n",
              "    }\n",
              "\n",
              "    .dataframe thead th {\n",
              "        text-align: right;\n",
              "    }\n",
              "</style>\n",
              "<table border=\"1\" class=\"dataframe\">\n",
              "  <thead>\n",
              "    <tr style=\"text-align: right;\">\n",
              "      <th></th>\n",
              "      <th>fake</th>\n",
              "      <th>true</th>\n",
              "    </tr>\n",
              "  </thead>\n",
              "  <tbody>\n",
              "    <tr>\n",
              "      <th>fake</th>\n",
              "      <td>1156</td>\n",
              "      <td>1461</td>\n",
              "    </tr>\n",
              "    <tr>\n",
              "      <th>true</th>\n",
              "      <td>880</td>\n",
              "      <td>2299</td>\n",
              "    </tr>\n",
              "  </tbody>\n",
              "</table>\n",
              "</div>"
            ],
            "text/plain": [
              "      fake  true\n",
              "fake  1156  1461\n",
              "true   880  2299"
            ]
          },
          "execution_count": 129,
          "metadata": {},
          "output_type": "execute_result"
        }
      ]
    },
    {
      "cell_type": "code",
      "metadata": {
        "colab": {
          "base_uri": "https://localhost:8080/"
        },
        "id": "mcvMrNfxg69X",
        "outputId": "68685bca-4310-405b-df06-264ea3211f83"
      },
      "source": [
        "print(classification_report(y_true=y_test, y_pred=y_pred))"
      ],
      "execution_count": null,
      "outputs": [
        {
          "name": "stdout",
          "output_type": "stream",
          "text": [
            "              precision    recall  f1-score   support\n",
            "\n",
            "        fake       0.57      0.44      0.50      2617\n",
            "        true       0.61      0.72      0.66      3179\n",
            "\n",
            "    accuracy                           0.60      5796\n",
            "   macro avg       0.59      0.58      0.58      5796\n",
            "weighted avg       0.59      0.60      0.59      5796\n",
            "\n"
          ]
        }
      ]
    },
    {
      "cell_type": "markdown",
      "metadata": {
        "id": "6a3It3SfhAek"
      },
      "source": [
        "Before analyzing the classifiation report it is worth mentioning the definitions of the above metrics.\n",
        "\n",
        "* **Precision**  : the number of correct positive results divided by the number of positive results predicted by the classifier.\n",
        "* **Recall** : the number of correct positive results divided by the number of all samples that should have been identified as positive\n",
        "* **F1 Score**: the Harmonic Mean between precision and recall. It shows how precise our classifier is (how many instances are classified correctly), as well as how robust it is (it does not miss a significant number of instances).\n",
        "* **Support**: the number of news."
      ]
    },
    {
      "cell_type": "markdown",
      "metadata": {
        "id": "OOC8R3v7S0vZ"
      },
      "source": [
        "We will then try using the DM method for doc2vec and so we create a DM doc2vec model with a vector size with 300 words and iterating over the training corpus 30 times.\n"
      ]
    },
    {
      "cell_type": "code",
      "metadata": {
        "colab": {
          "base_uri": "https://localhost:8080/"
        },
        "id": "59RSFgY3TEja",
        "outputId": "ff7816bb-e19e-4fb6-b5fb-03f965052f22"
      },
      "source": [
        "model_dmm = Doc2Vec(dm=1, dm_mean=1, vector_size=300, window=10, negative=5, min_count=1, workers=5, alpha=0.065, min_alpha=0.065)\n",
        "model_dmm.build_vocab([x for x in tqdm(train_tagged.values)])"
      ],
      "execution_count": null,
      "outputs": [
        {
          "name": "stderr",
          "output_type": "stream",
          "text": [
            "100%|██████████| 32842/32842 [00:00<00:00, 1602947.95it/s]\n"
          ]
        }
      ]
    },
    {
      "cell_type": "code",
      "metadata": {
        "colab": {
          "base_uri": "https://localhost:8080/"
        },
        "id": "4wAOZvtzTGDs",
        "outputId": "e07e0f7d-344d-46f8-c5b6-e600c0cc4c68"
      },
      "source": [
        "%%time\n",
        "for epoch in range(30):\n",
        "    model_dmm.train(utils.shuffle([x for x in tqdm(train_tagged.values)]), total_examples=len(train_tagged.values), epochs=1)\n",
        "    model_dmm.alpha -= 0.002\n",
        "    model_dmm.min_alpha = model_dmm.alpha"
      ],
      "execution_count": null,
      "outputs": [
        {
          "name": "stderr",
          "output_type": "stream",
          "text": [
            "100%|██████████| 32842/32842 [00:00<00:00, 2356703.71it/s]\n",
            "100%|██████████| 32842/32842 [00:00<00:00, 2550346.81it/s]\n",
            "100%|██████████| 32842/32842 [00:00<00:00, 2269870.02it/s]\n",
            "100%|██████████| 32842/32842 [00:00<00:00, 3000355.73it/s]\n",
            "100%|██████████| 32842/32842 [00:00<00:00, 2920336.07it/s]\n",
            "100%|██████████| 32842/32842 [00:00<00:00, 2204342.01it/s]\n",
            "100%|██████████| 32842/32842 [00:00<00:00, 1792584.09it/s]\n",
            "100%|██████████| 32842/32842 [00:00<00:00, 2456607.14it/s]\n",
            "100%|██████████| 32842/32842 [00:00<00:00, 2908497.12it/s]\n",
            "100%|██████████| 32842/32842 [00:00<00:00, 2324569.37it/s]\n",
            "100%|██████████| 32842/32842 [00:00<00:00, 2954852.89it/s]\n",
            "100%|██████████| 32842/32842 [00:00<00:00, 2410185.50it/s]\n",
            "100%|██████████| 32842/32842 [00:00<00:00, 2460160.95it/s]\n",
            "100%|██████████| 32842/32842 [00:00<00:00, 2460908.12it/s]\n",
            "100%|██████████| 32842/32842 [00:00<00:00, 2491982.78it/s]\n",
            "100%|██████████| 32842/32842 [00:00<00:00, 2541547.48it/s]\n",
            "100%|██████████| 32842/32842 [00:00<00:00, 2713630.90it/s]\n",
            "100%|██████████| 32842/32842 [00:00<00:00, 2384732.99it/s]\n",
            "100%|██████████| 32842/32842 [00:00<00:00, 2496725.37it/s]\n",
            "100%|██████████| 32842/32842 [00:00<00:00, 2196853.93it/s]\n",
            "100%|██████████| 32842/32842 [00:00<00:00, 2442710.53it/s]\n",
            "100%|██████████| 32842/32842 [00:00<00:00, 2886616.34it/s]\n",
            "100%|██████████| 32842/32842 [00:00<00:00, 2300961.01it/s]\n",
            "100%|██████████| 32842/32842 [00:00<00:00, 2409890.34it/s]\n",
            "100%|██████████| 32842/32842 [00:00<00:00, 2984235.62it/s]\n",
            "100%|██████████| 32842/32842 [00:00<00:00, 2227980.20it/s]\n",
            "100%|██████████| 32842/32842 [00:00<00:00, 2483401.82it/s]\n",
            "100%|██████████| 32842/32842 [00:00<00:00, 2905491.08it/s]\n",
            "100%|██████████| 32842/32842 [00:00<00:00, 2833648.73it/s]\n",
            "100%|██████████| 32842/32842 [00:00<00:00, 3027391.31it/s]\n"
          ]
        },
        {
          "name": "stdout",
          "output_type": "stream",
          "text": [
            "CPU times: user 27min 44s, sys: 24.7 s, total: 28min 9s\n",
            "Wall time: 15min 15s\n"
          ]
        }
      ]
    },
    {
      "cell_type": "code",
      "metadata": {
        "colab": {
          "background_save": true
        },
        "id": "qsq3qA7OTH6Z",
        "outputId": "f6f1404d-7a34-4558-d459-c36795ba5119"
      },
      "source": [
        "y_train, X_train = vec_for_learning(model_dmm, train_tagged)\n",
        "y_test, X_test = vec_for_learning(model_dmm, test_tagged)\n",
        "logreg.fit(X_train, y_train)\n",
        "y_pred = logreg.predict(X_test)\n",
        "print('Testing accuracy %s' % accuracy_score(y_test, y_pred))\n",
        "print('Testing F1 score: {}'.format(f1_score(y_test, y_pred, average='weighted')))"
      ],
      "execution_count": null,
      "outputs": [
        {
          "ename": "KeyboardInterrupt",
          "evalue": "ignored",
          "output_type": "error",
          "traceback": [
            "\u001b[0;31m---------------------------------------------------------------------------\u001b[0m",
            "\u001b[0;31mKeyboardInterrupt\u001b[0m                         Traceback (most recent call last)",
            "\u001b[0;32m<ipython-input-133-7f68d4850fb7>\u001b[0m in \u001b[0;36m<module>\u001b[0;34m()\u001b[0m\n\u001b[0;32m----> 1\u001b[0;31m \u001b[0my_train\u001b[0m\u001b[0;34m,\u001b[0m \u001b[0mX_train\u001b[0m \u001b[0;34m=\u001b[0m \u001b[0mvec_for_learning\u001b[0m\u001b[0;34m(\u001b[0m\u001b[0mmodel_dmm\u001b[0m\u001b[0;34m,\u001b[0m \u001b[0mtrain_tagged\u001b[0m\u001b[0;34m)\u001b[0m\u001b[0;34m\u001b[0m\u001b[0;34m\u001b[0m\u001b[0m\n\u001b[0m\u001b[1;32m      2\u001b[0m \u001b[0my_test\u001b[0m\u001b[0;34m,\u001b[0m \u001b[0mX_test\u001b[0m \u001b[0;34m=\u001b[0m \u001b[0mvec_for_learning\u001b[0m\u001b[0;34m(\u001b[0m\u001b[0mmodel_dmm\u001b[0m\u001b[0;34m,\u001b[0m \u001b[0mtest_tagged\u001b[0m\u001b[0;34m)\u001b[0m\u001b[0;34m\u001b[0m\u001b[0;34m\u001b[0m\u001b[0m\n\u001b[1;32m      3\u001b[0m \u001b[0mlogreg\u001b[0m\u001b[0;34m.\u001b[0m\u001b[0mfit\u001b[0m\u001b[0;34m(\u001b[0m\u001b[0mX_train\u001b[0m\u001b[0;34m,\u001b[0m \u001b[0my_train\u001b[0m\u001b[0;34m)\u001b[0m\u001b[0;34m\u001b[0m\u001b[0;34m\u001b[0m\u001b[0m\n\u001b[1;32m      4\u001b[0m \u001b[0my_pred\u001b[0m \u001b[0;34m=\u001b[0m \u001b[0mlogreg\u001b[0m\u001b[0;34m.\u001b[0m\u001b[0mpredict\u001b[0m\u001b[0;34m(\u001b[0m\u001b[0mX_test\u001b[0m\u001b[0;34m)\u001b[0m\u001b[0;34m\u001b[0m\u001b[0;34m\u001b[0m\u001b[0m\n\u001b[1;32m      5\u001b[0m \u001b[0mprint\u001b[0m\u001b[0;34m(\u001b[0m\u001b[0;34m'Testing accuracy %s'\u001b[0m \u001b[0;34m%\u001b[0m \u001b[0maccuracy_score\u001b[0m\u001b[0;34m(\u001b[0m\u001b[0my_test\u001b[0m\u001b[0;34m,\u001b[0m \u001b[0my_pred\u001b[0m\u001b[0;34m)\u001b[0m\u001b[0;34m)\u001b[0m\u001b[0;34m\u001b[0m\u001b[0;34m\u001b[0m\u001b[0m\n",
            "\u001b[0;32m<ipython-input-123-bfac2711ced9>\u001b[0m in \u001b[0;36mvec_for_learning\u001b[0;34m(model, tagged_docs)\u001b[0m\n\u001b[1;32m      1\u001b[0m \u001b[0;32mdef\u001b[0m \u001b[0mvec_for_learning\u001b[0m\u001b[0;34m(\u001b[0m\u001b[0mmodel\u001b[0m\u001b[0;34m,\u001b[0m \u001b[0mtagged_docs\u001b[0m\u001b[0;34m)\u001b[0m\u001b[0;34m:\u001b[0m\u001b[0;34m\u001b[0m\u001b[0;34m\u001b[0m\u001b[0m\n\u001b[1;32m      2\u001b[0m     \u001b[0msents\u001b[0m \u001b[0;34m=\u001b[0m \u001b[0mtagged_docs\u001b[0m\u001b[0;34m.\u001b[0m\u001b[0mvalues\u001b[0m\u001b[0;34m\u001b[0m\u001b[0;34m\u001b[0m\u001b[0m\n\u001b[0;32m----> 3\u001b[0;31m     \u001b[0mtargets\u001b[0m\u001b[0;34m,\u001b[0m \u001b[0mregressors\u001b[0m \u001b[0;34m=\u001b[0m \u001b[0mzip\u001b[0m\u001b[0;34m(\u001b[0m\u001b[0;34m*\u001b[0m\u001b[0;34m[\u001b[0m\u001b[0;34m(\u001b[0m\u001b[0mdoc\u001b[0m\u001b[0;34m.\u001b[0m\u001b[0mtags\u001b[0m\u001b[0;34m[\u001b[0m\u001b[0;36m0\u001b[0m\u001b[0;34m]\u001b[0m\u001b[0;34m,\u001b[0m \u001b[0mmodel\u001b[0m\u001b[0;34m.\u001b[0m\u001b[0minfer_vector\u001b[0m\u001b[0;34m(\u001b[0m\u001b[0mdoc\u001b[0m\u001b[0;34m.\u001b[0m\u001b[0mwords\u001b[0m\u001b[0;34m,\u001b[0m \u001b[0msteps\u001b[0m\u001b[0;34m=\u001b[0m\u001b[0;36m20\u001b[0m\u001b[0;34m)\u001b[0m\u001b[0;34m)\u001b[0m \u001b[0;32mfor\u001b[0m \u001b[0mdoc\u001b[0m \u001b[0;32min\u001b[0m \u001b[0msents\u001b[0m\u001b[0;34m]\u001b[0m\u001b[0;34m)\u001b[0m\u001b[0;34m\u001b[0m\u001b[0;34m\u001b[0m\u001b[0m\n\u001b[0m\u001b[1;32m      4\u001b[0m     \u001b[0;32mreturn\u001b[0m \u001b[0mtargets\u001b[0m\u001b[0;34m,\u001b[0m \u001b[0mregressors\u001b[0m\u001b[0;34m\u001b[0m\u001b[0;34m\u001b[0m\u001b[0m\n",
            "\u001b[0;32m<ipython-input-123-bfac2711ced9>\u001b[0m in \u001b[0;36m<listcomp>\u001b[0;34m(.0)\u001b[0m\n\u001b[1;32m      1\u001b[0m \u001b[0;32mdef\u001b[0m \u001b[0mvec_for_learning\u001b[0m\u001b[0;34m(\u001b[0m\u001b[0mmodel\u001b[0m\u001b[0;34m,\u001b[0m \u001b[0mtagged_docs\u001b[0m\u001b[0;34m)\u001b[0m\u001b[0;34m:\u001b[0m\u001b[0;34m\u001b[0m\u001b[0;34m\u001b[0m\u001b[0m\n\u001b[1;32m      2\u001b[0m     \u001b[0msents\u001b[0m \u001b[0;34m=\u001b[0m \u001b[0mtagged_docs\u001b[0m\u001b[0;34m.\u001b[0m\u001b[0mvalues\u001b[0m\u001b[0;34m\u001b[0m\u001b[0;34m\u001b[0m\u001b[0m\n\u001b[0;32m----> 3\u001b[0;31m     \u001b[0mtargets\u001b[0m\u001b[0;34m,\u001b[0m \u001b[0mregressors\u001b[0m \u001b[0;34m=\u001b[0m \u001b[0mzip\u001b[0m\u001b[0;34m(\u001b[0m\u001b[0;34m*\u001b[0m\u001b[0;34m[\u001b[0m\u001b[0;34m(\u001b[0m\u001b[0mdoc\u001b[0m\u001b[0;34m.\u001b[0m\u001b[0mtags\u001b[0m\u001b[0;34m[\u001b[0m\u001b[0;36m0\u001b[0m\u001b[0;34m]\u001b[0m\u001b[0;34m,\u001b[0m \u001b[0mmodel\u001b[0m\u001b[0;34m.\u001b[0m\u001b[0minfer_vector\u001b[0m\u001b[0;34m(\u001b[0m\u001b[0mdoc\u001b[0m\u001b[0;34m.\u001b[0m\u001b[0mwords\u001b[0m\u001b[0;34m,\u001b[0m \u001b[0msteps\u001b[0m\u001b[0;34m=\u001b[0m\u001b[0;36m20\u001b[0m\u001b[0;34m)\u001b[0m\u001b[0;34m)\u001b[0m \u001b[0;32mfor\u001b[0m \u001b[0mdoc\u001b[0m \u001b[0;32min\u001b[0m \u001b[0msents\u001b[0m\u001b[0;34m]\u001b[0m\u001b[0;34m)\u001b[0m\u001b[0;34m\u001b[0m\u001b[0;34m\u001b[0m\u001b[0m\n\u001b[0m\u001b[1;32m      4\u001b[0m     \u001b[0;32mreturn\u001b[0m \u001b[0mtargets\u001b[0m\u001b[0;34m,\u001b[0m \u001b[0mregressors\u001b[0m\u001b[0;34m\u001b[0m\u001b[0;34m\u001b[0m\u001b[0m\n",
            "\u001b[0;32m/usr/local/lib/python3.7/dist-packages/gensim/models/doc2vec.py\u001b[0m in \u001b[0;36minfer_vector\u001b[0;34m(self, doc_words, alpha, min_alpha, epochs, steps)\u001b[0m\n\u001b[1;32m    923\u001b[0m                 train_document_dm(\n\u001b[1;32m    924\u001b[0m                     \u001b[0mself\u001b[0m\u001b[0;34m,\u001b[0m \u001b[0mdoc_words\u001b[0m\u001b[0;34m,\u001b[0m \u001b[0mdoctag_indexes\u001b[0m\u001b[0;34m,\u001b[0m \u001b[0malpha\u001b[0m\u001b[0;34m,\u001b[0m \u001b[0mwork\u001b[0m\u001b[0;34m,\u001b[0m \u001b[0mneu1\u001b[0m\u001b[0;34m,\u001b[0m\u001b[0;34m\u001b[0m\u001b[0;34m\u001b[0m\u001b[0m\n\u001b[0;32m--> 925\u001b[0;31m                     \u001b[0mlearn_words\u001b[0m\u001b[0;34m=\u001b[0m\u001b[0;32mFalse\u001b[0m\u001b[0;34m,\u001b[0m \u001b[0mlearn_hidden\u001b[0m\u001b[0;34m=\u001b[0m\u001b[0;32mFalse\u001b[0m\u001b[0;34m,\u001b[0m \u001b[0mdoctag_vectors\u001b[0m\u001b[0;34m=\u001b[0m\u001b[0mdoctag_vectors\u001b[0m\u001b[0;34m,\u001b[0m \u001b[0mdoctag_locks\u001b[0m\u001b[0;34m=\u001b[0m\u001b[0mdoctag_locks\u001b[0m\u001b[0;34m\u001b[0m\u001b[0;34m\u001b[0m\u001b[0m\n\u001b[0m\u001b[1;32m    926\u001b[0m                 )\n\u001b[1;32m    927\u001b[0m             \u001b[0malpha\u001b[0m \u001b[0;34m-=\u001b[0m \u001b[0malpha_delta\u001b[0m\u001b[0;34m\u001b[0m\u001b[0;34m\u001b[0m\u001b[0m\n",
            "\u001b[0;31mKeyboardInterrupt\u001b[0m: "
          ]
        }
      ]
    },
    {
      "cell_type": "markdown",
      "metadata": {
        "id": "b6JC-M6xULZW"
      },
      "source": [
        "The accurancy and the F1 score are better using DM than DBOW. \n"
      ]
    },
    {
      "cell_type": "markdown",
      "metadata": {
        "id": "hpqUa-s_pNu-"
      },
      "source": [
        "Let's evaluate this also : "
      ]
    },
    {
      "cell_type": "code",
      "metadata": {
        "colab": {
          "background_save": true
        },
        "id": "LQyOxqxJpSU9"
      },
      "source": [
        "#get the probabilities for each category for every news\n",
        "y_pred_prob = logreg.predict_proba(X_test)\n",
        "y_pred_prob"
      ],
      "execution_count": null,
      "outputs": []
    },
    {
      "cell_type": "code",
      "metadata": {
        "colab": {
          "background_save": true
        },
        "id": "WiiTvdvypSa8"
      },
      "source": [
        "plot_binary_class_row_auc(y_true=y_test,\n",
        "                          clf_names=['Keras'],\n",
        "                          clfs_preds=[y_pred_prob[:,1].ravel()])"
      ],
      "execution_count": null,
      "outputs": []
    },
    {
      "cell_type": "code",
      "metadata": {
        "colab": {
          "background_save": true
        },
        "id": "ONhN6PzlpSj0"
      },
      "source": [
        "conf_mat = confusion_matrix(y_true=y_test, y_pred=y_pred,labels =[\"fake\", \"true\"])\n",
        "pd.DataFrame(conf_mat, columns = [\"fake\", \"true\"],index = [\"fake\", \"true\"])"
      ],
      "execution_count": null,
      "outputs": []
    },
    {
      "cell_type": "code",
      "metadata": {
        "colab": {
          "background_save": true
        },
        "id": "zG7FHjHEpWhy"
      },
      "source": [
        "print(classification_report(y_true=y_test, y_pred=y_pred))"
      ],
      "execution_count": null,
      "outputs": []
    },
    {
      "cell_type": "markdown",
      "metadata": {
        "id": "sSNTmgTm_LcU"
      },
      "source": [
        "To improve the scores we will create a new model that it will be a combination of DM and DBOW.\n"
      ]
    },
    {
      "cell_type": "code",
      "metadata": {
        "colab": {
          "background_save": true
        },
        "id": "htiPApyYUdkq"
      },
      "source": [
        "!pip install testfixtures"
      ],
      "execution_count": null,
      "outputs": []
    },
    {
      "cell_type": "code",
      "metadata": {
        "colab": {
          "background_save": true
        },
        "id": "Bni7nxUrUZQC"
      },
      "source": [
        "from gensim.test.test_doc2vec import ConcatenatedDoc2Vec\n",
        "new_model = ConcatenatedDoc2Vec([model_dbow, model_dmm])"
      ],
      "execution_count": null,
      "outputs": []
    },
    {
      "cell_type": "markdown",
      "metadata": {
        "id": "HcF6x1GCU737"
      },
      "source": [
        "Build vectors for the classifier"
      ]
    },
    {
      "cell_type": "code",
      "metadata": {
        "colab": {
          "background_save": true
        },
        "id": "5rVmJ2V1U7Zz"
      },
      "source": [
        "def get_vectors(model, tagged_docs):\n",
        "    sents = tagged_docs.values\n",
        "    targets, regressors = zip(*[(doc.tags[0], model.infer_vector(doc.words, steps=20)) for doc in sents])\n",
        "    return targets, regressors"
      ],
      "execution_count": null,
      "outputs": []
    },
    {
      "cell_type": "markdown",
      "metadata": {
        "id": "ax8frsQzVAPw"
      },
      "source": [
        "Train and predict using the new model."
      ]
    },
    {
      "cell_type": "code",
      "metadata": {
        "colab": {
          "background_save": true
        },
        "id": "uKEa-09dVB7M"
      },
      "source": [
        "y_train, X_train = get_vectors(new_model, train_tagged)\n",
        "y_test, X_test = get_vectors(new_model, test_tagged)\n",
        "logreg.fit(X_train, y_train)\n",
        "y_pred = logreg.predict(X_test)\n",
        "print('Testing accuracy %s' % accuracy_score(y_test, y_pred))\n",
        "print('Testing F1 score: {}'.format(f1_score(y_test, y_pred, average='weighted')))"
      ],
      "execution_count": null,
      "outputs": []
    },
    {
      "cell_type": "markdown",
      "metadata": {
        "id": "ZzM-InZI_bE8"
      },
      "source": [
        "Finally evaluate the model."
      ]
    },
    {
      "cell_type": "code",
      "metadata": {
        "colab": {
          "background_save": true
        },
        "id": "245Zsi3Y_UE0"
      },
      "source": [
        "#get the probabilities for each category for every news\n",
        "y_pred_prob = logreg.predict_proba(X_test)\n",
        "y_pred_prob"
      ],
      "execution_count": null,
      "outputs": []
    },
    {
      "cell_type": "code",
      "metadata": {
        "colab": {
          "background_save": true
        },
        "id": "pvA8RFKP_Vji"
      },
      "source": [
        "plot_binary_class_row_auc(y_true=y_test,\n",
        "                          clf_names=['Keras'],\n",
        "                          clfs_preds=[y_pred_prob[:,1].ravel()])"
      ],
      "execution_count": null,
      "outputs": []
    },
    {
      "cell_type": "code",
      "metadata": {
        "colab": {
          "background_save": true
        },
        "id": "sIASfe1g_YlW"
      },
      "source": [
        "conf_mat = confusion_matrix(y_true=y_test, y_pred=y_pred,labels =[\"fake\", \"true\"])\n",
        "pd.DataFrame(conf_mat, columns = [\"fake\", \"true\"],index = [\"fake\", \"true\"])"
      ],
      "execution_count": null,
      "outputs": []
    },
    {
      "cell_type": "code",
      "metadata": {
        "colab": {
          "background_save": true
        },
        "id": "N6Xil1o__Z3O"
      },
      "source": [
        "print(classification_report(y_true=y_test, y_pred=y_pred))"
      ],
      "execution_count": null,
      "outputs": []
    },
    {
      "cell_type": "markdown",
      "metadata": {
        "id": "0FAW627cVkKz"
      },
      "source": [
        "The scores are better than the DM and DBOW method."
      ]
    }
  ]
}