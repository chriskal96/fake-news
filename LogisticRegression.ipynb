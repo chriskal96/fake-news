{
  "nbformat": 4,
  "nbformat_minor": 0,
  "metadata": {
    "colab": {
      "name": "LogisticRegression.ipynb",
      "provenance": [],
      "collapsed_sections": []
    },
    "kernelspec": {
      "name": "python3",
      "display_name": "Python 3"
    },
    "language_info": {
      "name": "python"
    }
  },
  "cells": [
    {
      "cell_type": "code",
      "metadata": {
        "id": "rCc6vF6RCZ-r"
      },
      "source": [
        "import pandas as pd\n",
        "from collections import Counter\n",
        "import numpy as np\n",
        "import matplotlib.pyplot as plt\n",
        "\n",
        "%matplotlib inline"
      ],
      "execution_count": 1,
      "outputs": []
    },
    {
      "cell_type": "code",
      "metadata": {
        "colab": {
          "base_uri": "https://localhost:8080/"
        },
        "id": "KofEpe1sC3gq",
        "outputId": "7bf56a5c-05d6-4a09-914b-3b01a6b00e91"
      },
      "source": [
        "from google.colab import drive \n",
        "drive.mount('/content/gdrive')"
      ],
      "execution_count": 3,
      "outputs": [
        {
          "output_type": "stream",
          "text": [
            "Mounted at /content/gdrive\n"
          ],
          "name": "stdout"
        }
      ]
    },
    {
      "cell_type": "code",
      "metadata": {
        "colab": {
          "base_uri": "https://localhost:8080/",
          "height": 561
        },
        "id": "HOe6N6l8Ca69",
        "outputId": "c3b87a5b-5eaa-4caa-c749-5d15f741da71"
      },
      "source": [
        "df = pd.read_csv('/content/gdrive/MyDrive/text_pre_processing.csv')\n",
        "df.head(5)"
      ],
      "execution_count": 4,
      "outputs": [
        {
          "output_type": "stream",
          "text": [
            "/usr/local/lib/python3.7/dist-packages/IPython/core/interactiveshell.py:2718: DtypeWarning: Columns (6) have mixed types.Specify dtype option on import or set low_memory=False.\n",
            "  interactivity=interactivity, compiler=compiler, result=result)\n"
          ],
          "name": "stderr"
        },
        {
          "output_type": "execute_result",
          "data": {
            "text/html": [
              "<div>\n",
              "<style scoped>\n",
              "    .dataframe tbody tr th:only-of-type {\n",
              "        vertical-align: middle;\n",
              "    }\n",
              "\n",
              "    .dataframe tbody tr th {\n",
              "        vertical-align: top;\n",
              "    }\n",
              "\n",
              "    .dataframe thead th {\n",
              "        text-align: right;\n",
              "    }\n",
              "</style>\n",
              "<table border=\"1\" class=\"dataframe\">\n",
              "  <thead>\n",
              "    <tr style=\"text-align: right;\">\n",
              "      <th></th>\n",
              "      <th>Unnamed: 0</th>\n",
              "      <th>Unnamed: 0.1</th>\n",
              "      <th>title</th>\n",
              "      <th>text</th>\n",
              "      <th>subject</th>\n",
              "      <th>date</th>\n",
              "      <th>label</th>\n",
              "      <th>caps_in_title</th>\n",
              "      <th>text_tokens</th>\n",
              "      <th>text_urls</th>\n",
              "      <th>clean_text</th>\n",
              "      <th>title_urls</th>\n",
              "      <th>twitter_handles</th>\n",
              "      <th>clean_title</th>\n",
              "      <th>clean_text_tokens</th>\n",
              "      <th>clean_title_tokens</th>\n",
              "    </tr>\n",
              "  </thead>\n",
              "  <tbody>\n",
              "    <tr>\n",
              "      <th>0</th>\n",
              "      <td>0</td>\n",
              "      <td>0</td>\n",
              "      <td>Donald Trump Sends Out Embarrassing New Year’...</td>\n",
              "      <td>Donald Trump just couldn t wish all Americans ...</td>\n",
              "      <td>News</td>\n",
              "      <td>2017-12-31</td>\n",
              "      <td>fake</td>\n",
              "      <td>11</td>\n",
              "      <td>['Donald', 'Trump', 'just', 'couldn', 't', 'wi...</td>\n",
              "      <td>['pic.twitter.com/4FPAe2KypA']</td>\n",
              "      <td>donald trump just couldn t wish all americans ...</td>\n",
              "      <td>[]</td>\n",
              "      <td>['@realDonaldTrump', '@TalbertSwan', '@calvins...</td>\n",
              "      <td>donald trump sends out embarrassing new year’s...</td>\n",
              "      <td>['donald', 'trump', 'just', 'couldn', 'wish', ...</td>\n",
              "      <td>['donald', 'trump', 'sends', 'out', 'embarrass...</td>\n",
              "    </tr>\n",
              "    <tr>\n",
              "      <th>1</th>\n",
              "      <td>1</td>\n",
              "      <td>1</td>\n",
              "      <td>Drunk Bragging Trump Staffer Started Russian ...</td>\n",
              "      <td>House Intelligence Committee Chairman Devin Nu...</td>\n",
              "      <td>News</td>\n",
              "      <td>2017-12-31</td>\n",
              "      <td>fake</td>\n",
              "      <td>8</td>\n",
              "      <td>['House', 'Intelligence', 'Committee', 'Chairm...</td>\n",
              "      <td>[]</td>\n",
              "      <td>house intelligence committee chairman devin nu...</td>\n",
              "      <td>[]</td>\n",
              "      <td>[]</td>\n",
              "      <td>drunk bragging trump staffer started russian c...</td>\n",
              "      <td>['house', 'intelligence', 'committee', 'chairm...</td>\n",
              "      <td>['drunk', 'bragging', 'trump', 'staffer', 'sta...</td>\n",
              "    </tr>\n",
              "    <tr>\n",
              "      <th>2</th>\n",
              "      <td>2</td>\n",
              "      <td>2</td>\n",
              "      <td>Sheriff David Clarke Becomes An Internet Joke...</td>\n",
              "      <td>On Friday, it was revealed that former Milwauk...</td>\n",
              "      <td>News</td>\n",
              "      <td>2017-12-30</td>\n",
              "      <td>fake</td>\n",
              "      <td>15</td>\n",
              "      <td>['On', 'Friday', 'it', 'was', 'revealed', 'tha...</td>\n",
              "      <td>['pic.twitter.com/XtZW5PdU2b', 'pic.twitter.co...</td>\n",
              "      <td>on friday, it was revealed that former milwauk...</td>\n",
              "      <td>[]</td>\n",
              "      <td>['@SheriffClarke', '@SheriffClarke', '@KeithLe...</td>\n",
              "      <td>sheriff david clarke becomes an internet joke ...</td>\n",
              "      <td>['on', 'it', 'was', 'revealed', 'that', 'forme...</td>\n",
              "      <td>['sheriff', 'david', 'clarke', 'becomes', 'an'...</td>\n",
              "    </tr>\n",
              "    <tr>\n",
              "      <th>3</th>\n",
              "      <td>3</td>\n",
              "      <td>3</td>\n",
              "      <td>Trump Is So Obsessed He Even Has Obama’s Name...</td>\n",
              "      <td>On Christmas day, Donald Trump announced that ...</td>\n",
              "      <td>News</td>\n",
              "      <td>2017-12-29</td>\n",
              "      <td>fake</td>\n",
              "      <td>19</td>\n",
              "      <td>['On', 'Christmas', 'day', 'Donald', 'Trump', ...</td>\n",
              "      <td>['https://t.co/Fg7VacxRtJ', 'pic.twitter.com/5...</td>\n",
              "      <td>on christmas day, donald trump announced that ...</td>\n",
              "      <td>[]</td>\n",
              "      <td>['@pbump', '@_cingraham', '@_cingraham', '@_ci...</td>\n",
              "      <td>trump is so obsessed he even has obama’s name ...</td>\n",
              "      <td>['on', 'christmas', 'day', 'donald', 'trump', ...</td>\n",
              "      <td>['trump', 'is', 'so', 'obsessed', 'he', 'even'...</td>\n",
              "    </tr>\n",
              "    <tr>\n",
              "      <th>4</th>\n",
              "      <td>4</td>\n",
              "      <td>4</td>\n",
              "      <td>Pope Francis Just Called Out Donald Trump Dur...</td>\n",
              "      <td>Pope Francis used his annual Christmas Day mes...</td>\n",
              "      <td>News</td>\n",
              "      <td>2017-12-25</td>\n",
              "      <td>fake</td>\n",
              "      <td>11</td>\n",
              "      <td>['Pope', 'Francis', 'used', 'his', 'annual', '...</td>\n",
              "      <td>[]</td>\n",
              "      <td>pope francis used his annual christmas day mes...</td>\n",
              "      <td>[]</td>\n",
              "      <td>[]</td>\n",
              "      <td>pope francis just called out donald trump duri...</td>\n",
              "      <td>['pope', 'francis', 'used', 'his', 'annual', '...</td>\n",
              "      <td>['pope', 'francis', 'just', 'called', 'out', '...</td>\n",
              "    </tr>\n",
              "  </tbody>\n",
              "</table>\n",
              "</div>"
            ],
            "text/plain": [
              "   Unnamed: 0  ...                                 clean_title_tokens\n",
              "0           0  ...  ['donald', 'trump', 'sends', 'out', 'embarrass...\n",
              "1           1  ...  ['drunk', 'bragging', 'trump', 'staffer', 'sta...\n",
              "2           2  ...  ['sheriff', 'david', 'clarke', 'becomes', 'an'...\n",
              "3           3  ...  ['trump', 'is', 'so', 'obsessed', 'he', 'even'...\n",
              "4           4  ...  ['pope', 'francis', 'just', 'called', 'out', '...\n",
              "\n",
              "[5 rows x 16 columns]"
            ]
          },
          "metadata": {
            "tags": []
          },
          "execution_count": 4
        }
      ]
    },
    {
      "cell_type": "code",
      "metadata": {
        "colab": {
          "base_uri": "https://localhost:8080/",
          "height": 476
        },
        "id": "SvBLG9G0LjJe",
        "outputId": "2f4db82f-bf36-4c17-dc32-856def4fb826"
      },
      "source": [
        "df = df.drop(['Unnamed: 0'], axis = 1)\n",
        "df = df.drop(['Unnamed: 0.1'], axis = 1)\n",
        "df.head(5)"
      ],
      "execution_count": 5,
      "outputs": [
        {
          "output_type": "execute_result",
          "data": {
            "text/html": [
              "<div>\n",
              "<style scoped>\n",
              "    .dataframe tbody tr th:only-of-type {\n",
              "        vertical-align: middle;\n",
              "    }\n",
              "\n",
              "    .dataframe tbody tr th {\n",
              "        vertical-align: top;\n",
              "    }\n",
              "\n",
              "    .dataframe thead th {\n",
              "        text-align: right;\n",
              "    }\n",
              "</style>\n",
              "<table border=\"1\" class=\"dataframe\">\n",
              "  <thead>\n",
              "    <tr style=\"text-align: right;\">\n",
              "      <th></th>\n",
              "      <th>title</th>\n",
              "      <th>text</th>\n",
              "      <th>subject</th>\n",
              "      <th>date</th>\n",
              "      <th>label</th>\n",
              "      <th>caps_in_title</th>\n",
              "      <th>text_tokens</th>\n",
              "      <th>text_urls</th>\n",
              "      <th>clean_text</th>\n",
              "      <th>title_urls</th>\n",
              "      <th>twitter_handles</th>\n",
              "      <th>clean_title</th>\n",
              "      <th>clean_text_tokens</th>\n",
              "      <th>clean_title_tokens</th>\n",
              "    </tr>\n",
              "  </thead>\n",
              "  <tbody>\n",
              "    <tr>\n",
              "      <th>0</th>\n",
              "      <td>Donald Trump Sends Out Embarrassing New Year’...</td>\n",
              "      <td>Donald Trump just couldn t wish all Americans ...</td>\n",
              "      <td>News</td>\n",
              "      <td>2017-12-31</td>\n",
              "      <td>fake</td>\n",
              "      <td>11</td>\n",
              "      <td>['Donald', 'Trump', 'just', 'couldn', 't', 'wi...</td>\n",
              "      <td>['pic.twitter.com/4FPAe2KypA']</td>\n",
              "      <td>donald trump just couldn t wish all americans ...</td>\n",
              "      <td>[]</td>\n",
              "      <td>['@realDonaldTrump', '@TalbertSwan', '@calvins...</td>\n",
              "      <td>donald trump sends out embarrassing new year’s...</td>\n",
              "      <td>['donald', 'trump', 'just', 'couldn', 'wish', ...</td>\n",
              "      <td>['donald', 'trump', 'sends', 'out', 'embarrass...</td>\n",
              "    </tr>\n",
              "    <tr>\n",
              "      <th>1</th>\n",
              "      <td>Drunk Bragging Trump Staffer Started Russian ...</td>\n",
              "      <td>House Intelligence Committee Chairman Devin Nu...</td>\n",
              "      <td>News</td>\n",
              "      <td>2017-12-31</td>\n",
              "      <td>fake</td>\n",
              "      <td>8</td>\n",
              "      <td>['House', 'Intelligence', 'Committee', 'Chairm...</td>\n",
              "      <td>[]</td>\n",
              "      <td>house intelligence committee chairman devin nu...</td>\n",
              "      <td>[]</td>\n",
              "      <td>[]</td>\n",
              "      <td>drunk bragging trump staffer started russian c...</td>\n",
              "      <td>['house', 'intelligence', 'committee', 'chairm...</td>\n",
              "      <td>['drunk', 'bragging', 'trump', 'staffer', 'sta...</td>\n",
              "    </tr>\n",
              "    <tr>\n",
              "      <th>2</th>\n",
              "      <td>Sheriff David Clarke Becomes An Internet Joke...</td>\n",
              "      <td>On Friday, it was revealed that former Milwauk...</td>\n",
              "      <td>News</td>\n",
              "      <td>2017-12-30</td>\n",
              "      <td>fake</td>\n",
              "      <td>15</td>\n",
              "      <td>['On', 'Friday', 'it', 'was', 'revealed', 'tha...</td>\n",
              "      <td>['pic.twitter.com/XtZW5PdU2b', 'pic.twitter.co...</td>\n",
              "      <td>on friday, it was revealed that former milwauk...</td>\n",
              "      <td>[]</td>\n",
              "      <td>['@SheriffClarke', '@SheriffClarke', '@KeithLe...</td>\n",
              "      <td>sheriff david clarke becomes an internet joke ...</td>\n",
              "      <td>['on', 'it', 'was', 'revealed', 'that', 'forme...</td>\n",
              "      <td>['sheriff', 'david', 'clarke', 'becomes', 'an'...</td>\n",
              "    </tr>\n",
              "    <tr>\n",
              "      <th>3</th>\n",
              "      <td>Trump Is So Obsessed He Even Has Obama’s Name...</td>\n",
              "      <td>On Christmas day, Donald Trump announced that ...</td>\n",
              "      <td>News</td>\n",
              "      <td>2017-12-29</td>\n",
              "      <td>fake</td>\n",
              "      <td>19</td>\n",
              "      <td>['On', 'Christmas', 'day', 'Donald', 'Trump', ...</td>\n",
              "      <td>['https://t.co/Fg7VacxRtJ', 'pic.twitter.com/5...</td>\n",
              "      <td>on christmas day, donald trump announced that ...</td>\n",
              "      <td>[]</td>\n",
              "      <td>['@pbump', '@_cingraham', '@_cingraham', '@_ci...</td>\n",
              "      <td>trump is so obsessed he even has obama’s name ...</td>\n",
              "      <td>['on', 'christmas', 'day', 'donald', 'trump', ...</td>\n",
              "      <td>['trump', 'is', 'so', 'obsessed', 'he', 'even'...</td>\n",
              "    </tr>\n",
              "    <tr>\n",
              "      <th>4</th>\n",
              "      <td>Pope Francis Just Called Out Donald Trump Dur...</td>\n",
              "      <td>Pope Francis used his annual Christmas Day mes...</td>\n",
              "      <td>News</td>\n",
              "      <td>2017-12-25</td>\n",
              "      <td>fake</td>\n",
              "      <td>11</td>\n",
              "      <td>['Pope', 'Francis', 'used', 'his', 'annual', '...</td>\n",
              "      <td>[]</td>\n",
              "      <td>pope francis used his annual christmas day mes...</td>\n",
              "      <td>[]</td>\n",
              "      <td>[]</td>\n",
              "      <td>pope francis just called out donald trump duri...</td>\n",
              "      <td>['pope', 'francis', 'used', 'his', 'annual', '...</td>\n",
              "      <td>['pope', 'francis', 'just', 'called', 'out', '...</td>\n",
              "    </tr>\n",
              "  </tbody>\n",
              "</table>\n",
              "</div>"
            ],
            "text/plain": [
              "                                               title  ...                                 clean_title_tokens\n",
              "0   Donald Trump Sends Out Embarrassing New Year’...  ...  ['donald', 'trump', 'sends', 'out', 'embarrass...\n",
              "1   Drunk Bragging Trump Staffer Started Russian ...  ...  ['drunk', 'bragging', 'trump', 'staffer', 'sta...\n",
              "2   Sheriff David Clarke Becomes An Internet Joke...  ...  ['sheriff', 'david', 'clarke', 'becomes', 'an'...\n",
              "3   Trump Is So Obsessed He Even Has Obama’s Name...  ...  ['trump', 'is', 'so', 'obsessed', 'he', 'even'...\n",
              "4   Pope Francis Just Called Out Donald Trump Dur...  ...  ['pope', 'francis', 'just', 'called', 'out', '...\n",
              "\n",
              "[5 rows x 14 columns]"
            ]
          },
          "metadata": {
            "tags": []
          },
          "execution_count": 5
        }
      ]
    },
    {
      "cell_type": "code",
      "metadata": {
        "colab": {
          "base_uri": "https://localhost:8080/",
          "height": 204
        },
        "id": "uQVSNUnkOE4Q",
        "outputId": "29cb56bb-13d8-4f56-98c1-abfc074b7087"
      },
      "source": [
        "df = df.drop(['text_tokens'], axis = 1)\n",
        "df = df.drop(['text_urls'], axis = 1)\n",
        "df = df.drop(['title_urls'], axis = 1)\n",
        "df = df.drop(['twitter_handles'], axis = 1)\n",
        "df = df.drop(['clean_text_tokens'], axis = 1)\n",
        "df = df.drop(['clean_title_tokens'], axis = 1)\n",
        "df.head(5)"
      ],
      "execution_count": 20,
      "outputs": [
        {
          "output_type": "execute_result",
          "data": {
            "text/html": [
              "<div>\n",
              "<style scoped>\n",
              "    .dataframe tbody tr th:only-of-type {\n",
              "        vertical-align: middle;\n",
              "    }\n",
              "\n",
              "    .dataframe tbody tr th {\n",
              "        vertical-align: top;\n",
              "    }\n",
              "\n",
              "    .dataframe thead th {\n",
              "        text-align: right;\n",
              "    }\n",
              "</style>\n",
              "<table border=\"1\" class=\"dataframe\">\n",
              "  <thead>\n",
              "    <tr style=\"text-align: right;\">\n",
              "      <th></th>\n",
              "      <th>title</th>\n",
              "      <th>text</th>\n",
              "      <th>subject</th>\n",
              "      <th>date</th>\n",
              "      <th>label</th>\n",
              "      <th>caps_in_title</th>\n",
              "      <th>clean_text</th>\n",
              "      <th>clean_title</th>\n",
              "    </tr>\n",
              "  </thead>\n",
              "  <tbody>\n",
              "    <tr>\n",
              "      <th>0</th>\n",
              "      <td>Donald Trump Sends Out Embarrassing New Year’...</td>\n",
              "      <td>Donald Trump just couldn t wish all Americans ...</td>\n",
              "      <td>News</td>\n",
              "      <td>2017-12-31</td>\n",
              "      <td>fake</td>\n",
              "      <td>11</td>\n",
              "      <td>donald trump just couldn t wish all americans ...</td>\n",
              "      <td>donald trump sends out embarrassing new year’s...</td>\n",
              "    </tr>\n",
              "    <tr>\n",
              "      <th>1</th>\n",
              "      <td>Drunk Bragging Trump Staffer Started Russian ...</td>\n",
              "      <td>House Intelligence Committee Chairman Devin Nu...</td>\n",
              "      <td>News</td>\n",
              "      <td>2017-12-31</td>\n",
              "      <td>fake</td>\n",
              "      <td>8</td>\n",
              "      <td>house intelligence committee chairman devin nu...</td>\n",
              "      <td>drunk bragging trump staffer started russian c...</td>\n",
              "    </tr>\n",
              "    <tr>\n",
              "      <th>2</th>\n",
              "      <td>Sheriff David Clarke Becomes An Internet Joke...</td>\n",
              "      <td>On Friday, it was revealed that former Milwauk...</td>\n",
              "      <td>News</td>\n",
              "      <td>2017-12-30</td>\n",
              "      <td>fake</td>\n",
              "      <td>15</td>\n",
              "      <td>on friday, it was revealed that former milwauk...</td>\n",
              "      <td>sheriff david clarke becomes an internet joke ...</td>\n",
              "    </tr>\n",
              "    <tr>\n",
              "      <th>3</th>\n",
              "      <td>Trump Is So Obsessed He Even Has Obama’s Name...</td>\n",
              "      <td>On Christmas day, Donald Trump announced that ...</td>\n",
              "      <td>News</td>\n",
              "      <td>2017-12-29</td>\n",
              "      <td>fake</td>\n",
              "      <td>19</td>\n",
              "      <td>on christmas day, donald trump announced that ...</td>\n",
              "      <td>trump is so obsessed he even has obama’s name ...</td>\n",
              "    </tr>\n",
              "    <tr>\n",
              "      <th>4</th>\n",
              "      <td>Pope Francis Just Called Out Donald Trump Dur...</td>\n",
              "      <td>Pope Francis used his annual Christmas Day mes...</td>\n",
              "      <td>News</td>\n",
              "      <td>2017-12-25</td>\n",
              "      <td>fake</td>\n",
              "      <td>11</td>\n",
              "      <td>pope francis used his annual christmas day mes...</td>\n",
              "      <td>pope francis just called out donald trump duri...</td>\n",
              "    </tr>\n",
              "  </tbody>\n",
              "</table>\n",
              "</div>"
            ],
            "text/plain": [
              "                                               title  ...                                        clean_title\n",
              "0   Donald Trump Sends Out Embarrassing New Year’...  ...  donald trump sends out embarrassing new year’s...\n",
              "1   Drunk Bragging Trump Staffer Started Russian ...  ...  drunk bragging trump staffer started russian c...\n",
              "2   Sheriff David Clarke Becomes An Internet Joke...  ...  sheriff david clarke becomes an internet joke ...\n",
              "3   Trump Is So Obsessed He Even Has Obama’s Name...  ...  trump is so obsessed he even has obama’s name ...\n",
              "4   Pope Francis Just Called Out Donald Trump Dur...  ...  pope francis just called out donald trump duri...\n",
              "\n",
              "[5 rows x 8 columns]"
            ]
          },
          "metadata": {
            "tags": []
          },
          "execution_count": 20
        }
      ]
    },
    {
      "cell_type": "code",
      "metadata": {
        "id": "xo8Wd4tHNCER"
      },
      "source": [
        "import multiprocessing\n",
        "cores = multiprocessing.cpu_count()"
      ],
      "execution_count": 12,
      "outputs": []
    },
    {
      "cell_type": "code",
      "metadata": {
        "id": "l4UcmyYpNfSO"
      },
      "source": [
        "from tqdm import tqdm\n",
        "from gensim.models import Doc2Vec\n",
        "from sklearn import utils\n",
        "from sklearn.model_selection import train_test_split\n",
        "import gensim\n",
        "from sklearn.linear_model import LogisticRegression\n",
        "from gensim.models.doc2vec import TaggedDocument\n",
        "import re\n",
        "import seaborn as sns\n",
        "import matplotlib.pyplot as plt"
      ],
      "execution_count": 16,
      "outputs": []
    },
    {
      "cell_type": "code",
      "metadata": {
        "id": "gxGbda0_NwUh"
      },
      "source": [
        "train, test = train_test_split(df, test_size=0.3, random_state=42)"
      ],
      "execution_count": 21,
      "outputs": []
    },
    {
      "cell_type": "markdown",
      "metadata": {
        "id": "USxmGfndPTAq"
      },
      "source": [
        "The following steps include train/test split of 70/30, remove stop-words and tokenize text using NLTK tokenizer. For our first try we tag every complaint title with its label.It probably must be done also with its text or title + text !"
      ]
    },
    {
      "cell_type": "code",
      "metadata": {
        "colab": {
          "base_uri": "https://localhost:8080/"
        },
        "id": "qHXDC34JPN5S",
        "outputId": "2f0f0fbd-1c59-483b-8f43-2ac8a0b14473"
      },
      "source": [
        "import nltk\n",
        "nltk.download('punkt')"
      ],
      "execution_count": 25,
      "outputs": [
        {
          "output_type": "stream",
          "text": [
            "[nltk_data] Downloading package punkt to /root/nltk_data...\n",
            "[nltk_data]   Unzipping tokenizers/punkt.zip.\n"
          ],
          "name": "stdout"
        },
        {
          "output_type": "execute_result",
          "data": {
            "text/plain": [
              "True"
            ]
          },
          "metadata": {
            "tags": []
          },
          "execution_count": 25
        }
      ]
    },
    {
      "cell_type": "code",
      "metadata": {
        "id": "Oh1j275oO1L4"
      },
      "source": [
        "import nltk\n",
        "from nltk.corpus import stopwords\n",
        "def tokenize_text(text):\n",
        "    tokens = []\n",
        "    for sent in nltk.sent_tokenize(text):\n",
        "        for word in nltk.word_tokenize(sent):\n",
        "            if len(word) < 2:\n",
        "                continue\n",
        "            tokens.append(word.lower())\n",
        "    return tokens\n",
        "train_tagged = train.apply(\n",
        "    lambda r: TaggedDocument(words=tokenize_text(r['title']), tags=[r.label]), axis=1)\n",
        "test_tagged = test.apply(\n",
        "    lambda r: TaggedDocument(words=tokenize_text(r['title']), tags=[r.label]), axis=1)"
      ],
      "execution_count": 26,
      "outputs": []
    },
    {
      "cell_type": "markdown",
      "metadata": {
        "id": "vUQfoa_RPl_n"
      },
      "source": [
        "An example"
      ]
    },
    {
      "cell_type": "code",
      "metadata": {
        "colab": {
          "base_uri": "https://localhost:8080/"
        },
        "id": "fE_H-hsdPnFK",
        "outputId": "437d537d-c4d3-49b3-804c-3fce81bb256c"
      },
      "source": [
        "train_tagged.values[1]"
      ],
      "execution_count": 30,
      "outputs": [
        {
          "output_type": "execute_result",
          "data": {
            "text/plain": [
              "TaggedDocument(words=['danish', 'minister', 'republishes', 'controversial', 'prophet', 'cartoon', 'on', 'facebook'], tags=[True])"
            ]
          },
          "metadata": {
            "tags": []
          },
          "execution_count": 30
        }
      ]
    },
    {
      "cell_type": "markdown",
      "metadata": {
        "id": "gJMpFuI2V78a"
      },
      "source": [
        "Doc2vec is an NLP tool for representing documents as a vector and is a generalizing of the word2vec method."
      ]
    },
    {
      "cell_type": "markdown",
      "metadata": {
        "id": "xqzI_T0mWL8h"
      },
      "source": [
        "In general, when you like to build some model using words, simply labeling/one-hot encoding them is a plausible way to go. However, when using such encoding, the words lose their meaning. e.g, if we encode Paris as id_4, France as id_6 and power as id_8, France will have the same relation to power as with Paris. We would prefer a representation in which France and Paris will be closer than France and power.\n",
        "The word2vec, presented in 2013 , intends to give you just that: a numeric representation for each word, that will be able to capture such relations as above. this is part of a wider concept in machine learning — the feature vectors."
      ]
    },
    {
      "cell_type": "markdown",
      "metadata": {
        "id": "zq8XB9l9WXVT"
      },
      "source": [
        "Such representations, encapsulate different relations between words, like synonyms, antonyms, or analogies, such as this one:"
      ]
    },
    {
      "cell_type": "markdown",
      "metadata": {
        "id": "4MjKBALdWX_7"
      },
      "source": [
        "![WORD2VEC_EXAMPLE.PNG](data:image/png;base64,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)"
      ]
    },
    {
      "cell_type": "markdown",
      "metadata": {
        "id": "2X9VkLQ2Wm7h"
      },
      "source": [
        " King to queen is like man to woman."
      ]
    },
    {
      "cell_type": "markdown",
      "metadata": {
        "id": "W_jsi1MQWza7"
      },
      "source": [
        "The goal of doc2vec is to create a numeric representation of a document, regardless of its length. But unlike words, documents do not come in logical structures such as words, so the another method has to be found."
      ]
    },
    {
      "cell_type": "markdown",
      "metadata": {
        "id": "60BIqv4IXDU_"
      },
      "source": [
        "There are 2 methods for doc2vec : \n",
        "\n",
        "\n",
        "1.   **Distributed Bag of Words (DBOW)** : The paragraph vectors are obtained by training a neural network on the task of predicting a probability distribution of words in a paragraph given a randomly-sampled word from the paragraph.\n",
        "2.   **Distributed Memory (DM)** : DM acts as a memory that remembers what is missing from the current context — or as the topic of the paragraph. While the word vectors represent the concept of a word, the document vector intends to represent the concept of a document\n",
        "\n",
        "\n",
        "\n"
      ]
    },
    {
      "cell_type": "markdown",
      "metadata": {
        "id": "PKMNeHWnP6Ds"
      },
      "source": [
        "Now we create a doc2vec model using distributed bag of words (DBOW), with 300-dimensional feature vectors.As for workers we use the system core threads to train the model."
      ]
    },
    {
      "cell_type": "code",
      "metadata": {
        "colab": {
          "base_uri": "https://localhost:8080/"
        },
        "id": "-NEzVzz9NZGw",
        "outputId": "a0aaa99c-70ff-4dd4-80da-f6d30e9982b5"
      },
      "source": [
        "model_dbow = Doc2Vec(dm=0, vector_size=300, negative=5, hs=0, min_count=2, sample = 0, workers=cores)\n",
        "model_dbow.build_vocab([x for x in tqdm(train_tagged.values)])"
      ],
      "execution_count": 28,
      "outputs": [
        {
          "output_type": "stream",
          "text": [
            "100%|██████████| 27046/27046 [00:00<00:00, 1452337.10it/s]\n"
          ],
          "name": "stderr"
        }
      ]
    },
    {
      "cell_type": "markdown",
      "metadata": {
        "id": "6fwS9Rb6QlKj"
      },
      "source": [
        "Now we must train the model for 30 epochs ( =  cycle through the full training dataset)"
      ]
    },
    {
      "cell_type": "code",
      "metadata": {
        "colab": {
          "base_uri": "https://localhost:8080/"
        },
        "id": "8NgFBiPvQntK",
        "outputId": "c90e5d1d-46b6-438e-d660-eb8a7732df02"
      },
      "source": [
        "%%time\n",
        "for epoch in range(30):\n",
        "    model_dbow.train(utils.shuffle([x for x in tqdm(train_tagged.values)]), total_examples=len(train_tagged.values), epochs=1)\n",
        "    model_dbow.alpha -= 0.002\n",
        "    model_dbow.min_alpha = model_dbow.alpha"
      ],
      "execution_count": 31,
      "outputs": [
        {
          "output_type": "stream",
          "text": [
            "100%|██████████| 27046/27046 [00:00<00:00, 2205356.86it/s]\n",
            "100%|██████████| 27046/27046 [00:00<00:00, 1841454.90it/s]\n",
            "100%|██████████| 27046/27046 [00:00<00:00, 1739037.36it/s]\n",
            "100%|██████████| 27046/27046 [00:00<00:00, 2614588.38it/s]\n",
            "100%|██████████| 27046/27046 [00:00<00:00, 2613564.33it/s]\n",
            "100%|██████████| 27046/27046 [00:00<00:00, 1682549.15it/s]\n",
            "100%|██████████| 27046/27046 [00:00<00:00, 2035367.03it/s]\n",
            "100%|██████████| 27046/27046 [00:00<00:00, 2204799.63it/s]\n",
            "100%|██████████| 27046/27046 [00:00<00:00, 2109436.12it/s]\n",
            "100%|██████████| 27046/27046 [00:00<00:00, 2473542.79it/s]\n",
            "100%|██████████| 27046/27046 [00:00<00:00, 1966868.59it/s]\n",
            "100%|██████████| 27046/27046 [00:00<00:00, 1988764.83it/s]\n",
            "100%|██████████| 27046/27046 [00:00<00:00, 2034673.40it/s]\n",
            "100%|██████████| 27046/27046 [00:00<00:00, 2295409.67it/s]\n",
            "100%|██████████| 27046/27046 [00:00<00:00, 1922567.05it/s]\n",
            "100%|██████████| 27046/27046 [00:00<00:00, 2060132.68it/s]\n",
            "100%|██████████| 27046/27046 [00:00<00:00, 2044611.69it/s]\n",
            "100%|██████████| 27046/27046 [00:00<00:00, 1988381.38it/s]\n",
            "100%|██████████| 27046/27046 [00:00<00:00, 1693374.32it/s]\n",
            "100%|██████████| 27046/27046 [00:00<00:00, 2430977.76it/s]\n",
            "100%|██████████| 27046/27046 [00:00<00:00, 1801965.69it/s]\n",
            "100%|██████████| 27046/27046 [00:00<00:00, 1968506.88it/s]\n",
            "100%|██████████| 27046/27046 [00:00<00:00, 1851765.36it/s]\n",
            "100%|██████████| 27046/27046 [00:00<00:00, 2032194.80it/s]\n",
            "100%|██████████| 27046/27046 [00:00<00:00, 1190974.67it/s]\n",
            "100%|██████████| 27046/27046 [00:00<00:00, 1703341.63it/s]\n",
            "100%|██████████| 27046/27046 [00:00<00:00, 1976050.76it/s]\n",
            "100%|██████████| 27046/27046 [00:00<00:00, 2010975.82it/s]\n",
            "100%|██████████| 27046/27046 [00:00<00:00, 1967926.34it/s]\n",
            "100%|██████████| 27046/27046 [00:00<00:00, 2257091.19it/s]\n"
          ],
          "name": "stderr"
        },
        {
          "output_type": "stream",
          "text": [
            "CPU times: user 1min 18s, sys: 15.1 s, total: 1min 33s\n",
            "Wall time: 1min\n"
          ],
          "name": "stdout"
        }
      ]
    },
    {
      "cell_type": "markdown",
      "metadata": {
        "id": "F-1sAKPQQ_A8"
      },
      "source": [
        "Now we build the final vector for the classification"
      ]
    },
    {
      "cell_type": "code",
      "metadata": {
        "id": "yJxqTmbJRBjc"
      },
      "source": [
        "def vec_for_learning(model, tagged_docs):\n",
        "    sents = tagged_docs.values\n",
        "    targets, regressors = zip(*[(doc.tags[0], model.infer_vector(doc.words, steps=20)) for doc in sents])\n",
        "    return targets, regressors"
      ],
      "execution_count": 37,
      "outputs": []
    },
    {
      "cell_type": "markdown",
      "metadata": {
        "id": "G1-GXGWhSIpA"
      },
      "source": [
        "Train the logistic regression classifier"
      ]
    },
    {
      "cell_type": "code",
      "metadata": {
        "colab": {
          "base_uri": "https://localhost:8080/"
        },
        "id": "c7A2tVhaSICV",
        "outputId": "92f70894-5f5b-45c8-af82-e0caf46d672e"
      },
      "source": [
        "y_train, X_train = vec_for_learning(model_dbow, train_tagged)\n",
        "y_test, X_test = vec_for_learning(model_dbow, test_tagged)\n",
        "logreg = LogisticRegression(n_jobs=1, C=1e5)\n",
        "logreg.fit(X_train, y_train)\n",
        "y_pred = logreg.predict(X_test)\n",
        "from sklearn.metrics import accuracy_score, f1_score\n",
        "print('Testing accuracy %s' % accuracy_score(y_test, y_pred))\n",
        "print('Testing F1 score: {}'.format(f1_score(y_test, y_pred, average='weighted')))"
      ],
      "execution_count": 38,
      "outputs": [
        {
          "output_type": "stream",
          "text": [
            "Testing accuracy 0.6347481021394065\n",
            "Testing F1 score: 0.5929286570654835\n"
          ],
          "name": "stdout"
        },
        {
          "output_type": "stream",
          "text": [
            "/usr/local/lib/python3.7/dist-packages/sklearn/linear_model/_logistic.py:940: ConvergenceWarning: lbfgs failed to converge (status=1):\n",
            "STOP: TOTAL NO. of ITERATIONS REACHED LIMIT.\n",
            "\n",
            "Increase the number of iterations (max_iter) or scale the data as shown in:\n",
            "    https://scikit-learn.org/stable/modules/preprocessing.html\n",
            "Please also refer to the documentation for alternative solver options:\n",
            "    https://scikit-learn.org/stable/modules/linear_model.html#logistic-regression\n",
            "  extra_warning_msg=_LOGISTIC_SOLVER_CONVERGENCE_MSG)\n"
          ],
          "name": "stderr"
        }
      ]
    },
    {
      "cell_type": "markdown",
      "metadata": {
        "id": "OOC8R3v7S0vZ"
      },
      "source": [
        "We will then try using the DM method for doc2vec and so we create a DM doc2vec model with a vector size with 300 words and iterating over the training corpus 30 times.\n"
      ]
    },
    {
      "cell_type": "code",
      "metadata": {
        "colab": {
          "base_uri": "https://localhost:8080/"
        },
        "id": "59RSFgY3TEja",
        "outputId": "6e861bd5-a3a1-4f14-a31f-73235e66fd75"
      },
      "source": [
        "model_dmm = Doc2Vec(dm=1, dm_mean=1, vector_size=300, window=10, negative=5, min_count=1, workers=5, alpha=0.065, min_alpha=0.065)\n",
        "model_dmm.build_vocab([x for x in tqdm(train_tagged.values)])"
      ],
      "execution_count": 39,
      "outputs": [
        {
          "output_type": "stream",
          "text": [
            "100%|██████████| 27046/27046 [00:00<00:00, 1442328.62it/s]\n"
          ],
          "name": "stderr"
        }
      ]
    },
    {
      "cell_type": "code",
      "metadata": {
        "colab": {
          "base_uri": "https://localhost:8080/"
        },
        "id": "4wAOZvtzTGDs",
        "outputId": "7daa9767-8e09-4176-f70e-b9f5f523294a"
      },
      "source": [
        "%%time\n",
        "for epoch in range(30):\n",
        "    model_dmm.train(utils.shuffle([x for x in tqdm(train_tagged.values)]), total_examples=len(train_tagged.values), epochs=1)\n",
        "    model_dmm.alpha -= 0.002\n",
        "    model_dmm.min_alpha = model_dmm.alpha"
      ],
      "execution_count": 40,
      "outputs": [
        {
          "output_type": "stream",
          "text": [
            "100%|██████████| 27046/27046 [00:00<00:00, 1921394.75it/s]\n",
            "100%|██████████| 27046/27046 [00:00<00:00, 2408576.71it/s]\n",
            "100%|██████████| 27046/27046 [00:00<00:00, 2073955.54it/s]\n",
            "100%|██████████| 27046/27046 [00:00<00:00, 1864303.61it/s]\n",
            "100%|██████████| 27046/27046 [00:00<00:00, 1551559.18it/s]\n",
            "100%|██████████| 27046/27046 [00:00<00:00, 1915813.45it/s]\n",
            "100%|██████████| 27046/27046 [00:00<00:00, 2050599.17it/s]\n",
            "100%|██████████| 27046/27046 [00:00<00:00, 1959123.81it/s]\n",
            "100%|██████████| 27046/27046 [00:00<00:00, 1541837.42it/s]\n",
            "100%|██████████| 27046/27046 [00:00<00:00, 1862650.59it/s]\n",
            "100%|██████████| 27046/27046 [00:00<00:00, 1978601.26it/s]\n",
            "100%|██████████| 27046/27046 [00:00<00:00, 1853005.54it/s]\n",
            "100%|██████████| 27046/27046 [00:00<00:00, 1795690.34it/s]\n",
            "100%|██████████| 27046/27046 [00:00<00:00, 2664829.95it/s]\n",
            "100%|██████████| 27046/27046 [00:00<00:00, 1857465.71it/s]\n",
            "100%|██████████| 27046/27046 [00:00<00:00, 1927270.57it/s]\n",
            "100%|██████████| 27046/27046 [00:00<00:00, 1295514.61it/s]\n",
            "100%|██████████| 27046/27046 [00:00<00:00, 2414215.25it/s]\n",
            "100%|██████████| 27046/27046 [00:00<00:00, 2350437.10it/s]\n",
            "100%|██████████| 27046/27046 [00:00<00:00, 2157622.22it/s]\n",
            "100%|██████████| 27046/27046 [00:00<00:00, 2280642.26it/s]\n",
            "100%|██████████| 27046/27046 [00:00<00:00, 2040455.90it/s]\n",
            "100%|██████████| 27046/27046 [00:00<00:00, 2337457.42it/s]\n",
            "100%|██████████| 27046/27046 [00:00<00:00, 1880996.65it/s]\n",
            "100%|██████████| 27046/27046 [00:00<00:00, 1800364.17it/s]\n",
            "100%|██████████| 27046/27046 [00:00<00:00, 2474891.92it/s]\n",
            "100%|██████████| 27046/27046 [00:00<00:00, 1898563.11it/s]\n",
            "100%|██████████| 27046/27046 [00:00<00:00, 1872211.15it/s]\n",
            "100%|██████████| 27046/27046 [00:00<00:00, 1893650.71it/s]\n",
            "100%|██████████| 27046/27046 [00:00<00:00, 1824220.41it/s]\n"
          ],
          "name": "stderr"
        },
        {
          "output_type": "stream",
          "text": [
            "CPU times: user 2min 43s, sys: 50.1 s, total: 3min 33s\n",
            "Wall time: 2min 29s\n"
          ],
          "name": "stdout"
        }
      ]
    },
    {
      "cell_type": "code",
      "metadata": {
        "colab": {
          "base_uri": "https://localhost:8080/"
        },
        "id": "qsq3qA7OTH6Z",
        "outputId": "9cdc28be-c469-4485-bd2b-2253db5705eb"
      },
      "source": [
        "y_train, X_train = vec_for_learning(model_dmm, train_tagged)\n",
        "y_test, X_test = vec_for_learning(model_dmm, test_tagged)\n",
        "logreg.fit(X_train, y_train)\n",
        "y_pred = logreg.predict(X_test)\n",
        "print('Testing accuracy %s' % accuracy_score(y_test, y_pred))\n",
        "print('Testing F1 score: {}'.format(f1_score(y_test, y_pred, average='weighted')))"
      ],
      "execution_count": 41,
      "outputs": [
        {
          "output_type": "stream",
          "text": [
            "Testing accuracy 0.5073326432022084\n",
            "Testing F1 score: 0.5138751260439479\n"
          ],
          "name": "stdout"
        },
        {
          "output_type": "stream",
          "text": [
            "/usr/local/lib/python3.7/dist-packages/sklearn/linear_model/_logistic.py:940: ConvergenceWarning: lbfgs failed to converge (status=1):\n",
            "STOP: TOTAL NO. of ITERATIONS REACHED LIMIT.\n",
            "\n",
            "Increase the number of iterations (max_iter) or scale the data as shown in:\n",
            "    https://scikit-learn.org/stable/modules/preprocessing.html\n",
            "Please also refer to the documentation for alternative solver options:\n",
            "    https://scikit-learn.org/stable/modules/linear_model.html#logistic-regression\n",
            "  extra_warning_msg=_LOGISTIC_SOLVER_CONVERGENCE_MSG)\n"
          ],
          "name": "stderr"
        }
      ]
    },
    {
      "cell_type": "markdown",
      "metadata": {
        "id": "b6JC-M6xULZW"
      },
      "source": [
        "The accurancy and the F1 score are less using DM than DBOW. To improve the scores we will create a new model that it will be a combination of those 2."
      ]
    },
    {
      "cell_type": "code",
      "metadata": {
        "colab": {
          "base_uri": "https://localhost:8080/"
        },
        "id": "htiPApyYUdkq",
        "outputId": "f7b7b0ce-10c0-44a1-e15f-f654beb25418"
      },
      "source": [
        "!pip install testfixtures"
      ],
      "execution_count": 44,
      "outputs": [
        {
          "output_type": "stream",
          "text": [
            "Collecting testfixtures\n",
            "  Downloading testfixtures-6.18.0-py2.py3-none-any.whl (95 kB)\n",
            "\u001b[?25l\r\u001b[K     |███▍                            | 10 kB 24.4 MB/s eta 0:00:01\r\u001b[K     |██████▉                         | 20 kB 9.5 MB/s eta 0:00:01\r\u001b[K     |██████████▎                     | 30 kB 8.0 MB/s eta 0:00:01\r\u001b[K     |█████████████▊                  | 40 kB 7.3 MB/s eta 0:00:01\r\u001b[K     |█████████████████▏              | 51 kB 4.0 MB/s eta 0:00:01\r\u001b[K     |████████████████████▋           | 61 kB 4.2 MB/s eta 0:00:01\r\u001b[K     |████████████████████████        | 71 kB 4.3 MB/s eta 0:00:01\r\u001b[K     |███████████████████████████▌    | 81 kB 4.9 MB/s eta 0:00:01\r\u001b[K     |███████████████████████████████ | 92 kB 3.7 MB/s eta 0:00:01\r\u001b[K     |████████████████████████████████| 95 kB 2.1 MB/s \n",
            "\u001b[?25hInstalling collected packages: testfixtures\n",
            "Successfully installed testfixtures-6.18.0\n"
          ],
          "name": "stdout"
        }
      ]
    },
    {
      "cell_type": "code",
      "metadata": {
        "id": "Bni7nxUrUZQC"
      },
      "source": [
        "from gensim.test.test_doc2vec import ConcatenatedDoc2Vec\n",
        "new_model = ConcatenatedDoc2Vec([model_dbow, model_dmm])"
      ],
      "execution_count": 45,
      "outputs": []
    },
    {
      "cell_type": "markdown",
      "metadata": {
        "id": "HcF6x1GCU737"
      },
      "source": [
        "Build vectors for the classifier"
      ]
    },
    {
      "cell_type": "code",
      "metadata": {
        "id": "5rVmJ2V1U7Zz"
      },
      "source": [
        "def get_vectors(model, tagged_docs):\n",
        "    sents = tagged_docs.values\n",
        "    targets, regressors = zip(*[(doc.tags[0], model.infer_vector(doc.words, steps=20)) for doc in sents])\n",
        "    return targets, regressors"
      ],
      "execution_count": 46,
      "outputs": []
    },
    {
      "cell_type": "markdown",
      "metadata": {
        "id": "ax8frsQzVAPw"
      },
      "source": [
        "Finally train the model"
      ]
    },
    {
      "cell_type": "code",
      "metadata": {
        "colab": {
          "base_uri": "https://localhost:8080/"
        },
        "id": "uKEa-09dVB7M",
        "outputId": "4e1a5aee-fa87-47a2-d183-677bdc905a4c"
      },
      "source": [
        "y_train, X_train = get_vectors(new_model, train_tagged)\n",
        "y_test, X_test = get_vectors(new_model, test_tagged)\n",
        "logreg.fit(X_train, y_train)\n",
        "y_pred = logreg.predict(X_test)\n",
        "print('Testing accuracy %s' % accuracy_score(y_test, y_pred))\n",
        "print('Testing F1 score: {}'.format(f1_score(y_test, y_pred, average='weighted')))"
      ],
      "execution_count": 47,
      "outputs": [
        {
          "output_type": "stream",
          "text": [
            "Testing accuracy 0.5454623878536922\n",
            "Testing F1 score: 0.5433541306439104\n"
          ],
          "name": "stdout"
        },
        {
          "output_type": "stream",
          "text": [
            "/usr/local/lib/python3.7/dist-packages/sklearn/linear_model/_logistic.py:940: ConvergenceWarning: lbfgs failed to converge (status=1):\n",
            "STOP: TOTAL NO. of ITERATIONS REACHED LIMIT.\n",
            "\n",
            "Increase the number of iterations (max_iter) or scale the data as shown in:\n",
            "    https://scikit-learn.org/stable/modules/preprocessing.html\n",
            "Please also refer to the documentation for alternative solver options:\n",
            "    https://scikit-learn.org/stable/modules/linear_model.html#logistic-regression\n",
            "  extra_warning_msg=_LOGISTIC_SOLVER_CONVERGENCE_MSG)\n"
          ],
          "name": "stderr"
        }
      ]
    },
    {
      "cell_type": "markdown",
      "metadata": {
        "id": "0FAW627cVkKz"
      },
      "source": [
        "Although the scores are better than the DM method, they are not as good as the DBOW."
      ]
    }
  ]
}