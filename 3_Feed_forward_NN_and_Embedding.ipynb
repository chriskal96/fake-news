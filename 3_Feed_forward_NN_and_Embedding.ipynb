{
  "nbformat": 4,
  "nbformat_minor": 0,
  "metadata": {
    "kernelspec": {
      "display_name": "Python 3",
      "language": "python",
      "name": "python3"
    },
    "language_info": {
      "codemirror_mode": {
        "name": "ipython",
        "version": 3
      },
      "file_extension": ".py",
      "mimetype": "text/x-python",
      "name": "python",
      "nbconvert_exporter": "python",
      "pygments_lexer": "ipython3",
      "version": "3.8.3"
    },
    "toc": {
      "nav_menu": {},
      "number_sections": true,
      "sideBar": true,
      "skip_h1_title": false,
      "toc_cell": false,
      "toc_position": {},
      "toc_section_display": "block",
      "toc_window_display": false
    },
    "colab": {
      "name": "3. Feed_forward_NN_and_Embedding.ipynb",
      "provenance": [],
      "collapsed_sections": []
    },
    "accelerator": "GPU"
  },
  "cells": [
    {
      "cell_type": "markdown",
      "metadata": {
        "id": "pj38L3nGSeX3"
      },
      "source": [
        "## Feed Forward Neural Network in Fake Data\n"
      ]
    },
    {
      "cell_type": "markdown",
      "metadata": {
        "id": "AVBLxwm-SeYB"
      },
      "source": [
        "### Importing Libraries"
      ]
    },
    {
      "cell_type": "code",
      "metadata": {
        "colab": {
          "base_uri": "https://localhost:8080/"
        },
        "id": "SVWTNznkSeYE",
        "outputId": "bf3c9e34-d549-486b-d952-0970981d9b21"
      },
      "source": [
        "from pydrive.auth import GoogleAuth\n",
        "from pydrive.drive import GoogleDrive\n",
        "from google.colab import auth\n",
        "from google.colab import drive \n",
        "from oauth2client.client import GoogleCredentials\n",
        "\n",
        "drive.mount('/content/gdrive')"
      ],
      "execution_count": 1,
      "outputs": [
        {
          "output_type": "stream",
          "text": [
            "Drive already mounted at /content/gdrive; to attempt to forcibly remount, call drive.mount(\"/content/gdrive\", force_remount=True).\n"
          ],
          "name": "stdout"
        }
      ]
    },
    {
      "cell_type": "code",
      "metadata": {
        "id": "09dfON0OSeYK"
      },
      "source": [
        "import pandas as pd\n",
        "from collections import Counter\n",
        "import numpy as np\n",
        "import matplotlib.pyplot as plt\n",
        "\n",
        "%matplotlib inline"
      ],
      "execution_count": 2,
      "outputs": []
    },
    {
      "cell_type": "markdown",
      "metadata": {
        "id": "Q8_q9qkQSeYO"
      },
      "source": [
        "### Loading dataset"
      ]
    },
    {
      "cell_type": "code",
      "metadata": {
        "colab": {
          "base_uri": "https://localhost:8080/",
          "height": 644
        },
        "id": "l6Nvs4g9SeYS",
        "outputId": "af8bc49a-9dcc-42aa-f3ec-9675cdced46d"
      },
      "source": [
        "#read a '.csv' file into data-frame\n",
        "df = pd.read_csv('gdrive/My Drive/text_pre_processing.csv', sep=',')\n",
        "\n",
        "df.sample(5)"
      ],
      "execution_count": 3,
      "outputs": [
        {
          "output_type": "stream",
          "text": [
            "/usr/local/lib/python3.7/dist-packages/IPython/core/interactiveshell.py:2718: DtypeWarning: Columns (6) have mixed types.Specify dtype option on import or set low_memory=False.\n",
            "  interactivity=interactivity, compiler=compiler, result=result)\n"
          ],
          "name": "stderr"
        },
        {
          "output_type": "execute_result",
          "data": {
            "text/html": [
              "<div>\n",
              "<style scoped>\n",
              "    .dataframe tbody tr th:only-of-type {\n",
              "        vertical-align: middle;\n",
              "    }\n",
              "\n",
              "    .dataframe tbody tr th {\n",
              "        vertical-align: top;\n",
              "    }\n",
              "\n",
              "    .dataframe thead th {\n",
              "        text-align: right;\n",
              "    }\n",
              "</style>\n",
              "<table border=\"1\" class=\"dataframe\">\n",
              "  <thead>\n",
              "    <tr style=\"text-align: right;\">\n",
              "      <th></th>\n",
              "      <th>Unnamed: 0</th>\n",
              "      <th>Unnamed: 0.1</th>\n",
              "      <th>title</th>\n",
              "      <th>text</th>\n",
              "      <th>subject</th>\n",
              "      <th>date</th>\n",
              "      <th>label</th>\n",
              "      <th>caps_in_title</th>\n",
              "      <th>text_tokens</th>\n",
              "      <th>text_urls</th>\n",
              "      <th>clean_text</th>\n",
              "      <th>title_urls</th>\n",
              "      <th>twitter_handles</th>\n",
              "      <th>clean_title</th>\n",
              "      <th>clean_text_tokens</th>\n",
              "      <th>clean_title_tokens</th>\n",
              "    </tr>\n",
              "  </thead>\n",
              "  <tbody>\n",
              "    <tr>\n",
              "      <th>31728</th>\n",
              "      <td>31728</td>\n",
              "      <td>31734</td>\n",
              "      <td>France ready to host international meeting on ...</td>\n",
              "      <td>PARIS (Reuters) - France is considering whethe...</td>\n",
              "      <td>worldnews</td>\n",
              "      <td>2017-11-18</td>\n",
              "      <td>true</td>\n",
              "      <td>2</td>\n",
              "      <td>['PARIS', '(Reuters)', 'France', 'is', 'consid...</td>\n",
              "      <td>[]</td>\n",
              "      <td>PARIS   - france is considering whether to hos...</td>\n",
              "      <td>[]</td>\n",
              "      <td>[]</td>\n",
              "      <td>france ready to host international meeting on ...</td>\n",
              "      <td>['PARIS', 'france', 'is', 'considering', 'whet...</td>\n",
              "      <td>['france', 'ready', 'to', 'host', 'internation...</td>\n",
              "    </tr>\n",
              "    <tr>\n",
              "      <th>10241</th>\n",
              "      <td>10241</td>\n",
              "      <td>10242</td>\n",
              "      <td>Verified #FakeNews AP Attempts To Discredit Fo...</td>\n",
              "      <td>AP published an article today that attempts to...</td>\n",
              "      <td>politics</td>\n",
              "      <td>2017-08-02</td>\n",
              "      <td>fake</td>\n",
              "      <td>23</td>\n",
              "      <td>['AP', 'published', 'an', 'article', 'today', ...</td>\n",
              "      <td>[]</td>\n",
              "      <td>AP published an article today that attempts to...</td>\n",
              "      <td>[]</td>\n",
              "      <td>[]</td>\n",
              "      <td>verified #fakenews AP attempts to discredit fo...</td>\n",
              "      <td>['AP', 'published', 'an', 'article', 'today', ...</td>\n",
              "      <td>['verified', 'fakenews', 'AP', 'attempts', 'to...</td>\n",
              "    </tr>\n",
              "    <tr>\n",
              "      <th>36241</th>\n",
              "      <td>36241</td>\n",
              "      <td>36247</td>\n",
              "      <td>Netanyahu congratulates Merkel, sees anti-Semi...</td>\n",
              "      <td>JERUSALEM (Reuters) - Israeli Prime Minister B...</td>\n",
              "      <td>worldnews</td>\n",
              "      <td>2017-09-26</td>\n",
              "      <td>True</td>\n",
              "      <td>3</td>\n",
              "      <td>['JERUSALEM', '(Reuters)', 'Israeli', 'Prime',...</td>\n",
              "      <td>[]</td>\n",
              "      <td>JERUSALEM   - israeli prime minister benjamin ...</td>\n",
              "      <td>[]</td>\n",
              "      <td>[]</td>\n",
              "      <td>netanyahu congratulates merkel, sees anti-semi...</td>\n",
              "      <td>['JERUSALEM', 'israeli', 'prime', 'minister', ...</td>\n",
              "      <td>['netanyahu', 'congratulates', 'merkel', 'sees...</td>\n",
              "    </tr>\n",
              "    <tr>\n",
              "      <th>20038</th>\n",
              "      <td>20038</td>\n",
              "      <td>20044</td>\n",
              "      <td>Donald Trump Jr. adds Washington lawyer to leg...</td>\n",
              "      <td>WASHINGTON (Reuters) - The president’s oldest ...</td>\n",
              "      <td>politicsNews</td>\n",
              "      <td>2017-07-23</td>\n",
              "      <td>true</td>\n",
              "      <td>4</td>\n",
              "      <td>['WASHINGTON', '(Reuters)', 'The', 'president'...</td>\n",
              "      <td>[]</td>\n",
              "      <td>WASHINGTON   - the president’s oldest son, don...</td>\n",
              "      <td>[]</td>\n",
              "      <td>[]</td>\n",
              "      <td>donald trump jr. adds washington lawyer to leg...</td>\n",
              "      <td>['WASHINGTON', 'the', 'president', 'oldest', '...</td>\n",
              "      <td>['donald', 'trump', 'jr.', 'adds', 'washington...</td>\n",
              "    </tr>\n",
              "    <tr>\n",
              "      <th>27056</th>\n",
              "      <td>27056</td>\n",
              "      <td>27062</td>\n",
              "      <td>North Carolina lawmaker dismisses U.S. deadlin...</td>\n",
              "      <td>WINSTON-SALEM, N.C. (Reuters) - Republican lea...</td>\n",
              "      <td>politicsNews</td>\n",
              "      <td>2016-05-05</td>\n",
              "      <td>true</td>\n",
              "      <td>4</td>\n",
              "      <td>['WINSTON', 'SALEM', 'N', 'C', '(Reuters)', 'R...</td>\n",
              "      <td>[]</td>\n",
              "      <td>WINSTON-SALEM, N.C.   - republican leaders in ...</td>\n",
              "      <td>[]</td>\n",
              "      <td>[]</td>\n",
              "      <td>north carolina lawmaker dismisses U.S. deadlin...</td>\n",
              "      <td>['WINSTON-SALEM', 'N.C.', 'republican', 'leade...</td>\n",
              "      <td>['north', 'carolina', 'lawmaker', 'dismisses',...</td>\n",
              "    </tr>\n",
              "  </tbody>\n",
              "</table>\n",
              "</div>"
            ],
            "text/plain": [
              "       Unnamed: 0  ...                                 clean_title_tokens\n",
              "31728       31728  ...  ['france', 'ready', 'to', 'host', 'internation...\n",
              "10241       10241  ...  ['verified', 'fakenews', 'AP', 'attempts', 'to...\n",
              "36241       36241  ...  ['netanyahu', 'congratulates', 'merkel', 'sees...\n",
              "20038       20038  ...  ['donald', 'trump', 'jr.', 'adds', 'washington...\n",
              "27056       27056  ...  ['north', 'carolina', 'lawmaker', 'dismisses',...\n",
              "\n",
              "[5 rows x 16 columns]"
            ]
          },
          "metadata": {},
          "execution_count": 3
        }
      ]
    },
    {
      "cell_type": "code",
      "metadata": {
        "id": "G5EiUzm7i0aM",
        "colab": {
          "base_uri": "https://localhost:8080/",
          "height": 643
        },
        "outputId": "621ccc8c-9fc4-4c2f-9fc8-72ece545ba98"
      },
      "source": [
        "#drop the duplicated and unwanted columns\n",
        "df = df.drop(['Unnamed: 0'], axis = 1)\n",
        "df = df.drop(['Unnamed: 0.1'], axis = 1)\n",
        "df.sample(5)"
      ],
      "execution_count": 4,
      "outputs": [
        {
          "output_type": "execute_result",
          "data": {
            "text/html": [
              "<div>\n",
              "<style scoped>\n",
              "    .dataframe tbody tr th:only-of-type {\n",
              "        vertical-align: middle;\n",
              "    }\n",
              "\n",
              "    .dataframe tbody tr th {\n",
              "        vertical-align: top;\n",
              "    }\n",
              "\n",
              "    .dataframe thead th {\n",
              "        text-align: right;\n",
              "    }\n",
              "</style>\n",
              "<table border=\"1\" class=\"dataframe\">\n",
              "  <thead>\n",
              "    <tr style=\"text-align: right;\">\n",
              "      <th></th>\n",
              "      <th>title</th>\n",
              "      <th>text</th>\n",
              "      <th>subject</th>\n",
              "      <th>date</th>\n",
              "      <th>label</th>\n",
              "      <th>caps_in_title</th>\n",
              "      <th>text_tokens</th>\n",
              "      <th>text_urls</th>\n",
              "      <th>clean_text</th>\n",
              "      <th>title_urls</th>\n",
              "      <th>twitter_handles</th>\n",
              "      <th>clean_title</th>\n",
              "      <th>clean_text_tokens</th>\n",
              "      <th>clean_title_tokens</th>\n",
              "    </tr>\n",
              "  </thead>\n",
              "  <tbody>\n",
              "    <tr>\n",
              "      <th>28864</th>\n",
              "      <td>Police evacuate Bonn Christmas market, probe s...</td>\n",
              "      <td>BERLIN (Reuters) - Police brought in experts a...</td>\n",
              "      <td>worldnews</td>\n",
              "      <td>2017-12-23</td>\n",
              "      <td>true</td>\n",
              "      <td>3</td>\n",
              "      <td>['BERLIN', '(Reuters)', 'Police', 'brought', '...</td>\n",
              "      <td>[]</td>\n",
              "      <td>BERLIN   - police brought in experts and an ex...</td>\n",
              "      <td>[]</td>\n",
              "      <td>[]</td>\n",
              "      <td>police evacuate bonn christmas market, probe s...</td>\n",
              "      <td>['BERLIN', 'police', 'brought', 'in', 'experts...</td>\n",
              "      <td>['police', 'evacuate', 'bonn', 'christmas', 'm...</td>\n",
              "    </tr>\n",
              "    <tr>\n",
              "      <th>30382</th>\n",
              "      <td>Support for anti-immigration Sweden Democrats ...</td>\n",
              "      <td>STOCKHOLM (Reuters) - Support for the far-righ...</td>\n",
              "      <td>worldnews</td>\n",
              "      <td>2017-12-05</td>\n",
              "      <td>true</td>\n",
              "      <td>3</td>\n",
              "      <td>['STOCKHOLM', '(Reuters)', 'Support', 'for', '...</td>\n",
              "      <td>[]</td>\n",
              "      <td>STOCKHOLM   - support for the far-right, anti-...</td>\n",
              "      <td>[]</td>\n",
              "      <td>[]</td>\n",
              "      <td>support for anti-immigration sweden democrats ...</td>\n",
              "      <td>['STOCKHOLM', 'support', 'for', 'the', 'far-ri...</td>\n",
              "      <td>['support', 'for', 'anti-immigration', 'sweden...</td>\n",
              "    </tr>\n",
              "    <tr>\n",
              "      <th>30334</th>\n",
              "      <td>White House confirms Trump discussed Jerusalem...</td>\n",
              "      <td>WASHINGTON (Reuters) - President Donald Trump ...</td>\n",
              "      <td>worldnews</td>\n",
              "      <td>2017-12-05</td>\n",
              "      <td>true</td>\n",
              "      <td>5</td>\n",
              "      <td>['WASHINGTON', '(Reuters)', 'President', 'Dona...</td>\n",
              "      <td>[]</td>\n",
              "      <td>WASHINGTON   - president donald trump spoke se...</td>\n",
              "      <td>[]</td>\n",
              "      <td>[]</td>\n",
              "      <td>white house confirms trump discussed jerusalem...</td>\n",
              "      <td>['WASHINGTON', 'president', 'donald', 'trump',...</td>\n",
              "      <td>['white', 'house', 'confirms', 'trump', 'discu...</td>\n",
              "    </tr>\n",
              "    <tr>\n",
              "      <th>5269</th>\n",
              "      <td>Trump SHREDS All Remaining Ideas That He’s No...</td>\n",
              "      <td>Nobody can accuse King Cheeto, a.k.a. Donald T...</td>\n",
              "      <td>News</td>\n",
              "      <td>2016-07-29</td>\n",
              "      <td>fake</td>\n",
              "      <td>20</td>\n",
              "      <td>['Nobody', 'can', 'accuse', 'King', 'Cheeto', ...</td>\n",
              "      <td>[]</td>\n",
              "      <td>nobody can accuse king cheeto, a.k.a. donald t...</td>\n",
              "      <td>[]</td>\n",
              "      <td>[]</td>\n",
              "      <td>trump SHREDS all remaining ideas that he’s not...</td>\n",
              "      <td>['nobody', 'can', 'accuse', 'king', 'cheeto', ...</td>\n",
              "      <td>['trump', 'SHREDS', 'all', 'remaining', 'ideas...</td>\n",
              "    </tr>\n",
              "    <tr>\n",
              "      <th>36281</th>\n",
              "      <td>Exclusive: Mexico unlikely to find more quake ...</td>\n",
              "      <td>MEXICO CITY (Reuters) - Mexico will search ano...</td>\n",
              "      <td>worldnews</td>\n",
              "      <td>2017-09-26</td>\n",
              "      <td>True</td>\n",
              "      <td>2</td>\n",
              "      <td>['MEXICO', 'CITY', '(Reuters)', 'Mexico', 'wil...</td>\n",
              "      <td>[]</td>\n",
              "      <td>MEXICO CITY   - mexico will search another thr...</td>\n",
              "      <td>[]</td>\n",
              "      <td>[]</td>\n",
              "      <td>exclusive: mexico unlikely to find more quake ...</td>\n",
              "      <td>['MEXICO', 'CITY', 'mexico', 'will', 'search',...</td>\n",
              "      <td>['exclusive', 'mexico', 'unlikely', 'to', 'fin...</td>\n",
              "    </tr>\n",
              "  </tbody>\n",
              "</table>\n",
              "</div>"
            ],
            "text/plain": [
              "                                                   title  ...                                 clean_title_tokens\n",
              "28864  Police evacuate Bonn Christmas market, probe s...  ...  ['police', 'evacuate', 'bonn', 'christmas', 'm...\n",
              "30382  Support for anti-immigration Sweden Democrats ...  ...  ['support', 'for', 'anti-immigration', 'sweden...\n",
              "30334  White House confirms Trump discussed Jerusalem...  ...  ['white', 'house', 'confirms', 'trump', 'discu...\n",
              "5269    Trump SHREDS All Remaining Ideas That He’s No...  ...  ['trump', 'SHREDS', 'all', 'remaining', 'ideas...\n",
              "36281  Exclusive: Mexico unlikely to find more quake ...  ...  ['exclusive', 'mexico', 'unlikely', 'to', 'fin...\n",
              "\n",
              "[5 rows x 14 columns]"
            ]
          },
          "metadata": {},
          "execution_count": 4
        }
      ]
    },
    {
      "cell_type": "code",
      "metadata": {
        "colab": {
          "base_uri": "https://localhost:8080/",
          "height": 81
        },
        "id": "Z4nfhfMsSeYW",
        "outputId": "9567953f-1d11-4de3-f3d5-63d5d8448828"
      },
      "source": [
        "#show some basic description \n",
        "df.describe().T"
      ],
      "execution_count": 5,
      "outputs": [
        {
          "output_type": "execute_result",
          "data": {
            "text/html": [
              "<div>\n",
              "<style scoped>\n",
              "    .dataframe tbody tr th:only-of-type {\n",
              "        vertical-align: middle;\n",
              "    }\n",
              "\n",
              "    .dataframe tbody tr th {\n",
              "        vertical-align: top;\n",
              "    }\n",
              "\n",
              "    .dataframe thead th {\n",
              "        text-align: right;\n",
              "    }\n",
              "</style>\n",
              "<table border=\"1\" class=\"dataframe\">\n",
              "  <thead>\n",
              "    <tr style=\"text-align: right;\">\n",
              "      <th></th>\n",
              "      <th>count</th>\n",
              "      <th>mean</th>\n",
              "      <th>std</th>\n",
              "      <th>min</th>\n",
              "      <th>25%</th>\n",
              "      <th>50%</th>\n",
              "      <th>75%</th>\n",
              "      <th>max</th>\n",
              "    </tr>\n",
              "  </thead>\n",
              "  <tbody>\n",
              "    <tr>\n",
              "      <th>caps_in_title</th>\n",
              "      <td>38638.0</td>\n",
              "      <td>13.545059</td>\n",
              "      <td>14.541594</td>\n",
              "      <td>1.0</td>\n",
              "      <td>3.0</td>\n",
              "      <td>6.0</td>\n",
              "      <td>20.0</td>\n",
              "      <td>137.0</td>\n",
              "    </tr>\n",
              "  </tbody>\n",
              "</table>\n",
              "</div>"
            ],
            "text/plain": [
              "                 count       mean        std  min  25%  50%   75%    max\n",
              "caps_in_title  38638.0  13.545059  14.541594  1.0  3.0  6.0  20.0  137.0"
            ]
          },
          "metadata": {},
          "execution_count": 5
        }
      ]
    },
    {
      "cell_type": "code",
      "metadata": {
        "scrolled": false,
        "colab": {
          "base_uri": "https://localhost:8080/"
        },
        "id": "LFXb6ktXSeYX",
        "outputId": "bb26bdfc-64cf-4404-fabd-98e04813ba95"
      },
      "source": [
        "#and other extra info for this dataframe\n",
        "df.info()"
      ],
      "execution_count": 6,
      "outputs": [
        {
          "output_type": "stream",
          "text": [
            "<class 'pandas.core.frame.DataFrame'>\n",
            "RangeIndex: 38638 entries, 0 to 38637\n",
            "Data columns (total 14 columns):\n",
            " #   Column              Non-Null Count  Dtype \n",
            "---  ------              --------------  ----- \n",
            " 0   title               38638 non-null  object\n",
            " 1   text                38638 non-null  object\n",
            " 2   subject             38638 non-null  object\n",
            " 3   date                38638 non-null  object\n",
            " 4   label               38638 non-null  object\n",
            " 5   caps_in_title       38638 non-null  int64 \n",
            " 6   text_tokens         38638 non-null  object\n",
            " 7   text_urls           38638 non-null  object\n",
            " 8   clean_text          38638 non-null  object\n",
            " 9   title_urls          38638 non-null  object\n",
            " 10  twitter_handles     38638 non-null  object\n",
            " 11  clean_title         38638 non-null  object\n",
            " 12  clean_text_tokens   38638 non-null  object\n",
            " 13  clean_title_tokens  38638 non-null  object\n",
            "dtypes: int64(1), object(13)\n",
            "memory usage: 4.1+ MB\n"
          ],
          "name": "stdout"
        }
      ]
    },
    {
      "cell_type": "markdown",
      "metadata": {
        "code_folding": [],
        "id": "nosTbVWXSeYk"
      },
      "source": [
        "### Splitting Dataset Procedure\n",
        "\n",
        "---\n",
        "We split the data in 3 smaller datasets:\n",
        "* Training, validation and test datasets\n",
        "\n"
      ]
    },
    {
      "cell_type": "code",
      "metadata": {
        "colab": {
          "base_uri": "https://localhost:8080/"
        },
        "id": "s5GxqCOErDht",
        "outputId": "670d7cda-5d6a-44c5-9d5f-6014096fe941"
      },
      "source": [
        "#the column 'clean_text' is the one we want to split\n",
        "X = df['clean_text'].reset_index(drop=True)\n",
        "\n",
        "X.sample(10)"
      ],
      "execution_count": 7,
      "outputs": [
        {
          "output_type": "execute_result",
          "data": {
            "text/plain": [
              "15893    CBO DIRECTOR: how long the nation could sustai...\n",
              "22915    WASHINGTON   - congressional democrats on frid...\n",
              "12960    dana loesch gives us the lowdown on what would...\n",
              "18556    RICHMOND, va.   - speaking as a folksy physici...\n",
              "29820    BERLIN   - german chancellor angela merkel s c...\n",
              "4505     someone had to say it. okay, liberals have bee...\n",
              "38500    ASTANA   - the international atomic energy age...\n",
              "7636     after witnessing disgraceful debate after disg...\n",
              "33583    ALMATY   - kazakhstan is to change its officia...\n",
              "36355    BRUSSELS   - european commission president jea...\n",
              "Name: clean_text, dtype: object"
            ]
          },
          "metadata": {},
          "execution_count": 7
        }
      ]
    },
    {
      "cell_type": "code",
      "metadata": {
        "colab": {
          "base_uri": "https://localhost:8080/",
          "height": 363
        },
        "id": "0NkwkS6hrDt4",
        "outputId": "09f7a4ef-b46a-40cb-a6a8-9ff7b726a3a6"
      },
      "source": [
        "y = df['label'].to_frame()\n",
        "\n",
        "y.sample(10)"
      ],
      "execution_count": 8,
      "outputs": [
        {
          "output_type": "execute_result",
          "data": {
            "text/html": [
              "<div>\n",
              "<style scoped>\n",
              "    .dataframe tbody tr th:only-of-type {\n",
              "        vertical-align: middle;\n",
              "    }\n",
              "\n",
              "    .dataframe tbody tr th {\n",
              "        vertical-align: top;\n",
              "    }\n",
              "\n",
              "    .dataframe thead th {\n",
              "        text-align: right;\n",
              "    }\n",
              "</style>\n",
              "<table border=\"1\" class=\"dataframe\">\n",
              "  <thead>\n",
              "    <tr style=\"text-align: right;\">\n",
              "      <th></th>\n",
              "      <th>label</th>\n",
              "    </tr>\n",
              "  </thead>\n",
              "  <tbody>\n",
              "    <tr>\n",
              "      <th>9482</th>\n",
              "      <td>fake</td>\n",
              "    </tr>\n",
              "    <tr>\n",
              "      <th>9692</th>\n",
              "      <td>fake</td>\n",
              "    </tr>\n",
              "    <tr>\n",
              "      <th>8389</th>\n",
              "      <td>fake</td>\n",
              "    </tr>\n",
              "    <tr>\n",
              "      <th>36303</th>\n",
              "      <td>True</td>\n",
              "    </tr>\n",
              "    <tr>\n",
              "      <th>16187</th>\n",
              "      <td>fake</td>\n",
              "    </tr>\n",
              "    <tr>\n",
              "      <th>21268</th>\n",
              "      <td>true</td>\n",
              "    </tr>\n",
              "    <tr>\n",
              "      <th>28507</th>\n",
              "      <td>true</td>\n",
              "    </tr>\n",
              "    <tr>\n",
              "      <th>22464</th>\n",
              "      <td>true</td>\n",
              "    </tr>\n",
              "    <tr>\n",
              "      <th>10384</th>\n",
              "      <td>fake</td>\n",
              "    </tr>\n",
              "    <tr>\n",
              "      <th>27668</th>\n",
              "      <td>true</td>\n",
              "    </tr>\n",
              "  </tbody>\n",
              "</table>\n",
              "</div>"
            ],
            "text/plain": [
              "      label\n",
              "9482   fake\n",
              "9692   fake\n",
              "8389   fake\n",
              "36303  True\n",
              "16187  fake\n",
              "21268  true\n",
              "28507  true\n",
              "22464  true\n",
              "10384  fake\n",
              "27668  true"
            ]
          },
          "metadata": {},
          "execution_count": 8
        }
      ]
    },
    {
      "cell_type": "code",
      "metadata": {
        "colab": {
          "base_uri": "https://localhost:8080/"
        },
        "id": "k29L09uSu-bN",
        "outputId": "e8e9adac-0fd2-45de-9696-c51254bdf71d"
      },
      "source": [
        "y[y['label'] == True] = 'true'\n",
        "y = y.squeeze() #convert the data-frame to array\n",
        "y"
      ],
      "execution_count": 9,
      "outputs": [
        {
          "output_type": "execute_result",
          "data": {
            "text/plain": [
              "0        fake\n",
              "1        fake\n",
              "2        fake\n",
              "3        fake\n",
              "4        fake\n",
              "         ... \n",
              "38633    true\n",
              "38634    true\n",
              "38635    true\n",
              "38636    true\n",
              "38637    true\n",
              "Name: label, Length: 38638, dtype: object"
            ]
          },
          "metadata": {},
          "execution_count": 9
        }
      ]
    },
    {
      "cell_type": "markdown",
      "metadata": {
        "id": "5IB3Sq7YSeYn"
      },
      "source": [
        "---\n",
        "At first, we will split the main dataset into two parts:\n",
        "* Train-Validation dataset and\n",
        "* Test dataset (20% of the whole dataset)\n",
        "\n",
        "After that, we will split the Train-Validation dataset into another two:\n",
        "* Train dataset and\n",
        "* Validation dataset (15% of the train-validation dataset)\n",
        "\n",
        "This splitting has been done in stratified manner, meaning that the dataset has been split uniformly based on the percentage of 'fake' - 'true' news."
      ]
    },
    {
      "cell_type": "code",
      "metadata": {
        "id": "kjIeLtM5SeYk"
      },
      "source": [
        "from sklearn.preprocessing import OneHotEncoder\n",
        "\n",
        "from sklearn.model_selection import StratifiedShuffleSplit"
      ],
      "execution_count": 10,
      "outputs": []
    },
    {
      "cell_type": "code",
      "metadata": {
        "colab": {
          "base_uri": "https://localhost:8080/"
        },
        "id": "1gjVGqKjSeYp",
        "outputId": "edf3f564-3d14-49ad-df64-969de9ae4d8e"
      },
      "source": [
        "#sss: stratified shuffle split\n",
        "test_sss = StratifiedShuffleSplit(n_splits=5, test_size=0.15, random_state=0)\n",
        "test_sss"
      ],
      "execution_count": 11,
      "outputs": [
        {
          "output_type": "execute_result",
          "data": {
            "text/plain": [
              "StratifiedShuffleSplit(n_splits=5, random_state=0, test_size=0.15,\n",
              "            train_size=None)"
            ]
          },
          "metadata": {},
          "execution_count": 11
        }
      ]
    },
    {
      "cell_type": "code",
      "metadata": {
        "colab": {
          "base_uri": "https://localhost:8080/"
        },
        "id": "V0r3Qw4qSeYq",
        "outputId": "3cd66f18-ce20-4a43-ae20-31b8d0c9e2d6"
      },
      "source": [
        "val_sss = StratifiedShuffleSplit(n_splits=5, test_size=0.2, random_state=0)\n",
        "val_sss"
      ],
      "execution_count": 12,
      "outputs": [
        {
          "output_type": "execute_result",
          "data": {
            "text/plain": [
              "StratifiedShuffleSplit(n_splits=5, random_state=0, test_size=0.2,\n",
              "            train_size=None)"
            ]
          },
          "metadata": {},
          "execution_count": 12
        }
      ]
    },
    {
      "cell_type": "code",
      "metadata": {
        "scrolled": true,
        "colab": {
          "base_uri": "https://localhost:8080/"
        },
        "id": "oyYFp_2RSeYr",
        "outputId": "8f9eafc0-8078-43d8-a2aa-f019a72ad7e5"
      },
      "source": [
        "#split in train-validation dataset and test dataset\n",
        "X_train_val, X_test, y_train_val, y_test = None, None, None, None\n",
        "\n",
        "#get the indexes for each dataset\n",
        "for train_index, test_index in test_sss.split(X, y):\n",
        "    \n",
        "    print(\"TRAIN-VAL:\", train_index[:10], \"TEST:\", test_index[:10])\n",
        "    \n",
        "    X_train_val, X_test = X[train_index], X[test_index]\n",
        "    y_train_val, y_test = y[train_index], y[test_index]"
      ],
      "execution_count": 13,
      "outputs": [
        {
          "output_type": "stream",
          "text": [
            "TRAIN-VAL: [ 1473 20236  7194  1230   616 12707 28037  4521 22830 29675] TEST: [19888  4253   662 36631 28200 29359  4560  5729 19468 11209]\n",
            "TRAIN-VAL: [ 9024 26688 34918 18091 29506  8416   653  3435 16402 34528] TEST: [34604  9150  6520   314  4665  6165  6877 13644 17807 33967]\n",
            "TRAIN-VAL: [34104 21838 10327 37277 23630  9920 22776 26922 22315 32809] TEST: [25977 34988 25811 36094  7844 24844 37242 15920 19439 18091]\n",
            "TRAIN-VAL: [17460 25343 37380  2580 24307 12609 21504 23244 36770 35115] TEST: [13156 21501 37170 13348  7988 37994   726  5448 32161 36186]\n",
            "TRAIN-VAL: [29590 30461 17874 26870 29052 34387 32935  5171 25197 21626] TEST: [26046   568 36477 16728 19908  3977 21815 17381 34919 19756]\n"
          ],
          "name": "stdout"
        }
      ]
    },
    {
      "cell_type": "code",
      "metadata": {
        "colab": {
          "base_uri": "https://localhost:8080/"
        },
        "id": "8vIrFU76SeYr",
        "outputId": "9a147f1d-610a-4d4e-8a4a-fdd966c834de"
      },
      "source": [
        "X_train_val.head() #show the first 5 indexes"
      ],
      "execution_count": 14,
      "outputs": [
        {
          "output_type": "execute_result",
          "data": {
            "text/plain": [
              "29590    MOSCOW   - president vladimir putin warned on ...\n",
              "30461    NAIROBI   - a prominent strategist for kenya s...\n",
              "17874    WASHINGTON   - the senate banking committee wi...\n",
              "26870    WASHINGTON   - a small group of bipartisan sen...\n",
              "29052    BRUSSELS   - the european union wants a transi...\n",
              "Name: clean_text, dtype: object"
            ]
          },
          "metadata": {},
          "execution_count": 14
        }
      ]
    },
    {
      "cell_type": "code",
      "metadata": {
        "id": "pDdBPjGpSeYv"
      },
      "source": [
        "#reset the indexes\n",
        "X_train_val = X_train_val.reset_index(drop=True)\n",
        "y_train_val = y_train_val.reset_index(drop=True)"
      ],
      "execution_count": 15,
      "outputs": []
    },
    {
      "cell_type": "code",
      "metadata": {
        "colab": {
          "base_uri": "https://localhost:8080/"
        },
        "id": "SCNxq3WzSeYw",
        "outputId": "bdf42488-17a1-401a-c801-6a726680124d"
      },
      "source": [
        "#split the train-validation dataset into train and validation dataset\n",
        "X_train, X_val, y_train, y_val = None, None, None, None\n",
        "\n",
        "for train_index, val_index in val_sss.split(X_train_val, y_train_val):\n",
        "    \n",
        "    print(\"TRAIN:\", train_index[:10], \"VALID:\", test_index[:10])\n",
        "    \n",
        "    X_train, X_val = X_train_val[train_index], X_train_val[val_index]\n",
        "    y_train, y_val = y_train_val[train_index], y_train_val[val_index]"
      ],
      "execution_count": 16,
      "outputs": [
        {
          "output_type": "stream",
          "text": [
            "TRAIN: [21059 18090 10746  9059 14280  8867 21261  4574 30003 22296] VALID: [26046   568 36477 16728 19908  3977 21815 17381 34919 19756]\n",
            "TRAIN: [20536 32342 10603 11014  8117  9314 20198 30989 32332 25280] VALID: [26046   568 36477 16728 19908  3977 21815 17381 34919 19756]\n",
            "TRAIN: [17278  3304 17991 16413 17844  4611 25288 23908 21290  3519] VALID: [26046   568 36477 16728 19908  3977 21815 17381 34919 19756]\n",
            "TRAIN: [31686  5123 12174  2936  4837  2756 12709 24970 28610 13783] VALID: [26046   568 36477 16728 19908  3977 21815 17381 34919 19756]\n",
            "TRAIN: [30354 26074 17840 16060 27602  4549  4944  8783 25021  4942] VALID: [26046   568 36477 16728 19908  3977 21815 17381 34919 19756]\n"
          ],
          "name": "stdout"
        }
      ]
    },
    {
      "cell_type": "code",
      "metadata": {
        "colab": {
          "base_uri": "https://localhost:8080/"
        },
        "id": "JhjJ_ZaYSeYz",
        "outputId": "5981f74e-90af-4186-a087-b79f23646b93"
      },
      "source": [
        "#see the final results\n",
        "print('X_train_val shape: {}'.format(X_train_val.shape))\n",
        "print('y_train_val shape: {}'.format(y_train_val.shape))\n",
        "print()\n",
        "\n",
        "print('X_train shape: {}'.format(X_train.shape))\n",
        "print('y_train shape: {}'.format(y_train.shape))\n",
        "print()\n",
        "\n",
        "print('X_val shape: {}'.format(X_val.shape))\n",
        "print('y_val shape: {}'.format(y_val.shape))\n",
        "\n",
        "print()\n",
        "print('X_test shape: {}'.format(X_test.shape))\n",
        "print('y_test shape: {}'.format(y_test.shape))"
      ],
      "execution_count": 17,
      "outputs": [
        {
          "output_type": "stream",
          "text": [
            "X_train_val shape: (32842,)\n",
            "y_train_val shape: (32842,)\n",
            "\n",
            "X_train shape: (26273,)\n",
            "y_train shape: (26273,)\n",
            "\n",
            "X_val shape: (6569,)\n",
            "y_val shape: (6569,)\n",
            "\n",
            "X_test shape: (5796,)\n",
            "y_test shape: (5796,)\n"
          ],
          "name": "stdout"
        }
      ]
    },
    {
      "cell_type": "markdown",
      "metadata": {
        "id": "DanQR4p5SeY1"
      },
      "source": [
        "### One - Hot Encoding "
      ]
    },
    {
      "cell_type": "code",
      "metadata": {
        "id": "5-XKEZx1SeY1"
      },
      "source": [
        "#encoding the labels using a One-Hot Encoder\n",
        "y_enc = OneHotEncoder(sparse=False)"
      ],
      "execution_count": 18,
      "outputs": []
    },
    {
      "cell_type": "code",
      "metadata": {
        "id": "UWFb7uvbSeY4",
        "colab": {
          "base_uri": "https://localhost:8080/"
        },
        "outputId": "e0e847ae-8aaf-43be-fce6-0fa33053ff69"
      },
      "source": [
        "#reshape the dataset in order to have two columns\n",
        "y_train_enc = y_enc.fit_transform(y_train.values.reshape(-1, 1))\n",
        "y_train_enc"
      ],
      "execution_count": 19,
      "outputs": [
        {
          "output_type": "execute_result",
          "data": {
            "text/plain": [
              "array([[1., 0.],\n",
              "       [0., 1.],\n",
              "       [1., 0.],\n",
              "       ...,\n",
              "       [0., 1.],\n",
              "       [1., 0.],\n",
              "       [1., 0.]])"
            ]
          },
          "metadata": {},
          "execution_count": 19
        }
      ]
    },
    {
      "cell_type": "code",
      "metadata": {
        "id": "Tas4Nq_PSeY5"
      },
      "source": [
        "#later we transform the rest of the data\n",
        "y_val_enc = y_enc.transform(y_val.values.reshape(-1, 1))\n",
        "y_test_enc = y_enc.transform(y_test.values.reshape(-1, 1))"
      ],
      "execution_count": 20,
      "outputs": []
    },
    {
      "cell_type": "code",
      "metadata": {
        "id": "epEnTlJbSeY7",
        "colab": {
          "base_uri": "https://localhost:8080/"
        },
        "outputId": "673dad6a-c61d-401a-b549-3f1620b8c6f4"
      },
      "source": [
        "#print their format\n",
        "print('y_train shape: {}'.format(y_train_enc.shape))\n",
        "print('y_val shape: {}'.format(y_val_enc.shape))\n",
        "print('y_test shape: {}'.format(y_test_enc.shape))"
      ],
      "execution_count": 21,
      "outputs": [
        {
          "output_type": "stream",
          "text": [
            "y_train shape: (26273, 2)\n",
            "y_val shape: (6569, 2)\n",
            "y_test shape: (5796, 2)\n"
          ],
          "name": "stdout"
        }
      ]
    },
    {
      "cell_type": "code",
      "metadata": {
        "id": "2xuHpHAbSeY7",
        "colab": {
          "base_uri": "https://localhost:8080/"
        },
        "outputId": "3c5f043f-8dd5-4aff-a82a-e8165af24c2d"
      },
      "source": [
        "#the final categories from the encoder\n",
        "y_enc.categories_"
      ],
      "execution_count": 22,
      "outputs": [
        {
          "output_type": "execute_result",
          "data": {
            "text/plain": [
              "[array(['fake', 'true'], dtype=object)]"
            ]
          },
          "metadata": {},
          "execution_count": 22
        }
      ]
    },
    {
      "cell_type": "markdown",
      "metadata": {
        "id": "Loii2P9mSeZD"
      },
      "source": [
        "## Handling Text\n"
      ]
    },
    {
      "cell_type": "code",
      "metadata": {
        "colab": {
          "base_uri": "https://localhost:8080/"
        },
        "id": "npHrlTZ4P5TN",
        "outputId": "fb2b3a75-45f4-403a-a460-038be992c723"
      },
      "source": [
        "#import the appropriate libraries\n",
        "from sklearn.feature_extraction.text import CountVectorizer, TfidfVectorizer\n",
        "import nltk\n",
        "from nltk.corpus import stopwords\n",
        "nltk.download('stopwords')"
      ],
      "execution_count": 23,
      "outputs": [
        {
          "output_type": "stream",
          "text": [
            "[nltk_data] Downloading package stopwords to /root/nltk_data...\n",
            "[nltk_data]   Package stopwords is already up-to-date!\n"
          ],
          "name": "stdout"
        },
        {
          "output_type": "execute_result",
          "data": {
            "text/plain": [
              "True"
            ]
          },
          "metadata": {},
          "execution_count": 23
        }
      ]
    },
    {
      "cell_type": "code",
      "metadata": {
        "id": "wBoqY5duRzYY"
      },
      "source": [
        "#getting the stopwords in English language\n",
        "stop = stopwords.words('english')"
      ],
      "execution_count": 24,
      "outputs": []
    },
    {
      "cell_type": "markdown",
      "metadata": {
        "id": "B2izbQbvSeZK"
      },
      "source": [
        "#### Now, we will split the text into tokens, in order to count them and get the most frequent. In the most cases, these tokens are stopwords."
      ]
    },
    {
      "cell_type": "code",
      "metadata": {
        "id": "Af25f0LVSeZL"
      },
      "source": [
        "#total words we will use for vectorization \n",
        "max_words = 10000"
      ],
      "execution_count": 25,
      "outputs": []
    },
    {
      "cell_type": "code",
      "metadata": {
        "id": "TzLgY-3JSeZM",
        "colab": {
          "base_uri": "https://localhost:8080/"
        },
        "outputId": "befec963-27bb-42aa-c019-5c5f7cbdca7a"
      },
      "source": [
        "#this vectorizer is created in order to show us how many times each word appear\n",
        "counter_vectorizer = CountVectorizer(\n",
        "    encoding='utf-8',\n",
        "    strip_accents='unicode',\n",
        "    lowercase=True,\n",
        "    stop_words= stop,\n",
        "    ngram_range=(1, 1), # unigrams\n",
        "    max_features=max_words,\n",
        "    binary=False) # binary output or full counts\n",
        "\n",
        "counter_vectorizer"
      ],
      "execution_count": 26,
      "outputs": [
        {
          "output_type": "execute_result",
          "data": {
            "text/plain": [
              "CountVectorizer(analyzer='word', binary=False, decode_error='strict',\n",
              "                dtype=<class 'numpy.int64'>, encoding='utf-8', input='content',\n",
              "                lowercase=True, max_df=1.0, max_features=10000, min_df=1,\n",
              "                ngram_range=(1, 1), preprocessor=None,\n",
              "                stop_words=['i', 'me', 'my', 'myself', 'we', 'our', 'ours',\n",
              "                            'ourselves', 'you', \"you're\", \"you've\", \"you'll\",\n",
              "                            \"you'd\", 'your', 'yours', 'yourself', 'yourselves',\n",
              "                            'he', 'him', 'his', 'himself', 'she', \"she's\",\n",
              "                            'her', 'hers', 'herself', 'it', \"it's\", 'its',\n",
              "                            'itself', ...],\n",
              "                strip_accents='unicode', token_pattern='(?u)\\\\b\\\\w\\\\w+\\\\b',\n",
              "                tokenizer=None, vocabulary=None)"
            ]
          },
          "metadata": {},
          "execution_count": 26
        }
      ]
    },
    {
      "cell_type": "code",
      "metadata": {
        "id": "T1Z5PRrXSeZM",
        "colab": {
          "base_uri": "https://localhost:8080/"
        },
        "outputId": "152bace9-7734-4c0e-879f-ab211eb30b69"
      },
      "source": [
        "#this vectorizer is created in order to return 0 or 1, based on the appearence of each word\n",
        "binary_vectorizer = CountVectorizer(\n",
        "    encoding='utf-8',\n",
        "    strip_accents='unicode',\n",
        "    lowercase=True,\n",
        "    stop_words= stop,\n",
        "    ngram_range=(1, 1), \n",
        "    max_features=max_words,\n",
        "    binary=True)\n",
        "\n",
        "binary_vectorizer"
      ],
      "execution_count": 27,
      "outputs": [
        {
          "output_type": "execute_result",
          "data": {
            "text/plain": [
              "CountVectorizer(analyzer='word', binary=True, decode_error='strict',\n",
              "                dtype=<class 'numpy.int64'>, encoding='utf-8', input='content',\n",
              "                lowercase=True, max_df=1.0, max_features=10000, min_df=1,\n",
              "                ngram_range=(1, 1), preprocessor=None,\n",
              "                stop_words=['i', 'me', 'my', 'myself', 'we', 'our', 'ours',\n",
              "                            'ourselves', 'you', \"you're\", \"you've\", \"you'll\",\n",
              "                            \"you'd\", 'your', 'yours', 'yourself', 'yourselves',\n",
              "                            'he', 'him', 'his', 'himself', 'she', \"she's\",\n",
              "                            'her', 'hers', 'herself', 'it', \"it's\", 'its',\n",
              "                            'itself', ...],\n",
              "                strip_accents='unicode', token_pattern='(?u)\\\\b\\\\w\\\\w+\\\\b',\n",
              "                tokenizer=None, vocabulary=None)"
            ]
          },
          "metadata": {},
          "execution_count": 27
        }
      ]
    },
    {
      "cell_type": "markdown",
      "metadata": {
        "id": "Tz9kvTNHSeZN"
      },
      "source": [
        "* We will now fit the CountVectorizer in the datasets."
      ]
    },
    {
      "cell_type": "code",
      "metadata": {
        "id": "h7xewvYoSeZN",
        "colab": {
          "base_uri": "https://localhost:8080/"
        },
        "outputId": "fbd529af-0a9d-471c-a0a4-7d30941fd023"
      },
      "source": [
        "X_train_enc = counter_vectorizer.fit_transform(X_train)\n",
        "X_train_enc"
      ],
      "execution_count": 28,
      "outputs": [
        {
          "output_type": "execute_result",
          "data": {
            "text/plain": [
              "<26273x10000 sparse matrix of type '<class 'numpy.int64'>'\n",
              "\twith 3826287 stored elements in Compressed Sparse Row format>"
            ]
          },
          "metadata": {},
          "execution_count": 28
        }
      ]
    },
    {
      "cell_type": "code",
      "metadata": {
        "id": "BlheXh0tSeZO"
      },
      "source": [
        "#with the above CountVectorizer we transform the Validation and Test Sets\n",
        "X_val_enc = counter_vectorizer.transform(X_val)\n",
        "X_test_enc = counter_vectorizer.transform(X_test)"
      ],
      "execution_count": 29,
      "outputs": []
    },
    {
      "cell_type": "code",
      "metadata": {
        "id": "PZEY19yvSeZP",
        "colab": {
          "base_uri": "https://localhost:8080/"
        },
        "outputId": "a0a39473-3989-4d37-91dc-cd62510a6ea6"
      },
      "source": [
        "print('X_train encoded shape: {}'.format(X_train_enc.shape))\n",
        "print('X_val encoded shape: {}'.format(X_val_enc.shape))\n",
        "print('X_test encoded shape: {}'.format(X_test_enc.shape))"
      ],
      "execution_count": 30,
      "outputs": [
        {
          "output_type": "stream",
          "text": [
            "X_train encoded shape: (26273, 10000)\n",
            "X_val encoded shape: (6569, 10000)\n",
            "X_test encoded shape: (5796, 10000)\n"
          ],
          "name": "stdout"
        }
      ]
    },
    {
      "cell_type": "markdown",
      "metadata": {
        "id": "CGL6XqiQSeZV"
      },
      "source": [
        "### Build and Fit the *Model*"
      ]
    },
    {
      "cell_type": "code",
      "metadata": {
        "id": "arBZKHonSeZW"
      },
      "source": [
        "#imports for the model\n",
        "from tensorflow.keras.models import Sequential\n",
        "from tensorflow.keras.layers import Dense, Dropout, Activation\n",
        "from tensorflow.python.keras.callbacks import ModelCheckpoint, ReduceLROnPlateau, EarlyStopping, TensorBoard\n",
        "from tensorflow.keras import metrics\n",
        "from tensorflow.keras.utils import plot_model\n",
        "import pydot"
      ],
      "execution_count": 31,
      "outputs": []
    },
    {
      "cell_type": "code",
      "metadata": {
        "id": "UoQpe3hPSeZW",
        "colab": {
          "base_uri": "https://localhost:8080/"
        },
        "outputId": "a9acffb0-7b53-4c9a-ccef-83aa7e48bf4e"
      },
      "source": [
        "#get the number of classes for the y labels ('fake' - 'true' categories)\n",
        "nb_classes = len(y_enc.categories_[0])\n",
        "\n",
        "print('Number of Classes: {} (true - fake)'.format(nb_classes))\n",
        "\n",
        "#set how many Epochs will train our Feed Forward Network\n",
        "nb_epoch = 30\n",
        "\n",
        "#the 'batch_size' is a number that will be fed to the model when training\n",
        "batch_size = 64 \n",
        "\n",
        "#set the dropout rate meaning how many neurons will be shutdown each time\n",
        "dropout_rate = 0.4"
      ],
      "execution_count": 32,
      "outputs": [
        {
          "output_type": "stream",
          "text": [
            "Number of Classes: 2 (true - fake)\n"
          ],
          "name": "stdout"
        }
      ]
    },
    {
      "cell_type": "markdown",
      "metadata": {
        "id": "70dw7TRASeZX"
      },
      "source": [
        "#### Model Setup"
      ]
    },
    {
      "cell_type": "code",
      "metadata": {
        "scrolled": false,
        "id": "Et_OtNBDSeZY",
        "colab": {
          "base_uri": "https://localhost:8080/"
        },
        "outputId": "ea61a4fc-79f5-43c5-e631-2dbbc6a95b74"
      },
      "source": [
        "print('Building model...', end='\\n\\n')\n",
        "\n",
        "#initialize an empty sequential structure, meaning that each layer we add, its output will be added as input in the next layer \n",
        "model = Sequential()\n",
        "\n",
        "#add a dense layer (multi layer perception - MLP)\n",
        "model.add(Dense(512, input_shape=(max_words,)))\n",
        "\n",
        "#use a relu activation on MLP's outputs\n",
        "model.add(Activation('relu'))\n",
        "\n",
        "#use a dropout layer with with 40% of inputs dropped\n",
        "model.add(Dropout(dropout_rate))\n",
        "\n",
        "#add a dense layer\n",
        "model.add(Dense(512))\n",
        "\n",
        "model.add(Activation('relu'))\n",
        "\n",
        "model.add(Dropout(dropout_rate))\n",
        "\n",
        "#add a dense layer (MLP) \n",
        "model.add(Dense(nb_classes))\n",
        "\n",
        "#use a sigmoid activation on 2nd MLP's outputs\n",
        "model.add(Activation('sigmoid'))\n",
        "\n",
        "#print model layers' info\n",
        "print(model.summary())"
      ],
      "execution_count": 33,
      "outputs": [
        {
          "output_type": "stream",
          "text": [
            "Building model...\n",
            "\n",
            "Model: \"sequential\"\n",
            "_________________________________________________________________\n",
            "Layer (type)                 Output Shape              Param #   \n",
            "=================================================================\n",
            "dense (Dense)                (None, 512)               5120512   \n",
            "_________________________________________________________________\n",
            "activation (Activation)      (None, 512)               0         \n",
            "_________________________________________________________________\n",
            "dropout (Dropout)            (None, 512)               0         \n",
            "_________________________________________________________________\n",
            "dense_1 (Dense)              (None, 512)               262656    \n",
            "_________________________________________________________________\n",
            "activation_1 (Activation)    (None, 512)               0         \n",
            "_________________________________________________________________\n",
            "dropout_1 (Dropout)          (None, 512)               0         \n",
            "_________________________________________________________________\n",
            "dense_2 (Dense)              (None, 2)                 1026      \n",
            "_________________________________________________________________\n",
            "activation_2 (Activation)    (None, 2)                 0         \n",
            "=================================================================\n",
            "Total params: 5,384,194\n",
            "Trainable params: 5,384,194\n",
            "Non-trainable params: 0\n",
            "_________________________________________________________________\n",
            "None\n"
          ],
          "name": "stdout"
        }
      ]
    },
    {
      "cell_type": "code",
      "metadata": {
        "scrolled": true,
        "id": "FmqltC_LSeZY",
        "colab": {
          "base_uri": "https://localhost:8080/",
          "height": 976
        },
        "outputId": "db38ef84-511f-428d-e55b-5ab9d1a1c886"
      },
      "source": [
        "plot_model(model, to_file='model_plot.png', show_shapes=True, show_layer_names=True)"
      ],
      "execution_count": 34,
      "outputs": [
        {
          "output_type": "execute_result",
          "data": {
            "image/png": "[encoded data removed]",
            "text/plain": [
              "<IPython.core.display.Image object>"
            ]
          },
          "metadata": {},
          "execution_count": 34
        }
      ]
    },
    {
      "cell_type": "markdown",
      "metadata": {
        "id": "b-mCMxexSeZZ"
      },
      "source": [
        "#### Compiling the model"
      ]
    },
    {
      "cell_type": "code",
      "metadata": {
        "id": "GMe0FlLNSeZZ"
      },
      "source": [
        "#we use binary crossentropy as a loss function in the compiling of the model, because we want to predict whether the news are 'fake' or 'true'\n",
        "#and 'Adam' as an optimizer (is more robust)\n",
        "model.compile(\n",
        "    loss='binary_crossentropy',\n",
        "    optimizer='adam',\n",
        "    metrics=['accuracy'],)"
      ],
      "execution_count": 35,
      "outputs": []
    },
    {
      "cell_type": "markdown",
      "metadata": {
        "id": "sSc6QsO-SeZa"
      },
      "source": [
        "### Training the Feed Forward Network Model"
      ]
    },
    {
      "cell_type": "code",
      "metadata": {
        "id": "3fjiqZJC8Bgh"
      },
      "source": [
        "monitor = 'val_loss'\n",
        "\n",
        "callbacks = [   \n",
        "    #stop the training when a monitored quantity has stopped improving\n",
        "    EarlyStopping(monitor=monitor, patience=7, verbose=1, restore_best_weights=True),\n",
        "             \n",
        "    #Reduce learning rate is called when a metric has stopped improving\n",
        "    ReduceLROnPlateau(monitor=monitor, factor=0.1, patience=5, verbose=1)]"
      ],
      "execution_count": 36,
      "outputs": []
    },
    {
      "cell_type": "code",
      "metadata": {
        "scrolled": false,
        "id": "qc7no5dpSeZa",
        "colab": {
          "base_uri": "https://localhost:8080/"
        },
        "outputId": "2a357689-4ba8-4b9b-e5c8-14b7674a1213"
      },
      "source": [
        "#we fit the data to our model\n",
        "history = model.fit(\n",
        "    x=X_train_enc.todense(), #features (as dense inputs)\n",
        "    y=y_train_enc,           #labels\n",
        "    batch_size=batch_size,   \n",
        "    epochs=nb_epoch,         \n",
        "    verbose=2,\n",
        "    callbacks = callbacks,             \n",
        "    validation_data=(       \n",
        "    X_val_enc.todense(),               \n",
        "    y_val_enc))"
      ],
      "execution_count": 37,
      "outputs": [
        {
          "output_type": "stream",
          "text": [
            "Epoch 1/30\n",
            "411/411 - 4s - loss: 0.1056 - accuracy: 0.9703 - val_loss: 0.0605 - val_accuracy: 0.9825\n",
            "Epoch 2/30\n",
            "411/411 - 3s - loss: 0.0246 - accuracy: 0.9941 - val_loss: 0.0602 - val_accuracy: 0.9842\n",
            "Epoch 3/30\n",
            "411/411 - 2s - loss: 0.0096 - accuracy: 0.9977 - val_loss: 0.0860 - val_accuracy: 0.9831\n",
            "Epoch 4/30\n",
            "411/411 - 2s - loss: 0.0084 - accuracy: 0.9980 - val_loss: 0.1619 - val_accuracy: 0.9782\n",
            "Epoch 5/30\n",
            "411/411 - 2s - loss: 0.0078 - accuracy: 0.9985 - val_loss: 0.1045 - val_accuracy: 0.9849\n",
            "Epoch 6/30\n",
            "411/411 - 2s - loss: 0.0200 - accuracy: 0.9978 - val_loss: 0.0901 - val_accuracy: 0.9830\n",
            "Epoch 7/30\n",
            "411/411 - 2s - loss: 0.0123 - accuracy: 0.9978 - val_loss: 0.0961 - val_accuracy: 0.9839\n",
            "\n",
            "Epoch 00007: ReduceLROnPlateau reducing learning rate to 0.00010000000474974513.\n",
            "Epoch 8/30\n",
            "411/411 - 2s - loss: 0.0072 - accuracy: 0.9992 - val_loss: 0.1005 - val_accuracy: 0.9849\n",
            "Epoch 9/30\n",
            "411/411 - 2s - loss: 0.0019 - accuracy: 0.9998 - val_loss: 0.1003 - val_accuracy: 0.9846\n",
            "Restoring model weights from the end of the best epoch.\n",
            "Epoch 00009: early stopping\n"
          ],
          "name": "stdout"
        }
      ]
    },
    {
      "cell_type": "code",
      "metadata": {
        "code_folding": [
          0
        ],
        "id": "26YLBS68SeZc"
      },
      "source": [
        "def plot_keras_history(history):\n",
        "    \"\"\"    \n",
        "    :param history: \n",
        "    :return: \n",
        "    \"\"\" \n",
        "    metrics_names = [key for key in history.history.keys() if not key.startswith('val_')]\n",
        "\n",
        "    for i, metric in enumerate(metrics_names):\n",
        "        \n",
        "        if i == 2:\n",
        "          break\n",
        "        else:\n",
        "          #getting the training values\n",
        "          metric_train_values = history.history.get(metric, [])\n",
        "          \n",
        "          #getting the validation values\n",
        "          metric_val_values = history.history.get(\"val_{}\".format(metric), [])\n",
        "\n",
        "          epochs = range(1, len(metric_train_values) + 1)\n",
        "          \n",
        "          #leaving extra spaces to allign with the validation text\n",
        "          training_text = \"   Training {}: {:.5f}\".format(metric,\n",
        "                                                          metric_train_values[-1])\n",
        "\n",
        "          #metric\n",
        "          plt.figure(i, figsize=(12, 6))\n",
        "          plt.plot(epochs, metric_train_values, 'b', label=training_text)\n",
        "          \n",
        "          #if the validation metric exists, then plot that as well\n",
        "          if metric_val_values:\n",
        "              validation_text = \"Validation {}: {:.5f}\".format(metric,\n",
        "                                                              metric_val_values[-1])\n",
        "\n",
        "              plt.plot(epochs, metric_val_values, 'g', label=validation_text)\n",
        "          \n",
        "          #add title, xlabel, ylabel, and legend\n",
        "          plt.title('Model Metric: {}'.format(metric))\n",
        "          plt.xlabel('Epochs')\n",
        "          plt.ylabel(metric.title())\n",
        "          plt.legend()\n",
        "\n",
        "    plt.show()"
      ],
      "execution_count": 38,
      "outputs": []
    },
    {
      "cell_type": "code",
      "metadata": {
        "id": "RtoHT6s5SeZc",
        "colab": {
          "base_uri": "https://localhost:8080/",
          "height": 791
        },
        "outputId": "010a1747-de5f-41e4-93a1-b23cc005173d"
      },
      "source": [
        "plot_keras_history(history)"
      ],
      "execution_count": 39,
      "outputs": [
        {
          "output_type": "display_data",
          "data": {
            "image/png": "[encoded data removed]",
            "text/plain": [
              "<Figure size 864x432 with 1 Axes>"
            ]
          },
          "metadata": {
            "needs_background": "light"
          }
        },
        {
          "output_type": "display_data",
          "data": {
            "image/png": "[encoded data removed]",
            "text/plain": [
              "<Figure size 864x432 with 1 Axes>"
            ]
          },
          "metadata": {
            "needs_background": "light"
          }
        }
      ]
    },
    {
      "cell_type": "markdown",
      "metadata": {
        "id": "ujkZDAH7SeZd"
      },
      "source": [
        "### Model Evaluation"
      ]
    },
    {
      "cell_type": "code",
      "metadata": {
        "id": "jGyMNkxlSeZd",
        "colab": {
          "base_uri": "https://localhost:8080/"
        },
        "outputId": "a82eccc9-41e0-4a09-e403-e28a5e3e94cd"
      },
      "source": [
        "#evaluate and store on score variable the test dataset\n",
        "score = model.evaluate(\n",
        "    X_test_enc.todense(),    \n",
        "    y_test_enc,             \n",
        "    batch_size=batch_size,   \n",
        "    verbose=2)"
      ],
      "execution_count": 40,
      "outputs": [
        {
          "output_type": "stream",
          "text": [
            "91/91 - 0s - loss: 0.0744 - accuracy: 0.9819\n"
          ],
          "name": "stdout"
        }
      ]
    },
    {
      "cell_type": "code",
      "metadata": {
        "id": "UWMWDQdBSeZe",
        "colab": {
          "base_uri": "https://localhost:8080/"
        },
        "outputId": "d6f2e1de-0997-4188-930d-246b9e9fc051"
      },
      "source": [
        "print('\\nTest binary_crossentropy: {}'.format(score[0]))\n",
        "print('\\nTest accuracy: {:.3f} %'.format(score[1]*100))"
      ],
      "execution_count": 41,
      "outputs": [
        {
          "output_type": "stream",
          "text": [
            "\n",
            "Test binary_crossentropy: 0.07436400651931763\n",
            "\n",
            "Test accuracy: 98.188 %\n"
          ],
          "name": "stdout"
        }
      ]
    },
    {
      "cell_type": "markdown",
      "metadata": {
        "id": "qTRNw1Z3vx_s"
      },
      "source": [
        "---\n",
        "In the above plots and after the evaluation of the model, we can see the basic metrics of our Feed Forward Neural Network and how they evolve in the passing of the epochs. \n",
        "* First of all, the loss function, a function that shows the error, takes very small values. This is more than good, because it shows that the error for predicting the right class in our binary classification problem is minor. Combining with the fact of both the training and the validation loss have very low values (**less than 11%**) it is a good indicator of a very promising model. We have to clarify that the training loss indicates how well the model is fitting the training data, while the validation loss indicates how well the model fits new data.\n",
        "\n",
        "* On the other hand, the accuracy metric, a metric  that depicts the ratio of number of correct predictions to the total number of input samples is really high (**more than 98%** for both training and validation accuracy). This means that our model is very accurate and predicts correctly the class of the news (fake or true) nearly all the time."
      ]
    },
    {
      "cell_type": "markdown",
      "metadata": {
        "id": "huQljX0HSeZe"
      },
      "source": [
        "### Model Prediction "
      ]
    },
    {
      "cell_type": "code",
      "metadata": {
        "id": "NWW961tcSeZf",
        "colab": {
          "base_uri": "https://localhost:8080/"
        },
        "outputId": "1aeeb049-6ffa-4ab2-b8e9-815061d41493"
      },
      "source": [
        "#get the probabilities for each category for every news\n",
        "y_test_pred_probs = model.predict(X_test_enc)\n",
        "y_test_pred_probs"
      ],
      "execution_count": 42,
      "outputs": [
        {
          "output_type": "execute_result",
          "data": {
            "text/plain": [
              "array([[9.79657829e-01, 2.71204989e-02],\n",
              "       [1.00000000e+00, 5.42981802e-08],\n",
              "       [8.75600323e-04, 9.99115884e-01],\n",
              "       ...,\n",
              "       [1.20660042e-08, 1.00000000e+00],\n",
              "       [5.39057814e-02, 9.41702545e-01],\n",
              "       [1.19655604e-04, 9.99888420e-01]], dtype=float32)"
            ]
          },
          "metadata": {},
          "execution_count": 42
        }
      ]
    },
    {
      "cell_type": "code",
      "metadata": {
        "id": "q9jrsaGUSeZg",
        "colab": {
          "base_uri": "https://localhost:8080/"
        },
        "outputId": "ddd9d810-5abd-4e1c-f8cf-10dbe37b9daf"
      },
      "source": [
        "y_test_pred_probs.shape"
      ],
      "execution_count": 43,
      "outputs": [
        {
          "output_type": "execute_result",
          "data": {
            "text/plain": [
              "(5796, 2)"
            ]
          },
          "metadata": {},
          "execution_count": 43
        }
      ]
    },
    {
      "cell_type": "code",
      "metadata": {
        "scrolled": true,
        "id": "cIEt-sdrSeZi",
        "colab": {
          "base_uri": "https://localhost:8080/"
        },
        "outputId": "38e8b1e8-c32a-460e-8e27-01fe021c8318"
      },
      "source": [
        "#show the class they belong\n",
        "y_test_preds = np.argmax(model.predict(X_test_enc), axis=-1)\n",
        "\n",
        "y_test_preds[:50]"
      ],
      "execution_count": 44,
      "outputs": [
        {
          "output_type": "execute_result",
          "data": {
            "text/plain": [
              "array([0, 0, 1, 0, 1, 0, 1, 0, 1, 1, 1, 0, 1, 0, 0, 1, 0, 0, 1, 1, 1, 1,\n",
              "       0, 1, 1, 1, 1, 0, 1, 1, 1, 1, 1, 0, 1, 1, 0, 1, 0, 0, 1, 0, 0, 0,\n",
              "       0, 1, 0, 0, 0, 0])"
            ]
          },
          "metadata": {},
          "execution_count": 44
        }
      ]
    },
    {
      "cell_type": "code",
      "metadata": {
        "id": "CEvZRBZHSeZk"
      },
      "source": [
        "#custom prediction function \n",
        "def get_one_hot_predictions(pred_probs):\n",
        "    \"\"\"\n",
        "    \"\"\"\n",
        "    max_probs = np.max(pred_probs, axis=1)\n",
        "    \n",
        "    #reshaping to (len_of_predicts, 1)\n",
        "    max_probs = max_probs.reshape(max_probs.shape[0], 1)\n",
        "\n",
        "    return np.equal(pred_probs, max_probs).astype(float)"
      ],
      "execution_count": 45,
      "outputs": []
    },
    {
      "cell_type": "code",
      "metadata": {
        "scrolled": true,
        "id": "3H97y-S2SeZl",
        "colab": {
          "base_uri": "https://localhost:8080/"
        },
        "outputId": "8297fbfd-fcce-425f-a512-cba7c5a4f340"
      },
      "source": [
        "y_test_pred = get_one_hot_predictions(y_test_pred_probs)\n",
        "y_test_pred\n",
        "\n",
        "#check that each line has only one 1\n",
        "y_test_pred.sum(axis=1)"
      ],
      "execution_count": 46,
      "outputs": [
        {
          "output_type": "execute_result",
          "data": {
            "text/plain": [
              "array([1., 1., 1., ..., 1., 1., 1.])"
            ]
          },
          "metadata": {},
          "execution_count": 46
        }
      ]
    },
    {
      "cell_type": "code",
      "metadata": {
        "id": "eOlgoq7QSeZl",
        "colab": {
          "base_uri": "https://localhost:8080/"
        },
        "outputId": "602f4e65-dfce-4cb5-9dee-9434d511a906"
      },
      "source": [
        "#from the fitted One Hot Encoder we will get the inverse outcome (the category)\n",
        "y_test_pred_news = y_enc.inverse_transform(y_test_pred).flatten()\n",
        "y_test_pred_news[:20]"
      ],
      "execution_count": 47,
      "outputs": [
        {
          "output_type": "execute_result",
          "data": {
            "text/plain": [
              "array(['fake', 'fake', 'true', 'fake', 'true', 'fake', 'true', 'fake',\n",
              "       'true', 'true', 'true', 'fake', 'true', 'fake', 'fake', 'true',\n",
              "       'fake', 'fake', 'true', 'true'], dtype=object)"
            ]
          },
          "metadata": {},
          "execution_count": 47
        }
      ]
    },
    {
      "cell_type": "markdown",
      "metadata": {
        "id": "7k3L0YM3u7vy"
      },
      "source": [
        "* Some more evaluation merics."
      ]
    },
    {
      "cell_type": "code",
      "metadata": {
        "id": "PsHfWMO5SeZn"
      },
      "source": [
        "from sklearn.metrics import confusion_matrix, classification_report\n",
        "from sklearn.metrics import roc_curve, auc"
      ],
      "execution_count": 48,
      "outputs": []
    },
    {
      "cell_type": "code",
      "metadata": {
        "id": "NWFZIsNbSeZo",
        "colab": {
          "base_uri": "https://localhost:8080/",
          "height": 112
        },
        "outputId": "db98e7c3-1eac-4e38-9892-ec77f3f9f1a1"
      },
      "source": [
        "conf_mat = confusion_matrix(y_true=y_test, y_pred=y_test_pred_news)\n",
        "pd.DataFrame(conf_mat, columns = y_enc.categories_, index=y_enc.categories_)"
      ],
      "execution_count": 49,
      "outputs": [
        {
          "output_type": "execute_result",
          "data": {
            "text/html": [
              "<div>\n",
              "<style scoped>\n",
              "    .dataframe tbody tr th:only-of-type {\n",
              "        vertical-align: middle;\n",
              "    }\n",
              "\n",
              "    .dataframe tbody tr th {\n",
              "        vertical-align: top;\n",
              "    }\n",
              "\n",
              "    .dataframe thead tr th {\n",
              "        text-align: left;\n",
              "    }\n",
              "</style>\n",
              "<table border=\"1\" class=\"dataframe\">\n",
              "  <thead>\n",
              "    <tr>\n",
              "      <th></th>\n",
              "      <th>fake</th>\n",
              "      <th>true</th>\n",
              "    </tr>\n",
              "  </thead>\n",
              "  <tbody>\n",
              "    <tr>\n",
              "      <th>fake</th>\n",
              "      <td>2564</td>\n",
              "      <td>53</td>\n",
              "    </tr>\n",
              "    <tr>\n",
              "      <th>true</th>\n",
              "      <td>52</td>\n",
              "      <td>3127</td>\n",
              "    </tr>\n",
              "  </tbody>\n",
              "</table>\n",
              "</div>"
            ],
            "text/plain": [
              "      fake  true\n",
              "fake  2564    53\n",
              "true    52  3127"
            ]
          },
          "metadata": {},
          "execution_count": 49
        }
      ]
    },
    {
      "cell_type": "markdown",
      "metadata": {
        "id": "QIDOdL12nySw"
      },
      "source": [
        "* From the above confusion matrix we can observe that the performance of the model is pretty good. This is concluded by the fact that the predicted values do not differ a lot from the actual values. For example, from the 2627 false news, only the 53 predicted falsefully as true and from the 3179 true new only 52 predicted as fake."
      ]
    },
    {
      "cell_type": "code",
      "metadata": {
        "scrolled": false,
        "id": "mBRLL7nnSeZq",
        "colab": {
          "base_uri": "https://localhost:8080/"
        },
        "outputId": "e71305c9-56f1-4bc4-8873-a93457b9e6f9"
      },
      "source": [
        "print(classification_report(y_true=y_test, y_pred=y_test_pred_news))"
      ],
      "execution_count": 50,
      "outputs": [
        {
          "output_type": "stream",
          "text": [
            "              precision    recall  f1-score   support\n",
            "\n",
            "        fake       0.98      0.98      0.98      2617\n",
            "        true       0.98      0.98      0.98      3179\n",
            "\n",
            "    accuracy                           0.98      5796\n",
            "   macro avg       0.98      0.98      0.98      5796\n",
            "weighted avg       0.98      0.98      0.98      5796\n",
            "\n"
          ],
          "name": "stdout"
        }
      ]
    },
    {
      "cell_type": "markdown",
      "metadata": {
        "id": "iJg5kQfQneHD"
      },
      "source": [
        "Before analyzing the classifiation report it is worth mentioning the definitions of the above metrics. \n",
        "* **Precision** : the number of correct positive results divided by the number of positive results predicted by the classifier.\n",
        "* **Recall** : the number of correct positive results divided by the number of all samples that should have been identified as positive\n",
        "* **F1 Score**: the Harmonic Mean between precision and recall. It shows how precise our classifier is (how many instances are classified correctly), as well as how robust it is (it does not miss a significant number of instances).\n",
        "* **Support**: the number of news.\n",
        "\n",
        "After checking the results of our classification report we can assume that our model performs really good."
      ]
    },
    {
      "cell_type": "code",
      "metadata": {
        "id": "pGuRnh30Eujx"
      },
      "source": [
        "def plot_binary_class_row_auc(y_true,\n",
        "                              clf_names: list,\n",
        "                              clfs_preds: list):\n",
        "    \"\"\"\n",
        "\n",
        "    :param y_true: The true labels in one hot encoding\n",
        "    :param clf_names: The names of the classifiers in order to plot\n",
        "    :param clfs_preds: A list of numpy arrays, that contain predictions from various classifiers\n",
        "    :return:\n",
        "    \"\"\"\n",
        "    assert len(clf_names) == len(clfs_preds)\n",
        "\n",
        "    plt.figure(1)\n",
        "    plt.plot([0, 1], [0, 1], 'k--')\n",
        "\n",
        "    for clf_name, preds in zip(clf_names, clfs_preds):\n",
        "        fpr, tpr, thresholds = roc_curve(y_true,\n",
        "                                         preds)\n",
        "\n",
        "        # AUC value can also be calculated like this.\n",
        "\n",
        "        auc_score = auc(fpr, tpr)\n",
        "\n",
        "        plt.plot(fpr,\n",
        "                 tpr,\n",
        "                 label='{} (area = {:.3f})'.format(clf_name, auc_score))\n",
        "\n",
        "    plt.xlabel('False positive rate')\n",
        "    plt.ylabel('True positive rate')\n",
        "    plt.title('ROC curve')\n",
        "    plt.legend(loc='best')\n",
        "    plt.show()\n",
        "\n",
        "    # Zoom in view of the upper left corner.\n",
        "    plt.figure(2)\n",
        "    plt.xlim(0, 0.2)\n",
        "    plt.ylim(0.7, 1)\n",
        "    plt.plot([0, 1],\n",
        "             [0, 1],\n",
        "             'k--')\n",
        "\n",
        "    for clf_name, preds in zip(clf_names, clfs_preds):\n",
        "        fpr, tpr, thresholds = roc_curve(y_true,\n",
        "                                         preds)\n",
        "\n",
        "        # AUC value can also be calculated like this.\n",
        "\n",
        "        auc_score = auc(fpr, tpr)\n",
        "\n",
        "        plt.plot(fpr, tpr,\n",
        "                 label='{} (area = {:.3f})'.format(clf_name, auc_score))\n",
        "\n",
        "    plt.xlabel('False positive rate')\n",
        "    plt.ylabel('True positive rate')\n",
        "    plt.title('ROC curve (zoomed in at top left)')\n",
        "    plt.legend(loc='best')\n",
        "    plt.show()"
      ],
      "execution_count": 51,
      "outputs": []
    },
    {
      "cell_type": "code",
      "metadata": {
        "colab": {
          "base_uri": "https://localhost:8080/"
        },
        "id": "fZ6zZdZ4EwqK",
        "outputId": "629bd029-598a-4335-d57a-8e846ef94e38"
      },
      "source": [
        "y_test = y_test.to_frame()\n",
        "y_test[y_test['label'] == 'true'] = 1\n",
        "y_test[y_test['label'] == 'fake'] = 0\n",
        "y_test = y_test.squeeze()\n",
        "y_test = np.asarray(y_test).astype('int64')\n",
        "y_test"
      ],
      "execution_count": 52,
      "outputs": [
        {
          "output_type": "execute_result",
          "data": {
            "text/plain": [
              "array([1, 0, 1, ..., 1, 1, 1])"
            ]
          },
          "metadata": {},
          "execution_count": 52
        }
      ]
    },
    {
      "cell_type": "code",
      "metadata": {
        "colab": {
          "base_uri": "https://localhost:8080/",
          "height": 573
        },
        "id": "wtUDo1xxE1Np",
        "outputId": "3f86c782-a452-466b-f64b-ca5662db6c99"
      },
      "source": [
        "plot_binary_class_row_auc(y_true=y_test,\n",
        "                          clf_names=['Keras'],\n",
        "                          clfs_preds=[y_test_pred_probs[:,1].ravel()])"
      ],
      "execution_count": 53,
      "outputs": [
        {
          "output_type": "display_data",
          "data": {
            "image/png": "[encoded data removed]",
            "text/plain": [
              "<Figure size 432x288 with 1 Axes>"
            ]
          },
          "metadata": {
            "needs_background": "light"
          }
        },
        {
          "output_type": "display_data",
          "data": {
            "image/png": "[encoded data removed]",
            "text/plain": [
              "<Figure size 432x288 with 1 Axes>"
            ]
          },
          "metadata": {
            "needs_background": "light"
          }
        }
      ]
    },
    {
      "cell_type": "markdown",
      "metadata": {
        "id": "Aap6BQHRFYiK"
      },
      "source": [
        "Area Under Curve (AUC) of a classifier is the probability that a classifier will rank a randomly chosen positive example higher than a randomly chosen negative example. So, we want the curve to approach as much the upper left corner of the graph as possible. In other words we want the ratio true positive to false positive to have the biggest possible value. This is happening to our case, something which indicates nearly perfect performance of our model (more than 99%)."
      ]
    },
    {
      "cell_type": "markdown",
      "metadata": {
        "id": "8LCyd893vRDn"
      },
      "source": [
        "* Let 's see an example for testing the accuracy of the model."
      ]
    },
    {
      "cell_type": "code",
      "metadata": {
        "colab": {
          "base_uri": "https://localhost:8080/",
          "height": 205
        },
        "id": "rsVI-h7zWoaH",
        "outputId": "a8798741-e258-4b52-f7f1-5ffa87e8c90c"
      },
      "source": [
        "df[df['clean_text'] == X_val.iloc[2456,]]"
      ],
      "execution_count": 54,
      "outputs": [
        {
          "output_type": "execute_result",
          "data": {
            "text/html": [
              "<div>\n",
              "<style scoped>\n",
              "    .dataframe tbody tr th:only-of-type {\n",
              "        vertical-align: middle;\n",
              "    }\n",
              "\n",
              "    .dataframe tbody tr th {\n",
              "        vertical-align: top;\n",
              "    }\n",
              "\n",
              "    .dataframe thead th {\n",
              "        text-align: right;\n",
              "    }\n",
              "</style>\n",
              "<table border=\"1\" class=\"dataframe\">\n",
              "  <thead>\n",
              "    <tr style=\"text-align: right;\">\n",
              "      <th></th>\n",
              "      <th>title</th>\n",
              "      <th>text</th>\n",
              "      <th>subject</th>\n",
              "      <th>date</th>\n",
              "      <th>label</th>\n",
              "      <th>caps_in_title</th>\n",
              "      <th>text_tokens</th>\n",
              "      <th>text_urls</th>\n",
              "      <th>clean_text</th>\n",
              "      <th>title_urls</th>\n",
              "      <th>twitter_handles</th>\n",
              "      <th>clean_title</th>\n",
              "      <th>clean_text_tokens</th>\n",
              "      <th>clean_title_tokens</th>\n",
              "    </tr>\n",
              "  </thead>\n",
              "  <tbody>\n",
              "    <tr>\n",
              "      <th>16239</th>\n",
              "      <td>DETROIT COP UNDER FIRE FOR FACEBOOK POST: “The...</td>\n",
              "      <td>If this cop s comments were in lock-step with ...</td>\n",
              "      <td>left-news</td>\n",
              "      <td>2016-07-11</td>\n",
              "      <td>fake</td>\n",
              "      <td>43</td>\n",
              "      <td>['If', 'this', 'cop', 's', 'comments', 'were',...</td>\n",
              "      <td>[]</td>\n",
              "      <td>if this cop s comments were in lock-step with ...</td>\n",
              "      <td>[]</td>\n",
              "      <td>[]</td>\n",
              "      <td>DETROIT COP UNDER FIRE FOR FACEBOOK POST: “the...</td>\n",
              "      <td>['if', 'this', 'cop', 'comments', 'were', 'in'...</td>\n",
              "      <td>['DETROIT', 'COP', 'UNDER', 'FIRE', 'FOR', 'FA...</td>\n",
              "    </tr>\n",
              "  </tbody>\n",
              "</table>\n",
              "</div>"
            ],
            "text/plain": [
              "                                                   title  ...                                 clean_title_tokens\n",
              "16239  DETROIT COP UNDER FIRE FOR FACEBOOK POST: “The...  ...  ['DETROIT', 'COP', 'UNDER', 'FIRE', 'FOR', 'FA...\n",
              "\n",
              "[1 rows x 14 columns]"
            ]
          },
          "metadata": {},
          "execution_count": 54
        }
      ]
    },
    {
      "cell_type": "code",
      "metadata": {
        "colab": {
          "base_uri": "https://localhost:8080/",
          "height": 145
        },
        "id": "vRzDYmyovdc7",
        "outputId": "7905009b-160e-4f5c-b5c8-46c6654c5e3d"
      },
      "source": [
        "X_val.iloc[2456,]"
      ],
      "execution_count": 55,
      "outputs": [
        {
          "output_type": "execute_result",
          "data": {
            "application/vnd.google.colaboratory.intrinsic+json": {
              "type": "string"
            },
            "text/plain": [
              "'if this cop s comments were in lock-step with the leftist narrative, that it s okay to use violence to punish innocent cops as long as it brings attention to a few bad cops, would this even be a news story? why is this man, who is a target of the violent black lives matter movement, unable to speak out against the very people who seek to do him and his brothers/sisters harm?detroit police say they have launched an investigation into an officer s viral facebook rant about the black lives matter movement in reaction to the dallas police shooting.the post by officer nathan weekley has been viewed more than  ,  times, and reacts to the tragic dallas shooting that left five police officers killed and several others injured.the post reads: for the first time in my nearly   years as a law enforcement officer i contemplated calling into work in response to the outrageous act perpetrated against my brothers. it seems like the only response that will demonstrate our importance to society as a whole. the only racists here are the piece of (expletive) black lives matter terrorists and their supporters. that post has already led to an ugly viral backlash against weekley. so far, he s declined to speak with   action news due to an internal investigation, but the president of the detroit police officer s association did talk to us.via: WXYZ'"
            ]
          },
          "metadata": {},
          "execution_count": 55
        }
      ]
    },
    {
      "cell_type": "code",
      "metadata": {
        "code_folding": [
          0
        ],
        "scrolled": false,
        "id": "ul9EbOBrSeZr",
        "colab": {
          "base_uri": "https://localhost:8080/"
        },
        "outputId": "7d4a4045-2867-472e-9c1b-a251e535b512"
      },
      "source": [
        "input_news = X_val.iloc[2456,]\n",
        "\n",
        "#vectorizing news with Count Vectorizer\n",
        "news_vect = counter_vectorizer.transform([input_news])\n",
        "\n",
        "print(news_vect.shape, end='\\n\\n')\n",
        "\n",
        "news_pred = model.predict(news_vect)\n",
        "\n",
        "print('Probabilities:', end='\\n\\n')\n",
        "print(news_pred, end='\\n\\n')\n",
        "\n",
        "news_pred_hot = get_one_hot_predictions(news_pred)\n",
        "\n",
        "print('Probabilities One Hot Vector:', end='\\n\\n')\n",
        "print(news_pred_hot, end='\\n\\n')\n",
        "\n",
        "print('News Prediction:', end='\\n\\n')\n",
        "print(y_enc.inverse_transform(news_pred_hot)[0][0])"
      ],
      "execution_count": 56,
      "outputs": [
        {
          "output_type": "stream",
          "text": [
            "(1, 10000)\n",
            "\n",
            "Probabilities:\n",
            "\n",
            "[[9.999999e-01 9.313100e-08]]\n",
            "\n",
            "Probabilities One Hot Vector:\n",
            "\n",
            "[[1. 0.]]\n",
            "\n",
            "News Prediction:\n",
            "\n",
            "fake\n"
          ],
          "name": "stdout"
        }
      ]
    },
    {
      "cell_type": "markdown",
      "metadata": {
        "id": "wXMLQywGzHOH"
      },
      "source": [
        "## Embeddings"
      ]
    },
    {
      "cell_type": "markdown",
      "metadata": {
        "id": "BdRIUMiQv6L4"
      },
      "source": [
        "---\n",
        "An embedding is a relatively low-dimensional space into which you can translate high-dimensional vectors. Embeddings are very useful for representing words, because the take into account the semantics of ecah word. For example, similar inputs are placed close together in the embedding space. \n",
        "\n",
        "The major difference with one-hot-encoding is that it turns text into sequence of numbers. "
      ]
    },
    {
      "cell_type": "code",
      "metadata": {
        "id": "XBRy8nwEzcpG"
      },
      "source": [
        "import os\n",
        "from glob import glob\n",
        "from typing import Tuple, List\n",
        "\n",
        "from tensorflow.python.keras.layers import Embedding, Flatten, Dense\n",
        "from tensorflow.python.keras.models import Sequential\n",
        "from tensorflow.python.keras.preprocessing.sequence import pad_sequences\n",
        "from tensorflow.python.keras.preprocessing.text import Tokenizer\n",
        "from tqdm import tqdm\n",
        "from ipywidgets import interact"
      ],
      "execution_count": 57,
      "outputs": []
    },
    {
      "cell_type": "code",
      "metadata": {
        "colab": {
          "base_uri": "https://localhost:8080/"
        },
        "id": "VzbW-cfZzGPd",
        "outputId": "6fb738d1-2340-402f-bfe2-e01591932d97"
      },
      "source": [
        "max_words = 15_000  #we will only take the 15K most used words in the whole news dataset\n",
        "\n",
        "#initialize the Keras tokenizer\n",
        "reviews_tokenizer = Tokenizer(num_words=max_words, lower=True, oov_token='<OOV>')\n",
        "\n",
        "reviews_tokenizer"
      ],
      "execution_count": 58,
      "outputs": [
        {
          "output_type": "execute_result",
          "data": {
            "text/plain": [
              "<keras_preprocessing.text.Tokenizer at 0x7fac82d772d0>"
            ]
          },
          "metadata": {},
          "execution_count": 58
        }
      ]
    },
    {
      "cell_type": "code",
      "metadata": {
        "id": "R2FSoYnLHeFA"
      },
      "source": [
        "texts = df['clean_text']"
      ],
      "execution_count": 59,
      "outputs": []
    },
    {
      "cell_type": "code",
      "metadata": {
        "id": "QyCy1xwfziwi"
      },
      "source": [
        "reviews_tokenizer.fit_on_texts(texts)  #create tokens by counting frequency"
      ],
      "execution_count": 60,
      "outputs": []
    },
    {
      "cell_type": "code",
      "metadata": {
        "id": "wAs5PwcZzjpc"
      },
      "source": [
        "sequences = reviews_tokenizer.texts_to_sequences(texts) #create embedding (wonrds into sequence of numbers)"
      ],
      "execution_count": 61,
      "outputs": []
    },
    {
      "cell_type": "markdown",
      "metadata": {
        "id": "CN01vJp-xWPu"
      },
      "source": [
        "* These tokenizers create a dictionary that maps each word to a number. If we take a closer look, we can infer that those words are used more in the news take a lower token number. Some examples are the following:"
      ]
    },
    {
      "cell_type": "code",
      "metadata": {
        "colab": {
          "base_uri": "https://localhost:8080/"
        },
        "id": "DVdMJSErzjwH",
        "outputId": "d0bf7efe-6980-4150-e567-eddaa1f20886"
      },
      "source": [
        "word_index = reviews_tokenizer.word_index\n",
        "\n",
        "print('Token for the word \"news\": {}'.format(word_index['news']))\n",
        "print('Token for the word \"the\": {}'.format(word_index['the']))\n",
        "print('Token for the word \"happy\": {}'.format(word_index['happy']))\n",
        "print('Token for the word \"sad\": {}'.format(word_index['sad']))"
      ],
      "execution_count": 62,
      "outputs": [
        {
          "output_type": "stream",
          "text": [
            "Token for the word \"news\": 105\n",
            "Token for the word \"the\": 2\n",
            "Token for the word \"happy\": 1613\n",
            "Token for the word \"sad\": 2378\n"
          ],
          "name": "stdout"
        }
      ]
    },
    {
      "cell_type": "markdown",
      "metadata": {
        "id": "VZvmaJMKyGvi"
      },
      "source": [
        "* In order to continue, we have to make sure that all the sentences that will be used in our model will have the same length. So, we use the `Keras pad sequences tool`. This tool, cuts those sentences that are too big and for those that are too small adds zeros. \n",
        "\n",
        "Here, we make all the sentences to have length 100 words."
      ]
    },
    {
      "cell_type": "code",
      "metadata": {
        "colab": {
          "base_uri": "https://localhost:8080/"
        },
        "id": "Y0_JV0Yt6oCv",
        "outputId": "54b4e727-2e2c-4911-fcf6-119e7a33c039"
      },
      "source": [
        "maxlen = 100\n",
        "\n",
        "data = pad_sequences(sequences, maxlen=maxlen)\n",
        "\n",
        "#So, we have 39K, 100 word sequences now\n",
        "print('New data shape: {}'.format(data.shape))"
      ],
      "execution_count": 63,
      "outputs": [
        {
          "output_type": "stream",
          "text": [
            "New data shape: (38638, 100)\n"
          ],
          "name": "stdout"
        }
      ]
    },
    {
      "cell_type": "markdown",
      "metadata": {
        "id": "M2sQ-3cO612W"
      },
      "source": [
        "#### Data shuffling and splitting in train-validation"
      ]
    },
    {
      "cell_type": "code",
      "metadata": {
        "colab": {
          "base_uri": "https://localhost:8080/"
        },
        "id": "qF-S564yYqz4",
        "outputId": "75084be8-58c2-4c6f-c5b1-b97ee4615784"
      },
      "source": [
        "y = y.to_frame()\n",
        "y[y['label'] == 'true'] = 1\n",
        "y[y['label'] == 'fake'] = 0\n",
        "y = y.squeeze()\n",
        "y = np.asarray(y).astype('int64')\n",
        "y"
      ],
      "execution_count": 64,
      "outputs": [
        {
          "output_type": "execute_result",
          "data": {
            "text/plain": [
              "array([0, 0, 0, ..., 1, 1, 1])"
            ]
          },
          "metadata": {},
          "execution_count": 64
        }
      ]
    },
    {
      "cell_type": "code",
      "metadata": {
        "id": "FGifnLfQ6yda",
        "colab": {
          "base_uri": "https://localhost:8080/"
        },
        "outputId": "7ab45aa9-fe53-4654-99a1-2be86bf249db"
      },
      "source": [
        "#we turn all the data into training and validation datasets\n",
        "labels = y # true - fake\n",
        "labels"
      ],
      "execution_count": 65,
      "outputs": [
        {
          "output_type": "execute_result",
          "data": {
            "text/plain": [
              "array([0, 0, 0, ..., 1, 1, 1])"
            ]
          },
          "metadata": {},
          "execution_count": 65
        }
      ]
    },
    {
      "cell_type": "markdown",
      "metadata": {
        "id": "ifNOvQ2vLN7j"
      },
      "source": [
        "* Shuffle the data. We first create indeces using the length of the text and later we shuffle them:"
      ]
    },
    {
      "cell_type": "code",
      "metadata": {
        "id": "NpqJ33D_6yg3"
      },
      "source": [
        "indices = np.arange(data.shape[0])  \n",
        "\n",
        "#shuffling the indices on the fly\n",
        "np.random.shuffle(indices)\n",
        "\n",
        "data = data[indices]  #the shuffled texts\n",
        "labels = labels[indices]  #the shuffled sentiments"
      ],
      "execution_count": 66,
      "outputs": []
    },
    {
      "cell_type": "code",
      "metadata": {
        "colab": {
          "base_uri": "https://localhost:8080/"
        },
        "id": "iXR_q6Rh7JKI",
        "outputId": "5d293144-5231-4f18-8ab8-f51646ac431c"
      },
      "source": [
        "training_samples = 30_000  #will be trained on 30K samples\n",
        "\n",
        "#data splitting\n",
        "x_train1 = data[:training_samples]\n",
        "y_train1 = labels[:training_samples]\n",
        "\n",
        "x_val1 = data[training_samples:]\n",
        "y_val1 = labels[training_samples:]\n",
        "\n",
        "#datasets format\n",
        "print('X train shape: {}'.format(x_train1.shape))\n",
        "print('y train shape: {}'.format(y_train1.shape))\n",
        "\n",
        "print('X val shape: {}'.format(x_val1.shape))\n",
        "print('y val shape: {}'.format(y_val1.shape))"
      ],
      "execution_count": 67,
      "outputs": [
        {
          "output_type": "stream",
          "text": [
            "X train shape: (30000, 100)\n",
            "y train shape: (30000,)\n",
            "X val shape: (8638, 100)\n",
            "y val shape: (8638,)\n"
          ],
          "name": "stdout"
        }
      ]
    },
    {
      "cell_type": "code",
      "metadata": {
        "id": "qc3jgv9y7NQQ",
        "colab": {
          "base_uri": "https://localhost:8080/"
        },
        "outputId": "ebc2fe06-69da-46c7-8604-36b3bc290dde"
      },
      "source": [
        "# Setting the model\n",
        "model1 = Sequential()\n",
        "model1.add(Embedding(input_dim=max_words,\n",
        "                      output_dim=50,\n",
        "                      embeddings_initializer='uniform',\n",
        "                      mask_zero=True,\n",
        "                      input_length=maxlen))\n",
        "\n",
        "model1.add(Flatten()) #flattening is converting the data into a 1-dimensional array for inputting it to the next layer\n",
        "\n",
        "model1.add(Dense(32, activation='relu'))\n",
        "\n",
        "model1.add(Dense(1, activation='sigmoid'))\n",
        "\n",
        "print(model1.summary())\n",
        "\n",
        "model1.compile(optimizer='adam',\n",
        "                loss='binary_crossentropy',\n",
        "                metrics=['acc'])"
      ],
      "execution_count": 68,
      "outputs": [
        {
          "output_type": "stream",
          "text": [
            "Model: \"sequential\"\n",
            "_________________________________________________________________\n",
            "Layer (type)                 Output Shape              Param #   \n",
            "=================================================================\n",
            "embedding (Embedding)        (None, 100, 50)           750000    \n",
            "_________________________________________________________________\n",
            "flatten (Flatten)            (None, 5000)              0         \n",
            "_________________________________________________________________\n",
            "dense (Dense)                (None, 32)                160032    \n",
            "_________________________________________________________________\n",
            "dense_1 (Dense)              (None, 1)                 33        \n",
            "=================================================================\n",
            "Total params: 910,065\n",
            "Trainable params: 910,065\n",
            "Non-trainable params: 0\n",
            "_________________________________________________________________\n",
            "None\n"
          ],
          "name": "stdout"
        }
      ]
    },
    {
      "cell_type": "code",
      "metadata": {
        "colab": {
          "base_uri": "https://localhost:8080/"
        },
        "id": "XLwENHyT7WYq",
        "outputId": "bc45a62d-c763-429b-d752-25510b401963"
      },
      "source": [
        "history = model1.fit(x_train1, y_train1,\n",
        "                     epochs=30,\n",
        "                     batch_size=64,\n",
        "                     callbacks = callbacks,\n",
        "                     validation_data=(x_val1, y_val1))"
      ],
      "execution_count": 69,
      "outputs": [
        {
          "output_type": "stream",
          "text": [
            "Epoch 1/30\n",
            "469/469 [==============================] - 4s 6ms/step - loss: 0.1086 - acc: 0.9587 - val_loss: 0.0485 - val_acc: 0.9826\n",
            "Epoch 2/30\n",
            "469/469 [==============================] - 3s 6ms/step - loss: 0.0064 - acc: 0.9986 - val_loss: 0.0530 - val_acc: 0.9823\n",
            "Epoch 3/30\n",
            "469/469 [==============================] - 3s 6ms/step - loss: 5.6257e-04 - acc: 1.0000 - val_loss: 0.0587 - val_acc: 0.9831\n",
            "Epoch 4/30\n",
            "469/469 [==============================] - 3s 6ms/step - loss: 1.8306e-04 - acc: 1.0000 - val_loss: 0.0588 - val_acc: 0.9834\n",
            "Epoch 5/30\n",
            "469/469 [==============================] - 3s 6ms/step - loss: 9.9947e-05 - acc: 1.0000 - val_loss: 0.0614 - val_acc: 0.9834\n",
            "Epoch 6/30\n",
            "469/469 [==============================] - 3s 6ms/step - loss: 6.2620e-05 - acc: 1.0000 - val_loss: 0.0636 - val_acc: 0.9834\n",
            "\n",
            "Epoch 00006: ReduceLROnPlateau reducing learning rate to 0.00010000000474974513.\n",
            "Epoch 7/30\n",
            "469/469 [==============================] - 3s 6ms/step - loss: 4.6934e-05 - acc: 1.0000 - val_loss: 0.0641 - val_acc: 0.9834\n",
            "Epoch 8/30\n",
            "469/469 [==============================] - 3s 6ms/step - loss: 4.4812e-05 - acc: 1.0000 - val_loss: 0.0645 - val_acc: 0.9834\n",
            "Restoring model weights from the end of the best epoch.\n",
            "Epoch 00008: early stopping\n"
          ],
          "name": "stdout"
        }
      ]
    },
    {
      "cell_type": "code",
      "metadata": {
        "colab": {
          "base_uri": "https://localhost:8080/",
          "height": 791
        },
        "id": "1QRbOOeUwFAR",
        "outputId": "9fcf6ce8-0a9f-42e3-f7e6-42df174f2b70"
      },
      "source": [
        "plot_keras_history(history)"
      ],
      "execution_count": 70,
      "outputs": [
        {
          "output_type": "display_data",
          "data": {
            "image/png": "[encoded data removed]",
            "text/plain": [
              "<Figure size 864x432 with 1 Axes>"
            ]
          },
          "metadata": {
            "needs_background": "light"
          }
        },
        {
          "output_type": "display_data",
          "data": {
            "image/png": "[encoded data removed]",
            "text/plain": [
              "<Figure size 864x432 with 1 Axes>"
            ]
          },
          "metadata": {
            "needs_background": "light"
          }
        }
      ]
    },
    {
      "cell_type": "markdown",
      "metadata": {
        "id": "eS3OwzRTDKsS"
      },
      "source": [
        "* In this case we can observe that the model was created with embeddings are nearly perfect. We can see almost 0 loss and aproximately 1 accuracy."
      ]
    },
    {
      "cell_type": "markdown",
      "metadata": {
        "id": "3CjEJblW5Us7"
      },
      "source": [
        "### Predicting using the fitted model"
      ]
    },
    {
      "cell_type": "markdown",
      "metadata": {
        "id": "jUrlMLgiDjlQ"
      },
      "source": [
        "Here is an example. We are giving a text in the model and it returns to us how much fake it is."
      ]
    },
    {
      "cell_type": "code",
      "metadata": {
        "colab": {
          "base_uri": "https://localhost:8080/"
        },
        "id": "6BK6715w5bMr",
        "outputId": "d23b473a-6d26-4b08-9c62-f0ea31df2074"
      },
      "source": [
        "df.iloc[2199,]"
      ],
      "execution_count": 71,
      "outputs": [
        {
          "output_type": "execute_result",
          "data": {
            "text/plain": [
              "title                  Muhammad Ali Jr. Detained AGAIN At Airport Ri...\n",
              "text                  One day after he testified about being stopped...\n",
              "subject                                                            News\n",
              "date                                                         2017-03-11\n",
              "label                                                              fake\n",
              "caps_in_title                                                        17\n",
              "text_tokens           ['One', 'day', 'after', 'he', 'testified', 'ab...\n",
              "text_urls                                                            []\n",
              "clean_text            one day after he testified about being stopped...\n",
              "title_urls                                                           []\n",
              "twitter_handles                                                      []\n",
              "clean_title           muhammad ali jr. detained AGAIN at airport rig...\n",
              "clean_text_tokens     ['one', 'day', 'after', 'he', 'testified', 'ab...\n",
              "clean_title_tokens    ['muhammad', 'ali', 'jr.', 'detained', 'AGAIN'...\n",
              "Name: 2199, dtype: object"
            ]
          },
          "metadata": {},
          "execution_count": 71
        }
      ]
    },
    {
      "cell_type": "code",
      "metadata": {
        "colab": {
          "base_uri": "https://localhost:8080/"
        },
        "id": "Wku2XpKY5WFJ",
        "outputId": "6f090787-5087-41a9-c508-4ef866cbb247"
      },
      "source": [
        "# Demo on a positive text\n",
        "my_text = df.iloc[2199,1]\n",
        "\n",
        "seq = reviews_tokenizer.texts_to_sequences([my_text])\n",
        "print('raw seq:', seq)\n",
        "\n",
        "seq = pad_sequences(seq, maxlen=maxlen)\n",
        "print('padded seq:', seq)\n",
        "\n",
        "prediction = model1.predict(seq)\n",
        "print('truthfulness:', prediction)"
      ],
      "execution_count": 72,
      "outputs": [
        {
          "output_type": "stream",
          "text": [
            "raw seq: [[53, 187, 52, 14, 3717, 40, 115, 1640, 21, 334, 163, 142, 66, 15, 9, 353, 489, 2, 810, 4, 13688, 8668, 6709, 2502, 18, 1644, 21, 334, 163, 302, 27, 99, 10, 5, 1283, 2117, 6709, 2502, 1416, 3659, 3, 104, 10, 192, 3, 3158, 40, 2, 103, 99, 14, 18, 1644, 10, 20, 169, 148, 26, 5, 258, 505, 241, 311, 14, 688, 17, 20, 1162, 7, 7806, 2502, 1416, 18, 2283, 1644, 28, 4725, 9383, 1753, 288, 1673, 10, 650, 1, 6, 1999, 11, 91, 793, 17, 163, 1, 75, 17, 426, 507, 685, 93, 29, 44, 5, 353, 6, 143, 113, 44, 133, 228, 578, 27, 99, 2, 10471, 9, 810, 408, 45, 111, 136, 16, 3, 608, 109, 2808, 3, 845, 5, 2117, 326, 7, 5, 104, 767, 1673, 2, 11034, 632, 265, 327, 17, 20, 5111, 63, 572, 2502, 623, 894, 1078, 98, 79, 1785, 28, 2067, 125, 1673, 7, 104, 10, 200, 11, 5, 2117, 3, 4725, 9383, 7162, 14, 688, 20, 2171, 5111, 2651, 3, 5, 1, 2161, 3, 133, 20, 9253, 849, 13, 20, 879, 1332, 1, 30, 18, 2983, 17, 75, 6, 5086, 2, 3294, 707, 632, 572, 2502, 18, 86, 8, 67, 18, 5, 642, 6, 8, 2, 2161, 706, 3, 324, 2, 191, 4, 1496, 119, 572, 1, 13, 572, 2502, 1, 18, 215, 20, 1711, 4, 2138, 143, 14, 18, 1296, 6, 20, 371, 119, 381, 572, 1, 13, 52, 5970, 2, 685, 14, 18, 86, 8, 20, 2171, 872, 5111, 2651, 51, 6519, 7, 1, 33, 12, 25, 5, 3185, 9, 3642, 18, 12227, 11, 3904, 2, 245, 58, 1852, 26, 2171, 8, 14, 3659, 3, 104, 10, 18, 1431, 572, 1, 13, 7, 31, 307, 10, 200, 463, 572, 2502, 157, 2736, 20, 83, 73, 6244, 51, 18, 2354, 6, 419, 217, 119, 6, 12814, 2, 2117, 17, 20, 1162, 1, 1, 2502, 2, 448, 841, 4, 6709, 2502, 6, 572, 1, 572, 1, 13, 8, 2, 3294, 6261, 162, 1, 6, 1, 1689, 27, 1011, 418, 1, 4, 80, 1727, 4, 3999, 11, 20, 1847, 14, 13, 2, 11034, 19, 12, 3892, 1, 1148, 4, 59, 2806, 1446, 4539, 28, 2, 4772, 1723, 7, 1489, 5, 324, 18, 126, 3, 2175, 572, 2502, 9, 2253, 17, 45, 9, 5, 163, 2, 320, 209, 63, 572, 2502, 1785, 28, 2, 10100, 20, 725, 10034, 4760, 2, 10100, 1, 14, 739, 5, 1553, 4473, 168, 7, 2, 767, 4, 20, 10034, 3, 319, 2, 4573, 6, 18, 3944, 3, 3995, 20, 2117, 27, 12, 100, 2, 448, 99, 70, 2, 502, 4, 91, 1362, 353, 4440, 7, 51, 5, 175, 402, 1481, 18, 7572, 56, 4404, 11, 68, 467, 710, 77, 20, 578, 27, 251, 25, 403, 185, 1097, 16, 745, 5788, 233, 2468, 3, 823, 55, 43, 3743, 12, 300, 3009, 50, 55, 32, 343, 1415, 300, 1, 3, 2, 1, 5720, 30, 2841, 515, 11034, 10081, 465, 2, 390, 55, 27, 12, 60, 185, 1376, 93, 63, 16, 9, 387, 302, 157, 1222, 37, 112, 425, 422, 9, 25, 23, 74, 387, 78, 110, 76, 45, 2316, 16, 207, 186, 150, 472, 428, 1, 1]]\n",
            "padded seq: [[   99    70     2   502     4    91  1362   353  4440     7    51     5\n",
            "    175   402  1481    18  7572    56  4404    11    68   467   710    77\n",
            "     20   578    27   251    25   403   185  1097    16   745  5788   233\n",
            "   2468     3   823    55    43  3743    12   300  3009    50    55    32\n",
            "    343  1415   300     1     3     2     1  5720    30  2841   515 11034\n",
            "  10081   465     2   390    55    27    12    60   185  1376    93    63\n",
            "     16     9   387   302   157  1222    37   112   425   422     9    25\n",
            "     23    74   387    78   110    76    45  2316    16   207   186   150\n",
            "    472   428     1     1]]\n",
            "truthfulness: [[1.7674214e-05]]\n"
          ],
          "name": "stdout"
        }
      ]
    }
  ]
}