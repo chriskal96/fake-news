{
  "nbformat": 4,
  "nbformat_minor": 0,
  "metadata": {
    "kernelspec": {
      "display_name": "Python 3",
      "language": "python",
      "name": "python3"
    },
    "language_info": {
      "codemirror_mode": {
        "name": "ipython",
        "version": 3
      },
      "file_extension": ".py",
      "mimetype": "text/x-python",
      "name": "python",
      "nbconvert_exporter": "python",
      "pygments_lexer": "ipython3",
      "version": "3.8.3"
    },
    "toc": {
      "nav_menu": {},
      "number_sections": true,
      "sideBar": true,
      "skip_h1_title": false,
      "toc_cell": false,
      "toc_position": {},
      "toc_section_display": "block",
      "toc_window_display": false
    },
    "colab": {
      "name": "3. Feed_forward_NN_and_Embedding.ipynb",
      "provenance": [],
      "collapsed_sections": []
    },
    "accelerator": "GPU"
  },
  "cells": [
    {
      "cell_type": "markdown",
      "metadata": {
        "id": "pj38L3nGSeX3"
      },
      "source": [
        "## Feed Forward Neural Network in Fake Data\n"
      ]
    },
    {
      "cell_type": "markdown",
      "metadata": {
        "id": "AVBLxwm-SeYB"
      },
      "source": [
        "### Importing Libraries"
      ]
    },
    {
      "cell_type": "code",
      "metadata": {
        "colab": {
          "base_uri": "https://localhost:8080/"
        },
        "id": "SVWTNznkSeYE",
        "outputId": "d6fe4ef5-bce7-421f-f61b-7f411a61b037"
      },
      "source": [
        "from pydrive.auth import GoogleAuth\n",
        "from pydrive.drive import GoogleDrive\n",
        "from google.colab import auth\n",
        "from google.colab import drive \n",
        "from oauth2client.client import GoogleCredentials\n",
        "\n",
        "drive.mount('/content/gdrive')"
      ],
      "execution_count": 307,
      "outputs": [
        {
          "output_type": "stream",
          "text": [
            "Drive already mounted at /content/gdrive; to attempt to forcibly remount, call drive.mount(\"/content/gdrive\", force_remount=True).\n"
          ],
          "name": "stdout"
        }
      ]
    },
    {
      "cell_type": "code",
      "metadata": {
        "id": "09dfON0OSeYK"
      },
      "source": [
        "import pandas as pd\n",
        "from collections import Counter\n",
        "import numpy as np\n",
        "import matplotlib.pyplot as plt\n",
        "\n",
        "%matplotlib inline"
      ],
      "execution_count": 308,
      "outputs": []
    },
    {
      "cell_type": "markdown",
      "metadata": {
        "id": "Q8_q9qkQSeYO"
      },
      "source": [
        "### Loading dataset"
      ]
    },
    {
      "cell_type": "code",
      "metadata": {
        "colab": {
          "base_uri": "https://localhost:8080/",
          "height": 697
        },
        "id": "l6Nvs4g9SeYS",
        "outputId": "8fcdf6c5-5f31-414d-a28a-55929d64b963"
      },
      "source": [
        "#read a '.csv' file into data-frame\n",
        "df = pd.read_csv('gdrive/My Drive/text_pre_processing.csv', sep=',')\n",
        "\n",
        "df.sample(5)"
      ],
      "execution_count": 309,
      "outputs": [
        {
          "output_type": "stream",
          "text": [
            "/usr/local/lib/python3.7/dist-packages/IPython/core/interactiveshell.py:2718: DtypeWarning: Columns (6) have mixed types.Specify dtype option on import or set low_memory=False.\n",
            "  interactivity=interactivity, compiler=compiler, result=result)\n"
          ],
          "name": "stderr"
        },
        {
          "output_type": "execute_result",
          "data": {
            "text/html": [
              "<div>\n",
              "<style scoped>\n",
              "    .dataframe tbody tr th:only-of-type {\n",
              "        vertical-align: middle;\n",
              "    }\n",
              "\n",
              "    .dataframe tbody tr th {\n",
              "        vertical-align: top;\n",
              "    }\n",
              "\n",
              "    .dataframe thead th {\n",
              "        text-align: right;\n",
              "    }\n",
              "</style>\n",
              "<table border=\"1\" class=\"dataframe\">\n",
              "  <thead>\n",
              "    <tr style=\"text-align: right;\">\n",
              "      <th></th>\n",
              "      <th>Unnamed: 0</th>\n",
              "      <th>Unnamed: 0.1</th>\n",
              "      <th>title</th>\n",
              "      <th>text</th>\n",
              "      <th>subject</th>\n",
              "      <th>date</th>\n",
              "      <th>label</th>\n",
              "      <th>caps_in_title</th>\n",
              "      <th>text_tokens</th>\n",
              "      <th>text_urls</th>\n",
              "      <th>clean_text</th>\n",
              "      <th>title_urls</th>\n",
              "      <th>twitter_handles</th>\n",
              "      <th>clean_title</th>\n",
              "      <th>clean_text_tokens</th>\n",
              "      <th>clean_title_tokens</th>\n",
              "    </tr>\n",
              "  </thead>\n",
              "  <tbody>\n",
              "    <tr>\n",
              "      <th>32139</th>\n",
              "      <td>32139</td>\n",
              "      <td>32145</td>\n",
              "      <td>Iran 'hopes Hariri will remain Lebanon's prime...</td>\n",
              "      <td>LONDON (Reuters) - An Iranian official said on...</td>\n",
              "      <td>worldnews</td>\n",
              "      <td>2017-11-14</td>\n",
              "      <td>true</td>\n",
              "      <td>3</td>\n",
              "      <td>['LONDON', '(Reuters)', 'An', 'Iranian', 'offi...</td>\n",
              "      <td>[]</td>\n",
              "      <td>LONDON   - an iranian official said on tuesday...</td>\n",
              "      <td>[]</td>\n",
              "      <td>[]</td>\n",
              "      <td>iran 'hopes hariri will remain lebanon's prime...</td>\n",
              "      <td>['LONDON', 'an', 'iranian', 'official', 'said'...</td>\n",
              "      <td>['iran', \"'hopes\", 'hariri', 'will', 'remain',...</td>\n",
              "    </tr>\n",
              "    <tr>\n",
              "      <th>26340</th>\n",
              "      <td>26340</td>\n",
              "      <td>26346</td>\n",
              "      <td>Justice Dept. reviewing Supreme Court immigrat...</td>\n",
              "      <td>PHOENIX (Reuters) - The Obama administration i...</td>\n",
              "      <td>politicsNews</td>\n",
              "      <td>2016-06-28</td>\n",
              "      <td>true</td>\n",
              "      <td>5</td>\n",
              "      <td>['PHOENIX', '(Reuters)', 'The', 'Obama', 'admi...</td>\n",
              "      <td>[]</td>\n",
              "      <td>PHOENIX   - the obama administration is lookin...</td>\n",
              "      <td>[]</td>\n",
              "      <td>[]</td>\n",
              "      <td>justice dept. reviewing supreme court immigrat...</td>\n",
              "      <td>['PHOENIX', 'the', 'obama', 'administration', ...</td>\n",
              "      <td>['justice', 'dept', 'reviewing', 'supreme', 'c...</td>\n",
              "    </tr>\n",
              "    <tr>\n",
              "      <th>20380</th>\n",
              "      <td>20380</td>\n",
              "      <td>20386</td>\n",
              "      <td>Senate revises Russia sanctions bill, sends it...</td>\n",
              "      <td>WASHINGTON (Reuters) - The U.S. Senate resolve...</td>\n",
              "      <td>politicsNews</td>\n",
              "      <td>2017-06-29</td>\n",
              "      <td>true</td>\n",
              "      <td>3</td>\n",
              "      <td>['WASHINGTON', '(Reuters)', 'The', 'U', 'S', '...</td>\n",
              "      <td>[]</td>\n",
              "      <td>WASHINGTON   - the U.S. senate resolved a tech...</td>\n",
              "      <td>[]</td>\n",
              "      <td>[]</td>\n",
              "      <td>senate revises russia sanctions bill, sends it...</td>\n",
              "      <td>['WASHINGTON', 'the', 'U.S.', 'senate', 'resol...</td>\n",
              "      <td>['senate', 'revises', 'russia', 'sanctions', '...</td>\n",
              "    </tr>\n",
              "    <tr>\n",
              "      <th>34053</th>\n",
              "      <td>34053</td>\n",
              "      <td>34059</td>\n",
              "      <td>U.S.-backed militias seize key oil field in ea...</td>\n",
              "      <td>BEIRUT (Reuters) - U.S.-backed militias said t...</td>\n",
              "      <td>worldnews</td>\n",
              "      <td>2017-10-22</td>\n",
              "      <td>True</td>\n",
              "      <td>6</td>\n",
              "      <td>['BEIRUT', '(Reuters)', 'U', 'S', 'backed', 'm...</td>\n",
              "      <td>[]</td>\n",
              "      <td>BEIRUT   - u.s.-backed militias said they capt...</td>\n",
              "      <td>[]</td>\n",
              "      <td>[]</td>\n",
              "      <td>u.s.-backed militias seize key oil field in ea...</td>\n",
              "      <td>['BEIRUT', 'u.s.-backed', 'militias', 'said', ...</td>\n",
              "      <td>['u.s.-backed', 'militias', 'seize', 'key', 'o...</td>\n",
              "    </tr>\n",
              "    <tr>\n",
              "      <th>31633</th>\n",
              "      <td>31633</td>\n",
              "      <td>31639</td>\n",
              "      <td>Zimbabwe opposition wants inclusive political ...</td>\n",
              "      <td>HARARE (Reuters) - Zimbabwe s main opposition ...</td>\n",
              "      <td>worldnews</td>\n",
              "      <td>2017-11-20</td>\n",
              "      <td>true</td>\n",
              "      <td>1</td>\n",
              "      <td>['HARARE', '(Reuters)', 'Zimbabwe', 's', 'main...</td>\n",
              "      <td>[]</td>\n",
              "      <td>HARARE   - zimbabwe s main opposition leader s...</td>\n",
              "      <td>[]</td>\n",
              "      <td>[]</td>\n",
              "      <td>zimbabwe opposition wants inclusive political ...</td>\n",
              "      <td>['HARARE', 'zimbabwe', 'main', 'opposition', '...</td>\n",
              "      <td>['zimbabwe', 'opposition', 'wants', 'inclusive...</td>\n",
              "    </tr>\n",
              "  </tbody>\n",
              "</table>\n",
              "</div>"
            ],
            "text/plain": [
              "       Unnamed: 0  ...                                 clean_title_tokens\n",
              "32139       32139  ...  ['iran', \"'hopes\", 'hariri', 'will', 'remain',...\n",
              "26340       26340  ...  ['justice', 'dept', 'reviewing', 'supreme', 'c...\n",
              "20380       20380  ...  ['senate', 'revises', 'russia', 'sanctions', '...\n",
              "34053       34053  ...  ['u.s.-backed', 'militias', 'seize', 'key', 'o...\n",
              "31633       31633  ...  ['zimbabwe', 'opposition', 'wants', 'inclusive...\n",
              "\n",
              "[5 rows x 16 columns]"
            ]
          },
          "metadata": {},
          "execution_count": 309
        }
      ]
    },
    {
      "cell_type": "code",
      "metadata": {
        "id": "G5EiUzm7i0aM",
        "colab": {
          "base_uri": "https://localhost:8080/",
          "height": 556
        },
        "outputId": "15fc4b19-f7a7-4bc0-e03e-7749e0f39cc5"
      },
      "source": [
        "#drop the duplicated and unwanted columns\n",
        "df = df.drop(['Unnamed: 0'], axis = 1)\n",
        "df = df.drop(['Unnamed: 0.1'], axis = 1)\n",
        "df.sample(5)"
      ],
      "execution_count": 310,
      "outputs": [
        {
          "output_type": "execute_result",
          "data": {
            "text/html": [
              "<div>\n",
              "<style scoped>\n",
              "    .dataframe tbody tr th:only-of-type {\n",
              "        vertical-align: middle;\n",
              "    }\n",
              "\n",
              "    .dataframe tbody tr th {\n",
              "        vertical-align: top;\n",
              "    }\n",
              "\n",
              "    .dataframe thead th {\n",
              "        text-align: right;\n",
              "    }\n",
              "</style>\n",
              "<table border=\"1\" class=\"dataframe\">\n",
              "  <thead>\n",
              "    <tr style=\"text-align: right;\">\n",
              "      <th></th>\n",
              "      <th>title</th>\n",
              "      <th>text</th>\n",
              "      <th>subject</th>\n",
              "      <th>date</th>\n",
              "      <th>label</th>\n",
              "      <th>caps_in_title</th>\n",
              "      <th>text_tokens</th>\n",
              "      <th>text_urls</th>\n",
              "      <th>clean_text</th>\n",
              "      <th>title_urls</th>\n",
              "      <th>twitter_handles</th>\n",
              "      <th>clean_title</th>\n",
              "      <th>clean_text_tokens</th>\n",
              "      <th>clean_title_tokens</th>\n",
              "    </tr>\n",
              "  </thead>\n",
              "  <tbody>\n",
              "    <tr>\n",
              "      <th>19403</th>\n",
              "      <td>Mueller, New York attorney general cooperating...</td>\n",
              "      <td>WASHINGTON (Reuters) - Special counsel Robert ...</td>\n",
              "      <td>politicsNews</td>\n",
              "      <td>2017-08-31</td>\n",
              "      <td>true</td>\n",
              "      <td>5</td>\n",
              "      <td>['WASHINGTON', '(Reuters)', 'Special', 'counse...</td>\n",
              "      <td>[]</td>\n",
              "      <td>WASHINGTON   - special counsel robert mueller’...</td>\n",
              "      <td>[]</td>\n",
              "      <td>[]</td>\n",
              "      <td>mueller, new york attorney general cooperating...</td>\n",
              "      <td>['WASHINGTON', 'special', 'counsel', 'robert',...</td>\n",
              "      <td>['mueller', 'new', 'york', 'attorney', 'genera...</td>\n",
              "    </tr>\n",
              "    <tr>\n",
              "      <th>22861</th>\n",
              "      <td>Many U.S. Democrats skeptical on chances to re...</td>\n",
              "      <td>WASHINGTON (Reuters) - Benjamin Netanyahu’s fi...</td>\n",
              "      <td>politicsNews</td>\n",
              "      <td>2017-02-14</td>\n",
              "      <td>true</td>\n",
              "      <td>5</td>\n",
              "      <td>['WASHINGTON', '(Reuters)', 'Benjamin', 'Netan...</td>\n",
              "      <td>[]</td>\n",
              "      <td>WASHINGTON   - benjamin netanyahu’s first trum...</td>\n",
              "      <td>[]</td>\n",
              "      <td>[]</td>\n",
              "      <td>many U.S. democrats skeptical on chances to re...</td>\n",
              "      <td>['WASHINGTON', 'benjamin', 'netanyahu', 'first...</td>\n",
              "      <td>['many', 'U.S.', 'democrats', 'skeptical', 'on...</td>\n",
              "    </tr>\n",
              "    <tr>\n",
              "      <th>35821</th>\n",
              "      <td>Over 460 people injured in Catalonia during re...</td>\n",
              "      <td>MADRID (Reuters) - More than 460 people have b...</td>\n",
              "      <td>worldnews</td>\n",
              "      <td>2017-10-01</td>\n",
              "      <td>True</td>\n",
              "      <td>3</td>\n",
              "      <td>['MADRID', '(Reuters)', 'More', 'than', '460',...</td>\n",
              "      <td>[]</td>\n",
              "      <td>MADRID   - more than   people have been injure...</td>\n",
              "      <td>[]</td>\n",
              "      <td>[]</td>\n",
              "      <td>over   people injured in catalonia during refe...</td>\n",
              "      <td>['MADRID', 'more', 'than', 'people', 'have', '...</td>\n",
              "      <td>['over', 'people', 'injured', 'in', 'catalonia...</td>\n",
              "    </tr>\n",
              "    <tr>\n",
              "      <th>1045</th>\n",
              "      <td>Trump Suffers HUMILIATING Reality Check After...</td>\n",
              "      <td>Donald Trump stroked his own ego again and got...</td>\n",
              "      <td>News</td>\n",
              "      <td>2017-06-23</td>\n",
              "      <td>fake</td>\n",
              "      <td>25</td>\n",
              "      <td>['Donald', 'Trump', 'stroked', 'his', 'own', '...</td>\n",
              "      <td>['https://t.co/OjgRh2V7Id']</td>\n",
              "      <td>donald trump stroked his own ego again and got...</td>\n",
              "      <td>[]</td>\n",
              "      <td>['@realDonaldTrump', '@jules_su', '@anirvangho...</td>\n",
              "      <td>trump suffers HUMILIATING reality check after ...</td>\n",
              "      <td>['donald', 'trump', 'stroked', 'his', 'own', '...</td>\n",
              "      <td>['trump', 'suffers', 'HUMILIATING', 'reality',...</td>\n",
              "    </tr>\n",
              "    <tr>\n",
              "      <th>1671</th>\n",
              "      <td>WATCH: Joe Scarborough Gets MOCKED For Compar...</td>\n",
              "      <td>Joe Scarborough is not having the best morning...</td>\n",
              "      <td>News</td>\n",
              "      <td>2017-04-26</td>\n",
              "      <td>fake</td>\n",
              "      <td>30</td>\n",
              "      <td>['Joe', 'Scarborough', 'is', 'not', 'having', ...</td>\n",
              "      <td>[]</td>\n",
              "      <td>joe scarborough is not having the best morning...</td>\n",
              "      <td>[]</td>\n",
              "      <td>[]</td>\n",
              "      <td>WATCH: joe scarborough gets MOCKED for compari...</td>\n",
              "      <td>['joe', 'scarborough', 'is', 'not', 'having', ...</td>\n",
              "      <td>['WATCH', 'joe', 'scarborough', 'gets', 'MOCKE...</td>\n",
              "    </tr>\n",
              "  </tbody>\n",
              "</table>\n",
              "</div>"
            ],
            "text/plain": [
              "                                                   title  ...                                 clean_title_tokens\n",
              "19403  Mueller, New York attorney general cooperating...  ...  ['mueller', 'new', 'york', 'attorney', 'genera...\n",
              "22861  Many U.S. Democrats skeptical on chances to re...  ...  ['many', 'U.S.', 'democrats', 'skeptical', 'on...\n",
              "35821  Over 460 people injured in Catalonia during re...  ...  ['over', 'people', 'injured', 'in', 'catalonia...\n",
              "1045    Trump Suffers HUMILIATING Reality Check After...  ...  ['trump', 'suffers', 'HUMILIATING', 'reality',...\n",
              "1671    WATCH: Joe Scarborough Gets MOCKED For Compar...  ...  ['WATCH', 'joe', 'scarborough', 'gets', 'MOCKE...\n",
              "\n",
              "[5 rows x 14 columns]"
            ]
          },
          "metadata": {},
          "execution_count": 310
        }
      ]
    },
    {
      "cell_type": "code",
      "metadata": {
        "colab": {
          "base_uri": "https://localhost:8080/",
          "height": 80
        },
        "id": "Z4nfhfMsSeYW",
        "outputId": "b12f72be-216c-4876-96fe-049c160e7a50"
      },
      "source": [
        "#show some basic description \n",
        "df.describe().T"
      ],
      "execution_count": 311,
      "outputs": [
        {
          "output_type": "execute_result",
          "data": {
            "text/html": [
              "<div>\n",
              "<style scoped>\n",
              "    .dataframe tbody tr th:only-of-type {\n",
              "        vertical-align: middle;\n",
              "    }\n",
              "\n",
              "    .dataframe tbody tr th {\n",
              "        vertical-align: top;\n",
              "    }\n",
              "\n",
              "    .dataframe thead th {\n",
              "        text-align: right;\n",
              "    }\n",
              "</style>\n",
              "<table border=\"1\" class=\"dataframe\">\n",
              "  <thead>\n",
              "    <tr style=\"text-align: right;\">\n",
              "      <th></th>\n",
              "      <th>count</th>\n",
              "      <th>mean</th>\n",
              "      <th>std</th>\n",
              "      <th>min</th>\n",
              "      <th>25%</th>\n",
              "      <th>50%</th>\n",
              "      <th>75%</th>\n",
              "      <th>max</th>\n",
              "    </tr>\n",
              "  </thead>\n",
              "  <tbody>\n",
              "    <tr>\n",
              "      <th>caps_in_title</th>\n",
              "      <td>38638.0</td>\n",
              "      <td>13.545059</td>\n",
              "      <td>14.541594</td>\n",
              "      <td>1.0</td>\n",
              "      <td>3.0</td>\n",
              "      <td>6.0</td>\n",
              "      <td>20.0</td>\n",
              "      <td>137.0</td>\n",
              "    </tr>\n",
              "  </tbody>\n",
              "</table>\n",
              "</div>"
            ],
            "text/plain": [
              "                 count       mean        std  min  25%  50%   75%    max\n",
              "caps_in_title  38638.0  13.545059  14.541594  1.0  3.0  6.0  20.0  137.0"
            ]
          },
          "metadata": {},
          "execution_count": 311
        }
      ]
    },
    {
      "cell_type": "code",
      "metadata": {
        "scrolled": false,
        "colab": {
          "base_uri": "https://localhost:8080/"
        },
        "id": "LFXb6ktXSeYX",
        "outputId": "78e7fb84-92e1-4b25-f888-b17da5fd9925"
      },
      "source": [
        "#and other extra info for this dataframe\n",
        "df.info()"
      ],
      "execution_count": 312,
      "outputs": [
        {
          "output_type": "stream",
          "text": [
            "<class 'pandas.core.frame.DataFrame'>\n",
            "RangeIndex: 38638 entries, 0 to 38637\n",
            "Data columns (total 14 columns):\n",
            " #   Column              Non-Null Count  Dtype \n",
            "---  ------              --------------  ----- \n",
            " 0   title               38638 non-null  object\n",
            " 1   text                38638 non-null  object\n",
            " 2   subject             38638 non-null  object\n",
            " 3   date                38638 non-null  object\n",
            " 4   label               38638 non-null  object\n",
            " 5   caps_in_title       38638 non-null  int64 \n",
            " 6   text_tokens         38638 non-null  object\n",
            " 7   text_urls           38638 non-null  object\n",
            " 8   clean_text          38638 non-null  object\n",
            " 9   title_urls          38638 non-null  object\n",
            " 10  twitter_handles     38638 non-null  object\n",
            " 11  clean_title         38638 non-null  object\n",
            " 12  clean_text_tokens   38638 non-null  object\n",
            " 13  clean_title_tokens  38638 non-null  object\n",
            "dtypes: int64(1), object(13)\n",
            "memory usage: 4.1+ MB\n"
          ],
          "name": "stdout"
        }
      ]
    },
    {
      "cell_type": "markdown",
      "metadata": {
        "code_folding": [],
        "id": "nosTbVWXSeYk"
      },
      "source": [
        "### Splitting Dataset Procedure\n",
        "\n",
        "---\n",
        "We split the data in 3 smaller datasets:\n",
        "* Training, validation and test datasets\n",
        "\n"
      ]
    },
    {
      "cell_type": "code",
      "metadata": {
        "colab": {
          "base_uri": "https://localhost:8080/"
        },
        "id": "s5GxqCOErDht",
        "outputId": "38830099-c45e-4dcf-9b96-aade61ae53a7"
      },
      "source": [
        "#the column 'clean_text' is the one we want to split\n",
        "X = df['clean_text'].reset_index(drop=True)\n",
        "\n",
        "X.sample(10)"
      ],
      "execution_count": 313,
      "outputs": [
        {
          "output_type": "execute_result",
          "data": {
            "text/plain": [
              "23198    WASHINGTON   - U.S. senator chris coons, a dem...\n",
              "22252    CANBERRA/PERTH   - U.S. officials began taking...\n",
              "31037    HARARE   - inside state house in harare, rober...\n",
              "29287    JERUSALEM   - the israeli military said it att...\n",
              "25689    WASHINGTON   - journalists from NBC, ABC, CNN ...\n",
              "35663    QUEBRADILLAS, puerto rico   - when nestor rodr...\n",
              "3527     tina fey put the jokes aside and took serious ...\n",
              "8487     sorry, david daleidin and sandra merritt, even...\n",
              "8366     a man ranting about nazi germany had a strange...\n",
              "38055      - jetblue airways corp is offering $  direct...\n",
              "Name: clean_text, dtype: object"
            ]
          },
          "metadata": {},
          "execution_count": 313
        }
      ]
    },
    {
      "cell_type": "code",
      "metadata": {
        "colab": {
          "base_uri": "https://localhost:8080/",
          "height": 363
        },
        "id": "0NkwkS6hrDt4",
        "outputId": "827e0f82-e964-49ec-e682-f675abf43544"
      },
      "source": [
        "y = df['label'].to_frame()\n",
        "\n",
        "y.sample(10)"
      ],
      "execution_count": 314,
      "outputs": [
        {
          "output_type": "execute_result",
          "data": {
            "text/html": [
              "<div>\n",
              "<style scoped>\n",
              "    .dataframe tbody tr th:only-of-type {\n",
              "        vertical-align: middle;\n",
              "    }\n",
              "\n",
              "    .dataframe tbody tr th {\n",
              "        vertical-align: top;\n",
              "    }\n",
              "\n",
              "    .dataframe thead th {\n",
              "        text-align: right;\n",
              "    }\n",
              "</style>\n",
              "<table border=\"1\" class=\"dataframe\">\n",
              "  <thead>\n",
              "    <tr style=\"text-align: right;\">\n",
              "      <th></th>\n",
              "      <th>label</th>\n",
              "    </tr>\n",
              "  </thead>\n",
              "  <tbody>\n",
              "    <tr>\n",
              "      <th>12580</th>\n",
              "      <td>fake</td>\n",
              "    </tr>\n",
              "    <tr>\n",
              "      <th>33262</th>\n",
              "      <td>True</td>\n",
              "    </tr>\n",
              "    <tr>\n",
              "      <th>10101</th>\n",
              "      <td>fake</td>\n",
              "    </tr>\n",
              "    <tr>\n",
              "      <th>17806</th>\n",
              "      <td>true</td>\n",
              "    </tr>\n",
              "    <tr>\n",
              "      <th>474</th>\n",
              "      <td>fake</td>\n",
              "    </tr>\n",
              "    <tr>\n",
              "      <th>22016</th>\n",
              "      <td>true</td>\n",
              "    </tr>\n",
              "    <tr>\n",
              "      <th>14336</th>\n",
              "      <td>fake</td>\n",
              "    </tr>\n",
              "    <tr>\n",
              "      <th>10289</th>\n",
              "      <td>fake</td>\n",
              "    </tr>\n",
              "    <tr>\n",
              "      <th>5680</th>\n",
              "      <td>fake</td>\n",
              "    </tr>\n",
              "    <tr>\n",
              "      <th>6113</th>\n",
              "      <td>fake</td>\n",
              "    </tr>\n",
              "  </tbody>\n",
              "</table>\n",
              "</div>"
            ],
            "text/plain": [
              "      label\n",
              "12580  fake\n",
              "33262  True\n",
              "10101  fake\n",
              "17806  true\n",
              "474    fake\n",
              "22016  true\n",
              "14336  fake\n",
              "10289  fake\n",
              "5680   fake\n",
              "6113   fake"
            ]
          },
          "metadata": {},
          "execution_count": 314
        }
      ]
    },
    {
      "cell_type": "code",
      "metadata": {
        "colab": {
          "base_uri": "https://localhost:8080/"
        },
        "id": "k29L09uSu-bN",
        "outputId": "7f4b275b-48f0-4672-9608-a242d8e7aae6"
      },
      "source": [
        "y[y['label'] == True] = 'true'\n",
        "y = y.squeeze() #convert the data-frame to array\n",
        "y"
      ],
      "execution_count": 315,
      "outputs": [
        {
          "output_type": "execute_result",
          "data": {
            "text/plain": [
              "0        fake\n",
              "1        fake\n",
              "2        fake\n",
              "3        fake\n",
              "4        fake\n",
              "         ... \n",
              "38633    true\n",
              "38634    true\n",
              "38635    true\n",
              "38636    true\n",
              "38637    true\n",
              "Name: label, Length: 38638, dtype: object"
            ]
          },
          "metadata": {},
          "execution_count": 315
        }
      ]
    },
    {
      "cell_type": "markdown",
      "metadata": {
        "id": "5IB3Sq7YSeYn"
      },
      "source": [
        "---\n",
        "At first, we will split the main dataset into two parts:\n",
        "* Train-Validation dataset and\n",
        "* Test dataset (20% of the whole dataset)\n",
        "\n",
        "After that, we will split the Train-Validation dataset into another two:\n",
        "* Train dataset and\n",
        "* Validation dataset (15% of the train-validation dataset)\n",
        "\n",
        "This splitting has been done in stratified manner, meaning that the dataset has been split uniformly based on the percentage of 'fake' - 'true' news."
      ]
    },
    {
      "cell_type": "code",
      "metadata": {
        "id": "kjIeLtM5SeYk"
      },
      "source": [
        "from sklearn.preprocessing import OneHotEncoder\n",
        "\n",
        "from sklearn.model_selection import StratifiedShuffleSplit"
      ],
      "execution_count": 316,
      "outputs": []
    },
    {
      "cell_type": "code",
      "metadata": {
        "colab": {
          "base_uri": "https://localhost:8080/"
        },
        "id": "1gjVGqKjSeYp",
        "outputId": "cbc239e9-4b70-4627-9764-eee0ff36d91f"
      },
      "source": [
        "#sss: stratified shuffle split\n",
        "test_sss = StratifiedShuffleSplit(n_splits=5, test_size=0.15, random_state=0)\n",
        "test_sss"
      ],
      "execution_count": 317,
      "outputs": [
        {
          "output_type": "execute_result",
          "data": {
            "text/plain": [
              "StratifiedShuffleSplit(n_splits=5, random_state=0, test_size=0.15,\n",
              "            train_size=None)"
            ]
          },
          "metadata": {},
          "execution_count": 317
        }
      ]
    },
    {
      "cell_type": "code",
      "metadata": {
        "colab": {
          "base_uri": "https://localhost:8080/"
        },
        "id": "V0r3Qw4qSeYq",
        "outputId": "aa51454d-dc21-4c54-be35-02323d2cbce9"
      },
      "source": [
        "val_sss = StratifiedShuffleSplit(n_splits=5, test_size=0.2, random_state=0)\n",
        "val_sss"
      ],
      "execution_count": 318,
      "outputs": [
        {
          "output_type": "execute_result",
          "data": {
            "text/plain": [
              "StratifiedShuffleSplit(n_splits=5, random_state=0, test_size=0.2,\n",
              "            train_size=None)"
            ]
          },
          "metadata": {},
          "execution_count": 318
        }
      ]
    },
    {
      "cell_type": "code",
      "metadata": {
        "scrolled": true,
        "colab": {
          "base_uri": "https://localhost:8080/"
        },
        "id": "oyYFp_2RSeYr",
        "outputId": "afa6ef66-4f13-4bc4-f818-627c69fb75c1"
      },
      "source": [
        "#split in train-validation dataset and test dataset\n",
        "X_train_val, X_test, y_train_val, y_test = None, None, None, None\n",
        "\n",
        "#get the indexes for each dataset\n",
        "for train_index, test_index in test_sss.split(X, y):\n",
        "    \n",
        "    print(\"TRAIN-VAL:\", train_index[:10], \"TEST:\", test_index[:10])\n",
        "    \n",
        "    X_train_val, X_test = X[train_index], X[test_index]\n",
        "    y_train_val, y_test = y[train_index], y[test_index]"
      ],
      "execution_count": 319,
      "outputs": [
        {
          "output_type": "stream",
          "text": [
            "TRAIN-VAL: [ 1473 20236  7194  1230   616 12707 28037  4521 22830 29675] TEST: [19888  4253   662 36631 28200 29359  4560  5729 19468 11209]\n",
            "TRAIN-VAL: [ 9024 26688 34918 18091 29506  8416   653  3435 16402 34528] TEST: [34604  9150  6520   314  4665  6165  6877 13644 17807 33967]\n",
            "TRAIN-VAL: [34104 21838 10327 37277 23630  9920 22776 26922 22315 32809] TEST: [25977 34988 25811 36094  7844 24844 37242 15920 19439 18091]\n",
            "TRAIN-VAL: [17460 25343 37380  2580 24307 12609 21504 23244 36770 35115] TEST: [13156 21501 37170 13348  7988 37994   726  5448 32161 36186]\n",
            "TRAIN-VAL: [29590 30461 17874 26870 29052 34387 32935  5171 25197 21626] TEST: [26046   568 36477 16728 19908  3977 21815 17381 34919 19756]\n"
          ],
          "name": "stdout"
        }
      ]
    },
    {
      "cell_type": "code",
      "metadata": {
        "colab": {
          "base_uri": "https://localhost:8080/"
        },
        "id": "8vIrFU76SeYr",
        "outputId": "6a78813d-7d08-4d6a-bb12-1abd864950b9"
      },
      "source": [
        "X_train_val.head() #show the first 5 indexes"
      ],
      "execution_count": 320,
      "outputs": [
        {
          "output_type": "execute_result",
          "data": {
            "text/plain": [
              "29590    MOSCOW   - president vladimir putin warned on ...\n",
              "30461    NAIROBI   - a prominent strategist for kenya s...\n",
              "17874    WASHINGTON   - the senate banking committee wi...\n",
              "26870    WASHINGTON   - a small group of bipartisan sen...\n",
              "29052    BRUSSELS   - the european union wants a transi...\n",
              "Name: clean_text, dtype: object"
            ]
          },
          "metadata": {},
          "execution_count": 320
        }
      ]
    },
    {
      "cell_type": "code",
      "metadata": {
        "id": "pDdBPjGpSeYv"
      },
      "source": [
        "#reset the indexes\n",
        "X_train_val = X_train_val.reset_index(drop=True)\n",
        "y_train_val = y_train_val.reset_index(drop=True)"
      ],
      "execution_count": 321,
      "outputs": []
    },
    {
      "cell_type": "code",
      "metadata": {
        "colab": {
          "base_uri": "https://localhost:8080/"
        },
        "id": "SCNxq3WzSeYw",
        "outputId": "5ab2c82a-0349-4d61-dabc-544207b7c101"
      },
      "source": [
        "#split the train-validation dataset into train and validation dataset\n",
        "X_train, X_val, y_train, y_val = None, None, None, None\n",
        "\n",
        "for train_index, val_index in val_sss.split(X_train_val, y_train_val):\n",
        "    \n",
        "    print(\"TRAIN:\", train_index[:10], \"VALID:\", test_index[:10])\n",
        "    \n",
        "    X_train, X_val = X_train_val[train_index], X_train_val[val_index]\n",
        "    y_train, y_val = y_train_val[train_index], y_train_val[val_index]"
      ],
      "execution_count": 322,
      "outputs": [
        {
          "output_type": "stream",
          "text": [
            "TRAIN: [21059 18090 10746  9059 14280  8867 21261  4574 30003 22296] VALID: [26046   568 36477 16728 19908  3977 21815 17381 34919 19756]\n",
            "TRAIN: [20536 32342 10603 11014  8117  9314 20198 30989 32332 25280] VALID: [26046   568 36477 16728 19908  3977 21815 17381 34919 19756]\n",
            "TRAIN: [17278  3304 17991 16413 17844  4611 25288 23908 21290  3519] VALID: [26046   568 36477 16728 19908  3977 21815 17381 34919 19756]\n",
            "TRAIN: [31686  5123 12174  2936  4837  2756 12709 24970 28610 13783] VALID: [26046   568 36477 16728 19908  3977 21815 17381 34919 19756]\n",
            "TRAIN: [30354 26074 17840 16060 27602  4549  4944  8783 25021  4942] VALID: [26046   568 36477 16728 19908  3977 21815 17381 34919 19756]\n"
          ],
          "name": "stdout"
        }
      ]
    },
    {
      "cell_type": "code",
      "metadata": {
        "colab": {
          "base_uri": "https://localhost:8080/"
        },
        "id": "JhjJ_ZaYSeYz",
        "outputId": "d784a5b6-6be1-4039-a93c-e49843606bbd"
      },
      "source": [
        "#see the final results\n",
        "print('X_train_val shape: {}'.format(X_train_val.shape))\n",
        "print('y_train_val shape: {}'.format(y_train_val.shape))\n",
        "print()\n",
        "\n",
        "print('X_train shape: {}'.format(X_train.shape))\n",
        "print('y_train shape: {}'.format(y_train.shape))\n",
        "print()\n",
        "\n",
        "print('X_val shape: {}'.format(X_val.shape))\n",
        "print('y_val shape: {}'.format(y_val.shape))\n",
        "\n",
        "print()\n",
        "print('X_test shape: {}'.format(X_test.shape))\n",
        "print('y_test shape: {}'.format(y_test.shape))"
      ],
      "execution_count": 323,
      "outputs": [
        {
          "output_type": "stream",
          "text": [
            "X_train_val shape: (32842,)\n",
            "y_train_val shape: (32842,)\n",
            "\n",
            "X_train shape: (26273,)\n",
            "y_train shape: (26273,)\n",
            "\n",
            "X_val shape: (6569,)\n",
            "y_val shape: (6569,)\n",
            "\n",
            "X_test shape: (5796,)\n",
            "y_test shape: (5796,)\n"
          ],
          "name": "stdout"
        }
      ]
    },
    {
      "cell_type": "markdown",
      "metadata": {
        "id": "DanQR4p5SeY1"
      },
      "source": [
        "### One - Hot Encoding "
      ]
    },
    {
      "cell_type": "code",
      "metadata": {
        "id": "5-XKEZx1SeY1"
      },
      "source": [
        "#encoding the labels using a One-Hot Encoder\n",
        "y_enc = OneHotEncoder(sparse=False)"
      ],
      "execution_count": 324,
      "outputs": []
    },
    {
      "cell_type": "code",
      "metadata": {
        "id": "UWFb7uvbSeY4",
        "colab": {
          "base_uri": "https://localhost:8080/"
        },
        "outputId": "1b6b3be2-7712-41f5-c9ec-44a16a8ae3f0"
      },
      "source": [
        "#reshape the dataset in order to have two columns\n",
        "y_train_enc = y_enc.fit_transform(y_train.values.reshape(-1, 1))\n",
        "y_train_enc"
      ],
      "execution_count": 325,
      "outputs": [
        {
          "output_type": "execute_result",
          "data": {
            "text/plain": [
              "array([[1., 0.],\n",
              "       [0., 1.],\n",
              "       [1., 0.],\n",
              "       ...,\n",
              "       [0., 1.],\n",
              "       [1., 0.],\n",
              "       [1., 0.]])"
            ]
          },
          "metadata": {},
          "execution_count": 325
        }
      ]
    },
    {
      "cell_type": "code",
      "metadata": {
        "id": "Tas4Nq_PSeY5"
      },
      "source": [
        "#later we transform the rest of the data\n",
        "y_val_enc = y_enc.transform(y_val.values.reshape(-1, 1))\n",
        "y_test_enc = y_enc.transform(y_test.values.reshape(-1, 1))"
      ],
      "execution_count": 326,
      "outputs": []
    },
    {
      "cell_type": "code",
      "metadata": {
        "id": "epEnTlJbSeY7",
        "colab": {
          "base_uri": "https://localhost:8080/"
        },
        "outputId": "8223c509-d314-431d-f8b8-01df1ae3c222"
      },
      "source": [
        "#print their format\n",
        "print('y_train shape: {}'.format(y_train_enc.shape))\n",
        "print('y_val shape: {}'.format(y_val_enc.shape))\n",
        "print('y_test shape: {}'.format(y_test_enc.shape))"
      ],
      "execution_count": 327,
      "outputs": [
        {
          "output_type": "stream",
          "text": [
            "y_train shape: (26273, 2)\n",
            "y_val shape: (6569, 2)\n",
            "y_test shape: (5796, 2)\n"
          ],
          "name": "stdout"
        }
      ]
    },
    {
      "cell_type": "code",
      "metadata": {
        "id": "2xuHpHAbSeY7",
        "colab": {
          "base_uri": "https://localhost:8080/"
        },
        "outputId": "854f6b51-1fa1-4e62-cdaa-5eaa427f85c3"
      },
      "source": [
        "#the final categories from the encoder\n",
        "y_enc.categories_"
      ],
      "execution_count": 328,
      "outputs": [
        {
          "output_type": "execute_result",
          "data": {
            "text/plain": [
              "[array(['fake', 'true'], dtype=object)]"
            ]
          },
          "metadata": {},
          "execution_count": 328
        }
      ]
    },
    {
      "cell_type": "markdown",
      "metadata": {
        "id": "Loii2P9mSeZD"
      },
      "source": [
        "## Handling Text\n"
      ]
    },
    {
      "cell_type": "code",
      "metadata": {
        "colab": {
          "base_uri": "https://localhost:8080/"
        },
        "id": "npHrlTZ4P5TN",
        "outputId": "08490409-4b21-4360-d9d8-68c8ae1db2cb"
      },
      "source": [
        "#import the appropriate libraries\n",
        "from sklearn.feature_extraction.text import CountVectorizer, TfidfVectorizer\n",
        "import nltk\n",
        "from nltk.corpus import stopwords\n",
        "nltk.download('stopwords')"
      ],
      "execution_count": 329,
      "outputs": [
        {
          "output_type": "stream",
          "text": [
            "[nltk_data] Downloading package stopwords to /root/nltk_data...\n",
            "[nltk_data]   Package stopwords is already up-to-date!\n"
          ],
          "name": "stdout"
        },
        {
          "output_type": "execute_result",
          "data": {
            "text/plain": [
              "True"
            ]
          },
          "metadata": {},
          "execution_count": 329
        }
      ]
    },
    {
      "cell_type": "code",
      "metadata": {
        "id": "wBoqY5duRzYY"
      },
      "source": [
        "#getting the stopwords in English language\n",
        "stop = stopwords.words('english')"
      ],
      "execution_count": 330,
      "outputs": []
    },
    {
      "cell_type": "markdown",
      "metadata": {
        "id": "B2izbQbvSeZK"
      },
      "source": [
        "#### Now, we will split the text into tokens, in order to count them and get the most frequent. In the most cases, these tokens are stopwords."
      ]
    },
    {
      "cell_type": "code",
      "metadata": {
        "id": "Af25f0LVSeZL"
      },
      "source": [
        "#total words we will use for vectorization \n",
        "max_words = 10000"
      ],
      "execution_count": 331,
      "outputs": []
    },
    {
      "cell_type": "code",
      "metadata": {
        "id": "TzLgY-3JSeZM",
        "colab": {
          "base_uri": "https://localhost:8080/"
        },
        "outputId": "f94afd21-dfa9-462b-a80d-bbd4ec31d531"
      },
      "source": [
        "#this vectorizer is created in order to show us how many times each word appear\n",
        "counter_vectorizer = CountVectorizer(\n",
        "    encoding='utf-8',\n",
        "    strip_accents='unicode',\n",
        "    lowercase=True,\n",
        "    stop_words= stop,\n",
        "    ngram_range=(1, 1), # unigrams\n",
        "    max_features=max_words,\n",
        "    binary=False) # binary output or full counts\n",
        "\n",
        "counter_vectorizer"
      ],
      "execution_count": 332,
      "outputs": [
        {
          "output_type": "execute_result",
          "data": {
            "text/plain": [
              "CountVectorizer(analyzer='word', binary=False, decode_error='strict',\n",
              "                dtype=<class 'numpy.int64'>, encoding='utf-8', input='content',\n",
              "                lowercase=True, max_df=1.0, max_features=10000, min_df=1,\n",
              "                ngram_range=(1, 1), preprocessor=None,\n",
              "                stop_words=['i', 'me', 'my', 'myself', 'we', 'our', 'ours',\n",
              "                            'ourselves', 'you', \"you're\", \"you've\", \"you'll\",\n",
              "                            \"you'd\", 'your', 'yours', 'yourself', 'yourselves',\n",
              "                            'he', 'him', 'his', 'himself', 'she', \"she's\",\n",
              "                            'her', 'hers', 'herself', 'it', \"it's\", 'its',\n",
              "                            'itself', ...],\n",
              "                strip_accents='unicode', token_pattern='(?u)\\\\b\\\\w\\\\w+\\\\b',\n",
              "                tokenizer=None, vocabulary=None)"
            ]
          },
          "metadata": {},
          "execution_count": 332
        }
      ]
    },
    {
      "cell_type": "code",
      "metadata": {
        "id": "T1Z5PRrXSeZM",
        "colab": {
          "base_uri": "https://localhost:8080/"
        },
        "outputId": "31375850-2af6-4a8f-c47d-4b23cfe207a3"
      },
      "source": [
        "#this vectorizer is created in order to return 0 or 1, based on the appearence of each word\n",
        "binary_vectorizer = CountVectorizer(\n",
        "    encoding='utf-8',\n",
        "    strip_accents='unicode',\n",
        "    lowercase=True,\n",
        "    stop_words= stop,\n",
        "    ngram_range=(1, 1), \n",
        "    max_features=max_words,\n",
        "    binary=True)\n",
        "\n",
        "binary_vectorizer"
      ],
      "execution_count": 333,
      "outputs": [
        {
          "output_type": "execute_result",
          "data": {
            "text/plain": [
              "CountVectorizer(analyzer='word', binary=True, decode_error='strict',\n",
              "                dtype=<class 'numpy.int64'>, encoding='utf-8', input='content',\n",
              "                lowercase=True, max_df=1.0, max_features=10000, min_df=1,\n",
              "                ngram_range=(1, 1), preprocessor=None,\n",
              "                stop_words=['i', 'me', 'my', 'myself', 'we', 'our', 'ours',\n",
              "                            'ourselves', 'you', \"you're\", \"you've\", \"you'll\",\n",
              "                            \"you'd\", 'your', 'yours', 'yourself', 'yourselves',\n",
              "                            'he', 'him', 'his', 'himself', 'she', \"she's\",\n",
              "                            'her', 'hers', 'herself', 'it', \"it's\", 'its',\n",
              "                            'itself', ...],\n",
              "                strip_accents='unicode', token_pattern='(?u)\\\\b\\\\w\\\\w+\\\\b',\n",
              "                tokenizer=None, vocabulary=None)"
            ]
          },
          "metadata": {},
          "execution_count": 333
        }
      ]
    },
    {
      "cell_type": "markdown",
      "metadata": {
        "id": "Tz9kvTNHSeZN"
      },
      "source": [
        "* We will now fit the CountVectorizer in the datasets."
      ]
    },
    {
      "cell_type": "code",
      "metadata": {
        "id": "h7xewvYoSeZN",
        "colab": {
          "base_uri": "https://localhost:8080/"
        },
        "outputId": "468dd7d7-d2c1-4bbc-a084-6c09917430ee"
      },
      "source": [
        "X_train_enc = counter_vectorizer.fit_transform(X_train)\n",
        "X_train_enc"
      ],
      "execution_count": 334,
      "outputs": [
        {
          "output_type": "execute_result",
          "data": {
            "text/plain": [
              "<26273x10000 sparse matrix of type '<class 'numpy.int64'>'\n",
              "\twith 3826287 stored elements in Compressed Sparse Row format>"
            ]
          },
          "metadata": {},
          "execution_count": 334
        }
      ]
    },
    {
      "cell_type": "code",
      "metadata": {
        "id": "BlheXh0tSeZO"
      },
      "source": [
        "#with the above CountVectorizer we transform the Validation and Test Sets\n",
        "X_val_enc = counter_vectorizer.transform(X_val)\n",
        "X_test_enc = counter_vectorizer.transform(X_test)"
      ],
      "execution_count": 335,
      "outputs": []
    },
    {
      "cell_type": "code",
      "metadata": {
        "id": "PZEY19yvSeZP",
        "colab": {
          "base_uri": "https://localhost:8080/"
        },
        "outputId": "06c59bc2-4068-41ff-e5d4-c595f91b9f35"
      },
      "source": [
        "print('X_train encoded shape: {}'.format(X_train_enc.shape))\n",
        "print('X_val encoded shape: {}'.format(X_val_enc.shape))\n",
        "print('X_test encoded shape: {}'.format(X_test_enc.shape))"
      ],
      "execution_count": 336,
      "outputs": [
        {
          "output_type": "stream",
          "text": [
            "X_train encoded shape: (26273, 10000)\n",
            "X_val encoded shape: (6569, 10000)\n",
            "X_test encoded shape: (5796, 10000)\n"
          ],
          "name": "stdout"
        }
      ]
    },
    {
      "cell_type": "markdown",
      "metadata": {
        "id": "CGL6XqiQSeZV"
      },
      "source": [
        "### Build and Fit the *Model*"
      ]
    },
    {
      "cell_type": "code",
      "metadata": {
        "id": "arBZKHonSeZW"
      },
      "source": [
        "#imports for the model\n",
        "from tensorflow.keras.models import Sequential\n",
        "from tensorflow.keras.layers import Dense, Dropout, Activation\n",
        "from tensorflow.python.keras.callbacks import ModelCheckpoint, ReduceLROnPlateau, EarlyStopping, TensorBoard\n",
        "from tensorflow.keras import metrics\n",
        "from tensorflow.keras.utils import plot_model\n",
        "import pydot"
      ],
      "execution_count": 337,
      "outputs": []
    },
    {
      "cell_type": "code",
      "metadata": {
        "id": "UoQpe3hPSeZW",
        "colab": {
          "base_uri": "https://localhost:8080/"
        },
        "outputId": "275772de-33bf-475e-a22a-9a54439f9966"
      },
      "source": [
        "#get the number of classes for the y labels ('fake' - 'true' categories)\n",
        "nb_classes = len(y_enc.categories_[0])\n",
        "\n",
        "print('Number of Classes: {} (true - fake)'.format(nb_classes))\n",
        "\n",
        "#set how many Epochs will train our Feed Forward Network\n",
        "nb_epoch = 30\n",
        "\n",
        "#the 'batch_size' is a number that will be fed to the model when training\n",
        "batch_size = 64 \n",
        "\n",
        "#set the dropout rate meaning how many neurons will be shutdown each time\n",
        "dropout_rate = 0.4"
      ],
      "execution_count": 338,
      "outputs": [
        {
          "output_type": "stream",
          "text": [
            "Number of Classes: 2 (true - fake)\n"
          ],
          "name": "stdout"
        }
      ]
    },
    {
      "cell_type": "markdown",
      "metadata": {
        "id": "70dw7TRASeZX"
      },
      "source": [
        "#### Model Setup"
      ]
    },
    {
      "cell_type": "code",
      "metadata": {
        "scrolled": false,
        "id": "Et_OtNBDSeZY",
        "colab": {
          "base_uri": "https://localhost:8080/"
        },
        "outputId": "f35a311b-da98-4eaa-811c-234abb58ad7e"
      },
      "source": [
        "print('Building model...', end='\\n\\n')\n",
        "\n",
        "#initialize an empty sequential structure, meaning that each layer we add, its output will be added as input in the next layer \n",
        "model = Sequential()\n",
        "\n",
        "#add a dense layer (multi layer perception - MLP)\n",
        "model.add(Dense(512, input_shape=(max_words,)))\n",
        "\n",
        "#use a relu activation on MLP's outputs\n",
        "model.add(Activation('relu'))\n",
        "\n",
        "#use a dropout layer with with 40% of inputs dropped\n",
        "model.add(Dropout(dropout_rate))\n",
        "\n",
        "#add a dense layer\n",
        "model.add(Dense(512))\n",
        "\n",
        "model.add(Activation('relu'))\n",
        "\n",
        "model.add(Dropout(dropout_rate))\n",
        "\n",
        "#add a dense layer (MLP) \n",
        "model.add(Dense(nb_classes))\n",
        "\n",
        "#use a sigmoid activation on 2nd MLP's outputs\n",
        "model.add(Activation('sigmoid'))\n",
        "\n",
        "#print model layers' info\n",
        "print(model.summary())"
      ],
      "execution_count": 339,
      "outputs": [
        {
          "output_type": "stream",
          "text": [
            "Building model...\n",
            "\n",
            "Model: \"sequential_4\"\n",
            "_________________________________________________________________\n",
            "Layer (type)                 Output Shape              Param #   \n",
            "=================================================================\n",
            "dense_12 (Dense)             (None, 512)               5120512   \n",
            "_________________________________________________________________\n",
            "activation_12 (Activation)   (None, 512)               0         \n",
            "_________________________________________________________________\n",
            "dropout_8 (Dropout)          (None, 512)               0         \n",
            "_________________________________________________________________\n",
            "dense_13 (Dense)             (None, 512)               262656    \n",
            "_________________________________________________________________\n",
            "activation_13 (Activation)   (None, 512)               0         \n",
            "_________________________________________________________________\n",
            "dropout_9 (Dropout)          (None, 512)               0         \n",
            "_________________________________________________________________\n",
            "dense_14 (Dense)             (None, 2)                 1026      \n",
            "_________________________________________________________________\n",
            "activation_14 (Activation)   (None, 2)                 0         \n",
            "=================================================================\n",
            "Total params: 5,384,194\n",
            "Trainable params: 5,384,194\n",
            "Non-trainable params: 0\n",
            "_________________________________________________________________\n",
            "None\n"
          ],
          "name": "stdout"
        }
      ]
    },
    {
      "cell_type": "code",
      "metadata": {
        "scrolled": true,
        "id": "FmqltC_LSeZY",
        "colab": {
          "base_uri": "https://localhost:8080/",
          "height": 976
        },
        "outputId": "bab408f7-cbac-4922-cf76-598661b86ab5"
      },
      "source": [
        "plot_model(model, to_file='model_plot.png', show_shapes=True, show_layer_names=True)"
      ],
      "execution_count": 340,
      "outputs": [
        {
          "output_type": "execute_result",
          "data": {
            "image/png": "[encoded data removed]",
            "text/plain": [
              "<IPython.core.display.Image object>"
            ]
          },
          "metadata": {},
          "execution_count": 340
        }
      ]
    },
    {
      "cell_type": "markdown",
      "metadata": {
        "id": "b-mCMxexSeZZ"
      },
      "source": [
        "#### Compiling the model"
      ]
    },
    {
      "cell_type": "code",
      "metadata": {
        "id": "GMe0FlLNSeZZ"
      },
      "source": [
        "#we use categorical crossentropy as a loss function in the compiling of the model, because we want to predict whether the news are 'fake' or 'true'\n",
        "#and 'Adam' as an optimizer (is more robust)\n",
        "model.compile(\n",
        "    loss='categorical_crossentropy',\n",
        "    optimizer='adam',\n",
        "    metrics=['accuracy'],)"
      ],
      "execution_count": 341,
      "outputs": []
    },
    {
      "cell_type": "markdown",
      "metadata": {
        "id": "sSc6QsO-SeZa"
      },
      "source": [
        "### Training the Feed Forward Network Model"
      ]
    },
    {
      "cell_type": "code",
      "metadata": {
        "id": "3fjiqZJC8Bgh"
      },
      "source": [
        "monitor = 'val_loss'\n",
        "\n",
        "callbacks = [   \n",
        "    #stop the training when a monitored quantity has stopped improving\n",
        "    EarlyStopping(monitor=monitor, patience=7, verbose=1, restore_best_weights=True),\n",
        "             \n",
        "    #Reduce learning rate is called when a metric has stopped improving\n",
        "    ReduceLROnPlateau(monitor=monitor, factor=0.1, patience=5, verbose=1)]"
      ],
      "execution_count": 342,
      "outputs": []
    },
    {
      "cell_type": "code",
      "metadata": {
        "scrolled": false,
        "id": "qc7no5dpSeZa",
        "colab": {
          "base_uri": "https://localhost:8080/"
        },
        "outputId": "ce93919d-a932-4863-b6f0-154bc28b84ab"
      },
      "source": [
        "#we fit the data to our model\n",
        "history = model.fit(\n",
        "    x=X_train_enc.todense(), #features (as dense inputs)\n",
        "    y=y_train_enc,           #labels\n",
        "    batch_size=batch_size,   \n",
        "    epochs=nb_epoch,         \n",
        "    verbose=2,\n",
        "    callbacks = callbacks,             \n",
        "    validation_data=(       \n",
        "    X_val_enc.todense(),               \n",
        "    y_val_enc))"
      ],
      "execution_count": 343,
      "outputs": [
        {
          "output_type": "stream",
          "text": [
            "Epoch 1/30\n",
            "411/411 - 15s - loss: 0.1075 - accuracy: 0.9702 - val_loss: 0.0574 - val_accuracy: 0.9828\n",
            "Epoch 2/30\n",
            "411/411 - 16s - loss: 0.0240 - accuracy: 0.9936 - val_loss: 0.0635 - val_accuracy: 0.9828\n",
            "Epoch 3/30\n",
            "411/411 - 13s - loss: 0.0165 - accuracy: 0.9956 - val_loss: 0.0640 - val_accuracy: 0.9851\n",
            "Epoch 4/30\n",
            "411/411 - 13s - loss: 0.0050 - accuracy: 0.9986 - val_loss: 0.0906 - val_accuracy: 0.9828\n",
            "Epoch 5/30\n",
            "411/411 - 13s - loss: 0.0153 - accuracy: 0.9968 - val_loss: 0.0906 - val_accuracy: 0.9814\n",
            "Epoch 6/30\n",
            "411/411 - 13s - loss: 0.0134 - accuracy: 0.9985 - val_loss: 0.1394 - val_accuracy: 0.9814\n",
            "\n",
            "Epoch 00006: ReduceLROnPlateau reducing learning rate to 0.00010000000474974513.\n",
            "Epoch 7/30\n",
            "411/411 - 13s - loss: 0.0087 - accuracy: 0.9992 - val_loss: 0.1054 - val_accuracy: 0.9843\n",
            "Epoch 8/30\n",
            "411/411 - 13s - loss: 0.0072 - accuracy: 0.9997 - val_loss: 0.1102 - val_accuracy: 0.9831\n",
            "Restoring model weights from the end of the best epoch.\n",
            "Epoch 00008: early stopping\n"
          ],
          "name": "stdout"
        }
      ]
    },
    {
      "cell_type": "code",
      "metadata": {
        "code_folding": [
          0
        ],
        "id": "26YLBS68SeZc"
      },
      "source": [
        "def plot_keras_history(history):\n",
        "    \"\"\"    \n",
        "    :param history: \n",
        "    :return: \n",
        "    \"\"\" \n",
        "    metrics_names = [key for key in history.history.keys() if not key.startswith('val_')]\n",
        "\n",
        "    for i, metric in enumerate(metrics_names):\n",
        "        \n",
        "        if i == 2:\n",
        "          break\n",
        "        else:\n",
        "          #getting the training values\n",
        "          metric_train_values = history.history.get(metric, [])\n",
        "          \n",
        "          #getting the validation values\n",
        "          metric_val_values = history.history.get(\"val_{}\".format(metric), [])\n",
        "\n",
        "          epochs = range(1, len(metric_train_values) + 1)\n",
        "          \n",
        "          #leaving extra spaces to allign with the validation text\n",
        "          training_text = \"   Training {}: {:.5f}\".format(metric,\n",
        "                                                          metric_train_values[-1])\n",
        "\n",
        "          #metric\n",
        "          plt.figure(i, figsize=(12, 6))\n",
        "          plt.plot(epochs, metric_train_values, 'b', label=training_text)\n",
        "          \n",
        "          #if the validation metric exists, then plot that as well\n",
        "          if metric_val_values:\n",
        "              validation_text = \"Validation {}: {:.5f}\".format(metric,\n",
        "                                                              metric_val_values[-1])\n",
        "\n",
        "              plt.plot(epochs, metric_val_values, 'g', label=validation_text)\n",
        "          \n",
        "          #add title, xlabel, ylabel, and legend\n",
        "          plt.title('Model Metric: {}'.format(metric))\n",
        "          plt.xlabel('Epochs')\n",
        "          plt.ylabel(metric.title())\n",
        "          plt.legend()\n",
        "\n",
        "    plt.show()"
      ],
      "execution_count": 344,
      "outputs": []
    },
    {
      "cell_type": "code",
      "metadata": {
        "id": "RtoHT6s5SeZc",
        "colab": {
          "base_uri": "https://localhost:8080/",
          "height": 684
        },
        "outputId": "f9c0ba2d-444d-483f-f911-6a3ecf92a336"
      },
      "source": [
        "plot_keras_history(history)"
      ],
      "execution_count": 345,
      "outputs": [
        {
          "output_type": "display_data",
          "data": {
            "image/png": "[encoded data removed]",
            "text/plain": [
              "<Figure size 864x432 with 1 Axes>"
            ]
          },
          "metadata": {
            "needs_background": "light"
          }
        },
        {
          "output_type": "display_data",
          "data": {
            "image/png": "[encoded data removed]",
            "text/plain": [
              "<Figure size 864x432 with 1 Axes>"
            ]
          },
          "metadata": {
            "needs_background": "light"
          }
        }
      ]
    },
    {
      "cell_type": "markdown",
      "metadata": {
        "id": "ujkZDAH7SeZd"
      },
      "source": [
        "### Model Evaluation"
      ]
    },
    {
      "cell_type": "code",
      "metadata": {
        "id": "jGyMNkxlSeZd",
        "colab": {
          "base_uri": "https://localhost:8080/"
        },
        "outputId": "21cc5994-ab3d-4d1e-b723-e26eb775436c"
      },
      "source": [
        "#evaluate and store on score variable the test dataset\n",
        "score = model.evaluate(\n",
        "    X_test_enc.todense(),    \n",
        "    y_test_enc,             \n",
        "    batch_size=batch_size,   \n",
        "    verbose=2)"
      ],
      "execution_count": 346,
      "outputs": [
        {
          "output_type": "stream",
          "text": [
            "91/91 - 1s - loss: 0.0666 - accuracy: 0.9829\n"
          ],
          "name": "stdout"
        }
      ]
    },
    {
      "cell_type": "code",
      "metadata": {
        "id": "UWMWDQdBSeZe",
        "colab": {
          "base_uri": "https://localhost:8080/"
        },
        "outputId": "be210dba-4266-4143-8834-afd593a5df2e"
      },
      "source": [
        "print('\\nTest categorical_crossentropy: {}'.format(score[0]))\n",
        "print('\\nTest accuracy: {:.3f} %'.format(score[1]*100))"
      ],
      "execution_count": 347,
      "outputs": [
        {
          "output_type": "stream",
          "text": [
            "\n",
            "Test categorical_crossentropy: 0.06656917929649353\n",
            "\n",
            "Test accuracy: 98.292 %\n"
          ],
          "name": "stdout"
        }
      ]
    },
    {
      "cell_type": "markdown",
      "metadata": {
        "id": "qTRNw1Z3vx_s"
      },
      "source": [
        "---\n",
        "In the above plots and after the evaluation of the model, we can see the basic metrics of our Feed Forward Neural Network and how they evolve in the passing of the epochs. \n",
        "* First of all, the loss function, a function that shows the error, takes very small values. This is more than good, because it shows that the error for predicting the right class in our binary classification problem is minor. Combining with the fact of both the training and the validation loss have very low values (**less than 11%**) it is a good indicator of a very promising model. We have to clarify that the training loss indicates how well the model is fitting the training data, while the validation loss indicates how well the model fits new data.\n",
        "\n",
        "* On the other hand, the accuracy metric, a metric  that depicts the ratio of number of correct predictions to the total number of input samples is really high (**more than 98%** for both training and validation accuracy). This means that our model is very accurate and predicts correctly the class of the news (fake or true) nearly all the time."
      ]
    },
    {
      "cell_type": "markdown",
      "metadata": {
        "id": "huQljX0HSeZe"
      },
      "source": [
        "### Model Prediction "
      ]
    },
    {
      "cell_type": "code",
      "metadata": {
        "id": "NWW961tcSeZf",
        "colab": {
          "base_uri": "https://localhost:8080/"
        },
        "outputId": "872a0897-5fec-4a60-88b3-c2f977a1e943"
      },
      "source": [
        "#get the probabilities for each category for every news\n",
        "y_test_pred_probs = model.predict(X_test_enc)\n",
        "y_test_pred_probs"
      ],
      "execution_count": 348,
      "outputs": [
        {
          "output_type": "execute_result",
          "data": {
            "text/plain": [
              "array([[8.3826172e-01, 2.0279106e-01],\n",
              "       [9.9933535e-01, 5.7917833e-04],\n",
              "       [2.5560087e-01, 7.3272800e-01],\n",
              "       ...,\n",
              "       [1.6218424e-03, 9.9489498e-01],\n",
              "       [3.2027793e-01, 6.6852939e-01],\n",
              "       [4.3900460e-02, 9.0417492e-01]], dtype=float32)"
            ]
          },
          "metadata": {},
          "execution_count": 348
        }
      ]
    },
    {
      "cell_type": "code",
      "metadata": {
        "id": "q9jrsaGUSeZg",
        "colab": {
          "base_uri": "https://localhost:8080/"
        },
        "outputId": "acf77594-b8ca-4353-aba7-4fe38f032332"
      },
      "source": [
        "y_test_pred_probs.shape"
      ],
      "execution_count": 349,
      "outputs": [
        {
          "output_type": "execute_result",
          "data": {
            "text/plain": [
              "(5796, 2)"
            ]
          },
          "metadata": {},
          "execution_count": 349
        }
      ]
    },
    {
      "cell_type": "code",
      "metadata": {
        "scrolled": true,
        "id": "cIEt-sdrSeZi",
        "colab": {
          "base_uri": "https://localhost:8080/"
        },
        "outputId": "0ee151c2-b752-40e9-bf54-c3a502ee61dd"
      },
      "source": [
        "#show the class they belong\n",
        "y_test_preds = np.argmax(model.predict(X_test_enc), axis=-1)\n",
        "\n",
        "y_test_preds[:50]"
      ],
      "execution_count": 350,
      "outputs": [
        {
          "output_type": "execute_result",
          "data": {
            "text/plain": [
              "array([0, 0, 1, 0, 1, 0, 1, 0, 1, 1, 1, 0, 1, 0, 0, 1, 0, 0, 1, 1, 1, 1,\n",
              "       0, 1, 1, 1, 1, 0, 1, 1, 1, 1, 1, 0, 1, 1, 0, 1, 0, 0, 1, 0, 0, 1,\n",
              "       0, 1, 0, 0, 0, 0])"
            ]
          },
          "metadata": {},
          "execution_count": 350
        }
      ]
    },
    {
      "cell_type": "code",
      "metadata": {
        "id": "CEvZRBZHSeZk"
      },
      "source": [
        "#custom prediction function \n",
        "def get_one_hot_predictions(pred_probs):\n",
        "    \"\"\"\n",
        "    \"\"\"\n",
        "    max_probs = np.max(pred_probs, axis=1)\n",
        "    \n",
        "    #reshaping to (len_of_predicts, 1)\n",
        "    max_probs = max_probs.reshape(max_probs.shape[0], 1)\n",
        "\n",
        "    return np.equal(pred_probs, max_probs).astype(float)"
      ],
      "execution_count": 351,
      "outputs": []
    },
    {
      "cell_type": "code",
      "metadata": {
        "scrolled": true,
        "id": "3H97y-S2SeZl",
        "colab": {
          "base_uri": "https://localhost:8080/"
        },
        "outputId": "e2e51457-a42e-4902-e024-b7e762dcf202"
      },
      "source": [
        "y_test_pred = get_one_hot_predictions(y_test_pred_probs)\n",
        "y_test_pred\n",
        "\n",
        "#check that each line has only one 1\n",
        "y_test_pred.sum(axis=1)"
      ],
      "execution_count": 352,
      "outputs": [
        {
          "output_type": "execute_result",
          "data": {
            "text/plain": [
              "array([1., 1., 1., ..., 1., 1., 1.])"
            ]
          },
          "metadata": {},
          "execution_count": 352
        }
      ]
    },
    {
      "cell_type": "code",
      "metadata": {
        "id": "eOlgoq7QSeZl",
        "colab": {
          "base_uri": "https://localhost:8080/"
        },
        "outputId": "28108c49-71d8-463b-98e3-b9ab4c9068dc"
      },
      "source": [
        "#from the fitted One Hot Encoder we will get the inverse outcome (the category)\n",
        "y_test_pred_news = y_enc.inverse_transform(y_test_pred).flatten()\n",
        "y_test_pred_news[:20]"
      ],
      "execution_count": 353,
      "outputs": [
        {
          "output_type": "execute_result",
          "data": {
            "text/plain": [
              "array(['fake', 'fake', 'true', 'fake', 'true', 'fake', 'true', 'fake',\n",
              "       'true', 'true', 'true', 'fake', 'true', 'fake', 'fake', 'true',\n",
              "       'fake', 'fake', 'true', 'true'], dtype=object)"
            ]
          },
          "metadata": {},
          "execution_count": 353
        }
      ]
    },
    {
      "cell_type": "markdown",
      "metadata": {
        "id": "7k3L0YM3u7vy"
      },
      "source": [
        "* Some more evaluation merics."
      ]
    },
    {
      "cell_type": "code",
      "metadata": {
        "id": "PsHfWMO5SeZn"
      },
      "source": [
        "from sklearn.metrics import confusion_matrix, classification_report\n",
        "from sklearn.metrics import roc_curve, auc"
      ],
      "execution_count": 354,
      "outputs": []
    },
    {
      "cell_type": "code",
      "metadata": {
        "id": "NWFZIsNbSeZo",
        "colab": {
          "base_uri": "https://localhost:8080/",
          "height": 112
        },
        "outputId": "beff019d-46af-47f7-e87a-890fae9f7055"
      },
      "source": [
        "conf_mat = confusion_matrix(y_true=y_test, y_pred=y_test_pred_news)\n",
        "pd.DataFrame(conf_mat, columns = y_enc.categories_, index=y_enc.categories_)"
      ],
      "execution_count": 355,
      "outputs": [
        {
          "output_type": "execute_result",
          "data": {
            "text/html": [
              "<div>\n",
              "<style scoped>\n",
              "    .dataframe tbody tr th:only-of-type {\n",
              "        vertical-align: middle;\n",
              "    }\n",
              "\n",
              "    .dataframe tbody tr th {\n",
              "        vertical-align: top;\n",
              "    }\n",
              "\n",
              "    .dataframe thead tr th {\n",
              "        text-align: left;\n",
              "    }\n",
              "</style>\n",
              "<table border=\"1\" class=\"dataframe\">\n",
              "  <thead>\n",
              "    <tr>\n",
              "      <th></th>\n",
              "      <th>fake</th>\n",
              "      <th>true</th>\n",
              "    </tr>\n",
              "  </thead>\n",
              "  <tbody>\n",
              "    <tr>\n",
              "      <th>fake</th>\n",
              "      <td>2563</td>\n",
              "      <td>54</td>\n",
              "    </tr>\n",
              "    <tr>\n",
              "      <th>true</th>\n",
              "      <td>45</td>\n",
              "      <td>3134</td>\n",
              "    </tr>\n",
              "  </tbody>\n",
              "</table>\n",
              "</div>"
            ],
            "text/plain": [
              "      fake  true\n",
              "fake  2563    54\n",
              "true    45  3134"
            ]
          },
          "metadata": {},
          "execution_count": 355
        }
      ]
    },
    {
      "cell_type": "markdown",
      "metadata": {
        "id": "QIDOdL12nySw"
      },
      "source": [
        "* From the above confusion matrix we can observe that the performance of the model is pretty good. This is concluded by the fact that the predicted values do not differ a lot from the actual values. For example, from the 2627 false news, only the 73 predicted falsefully as true and from the 3179 true new only 37 predicted as fake."
      ]
    },
    {
      "cell_type": "code",
      "metadata": {
        "scrolled": false,
        "id": "mBRLL7nnSeZq",
        "colab": {
          "base_uri": "https://localhost:8080/"
        },
        "outputId": "1ea8caac-ad39-40ee-bfaa-ba23b9a58487"
      },
      "source": [
        "print(classification_report(y_true=y_test, y_pred=y_test_pred_news))"
      ],
      "execution_count": 356,
      "outputs": [
        {
          "output_type": "stream",
          "text": [
            "              precision    recall  f1-score   support\n",
            "\n",
            "        fake       0.98      0.98      0.98      2617\n",
            "        true       0.98      0.99      0.98      3179\n",
            "\n",
            "    accuracy                           0.98      5796\n",
            "   macro avg       0.98      0.98      0.98      5796\n",
            "weighted avg       0.98      0.98      0.98      5796\n",
            "\n"
          ],
          "name": "stdout"
        }
      ]
    },
    {
      "cell_type": "markdown",
      "metadata": {
        "id": "iJg5kQfQneHD"
      },
      "source": [
        "Before analyzing the classifiation report it is worth mentioning the definitions of the above metrics. \n",
        "* **Precision** : the number of correct positive results divided by the number of positive results predicted by the classifier.\n",
        "* **Recall** : the number of correct positive results divided by the number of all samples that should have been identified as positive\n",
        "* **F1 Score**: the Harmonic Mean between precision and recall. It shows how precise our classifier is (how many instances are classified correctly), as well as how robust it is (it does not miss a significant number of instances).\n",
        "* **Support**: the number of news.\n",
        "\n",
        "After checking the results of our classification report we can assume that our model performs really good."
      ]
    },
    {
      "cell_type": "code",
      "metadata": {
        "id": "pGuRnh30Eujx"
      },
      "source": [
        "def plot_binary_class_row_auc(y_true,\n",
        "                              clf_names: list,\n",
        "                              clfs_preds: list):\n",
        "    \"\"\"\n",
        "\n",
        "    :param y_true: The true labels in one hot encoding\n",
        "    :param clf_names: The names of the classifiers in order to plot\n",
        "    :param clfs_preds: A list of numpy arrays, that contain predictions from various classifiers\n",
        "    :return:\n",
        "    \"\"\"\n",
        "    assert len(clf_names) == len(clfs_preds)\n",
        "\n",
        "    plt.figure(1)\n",
        "    plt.plot([0, 1], [0, 1], 'k--')\n",
        "\n",
        "    for clf_name, preds in zip(clf_names, clfs_preds):\n",
        "        fpr, tpr, thresholds = roc_curve(y_true,\n",
        "                                         preds)\n",
        "\n",
        "        # AUC value can also be calculated like this.\n",
        "\n",
        "        auc_score = auc(fpr, tpr)\n",
        "\n",
        "        plt.plot(fpr,\n",
        "                 tpr,\n",
        "                 label='{} (area = {:.3f})'.format(clf_name, auc_score))\n",
        "\n",
        "    plt.xlabel('False positive rate')\n",
        "    plt.ylabel('True positive rate')\n",
        "    plt.title('ROC curve')\n",
        "    plt.legend(loc='best')\n",
        "    plt.show()\n",
        "\n",
        "    # Zoom in view of the upper left corner.\n",
        "    plt.figure(2)\n",
        "    plt.xlim(0, 0.2)\n",
        "    plt.ylim(0.7, 1)\n",
        "    plt.plot([0, 1],\n",
        "             [0, 1],\n",
        "             'k--')\n",
        "\n",
        "    for clf_name, preds in zip(clf_names, clfs_preds):\n",
        "        fpr, tpr, thresholds = roc_curve(y_true,\n",
        "                                         preds)\n",
        "\n",
        "        # AUC value can also be calculated like this.\n",
        "\n",
        "        auc_score = auc(fpr, tpr)\n",
        "\n",
        "        plt.plot(fpr, tpr,\n",
        "                 label='{} (area = {:.3f})'.format(clf_name, auc_score))\n",
        "\n",
        "    plt.xlabel('False positive rate')\n",
        "    plt.ylabel('True positive rate')\n",
        "    plt.title('ROC curve (zoomed in at top left)')\n",
        "    plt.legend(loc='best')\n",
        "    plt.show()"
      ],
      "execution_count": 357,
      "outputs": []
    },
    {
      "cell_type": "code",
      "metadata": {
        "colab": {
          "base_uri": "https://localhost:8080/"
        },
        "id": "fZ6zZdZ4EwqK",
        "outputId": "c05a5283-814a-4976-e627-21b29f2f2041"
      },
      "source": [
        "y_test = y_test.to_frame()\n",
        "y_test[y_test['label'] == 'true'] = 1\n",
        "y_test[y_test['label'] == 'fake'] = 0\n",
        "y_test = y_test.squeeze()\n",
        "y_test = np.asarray(y_test).astype('int64')\n",
        "y_test"
      ],
      "execution_count": 358,
      "outputs": [
        {
          "output_type": "execute_result",
          "data": {
            "text/plain": [
              "array([1, 0, 1, ..., 1, 1, 1])"
            ]
          },
          "metadata": {},
          "execution_count": 358
        }
      ]
    },
    {
      "cell_type": "code",
      "metadata": {
        "colab": {
          "base_uri": "https://localhost:8080/",
          "height": 573
        },
        "id": "wtUDo1xxE1Np",
        "outputId": "68b6e1c8-f33c-4137-8419-f51cf2998096"
      },
      "source": [
        "plot_binary_class_row_auc(y_true=y_test,\n",
        "                          clf_names=['Keras'],\n",
        "                          clfs_preds=[y_test_pred_probs[:,1].ravel()])"
      ],
      "execution_count": 359,
      "outputs": [
        {
          "output_type": "display_data",
          "data": {
            "image/png": "[encoded data removed]",
            "text/plain": [
              "<Figure size 432x288 with 1 Axes>"
            ]
          },
          "metadata": {
            "needs_background": "light"
          }
        },
        {
          "output_type": "display_data",
          "data": {
            "image/png": "[encoded data removed]",
            "text/plain": [
              "<Figure size 432x288 with 1 Axes>"
            ]
          },
          "metadata": {
            "needs_background": "light"
          }
        }
      ]
    },
    {
      "cell_type": "markdown",
      "metadata": {
        "id": "Aap6BQHRFYiK"
      },
      "source": [
        "Area Under Curve (AUC) of a classifier is the probability that a classifier will rank a randomly chosen positive example higher than a randomly chosen negative example. So, we want the curve to approach as much the upper left corner of the graph as possible. In other words we want the ratio true positive to false positive to have the biggest possible value. This is happening to our case, something which indicates nearly perfect performance of our model (more than 99%)."
      ]
    },
    {
      "cell_type": "markdown",
      "metadata": {
        "id": "8LCyd893vRDn"
      },
      "source": [
        "* Let 's see an example for testing the accuracy of the model."
      ]
    },
    {
      "cell_type": "code",
      "metadata": {
        "colab": {
          "base_uri": "https://localhost:8080/",
          "height": 205
        },
        "id": "rsVI-h7zWoaH",
        "outputId": "c44d3228-a368-4b06-ace3-ebd53e06f750"
      },
      "source": [
        "df[df['clean_text'] == X_val.iloc[2456,]]"
      ],
      "execution_count": 360,
      "outputs": [
        {
          "output_type": "execute_result",
          "data": {
            "text/html": [
              "<div>\n",
              "<style scoped>\n",
              "    .dataframe tbody tr th:only-of-type {\n",
              "        vertical-align: middle;\n",
              "    }\n",
              "\n",
              "    .dataframe tbody tr th {\n",
              "        vertical-align: top;\n",
              "    }\n",
              "\n",
              "    .dataframe thead th {\n",
              "        text-align: right;\n",
              "    }\n",
              "</style>\n",
              "<table border=\"1\" class=\"dataframe\">\n",
              "  <thead>\n",
              "    <tr style=\"text-align: right;\">\n",
              "      <th></th>\n",
              "      <th>title</th>\n",
              "      <th>text</th>\n",
              "      <th>subject</th>\n",
              "      <th>date</th>\n",
              "      <th>label</th>\n",
              "      <th>caps_in_title</th>\n",
              "      <th>text_tokens</th>\n",
              "      <th>text_urls</th>\n",
              "      <th>clean_text</th>\n",
              "      <th>title_urls</th>\n",
              "      <th>twitter_handles</th>\n",
              "      <th>clean_title</th>\n",
              "      <th>clean_text_tokens</th>\n",
              "      <th>clean_title_tokens</th>\n",
              "    </tr>\n",
              "  </thead>\n",
              "  <tbody>\n",
              "    <tr>\n",
              "      <th>16239</th>\n",
              "      <td>DETROIT COP UNDER FIRE FOR FACEBOOK POST: “The...</td>\n",
              "      <td>If this cop s comments were in lock-step with ...</td>\n",
              "      <td>left-news</td>\n",
              "      <td>2016-07-11</td>\n",
              "      <td>fake</td>\n",
              "      <td>43</td>\n",
              "      <td>['If', 'this', 'cop', 's', 'comments', 'were',...</td>\n",
              "      <td>[]</td>\n",
              "      <td>if this cop s comments were in lock-step with ...</td>\n",
              "      <td>[]</td>\n",
              "      <td>[]</td>\n",
              "      <td>DETROIT COP UNDER FIRE FOR FACEBOOK POST: “the...</td>\n",
              "      <td>['if', 'this', 'cop', 'comments', 'were', 'in'...</td>\n",
              "      <td>['DETROIT', 'COP', 'UNDER', 'FIRE', 'FOR', 'FA...</td>\n",
              "    </tr>\n",
              "  </tbody>\n",
              "</table>\n",
              "</div>"
            ],
            "text/plain": [
              "                                                   title  ...                                 clean_title_tokens\n",
              "16239  DETROIT COP UNDER FIRE FOR FACEBOOK POST: “The...  ...  ['DETROIT', 'COP', 'UNDER', 'FIRE', 'FOR', 'FA...\n",
              "\n",
              "[1 rows x 14 columns]"
            ]
          },
          "metadata": {},
          "execution_count": 360
        }
      ]
    },
    {
      "cell_type": "code",
      "metadata": {
        "colab": {
          "base_uri": "https://localhost:8080/",
          "height": 276
        },
        "id": "vRzDYmyovdc7",
        "outputId": "6c719af1-aec2-46c5-9520-8e979b90a011"
      },
      "source": [
        "X_val.iloc[2456,]"
      ],
      "execution_count": 361,
      "outputs": [
        {
          "output_type": "execute_result",
          "data": {
            "application/vnd.google.colaboratory.intrinsic+json": {
              "type": "string"
            },
            "text/plain": [
              "'if this cop s comments were in lock-step with the leftist narrative, that it s okay to use violence to punish innocent cops as long as it brings attention to a few bad cops, would this even be a news story? why is this man, who is a target of the violent black lives matter movement, unable to speak out against the very people who seek to do him and his brothers/sisters harm?detroit police say they have launched an investigation into an officer s viral facebook rant about the black lives matter movement in reaction to the dallas police shooting.the post by officer nathan weekley has been viewed more than  ,  times, and reacts to the tragic dallas shooting that left five police officers killed and several others injured.the post reads: for the first time in my nearly   years as a law enforcement officer i contemplated calling into work in response to the outrageous act perpetrated against my brothers. it seems like the only response that will demonstrate our importance to society as a whole. the only racists here are the piece of (expletive) black lives matter terrorists and their supporters. that post has already led to an ugly viral backlash against weekley. so far, he s declined to speak with   action news due to an internal investigation, but the president of the detroit police officer s association did talk to us.via: WXYZ'"
            ]
          },
          "metadata": {},
          "execution_count": 361
        }
      ]
    },
    {
      "cell_type": "code",
      "metadata": {
        "code_folding": [
          0
        ],
        "scrolled": false,
        "id": "ul9EbOBrSeZr",
        "colab": {
          "base_uri": "https://localhost:8080/"
        },
        "outputId": "69c51531-7a56-404f-f052-e99aa3947b39"
      },
      "source": [
        "input_news = X_val.iloc[2456,]\n",
        "\n",
        "#vectorizing news with Count Vectorizer\n",
        "news_vect = counter_vectorizer.transform([input_news])\n",
        "\n",
        "print(news_vect.shape, end='\\n\\n')\n",
        "\n",
        "news_pred = model.predict(news_vect)\n",
        "\n",
        "print('Probabilities:', end='\\n\\n')\n",
        "print(news_pred, end='\\n\\n')\n",
        "\n",
        "news_pred_hot = get_one_hot_predictions(news_pred)\n",
        "\n",
        "print('Probabilities One Hot Vector:', end='\\n\\n')\n",
        "print(news_pred_hot, end='\\n\\n')\n",
        "\n",
        "print('News Prediction:', end='\\n\\n')\n",
        "print(y_enc.inverse_transform(news_pred_hot)[0][0])"
      ],
      "execution_count": 362,
      "outputs": [
        {
          "output_type": "stream",
          "text": [
            "(1, 10000)\n",
            "\n",
            "Probabilities:\n",
            "\n",
            "[[9.9978626e-01 1.5634298e-04]]\n",
            "\n",
            "Probabilities One Hot Vector:\n",
            "\n",
            "[[1. 0.]]\n",
            "\n",
            "News Prediction:\n",
            "\n",
            "fake\n"
          ],
          "name": "stdout"
        }
      ]
    },
    {
      "cell_type": "markdown",
      "metadata": {
        "id": "wXMLQywGzHOH"
      },
      "source": [
        "## Embeddings"
      ]
    },
    {
      "cell_type": "markdown",
      "metadata": {
        "id": "BdRIUMiQv6L4"
      },
      "source": [
        "---\n",
        "An embedding is a relatively low-dimensional space into which you can translate high-dimensional vectors. Embeddings are very useful for representing words, because the take into account the semantics of ecah word. For example, similar inputs are placed close together in the embedding space. \n",
        "\n",
        "The major difference with one-hot-encoding is that it turns text into sequence of numbers. "
      ]
    },
    {
      "cell_type": "code",
      "metadata": {
        "id": "XBRy8nwEzcpG"
      },
      "source": [
        "import os\n",
        "from glob import glob\n",
        "from typing import Tuple, List\n",
        "\n",
        "from tensorflow.python.keras.layers import Embedding, Flatten, Dense\n",
        "from tensorflow.python.keras.models import Sequential\n",
        "from tensorflow.python.keras.preprocessing.sequence import pad_sequences\n",
        "from tensorflow.python.keras.preprocessing.text import Tokenizer\n",
        "from tqdm import tqdm\n",
        "from ipywidgets import interact"
      ],
      "execution_count": 363,
      "outputs": []
    },
    {
      "cell_type": "code",
      "metadata": {
        "colab": {
          "base_uri": "https://localhost:8080/"
        },
        "id": "VzbW-cfZzGPd",
        "outputId": "3f69d74a-a9c6-4e4e-f2ba-712f1c619013"
      },
      "source": [
        "max_words = 15_000  #we will only take the 15K most used words in the whole news dataset\n",
        "\n",
        "#initialize the Keras tokenizer\n",
        "reviews_tokenizer = Tokenizer(num_words=max_words, lower=True, oov_token='<OOV>')\n",
        "\n",
        "reviews_tokenizer"
      ],
      "execution_count": 364,
      "outputs": [
        {
          "output_type": "execute_result",
          "data": {
            "text/plain": [
              "<keras_preprocessing.text.Tokenizer at 0x7f6aa7697dd0>"
            ]
          },
          "metadata": {},
          "execution_count": 364
        }
      ]
    },
    {
      "cell_type": "code",
      "metadata": {
        "id": "R2FSoYnLHeFA"
      },
      "source": [
        "texts = df['clean_text']"
      ],
      "execution_count": 365,
      "outputs": []
    },
    {
      "cell_type": "code",
      "metadata": {
        "id": "QyCy1xwfziwi"
      },
      "source": [
        "reviews_tokenizer.fit_on_texts(texts)  #create tokens by counting frequency"
      ],
      "execution_count": 366,
      "outputs": []
    },
    {
      "cell_type": "code",
      "metadata": {
        "id": "wAs5PwcZzjpc"
      },
      "source": [
        "sequences = reviews_tokenizer.texts_to_sequences(texts) #create embedding (wonrds into sequence of numbers)"
      ],
      "execution_count": 367,
      "outputs": []
    },
    {
      "cell_type": "markdown",
      "metadata": {
        "id": "CN01vJp-xWPu"
      },
      "source": [
        "* These tokenizers create a dictionary that maps each word to a number. If we take a closer look, we can infer that those words are used more in the news take a lower token number. Some examples are the following:"
      ]
    },
    {
      "cell_type": "code",
      "metadata": {
        "colab": {
          "base_uri": "https://localhost:8080/"
        },
        "id": "DVdMJSErzjwH",
        "outputId": "8f6e7e3a-3072-4a3b-c68c-29e20c9e5ae6"
      },
      "source": [
        "word_index = reviews_tokenizer.word_index\n",
        "\n",
        "print('Token for the word \"news\": {}'.format(word_index['news']))\n",
        "print('Token for the word \"the\": {}'.format(word_index['the']))\n",
        "print('Token for the word \"happy\": {}'.format(word_index['happy']))\n",
        "print('Token for the word \"sad\": {}'.format(word_index['sad']))"
      ],
      "execution_count": 368,
      "outputs": [
        {
          "output_type": "stream",
          "text": [
            "Token for the word \"news\": 105\n",
            "Token for the word \"the\": 2\n",
            "Token for the word \"happy\": 1613\n",
            "Token for the word \"sad\": 2378\n"
          ],
          "name": "stdout"
        }
      ]
    },
    {
      "cell_type": "markdown",
      "metadata": {
        "id": "VZvmaJMKyGvi"
      },
      "source": [
        "* In order to continue, we have to make sure that all the sentences that will be used in our model will have the same length. So, we use the `Keras pad sequences tool`. This tool, cuts those sentences that are too big and for those that are too small adds zeros. \n",
        "\n",
        "Here, we make all the sentences to have length 100 words."
      ]
    },
    {
      "cell_type": "code",
      "metadata": {
        "colab": {
          "base_uri": "https://localhost:8080/"
        },
        "id": "Y0_JV0Yt6oCv",
        "outputId": "04506d98-9d48-40e7-94b1-b29cb310449a"
      },
      "source": [
        "maxlen = 100\n",
        "\n",
        "data = pad_sequences(sequences, maxlen=maxlen)\n",
        "\n",
        "#So, we have 39K, 100 word sequences now\n",
        "print('New data shape: {}'.format(data.shape))"
      ],
      "execution_count": 369,
      "outputs": [
        {
          "output_type": "stream",
          "text": [
            "New data shape: (38638, 100)\n"
          ],
          "name": "stdout"
        }
      ]
    },
    {
      "cell_type": "markdown",
      "metadata": {
        "id": "M2sQ-3cO612W"
      },
      "source": [
        "#### Data shuffling and splitting in train-validation"
      ]
    },
    {
      "cell_type": "code",
      "metadata": {
        "colab": {
          "base_uri": "https://localhost:8080/"
        },
        "id": "qF-S564yYqz4",
        "outputId": "0d332fea-1cc1-4d4d-daf7-0971dc03a6bc"
      },
      "source": [
        "y = y.to_frame()\n",
        "y[y['label'] == 'true'] = 1\n",
        "y[y['label'] == 'fake'] = 0\n",
        "y = y.squeeze()\n",
        "y = np.asarray(y).astype('int64')\n",
        "y"
      ],
      "execution_count": 370,
      "outputs": [
        {
          "output_type": "execute_result",
          "data": {
            "text/plain": [
              "array([0, 0, 0, ..., 1, 1, 1])"
            ]
          },
          "metadata": {},
          "execution_count": 370
        }
      ]
    },
    {
      "cell_type": "code",
      "metadata": {
        "id": "FGifnLfQ6yda",
        "colab": {
          "base_uri": "https://localhost:8080/"
        },
        "outputId": "59ef2eb2-7982-48e0-90dd-b14aa1729b5b"
      },
      "source": [
        "#we turn all the data into training and validation datasets\n",
        "labels = y # true - fake\n",
        "labels"
      ],
      "execution_count": 371,
      "outputs": [
        {
          "output_type": "execute_result",
          "data": {
            "text/plain": [
              "array([0, 0, 0, ..., 1, 1, 1])"
            ]
          },
          "metadata": {},
          "execution_count": 371
        }
      ]
    },
    {
      "cell_type": "markdown",
      "metadata": {
        "id": "ifNOvQ2vLN7j"
      },
      "source": [
        "* Shuffle the data. We first create indeces using the length of the text and later we shuffle them:"
      ]
    },
    {
      "cell_type": "code",
      "metadata": {
        "id": "NpqJ33D_6yg3"
      },
      "source": [
        "indices = np.arange(data.shape[0])  \n",
        "\n",
        "#shuffling the indices on the fly\n",
        "np.random.shuffle(indices)\n",
        "\n",
        "data = data[indices]  #the shuffled texts\n",
        "labels = labels[indices]  #the shuffled sentiments"
      ],
      "execution_count": 372,
      "outputs": []
    },
    {
      "cell_type": "code",
      "metadata": {
        "colab": {
          "base_uri": "https://localhost:8080/"
        },
        "id": "iXR_q6Rh7JKI",
        "outputId": "63ad97eb-587e-405d-a6ba-502f63e0ab79"
      },
      "source": [
        "training_samples = 30_000  #will be trained on 30K samples\n",
        "\n",
        "#data splitting\n",
        "x_train1 = data[:training_samples]\n",
        "y_train1 = labels[:training_samples]\n",
        "\n",
        "x_val1 = data[training_samples:]\n",
        "y_val1 = labels[training_samples:]\n",
        "\n",
        "#datasets format\n",
        "print('X train shape: {}'.format(x_train1.shape))\n",
        "print('y train shape: {}'.format(y_train1.shape))\n",
        "\n",
        "print('X val shape: {}'.format(x_val1.shape))\n",
        "print('y val shape: {}'.format(y_val1.shape))"
      ],
      "execution_count": 373,
      "outputs": [
        {
          "output_type": "stream",
          "text": [
            "X train shape: (30000, 100)\n",
            "y train shape: (30000,)\n",
            "X val shape: (8638, 100)\n",
            "y val shape: (8638,)\n"
          ],
          "name": "stdout"
        }
      ]
    },
    {
      "cell_type": "code",
      "metadata": {
        "id": "qc3jgv9y7NQQ",
        "colab": {
          "base_uri": "https://localhost:8080/"
        },
        "outputId": "7316c352-b7c5-430e-a93d-fab8dd9efabf"
      },
      "source": [
        "# Setting the model\n",
        "model1 = Sequential()\n",
        "model1.add(Embedding(input_dim=max_words,\n",
        "                      output_dim=50,\n",
        "                      embeddings_initializer='uniform',\n",
        "                      mask_zero=True,\n",
        "                      input_length=maxlen))\n",
        "\n",
        "model1.add(Flatten())\n",
        "\n",
        "model1.add(Dense(32, activation='relu'))\n",
        "\n",
        "model1.add(Dense(1, activation='sigmoid'))\n",
        "\n",
        "print(model1.summary())\n",
        "\n",
        "model1.compile(optimizer='adam',\n",
        "                loss='binary_crossentropy',\n",
        "                metrics=['acc'])"
      ],
      "execution_count": 374,
      "outputs": [
        {
          "output_type": "stream",
          "text": [
            "Model: \"sequential_4\"\n",
            "_________________________________________________________________\n",
            "Layer (type)                 Output Shape              Param #   \n",
            "=================================================================\n",
            "embedding_4 (Embedding)      (None, 100, 50)           750000    \n",
            "_________________________________________________________________\n",
            "flatten_4 (Flatten)          (None, 5000)              0         \n",
            "_________________________________________________________________\n",
            "dense_8 (Dense)              (None, 32)                160032    \n",
            "_________________________________________________________________\n",
            "dense_9 (Dense)              (None, 1)                 33        \n",
            "=================================================================\n",
            "Total params: 910,065\n",
            "Trainable params: 910,065\n",
            "Non-trainable params: 0\n",
            "_________________________________________________________________\n",
            "None\n"
          ],
          "name": "stdout"
        }
      ]
    },
    {
      "cell_type": "code",
      "metadata": {
        "colab": {
          "base_uri": "https://localhost:8080/"
        },
        "id": "XLwENHyT7WYq",
        "outputId": "f5020bc7-42d2-4cfa-c5f2-1f099b9fc363"
      },
      "source": [
        "history = model1.fit(x_train1, y_train1,\n",
        "                     epochs=30,\n",
        "                     batch_size=64,\n",
        "                     callbacks = callbacks,\n",
        "                     validation_data=(x_val1, y_val1))"
      ],
      "execution_count": 375,
      "outputs": [
        {
          "output_type": "stream",
          "text": [
            "Epoch 1/30\n",
            "469/469 [==============================] - 5s 9ms/step - loss: 0.1148 - acc: 0.9564 - val_loss: 0.0391 - val_acc: 0.9850\n",
            "Epoch 2/30\n",
            "469/469 [==============================] - 4s 9ms/step - loss: 0.0083 - acc: 0.9980 - val_loss: 0.0370 - val_acc: 0.9876\n",
            "Epoch 3/30\n",
            "469/469 [==============================] - 4s 9ms/step - loss: 7.7008e-04 - acc: 1.0000 - val_loss: 0.0417 - val_acc: 0.9869\n",
            "Epoch 4/30\n",
            "469/469 [==============================] - 4s 9ms/step - loss: 1.9441e-04 - acc: 1.0000 - val_loss: 0.0431 - val_acc: 0.9874\n",
            "Epoch 5/30\n",
            "469/469 [==============================] - 4s 9ms/step - loss: 1.0537e-04 - acc: 1.0000 - val_loss: 0.0446 - val_acc: 0.9870\n",
            "Epoch 6/30\n",
            "469/469 [==============================] - 4s 9ms/step - loss: 6.5208e-05 - acc: 1.0000 - val_loss: 0.0454 - val_acc: 0.9871\n",
            "Epoch 7/30\n",
            "469/469 [==============================] - 4s 9ms/step - loss: 4.3285e-05 - acc: 1.0000 - val_loss: 0.0471 - val_acc: 0.9870\n",
            "\n",
            "Epoch 00007: ReduceLROnPlateau reducing learning rate to 0.00010000000474974513.\n",
            "Epoch 8/30\n",
            "469/469 [==============================] - 4s 9ms/step - loss: 3.3229e-05 - acc: 1.0000 - val_loss: 0.0472 - val_acc: 0.9870\n",
            "Epoch 9/30\n",
            "469/469 [==============================] - 4s 9ms/step - loss: 3.1879e-05 - acc: 1.0000 - val_loss: 0.0474 - val_acc: 0.9870\n",
            "Restoring model weights from the end of the best epoch.\n",
            "Epoch 00009: early stopping\n"
          ],
          "name": "stdout"
        }
      ]
    },
    {
      "cell_type": "code",
      "metadata": {
        "colab": {
          "base_uri": "https://localhost:8080/",
          "height": 687
        },
        "id": "1QRbOOeUwFAR",
        "outputId": "4c081ba1-ca1b-47a5-9fa6-89b765e0d570"
      },
      "source": [
        "plot_keras_history(history)"
      ],
      "execution_count": 376,
      "outputs": [
        {
          "output_type": "display_data",
          "data": {
            "image/png": "[encoded data removed]",
            "text/plain": [
              "<Figure size 864x432 with 1 Axes>"
            ]
          },
          "metadata": {
            "needs_background": "light"
          }
        },
        {
          "output_type": "display_data",
          "data": {
            "image/png": "[encoded data removed]",
            "text/plain": [
              "<Figure size 864x432 with 1 Axes>"
            ]
          },
          "metadata": {
            "needs_background": "light"
          }
        }
      ]
    },
    {
      "cell_type": "markdown",
      "metadata": {
        "id": "eS3OwzRTDKsS"
      },
      "source": [
        "* In this case we can observe that the model was created with embeddings are nearly perfect. We can see almost 0 loss and aproximately 1 accuracy."
      ]
    },
    {
      "cell_type": "markdown",
      "metadata": {
        "id": "3CjEJblW5Us7"
      },
      "source": [
        "### Predicting using the fitted model"
      ]
    },
    {
      "cell_type": "markdown",
      "metadata": {
        "id": "jUrlMLgiDjlQ"
      },
      "source": [
        "Here is an example. We are giving a text in the model and it returns to us how much fake it is."
      ]
    },
    {
      "cell_type": "code",
      "metadata": {
        "colab": {
          "base_uri": "https://localhost:8080/"
        },
        "id": "6BK6715w5bMr",
        "outputId": "3dc47418-7d6d-40e9-97ab-8c9bec78e451"
      },
      "source": [
        "df.iloc[2199,]"
      ],
      "execution_count": 377,
      "outputs": [
        {
          "output_type": "execute_result",
          "data": {
            "text/plain": [
              "title                  Muhammad Ali Jr. Detained AGAIN At Airport Ri...\n",
              "text                  One day after he testified about being stopped...\n",
              "subject                                                            News\n",
              "date                                                         2017-03-11\n",
              "label                                                              fake\n",
              "caps_in_title                                                        17\n",
              "text_tokens           ['One', 'day', 'after', 'he', 'testified', 'ab...\n",
              "text_urls                                                            []\n",
              "clean_text            one day after he testified about being stopped...\n",
              "title_urls                                                           []\n",
              "twitter_handles                                                      []\n",
              "clean_title           muhammad ali jr. detained AGAIN at airport rig...\n",
              "clean_text_tokens     ['one', 'day', 'after', 'he', 'testified', 'ab...\n",
              "clean_title_tokens    ['muhammad', 'ali', 'jr.', 'detained', 'AGAIN'...\n",
              "Name: 2199, dtype: object"
            ]
          },
          "metadata": {},
          "execution_count": 377
        }
      ]
    },
    {
      "cell_type": "code",
      "metadata": {
        "colab": {
          "base_uri": "https://localhost:8080/"
        },
        "id": "Wku2XpKY5WFJ",
        "outputId": "ade46312-4f90-4eed-be83-07634678d7db"
      },
      "source": [
        "# Demo on a positive text\n",
        "my_text = df.iloc[2199,1]\n",
        "\n",
        "seq = reviews_tokenizer.texts_to_sequences([my_text])\n",
        "print('raw seq:', seq)\n",
        "\n",
        "seq = pad_sequences(seq, maxlen=maxlen)\n",
        "print('padded seq:', seq)\n",
        "\n",
        "prediction = model1.predict(seq)\n",
        "print('truthfulness:', prediction)"
      ],
      "execution_count": 378,
      "outputs": [
        {
          "output_type": "stream",
          "text": [
            "raw seq: [[53, 187, 52, 14, 3717, 40, 115, 1640, 21, 334, 163, 142, 66, 15, 9, 353, 489, 2, 810, 4, 13688, 8668, 6709, 2502, 18, 1644, 21, 334, 163, 302, 27, 99, 10, 5, 1283, 2117, 6709, 2502, 1416, 3659, 3, 104, 10, 192, 3, 3158, 40, 2, 103, 99, 14, 18, 1644, 10, 20, 169, 148, 26, 5, 258, 505, 241, 311, 14, 688, 17, 20, 1162, 7, 7806, 2502, 1416, 18, 2283, 1644, 28, 4725, 9383, 1753, 288, 1673, 10, 650, 1, 6, 1999, 11, 91, 793, 17, 163, 1, 75, 17, 426, 507, 685, 93, 29, 44, 5, 353, 6, 143, 113, 44, 133, 228, 578, 27, 99, 2, 10471, 9, 810, 408, 45, 111, 136, 16, 3, 608, 109, 2808, 3, 845, 5, 2117, 326, 7, 5, 104, 767, 1673, 2, 11034, 632, 265, 327, 17, 20, 5111, 63, 572, 2502, 623, 894, 1078, 98, 79, 1785, 28, 2067, 125, 1673, 7, 104, 10, 200, 11, 5, 2117, 3, 4725, 9383, 7162, 14, 688, 20, 2171, 5111, 2651, 3, 5, 1, 2161, 3, 133, 20, 9253, 849, 13, 20, 879, 1332, 1, 30, 18, 2983, 17, 75, 6, 5086, 2, 3294, 707, 632, 572, 2502, 18, 86, 8, 67, 18, 5, 642, 6, 8, 2, 2161, 706, 3, 324, 2, 191, 4, 1496, 119, 572, 1, 13, 572, 2502, 1, 18, 215, 20, 1711, 4, 2138, 143, 14, 18, 1296, 6, 20, 371, 119, 381, 572, 1, 13, 52, 5970, 2, 685, 14, 18, 86, 8, 20, 2171, 872, 5111, 2651, 51, 6519, 7, 1, 33, 12, 25, 5, 3185, 9, 3642, 18, 12227, 11, 3904, 2, 245, 58, 1852, 26, 2171, 8, 14, 3659, 3, 104, 10, 18, 1431, 572, 1, 13, 7, 31, 307, 10, 200, 463, 572, 2502, 157, 2736, 20, 83, 73, 6244, 51, 18, 2354, 6, 419, 217, 119, 6, 12814, 2, 2117, 17, 20, 1162, 1, 1, 2502, 2, 448, 841, 4, 6709, 2502, 6, 572, 1, 572, 1, 13, 8, 2, 3294, 6261, 162, 1, 6, 1, 1689, 27, 1011, 418, 1, 4, 80, 1727, 4, 3999, 11, 20, 1847, 14, 13, 2, 11034, 19, 12, 3892, 1, 1148, 4, 59, 2806, 1446, 4539, 28, 2, 4772, 1723, 7, 1489, 5, 324, 18, 126, 3, 2175, 572, 2502, 9, 2253, 17, 45, 9, 5, 163, 2, 320, 209, 63, 572, 2502, 1785, 28, 2, 10100, 20, 725, 10034, 4760, 2, 10100, 1, 14, 739, 5, 1553, 4473, 168, 7, 2, 767, 4, 20, 10034, 3, 319, 2, 4573, 6, 18, 3944, 3, 3995, 20, 2117, 27, 12, 100, 2, 448, 99, 70, 2, 502, 4, 91, 1362, 353, 4440, 7, 51, 5, 175, 402, 1481, 18, 7572, 56, 4404, 11, 68, 467, 710, 77, 20, 578, 27, 251, 25, 403, 185, 1097, 16, 745, 5788, 233, 2468, 3, 823, 55, 43, 3743, 12, 300, 3009, 50, 55, 32, 343, 1415, 300, 1, 3, 2, 1, 5720, 30, 2841, 515, 11034, 10081, 465, 2, 390, 55, 27, 12, 60, 185, 1376, 93, 63, 16, 9, 387, 302, 157, 1222, 37, 112, 425, 422, 9, 25, 23, 74, 387, 78, 110, 76, 45, 2316, 16, 207, 186, 150, 472, 428, 1, 1]]\n",
            "padded seq: [[   99    70     2   502     4    91  1362   353  4440     7    51     5\n",
            "    175   402  1481    18  7572    56  4404    11    68   467   710    77\n",
            "     20   578    27   251    25   403   185  1097    16   745  5788   233\n",
            "   2468     3   823    55    43  3743    12   300  3009    50    55    32\n",
            "    343  1415   300     1     3     2     1  5720    30  2841   515 11034\n",
            "  10081   465     2   390    55    27    12    60   185  1376    93    63\n",
            "     16     9   387   302   157  1222    37   112   425   422     9    25\n",
            "     23    74   387    78   110    76    45  2316    16   207   186   150\n",
            "    472   428     1     1]]\n",
            "WARNING:tensorflow:5 out of the last 5 calls to <function Model.make_predict_function.<locals>.predict_function at 0x7f6aa4ded560> triggered tf.function retracing. Tracing is expensive and the excessive number of tracings could be due to (1) creating @tf.function repeatedly in a loop, (2) passing tensors with different shapes, (3) passing Python objects instead of tensors. For (1), please define your @tf.function outside of the loop. For (2), @tf.function has experimental_relax_shapes=True option that relaxes argument shapes that can avoid unnecessary retracing. For (3), please refer to https://www.tensorflow.org/guide/function#controlling_retracing and https://www.tensorflow.org/api_docs/python/tf/function for  more details.\n",
            "truthfulness: [[4.4253392e-07]]\n"
          ],
          "name": "stdout"
        }
      ]
    }
  ]
}